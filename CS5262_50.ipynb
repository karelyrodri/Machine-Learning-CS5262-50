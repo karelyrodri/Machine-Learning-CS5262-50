{
  "cells": [
    {
      "cell_type": "markdown",
      "metadata": {
        "id": "view-in-github",
        "colab_type": "text"
      },
      "source": [
        "<a href=\"https://colab.research.google.com/github/karelyrodri/Machine-Learning-CS5262-50/blob/main/CS5262_50.ipynb\" target=\"_parent\"><img src=\"https://colab.research.google.com/assets/colab-badge.svg\" alt=\"Open In Colab\"/></a>"
      ]
    },
    {
      "cell_type": "markdown",
      "metadata": {
        "id": "nk1yOJ6NYiue"
      },
      "source": [
        "# Credit Risk "
      ]
    },
    {
      "cell_type": "markdown",
      "metadata": {
        "id": "AEvWi8NvZetQ"
      },
      "source": [
        "## Background \n",
        "The data used consists of a financial information regarding loans and credit \n",
        "\n",
        "After data clean up, there is 15,787 records and 12 features that will be used\n",
        "\n",
        "Numeric Columns:\n",
        "1.   Loan Amount\n",
        "2.   Credit Score\n",
        "3.   Annual Income \n",
        "4.   Monthly Debt \n",
        "5.   Years of Credit History\n",
        "6.   Credit Card Balance\n",
        "7.   Credit Card Limit \n",
        "8.   Interest Rate\n",
        "\n",
        "Categorical Columns:\n",
        "1.   Loan Term Length - [1 year, 3 year, 5 year, 7 year, 10 year, 15 year, 30 year]\n",
        "2.   Years in Current Job - [1 Year or Less, 2 - 4 years, 5 - 7 years,  8 - 9 years, 10+ years]\n",
        "3.   Home Ownership - [Rent, Home Mortgage, Home Owner]\n",
        "4.   Loan Purpose - [Home Improvements, Business Loan, Car Loan, Home Loan,\n",
        " Medical Bills, Educational Expenses]\n",
        "\n",
        "\n",
        "\n",
        "\n",
        "\n",
        "\n"
      ]
    },
    {
      "cell_type": "markdown",
      "metadata": {
        "id": "6slPuEfxkK5P"
      },
      "source": [
        "## Project Description\n",
        "\n",
        "This project will focus on assessing loan/credit risk. \n",
        "\n",
        "This is the probability an individal will be unable to repay their debt obligations. The goal is to predict whether there is or is not credit risk given the information supplied in each record.\n",
        "\n",
        "0 - Not a Credit Risk\n",
        "\n",
        "1 - Is a Credit Risk"
      ]
    },
    {
      "cell_type": "markdown",
      "metadata": {
        "id": "RF25w41ekLFD"
      },
      "source": [
        "## Performance Metric\n",
        "*   Precision =  True Positives/(True Positives + False Positives)\n",
        "*   Recall =  True Positives/(True Positives + False Negatives)\n",
        "*   F1 Score = 2 x ((Precision x Recall)/(Precision + Recall))\n",
        "\n",
        " "
      ]
    },
    {
      "cell_type": "markdown",
      "metadata": {
        "id": "E5ddJOlHQZm7"
      },
      "source": [
        "# Load Data\n"
      ]
    },
    {
      "cell_type": "markdown",
      "source": [
        "## Python imports"
      ],
      "metadata": {
        "id": "asM-Azis33_H"
      }
    },
    {
      "cell_type": "code",
      "execution_count": 118,
      "metadata": {
        "id": "tXBazP5NQYTq"
      },
      "outputs": [],
      "source": [
        "import pandas as pd\n",
        "import numpy as np \n",
        "import seaborn as sns\n",
        "import matplotlib.pyplot as plt\n",
        "# machine learning libs\n",
        "from sklearn.model_selection import train_test_split, GridSearchCV\n",
        "from sklearn.pipeline import Pipeline \n",
        "from sklearn.compose import ColumnTransformer, make_column_selector\n",
        "from sklearn.impute import SimpleImputer\n",
        "from sklearn.preprocessing import OneHotEncoder, LabelBinarizer, StandardScaler\n",
        "from sklearn import config_context\n",
        "from sklearn.metrics import classification_report, confusion_matrix, ConfusionMatrixDisplay\n",
        "from sklearn.ensemble import GradientBoostingClassifier\n",
        "from sklearn.tree import DecisionTreeClassifier\n",
        "from sklearn.naive_bayes import GaussianNB\n",
        "from sklearn.inspection import permutation_importance\n",
        "from sklearn.metrics import roc_curve\n",
        "from sklearn.metrics import precision_recall_curve"
      ]
    },
    {
      "cell_type": "markdown",
      "metadata": {
        "id": "9qFynYv2Xdbh"
      },
      "source": [
        "> Read google spreadsheet as a csv"
      ]
    },
    {
      "cell_type": "code",
      "execution_count": 119,
      "metadata": {
        "colab": {
          "base_uri": "https://localhost:8080/",
          "height": 1000
        },
        "id": "tr4X-OgCQblP",
        "outputId": "735505df-ac60-48df-a50e-a492b0836e80"
      },
      "outputs": [
        {
          "output_type": "display_data",
          "data": {
            "text/plain": [
              "       Loan_Amount     Term  Interest_Rate  Credit_Score Years_in_Current_Job  \\\n",
              "0             6966   1 year          8.010         673.0       1 year or less   \n",
              "1             9848   3 year          5.570           NaN          5 - 7 years   \n",
              "2             5878   1 year          5.570         743.0       1 year or less   \n",
              "3         99999999   3 year          6.435         724.0          2 - 4 years   \n",
              "4             1010   1 year          6.435         745.0       1 year or less   \n",
              "...            ...      ...            ...           ...                  ...   \n",
              "21336       188256  30 year          4.295         741.0          2 - 4 years   \n",
              "21337         4542   1 year          7.825         722.0       1 year or less   \n",
              "21338        15730   7 year          4.295         725.0            10+ years   \n",
              "21339        14727   3 year          5.370         745.0          5 - 7 years   \n",
              "21340       177552  30 year          2.410         748.0       1 year or less   \n",
              "\n",
              "      Home_Ownership  Annual_Income               Purpose  Monthly_Debt  \\\n",
              "0      Home Mortgage        54736.0     Home Improvements        839.28   \n",
              "1               Rent            NaN     Home Improvements        605.65   \n",
              "2      Home Mortgage       107767.0     Home Improvements       1420.73   \n",
              "3               Rent        27462.0              Car Loan        338.69   \n",
              "4      Home Mortgage        75713.0     Home Improvements       1242.95   \n",
              "...              ...            ...                   ...           ...   \n",
              "21336  Home Mortgage       136904.0             Home Loan       1996.51   \n",
              "21337           Rent        33125.0     Home Improvements        665.27   \n",
              "21338  Home Mortgage        60952.0     Home Improvements       1056.51   \n",
              "21339  Home Mortgage        78544.0  Educational Expenses        988.35   \n",
              "21340  Home Mortgage        84949.0             Home Loan        842.41   \n",
              "\n",
              "       Years_of_Credit_History  Credit_Cards_Balance  Credit_Cards_Limit  \\\n",
              "0                         16.4                  2942                3881   \n",
              "1                         18.8                  6957                8568   \n",
              "2                         24.6                 35963               89459   \n",
              "3                         10.8                 11773               15369   \n",
              "4                         18.0                   769               17889   \n",
              "...                        ...                   ...                 ...   \n",
              "21336                     16.4                 17931               23532   \n",
              "21337                     11.3                 11325               20972   \n",
              "21338                     18.1                  9589               13660   \n",
              "21339                     13.0                 17083               31991   \n",
              "21340                     16.0                  5903               22194   \n",
              "\n",
              "       Credit_Risk  \n",
              "0                1  \n",
              "1                1  \n",
              "2                0  \n",
              "3                1  \n",
              "4                0  \n",
              "...            ...  \n",
              "21336            0  \n",
              "21337            0  \n",
              "21338            0  \n",
              "21339            0  \n",
              "21340            0  \n",
              "\n",
              "[21341 rows x 13 columns]"
            ],
            "text/html": [
              "\n",
              "  <div id=\"df-d722e01f-c0f0-4bd3-bde1-ed8f8c831306\">\n",
              "    <div class=\"colab-df-container\">\n",
              "      <div>\n",
              "<style scoped>\n",
              "    .dataframe tbody tr th:only-of-type {\n",
              "        vertical-align: middle;\n",
              "    }\n",
              "\n",
              "    .dataframe tbody tr th {\n",
              "        vertical-align: top;\n",
              "    }\n",
              "\n",
              "    .dataframe thead th {\n",
              "        text-align: right;\n",
              "    }\n",
              "</style>\n",
              "<table border=\"1\" class=\"dataframe\">\n",
              "  <thead>\n",
              "    <tr style=\"text-align: right;\">\n",
              "      <th></th>\n",
              "      <th>Loan_Amount</th>\n",
              "      <th>Term</th>\n",
              "      <th>Interest_Rate</th>\n",
              "      <th>Credit_Score</th>\n",
              "      <th>Years_in_Current_Job</th>\n",
              "      <th>Home_Ownership</th>\n",
              "      <th>Annual_Income</th>\n",
              "      <th>Purpose</th>\n",
              "      <th>Monthly_Debt</th>\n",
              "      <th>Years_of_Credit_History</th>\n",
              "      <th>Credit_Cards_Balance</th>\n",
              "      <th>Credit_Cards_Limit</th>\n",
              "      <th>Credit_Risk</th>\n",
              "    </tr>\n",
              "  </thead>\n",
              "  <tbody>\n",
              "    <tr>\n",
              "      <th>0</th>\n",
              "      <td>6966</td>\n",
              "      <td>1 year</td>\n",
              "      <td>8.010</td>\n",
              "      <td>673.0</td>\n",
              "      <td>1 year or less</td>\n",
              "      <td>Home Mortgage</td>\n",
              "      <td>54736.0</td>\n",
              "      <td>Home Improvements</td>\n",
              "      <td>839.28</td>\n",
              "      <td>16.4</td>\n",
              "      <td>2942</td>\n",
              "      <td>3881</td>\n",
              "      <td>1</td>\n",
              "    </tr>\n",
              "    <tr>\n",
              "      <th>1</th>\n",
              "      <td>9848</td>\n",
              "      <td>3 year</td>\n",
              "      <td>5.570</td>\n",
              "      <td>NaN</td>\n",
              "      <td>5 - 7 years</td>\n",
              "      <td>Rent</td>\n",
              "      <td>NaN</td>\n",
              "      <td>Home Improvements</td>\n",
              "      <td>605.65</td>\n",
              "      <td>18.8</td>\n",
              "      <td>6957</td>\n",
              "      <td>8568</td>\n",
              "      <td>1</td>\n",
              "    </tr>\n",
              "    <tr>\n",
              "      <th>2</th>\n",
              "      <td>5878</td>\n",
              "      <td>1 year</td>\n",
              "      <td>5.570</td>\n",
              "      <td>743.0</td>\n",
              "      <td>1 year or less</td>\n",
              "      <td>Home Mortgage</td>\n",
              "      <td>107767.0</td>\n",
              "      <td>Home Improvements</td>\n",
              "      <td>1420.73</td>\n",
              "      <td>24.6</td>\n",
              "      <td>35963</td>\n",
              "      <td>89459</td>\n",
              "      <td>0</td>\n",
              "    </tr>\n",
              "    <tr>\n",
              "      <th>3</th>\n",
              "      <td>99999999</td>\n",
              "      <td>3 year</td>\n",
              "      <td>6.435</td>\n",
              "      <td>724.0</td>\n",
              "      <td>2 - 4 years</td>\n",
              "      <td>Rent</td>\n",
              "      <td>27462.0</td>\n",
              "      <td>Car Loan</td>\n",
              "      <td>338.69</td>\n",
              "      <td>10.8</td>\n",
              "      <td>11773</td>\n",
              "      <td>15369</td>\n",
              "      <td>1</td>\n",
              "    </tr>\n",
              "    <tr>\n",
              "      <th>4</th>\n",
              "      <td>1010</td>\n",
              "      <td>1 year</td>\n",
              "      <td>6.435</td>\n",
              "      <td>745.0</td>\n",
              "      <td>1 year or less</td>\n",
              "      <td>Home Mortgage</td>\n",
              "      <td>75713.0</td>\n",
              "      <td>Home Improvements</td>\n",
              "      <td>1242.95</td>\n",
              "      <td>18.0</td>\n",
              "      <td>769</td>\n",
              "      <td>17889</td>\n",
              "      <td>0</td>\n",
              "    </tr>\n",
              "    <tr>\n",
              "      <th>...</th>\n",
              "      <td>...</td>\n",
              "      <td>...</td>\n",
              "      <td>...</td>\n",
              "      <td>...</td>\n",
              "      <td>...</td>\n",
              "      <td>...</td>\n",
              "      <td>...</td>\n",
              "      <td>...</td>\n",
              "      <td>...</td>\n",
              "      <td>...</td>\n",
              "      <td>...</td>\n",
              "      <td>...</td>\n",
              "      <td>...</td>\n",
              "    </tr>\n",
              "    <tr>\n",
              "      <th>21336</th>\n",
              "      <td>188256</td>\n",
              "      <td>30 year</td>\n",
              "      <td>4.295</td>\n",
              "      <td>741.0</td>\n",
              "      <td>2 - 4 years</td>\n",
              "      <td>Home Mortgage</td>\n",
              "      <td>136904.0</td>\n",
              "      <td>Home Loan</td>\n",
              "      <td>1996.51</td>\n",
              "      <td>16.4</td>\n",
              "      <td>17931</td>\n",
              "      <td>23532</td>\n",
              "      <td>0</td>\n",
              "    </tr>\n",
              "    <tr>\n",
              "      <th>21337</th>\n",
              "      <td>4542</td>\n",
              "      <td>1 year</td>\n",
              "      <td>7.825</td>\n",
              "      <td>722.0</td>\n",
              "      <td>1 year or less</td>\n",
              "      <td>Rent</td>\n",
              "      <td>33125.0</td>\n",
              "      <td>Home Improvements</td>\n",
              "      <td>665.27</td>\n",
              "      <td>11.3</td>\n",
              "      <td>11325</td>\n",
              "      <td>20972</td>\n",
              "      <td>0</td>\n",
              "    </tr>\n",
              "    <tr>\n",
              "      <th>21338</th>\n",
              "      <td>15730</td>\n",
              "      <td>7 year</td>\n",
              "      <td>4.295</td>\n",
              "      <td>725.0</td>\n",
              "      <td>10+ years</td>\n",
              "      <td>Home Mortgage</td>\n",
              "      <td>60952.0</td>\n",
              "      <td>Home Improvements</td>\n",
              "      <td>1056.51</td>\n",
              "      <td>18.1</td>\n",
              "      <td>9589</td>\n",
              "      <td>13660</td>\n",
              "      <td>0</td>\n",
              "    </tr>\n",
              "    <tr>\n",
              "      <th>21339</th>\n",
              "      <td>14727</td>\n",
              "      <td>3 year</td>\n",
              "      <td>5.370</td>\n",
              "      <td>745.0</td>\n",
              "      <td>5 - 7 years</td>\n",
              "      <td>Home Mortgage</td>\n",
              "      <td>78544.0</td>\n",
              "      <td>Educational Expenses</td>\n",
              "      <td>988.35</td>\n",
              "      <td>13.0</td>\n",
              "      <td>17083</td>\n",
              "      <td>31991</td>\n",
              "      <td>0</td>\n",
              "    </tr>\n",
              "    <tr>\n",
              "      <th>21340</th>\n",
              "      <td>177552</td>\n",
              "      <td>30 year</td>\n",
              "      <td>2.410</td>\n",
              "      <td>748.0</td>\n",
              "      <td>1 year or less</td>\n",
              "      <td>Home Mortgage</td>\n",
              "      <td>84949.0</td>\n",
              "      <td>Home Loan</td>\n",
              "      <td>842.41</td>\n",
              "      <td>16.0</td>\n",
              "      <td>5903</td>\n",
              "      <td>22194</td>\n",
              "      <td>0</td>\n",
              "    </tr>\n",
              "  </tbody>\n",
              "</table>\n",
              "<p>21341 rows × 13 columns</p>\n",
              "</div>\n",
              "      <button class=\"colab-df-convert\" onclick=\"convertToInteractive('df-d722e01f-c0f0-4bd3-bde1-ed8f8c831306')\"\n",
              "              title=\"Convert this dataframe to an interactive table.\"\n",
              "              style=\"display:none;\">\n",
              "        \n",
              "  <svg xmlns=\"http://www.w3.org/2000/svg\" height=\"24px\"viewBox=\"0 0 24 24\"\n",
              "       width=\"24px\">\n",
              "    <path d=\"M0 0h24v24H0V0z\" fill=\"none\"/>\n",
              "    <path d=\"M18.56 5.44l.94 2.06.94-2.06 2.06-.94-2.06-.94-.94-2.06-.94 2.06-2.06.94zm-11 1L8.5 8.5l.94-2.06 2.06-.94-2.06-.94L8.5 2.5l-.94 2.06-2.06.94zm10 10l.94 2.06.94-2.06 2.06-.94-2.06-.94-.94-2.06-.94 2.06-2.06.94z\"/><path d=\"M17.41 7.96l-1.37-1.37c-.4-.4-.92-.59-1.43-.59-.52 0-1.04.2-1.43.59L10.3 9.45l-7.72 7.72c-.78.78-.78 2.05 0 2.83L4 21.41c.39.39.9.59 1.41.59.51 0 1.02-.2 1.41-.59l7.78-7.78 2.81-2.81c.8-.78.8-2.07 0-2.86zM5.41 20L4 18.59l7.72-7.72 1.47 1.35L5.41 20z\"/>\n",
              "  </svg>\n",
              "      </button>\n",
              "      \n",
              "  <style>\n",
              "    .colab-df-container {\n",
              "      display:flex;\n",
              "      flex-wrap:wrap;\n",
              "      gap: 12px;\n",
              "    }\n",
              "\n",
              "    .colab-df-convert {\n",
              "      background-color: #E8F0FE;\n",
              "      border: none;\n",
              "      border-radius: 50%;\n",
              "      cursor: pointer;\n",
              "      display: none;\n",
              "      fill: #1967D2;\n",
              "      height: 32px;\n",
              "      padding: 0 0 0 0;\n",
              "      width: 32px;\n",
              "    }\n",
              "\n",
              "    .colab-df-convert:hover {\n",
              "      background-color: #E2EBFA;\n",
              "      box-shadow: 0px 1px 2px rgba(60, 64, 67, 0.3), 0px 1px 3px 1px rgba(60, 64, 67, 0.15);\n",
              "      fill: #174EA6;\n",
              "    }\n",
              "\n",
              "    [theme=dark] .colab-df-convert {\n",
              "      background-color: #3B4455;\n",
              "      fill: #D2E3FC;\n",
              "    }\n",
              "\n",
              "    [theme=dark] .colab-df-convert:hover {\n",
              "      background-color: #434B5C;\n",
              "      box-shadow: 0px 1px 3px 1px rgba(0, 0, 0, 0.15);\n",
              "      filter: drop-shadow(0px 1px 2px rgba(0, 0, 0, 0.3));\n",
              "      fill: #FFFFFF;\n",
              "    }\n",
              "  </style>\n",
              "\n",
              "      <script>\n",
              "        const buttonEl =\n",
              "          document.querySelector('#df-d722e01f-c0f0-4bd3-bde1-ed8f8c831306 button.colab-df-convert');\n",
              "        buttonEl.style.display =\n",
              "          google.colab.kernel.accessAllowed ? 'block' : 'none';\n",
              "\n",
              "        async function convertToInteractive(key) {\n",
              "          const element = document.querySelector('#df-d722e01f-c0f0-4bd3-bde1-ed8f8c831306');\n",
              "          const dataTable =\n",
              "            await google.colab.kernel.invokeFunction('convertToInteractive',\n",
              "                                                     [key], {});\n",
              "          if (!dataTable) return;\n",
              "\n",
              "          const docLinkHtml = 'Like what you see? Visit the ' +\n",
              "            '<a target=\"_blank\" href=https://colab.research.google.com/notebooks/data_table.ipynb>data table notebook</a>'\n",
              "            + ' to learn more about interactive tables.';\n",
              "          element.innerHTML = '';\n",
              "          dataTable['output_type'] = 'display_data';\n",
              "          await google.colab.output.renderOutput(dataTable, element);\n",
              "          const docLink = document.createElement('div');\n",
              "          docLink.innerHTML = docLinkHtml;\n",
              "          element.appendChild(docLink);\n",
              "        }\n",
              "      </script>\n",
              "    </div>\n",
              "  </div>\n",
              "  "
            ]
          },
          "metadata": {}
        },
        {
          "output_type": "stream",
          "name": "stdout",
          "text": [
            "<class 'pandas.core.frame.DataFrame'>\n",
            "RangeIndex: 21341 entries, 0 to 21340\n",
            "Data columns (total 13 columns):\n",
            " #   Column                   Non-Null Count  Dtype  \n",
            "---  ------                   --------------  -----  \n",
            " 0   Loan_Amount              21341 non-null  int64  \n",
            " 1   Term                     21341 non-null  object \n",
            " 2   Interest_Rate            21341 non-null  float64\n",
            " 3   Credit_Score             18168 non-null  float64\n",
            " 4   Years_in_Current_Job     20649 non-null  object \n",
            " 5   Home_Ownership           21341 non-null  object \n",
            " 6   Annual_Income            18168 non-null  float64\n",
            " 7   Purpose                  21341 non-null  object \n",
            " 8   Monthly_Debt             21341 non-null  float64\n",
            " 9   Years_of_Credit_History  21341 non-null  float64\n",
            " 10  Credit_Cards_Balance     21341 non-null  int64  \n",
            " 11  Credit_Cards_Limit       21341 non-null  int64  \n",
            " 12  Credit_Risk              21341 non-null  int64  \n",
            "dtypes: float64(5), int64(4), object(4)\n",
            "memory usage: 2.1+ MB\n"
          ]
        }
      ],
      "source": [
        "data = pd.read_csv(\"https://docs.google.com/spreadsheets/d/1AvPiqVtKBoKFiX4h3uGFbWBty7ZhNt4FmWU6jrXhb8U/export?format=csv&grid=\")\n",
        "display(data)\n",
        "data.info()"
      ]
    },
    {
      "cell_type": "markdown",
      "metadata": {
        "id": "brc_vFI4pRKt"
      },
      "source": [
        "## Data Clean Up\n",
        "Remove data that will scew the results or is NAN or empty.\n"
      ]
    },
    {
      "cell_type": "code",
      "execution_count": null,
      "metadata": {
        "colab": {
          "base_uri": "https://localhost:8080/"
        },
        "id": "fqjZkiqy-lf9",
        "outputId": "3a625a26-4f3c-4333-d39b-563d24be1c83"
      },
      "outputs": [
        {
          "data": {
            "text/plain": [
              "Loan_Amount                   0\n",
              "Term                          0\n",
              "Interest_Rate                 0\n",
              "Credit_Score               3173\n",
              "Years_in_Current_Job        692\n",
              "Home_Ownership                0\n",
              "Annual_Income              3173\n",
              "Purpose                       0\n",
              "Monthly_Debt                  0\n",
              "Years_of_Credit_History       0\n",
              "Credit_Cards_Balance          0\n",
              "Credit_Cards_Limit            0\n",
              "Credit_Risk                   0\n",
              "dtype: int64"
            ]
          },
          "execution_count": 14,
          "metadata": {},
          "output_type": "execute_result"
        }
      ],
      "source": [
        "data.isna().sum()"
      ]
    },
    {
      "cell_type": "code",
      "execution_count": 120,
      "metadata": {
        "colab": {
          "base_uri": "https://localhost:8080/"
        },
        "id": "tRqqpoNFpPaG",
        "outputId": "1095e064-e173-4c63-906f-5bbef508aab3"
      },
      "outputs": [
        {
          "output_type": "stream",
          "name": "stdout",
          "text": [
            "(15787, 13) \n",
            "\n",
            "Loan_Amount                0\n",
            "Term                       0\n",
            "Interest_Rate              0\n",
            "Credit_Score               0\n",
            "Years_in_Current_Job       0\n",
            "Home_Ownership             0\n",
            "Annual_Income              0\n",
            "Purpose                    0\n",
            "Monthly_Debt               0\n",
            "Years_of_Credit_History    0\n",
            "Credit_Cards_Balance       0\n",
            "Credit_Cards_Limit         0\n",
            "Credit_Risk                0\n",
            "dtype: int64\n"
          ]
        }
      ],
      "source": [
        "data = data.dropna()\n",
        "data = data[data.Loan_Amount != 99999999] # there are 1905 values 0.089%\n",
        "data = data[data.Years_in_Current_Job != \"\"]\n",
        "data['Credit_Score'] = data['Credit_Score'].apply(np.int64)\n",
        "print(data.shape, \"\\n\")\n",
        "\n",
        "print(data.isna().sum())"
      ]
    },
    {
      "cell_type": "markdown",
      "metadata": {
        "id": "cWIaHaL5seY0"
      },
      "source": [
        "# Exploratory Data Analysis\n"
      ]
    },
    {
      "cell_type": "markdown",
      "metadata": {
        "id": "O9PfdFfKxGea"
      },
      "source": [
        "## Question 1. Is there a relationship between home ownership and income? Do those who rent have lower income? "
      ]
    },
    {
      "cell_type": "code",
      "execution_count": null,
      "metadata": {
        "colab": {
          "base_uri": "https://localhost:8080/",
          "height": 192
        },
        "id": "W9r5FLN4xyZ3",
        "outputId": "ff25f020-d202-4d77-dcb8-8bc6bdc5c016"
      },
      "outputs": [
        {
          "name": "stdout",
          "output_type": "stream",
          "text": [
            "20% of the total rows is:  3157  records\n"
          ]
        },
        {
          "data": {
            "text/html": [
              "\n",
              "  <div id=\"df-190f7dc1-4ef5-498d-970f-13ecb61c415a\">\n",
              "    <div class=\"colab-df-container\">\n",
              "      <div>\n",
              "<style scoped>\n",
              "    .dataframe tbody tr th:only-of-type {\n",
              "        vertical-align: middle;\n",
              "    }\n",
              "\n",
              "    .dataframe tbody tr th {\n",
              "        vertical-align: top;\n",
              "    }\n",
              "\n",
              "    .dataframe thead th {\n",
              "        text-align: right;\n",
              "    }\n",
              "</style>\n",
              "<table border=\"1\" class=\"dataframe\">\n",
              "  <thead>\n",
              "    <tr style=\"text-align: right;\">\n",
              "      <th></th>\n",
              "      <th>Average_Income</th>\n",
              "      <th>Standard_Deviation</th>\n",
              "      <th>Bottom_20%</th>\n",
              "      <th>Top_20%</th>\n",
              "    </tr>\n",
              "    <tr>\n",
              "      <th>Home_Ownership</th>\n",
              "      <th></th>\n",
              "      <th></th>\n",
              "      <th></th>\n",
              "      <th></th>\n",
              "    </tr>\n",
              "  </thead>\n",
              "  <tbody>\n",
              "    <tr>\n",
              "      <th>Home Mortgage</th>\n",
              "      <td>77660.38</td>\n",
              "      <td>48922.04</td>\n",
              "      <td>32264.63</td>\n",
              "      <td>138299.57</td>\n",
              "    </tr>\n",
              "    <tr>\n",
              "      <th>Home Owner</th>\n",
              "      <td>61296.31</td>\n",
              "      <td>47666.10</td>\n",
              "      <td>30046.76</td>\n",
              "      <td>137923.30</td>\n",
              "    </tr>\n",
              "    <tr>\n",
              "      <th>Rent</th>\n",
              "      <td>60892.51</td>\n",
              "      <td>37279.66</td>\n",
              "      <td>31218.03</td>\n",
              "      <td>132526.17</td>\n",
              "    </tr>\n",
              "  </tbody>\n",
              "</table>\n",
              "</div>\n",
              "      <button class=\"colab-df-convert\" onclick=\"convertToInteractive('df-190f7dc1-4ef5-498d-970f-13ecb61c415a')\"\n",
              "              title=\"Convert this dataframe to an interactive table.\"\n",
              "              style=\"display:none;\">\n",
              "        \n",
              "  <svg xmlns=\"http://www.w3.org/2000/svg\" height=\"24px\"viewBox=\"0 0 24 24\"\n",
              "       width=\"24px\">\n",
              "    <path d=\"M0 0h24v24H0V0z\" fill=\"none\"/>\n",
              "    <path d=\"M18.56 5.44l.94 2.06.94-2.06 2.06-.94-2.06-.94-.94-2.06-.94 2.06-2.06.94zm-11 1L8.5 8.5l.94-2.06 2.06-.94-2.06-.94L8.5 2.5l-.94 2.06-2.06.94zm10 10l.94 2.06.94-2.06 2.06-.94-2.06-.94-.94-2.06-.94 2.06-2.06.94z\"/><path d=\"M17.41 7.96l-1.37-1.37c-.4-.4-.92-.59-1.43-.59-.52 0-1.04.2-1.43.59L10.3 9.45l-7.72 7.72c-.78.78-.78 2.05 0 2.83L4 21.41c.39.39.9.59 1.41.59.51 0 1.02-.2 1.41-.59l7.78-7.78 2.81-2.81c.8-.78.8-2.07 0-2.86zM5.41 20L4 18.59l7.72-7.72 1.47 1.35L5.41 20z\"/>\n",
              "  </svg>\n",
              "      </button>\n",
              "      \n",
              "  <style>\n",
              "    .colab-df-container {\n",
              "      display:flex;\n",
              "      flex-wrap:wrap;\n",
              "      gap: 12px;\n",
              "    }\n",
              "\n",
              "    .colab-df-convert {\n",
              "      background-color: #E8F0FE;\n",
              "      border: none;\n",
              "      border-radius: 50%;\n",
              "      cursor: pointer;\n",
              "      display: none;\n",
              "      fill: #1967D2;\n",
              "      height: 32px;\n",
              "      padding: 0 0 0 0;\n",
              "      width: 32px;\n",
              "    }\n",
              "\n",
              "    .colab-df-convert:hover {\n",
              "      background-color: #E2EBFA;\n",
              "      box-shadow: 0px 1px 2px rgba(60, 64, 67, 0.3), 0px 1px 3px 1px rgba(60, 64, 67, 0.15);\n",
              "      fill: #174EA6;\n",
              "    }\n",
              "\n",
              "    [theme=dark] .colab-df-convert {\n",
              "      background-color: #3B4455;\n",
              "      fill: #D2E3FC;\n",
              "    }\n",
              "\n",
              "    [theme=dark] .colab-df-convert:hover {\n",
              "      background-color: #434B5C;\n",
              "      box-shadow: 0px 1px 3px 1px rgba(0, 0, 0, 0.15);\n",
              "      filter: drop-shadow(0px 1px 2px rgba(0, 0, 0, 0.3));\n",
              "      fill: #FFFFFF;\n",
              "    }\n",
              "  </style>\n",
              "\n",
              "      <script>\n",
              "        const buttonEl =\n",
              "          document.querySelector('#df-190f7dc1-4ef5-498d-970f-13ecb61c415a button.colab-df-convert');\n",
              "        buttonEl.style.display =\n",
              "          google.colab.kernel.accessAllowed ? 'block' : 'none';\n",
              "\n",
              "        async function convertToInteractive(key) {\n",
              "          const element = document.querySelector('#df-190f7dc1-4ef5-498d-970f-13ecb61c415a');\n",
              "          const dataTable =\n",
              "            await google.colab.kernel.invokeFunction('convertToInteractive',\n",
              "                                                     [key], {});\n",
              "          if (!dataTable) return;\n",
              "\n",
              "          const docLinkHtml = 'Like what you see? Visit the ' +\n",
              "            '<a target=\"_blank\" href=https://colab.research.google.com/notebooks/data_table.ipynb>data table notebook</a>'\n",
              "            + ' to learn more about interactive tables.';\n",
              "          element.innerHTML = '';\n",
              "          dataTable['output_type'] = 'display_data';\n",
              "          await google.colab.output.renderOutput(dataTable, element);\n",
              "          const docLink = document.createElement('div');\n",
              "          docLink.innerHTML = docLinkHtml;\n",
              "          element.appendChild(docLink);\n",
              "        }\n",
              "      </script>\n",
              "    </div>\n",
              "  </div>\n",
              "  "
            ],
            "text/plain": [
              "                Average_Income  Standard_Deviation  Bottom_20%    Top_20%\n",
              "Home_Ownership                                                           \n",
              "Home Mortgage         77660.38            48922.04    32264.63  138299.57\n",
              "Home Owner            61296.31            47666.10    30046.76  137923.30\n",
              "Rent                  60892.51            37279.66    31218.03  132526.17"
            ]
          },
          "metadata": {},
          "output_type": "display_data"
        }
      ],
      "source": [
        "avg = data.groupby('Home_Ownership').agg(Average_Income=(\"Annual_Income\", \"mean\"), Standard_Deviation=(\"Annual_Income\", \"std\"))\n",
        "sorted = data.sort_values(by=[\"Annual_Income\"])\n",
        "percent_20 = int(15787 * .20)\n",
        "print(\"20% of the total rows is: \", percent_20, \" records\")\n",
        "avg[\"Bottom_20%\"] = sorted.head(percent_20).groupby('Home_Ownership').agg(Bottom_20=(\"Annual_Income\", \"mean\"))\n",
        "avg[\"Top_20%\"] = sorted.tail(percent_20).groupby('Home_Ownership').agg(Top_20=(\"Annual_Income\", \"mean\"))\n",
        "display(avg.round(2))"
      ]
    },
    {
      "cell_type": "markdown",
      "metadata": {
        "id": "fypHqPSUxz_N"
      },
      "source": [
        "### Findings\n",
        "> The average annual income for home owners and renters is about the same amount. Those with mortgages make on average about 16k more. To get a sense of the dispersion of the values from the mean in each grouping, the standard deviation is calculated. The results are that those with a mortgage and those who own homes deviate about the same away from their mean. This gives a sense that those with mortgages are making a bit more annually. The deviation of the renters is lower meaning that those in this category are making slightly closer to that lower mean. This appears that the renters on an average are making less than those with a home mortgages but similar to those own homes. \n",
        "\n",
        "> When focusing on the average top and bottom 20% income for each grouping, there is not a significant difference. This means there is not many outliers in the data. The data concludes renters do not make less than home owners but rather earn about the same. We can conclude renters make less than those with a mortgage.\n"
      ]
    },
    {
      "cell_type": "markdown",
      "metadata": {
        "id": "a2tnbW_CxJn8"
      },
      "source": [
        "## 2. What is the most common purpose for a loan (exluding home loan) among those who rent, own, or have a mortgage? "
      ]
    },
    {
      "cell_type": "code",
      "execution_count": null,
      "metadata": {
        "colab": {
          "base_uri": "https://localhost:8080/",
          "height": 296
        },
        "id": "j4M11CvXxzCb",
        "outputId": "fbb72247-d5ec-4755-b5f3-51ace9221ba2"
      },
      "outputs": [
        {
          "data": {
            "text/plain": [
              "Text(0, 0.5, 'Records Count')"
            ]
          },
          "execution_count": 123,
          "metadata": {},
          "output_type": "execute_result"
        },
        {
          "data": {
            "image/png": "[encoded data removed]",
            "text/plain": [
              "<Figure size 720x288 with 1 Axes>"
            ]
          },
          "metadata": {},
          "output_type": "display_data"
        }
      ],
      "source": [
        "plt.rcParams[\"figure.figsize\"] = [10, 4]\n",
        "loan_purpose = data.loc[data[\"Purpose\"] != \"Home Loan\"]\n",
        "sns.countplot(x = \"Purpose\", hue=\"Home_Ownership\", data=loan_purpose)\n",
        "plt.xlabel(\"Loan Purpose\")\n",
        "plt.ylabel(\"Records Count\")"
      ]
    },
    {
      "cell_type": "markdown",
      "metadata": {
        "id": "GW5uzTFnx0z8"
      },
      "source": [
        "### Findings\n",
        "\n",
        "> Among those who rent, the most common loan type is a Car Loan compared to those who have a mortgage most commonly have a loan for Home Improvements followed by a Car Loan. Home owners have the least amount of loans taken out in general. Their most common loan is a Car Loan however, the other loan types don't fall far behind.\n",
        "\n",
        "> This lender seems to give out more Car Loans in total than any other loan type when excluding Home Loans."
      ]
    },
    {
      "cell_type": "markdown",
      "metadata": {
        "id": "Ra3hiW2SxN0L"
      },
      "source": [
        "## 3. Does credit score improve over time? Do those with longer credit history have higher credit scores?"
      ]
    },
    {
      "cell_type": "code",
      "execution_count": null,
      "metadata": {
        "colab": {
          "base_uri": "https://localhost:8080/",
          "height": 296
        },
        "id": "G8GGwiaVsgW8",
        "outputId": "0764f89f-a0ee-428d-b149-e03c199fa3e5"
      },
      "outputs": [
        {
          "data": {
            "text/plain": [
              "Text(0, 0.5, 'Credit Score')"
            ]
          },
          "execution_count": 120,
          "metadata": {},
          "output_type": "execute_result"
        },
        {
          "data": {
            "image/png": "[encoded data removed]",
            "text/plain": [
              "<Figure size 720x288 with 1 Axes>"
            ]
          },
          "metadata": {},
          "output_type": "display_data"
        }
      ],
      "source": [
        "sns.scatterplot(x=data['Years_of_Credit_History'], y=data['Credit_Score'])\n",
        "plt.xlabel(\"Years of Credit History\")\n",
        "plt.ylabel(\"Credit Score\")"
      ]
    },
    {
      "cell_type": "markdown",
      "metadata": {
        "id": "irD0rMsrx1jt"
      },
      "source": [
        "### Findings\n",
        "> The data does not seem to have a strong relationship between the amount of years with credit history and their credit score. The scatterplot shows a weak positive correlation. It isnt until about 40 years of history that we see more records with higher credit scores; any amount of years before that is highly unpredicatable. It is not guaranteed that time will improve credit score."
      ]
    },
    {
      "cell_type": "markdown",
      "metadata": {
        "id": "NrlMI3Qv7q00"
      },
      "source": [
        "## 4. What are the portions of each loan purpose category? Which Purpose type are the most common and least common?"
      ]
    },
    {
      "cell_type": "code",
      "execution_count": null,
      "metadata": {
        "colab": {
          "base_uri": "https://localhost:8080/",
          "height": 303
        },
        "id": "a9VoDufp7rWQ",
        "outputId": "f3f21939-f0d3-46e0-ee49-7f4b1c371de0"
      },
      "outputs": [
        {
          "data": {
            "image/png": "[encoded data removed]",
            "text/plain": [
              "<Figure size 360x360 with 1 Axes>"
            ]
          },
          "metadata": {},
          "output_type": "display_data"
        }
      ],
      "source": [
        "plt.rcParams[\"figure.figsize\"] = [5, 5]\n",
        "purpose_counts = data['Purpose'].value_counts()\n",
        "plt.pie(purpose_counts, labels=purpose_counts.index, shadow = True, autopct='%1.1f%%', explode= (0.1, 0, 0, 0, 0, 0), startangle=120)\n",
        "plt.show()"
      ]
    },
    {
      "cell_type": "markdown",
      "metadata": {
        "id": "rw1sH4Ye7rus"
      },
      "source": [
        "### Findings\n",
        "> The lender of the data set lends out the most Home Loans than any other type of loan. The top 3 types of loans are Home, Car, and Home Improvement loans that make up 68% of the data set. This is compared to the least common Business, Medical, and Educational loans. The pie chart demonstates those in the data set file to borrow money for perpetual voluntary reasons. "
      ]
    },
    {
      "cell_type": "markdown",
      "metadata": {
        "id": "Ks_FRRKuxU50"
      },
      "source": [
        "# Feature Engineering\n"
      ]
    },
    {
      "cell_type": "markdown",
      "metadata": {
        "id": "-lpruZWlFn5O"
      },
      "source": [
        "> The Credit_Cards_Balance is important as it adds to the amount borrowed however, the Credit_Cards_Limit column is only relevant as it relates to the credit card balances. The limit column will be converted into a percentage of credit utilization as lenders this in count in the real world."
      ]
    },
    {
      "cell_type": "code",
      "execution_count": 121,
      "metadata": {
        "colab": {
          "base_uri": "https://localhost:8080/",
          "height": 259
        },
        "id": "0SPR1G5WFqVL",
        "outputId": "1eae4ab0-30bf-4c08-90cd-651a6d6fdd9e"
      },
      "outputs": [
        {
          "output_type": "display_data",
          "data": {
            "text/plain": [
              "   Loan_Amount    Term  Interest_Rate  Credit_Score Years_in_Current_Job  \\\n",
              "0         6966  1 year          8.010           673       1 year or less   \n",
              "2         5878  1 year          5.570           743       1 year or less   \n",
              "4         1010  1 year          6.435           745       1 year or less   \n",
              "\n",
              "  Home_Ownership  Annual_Income            Purpose  Monthly_Debt  \\\n",
              "0  Home Mortgage        54736.0  Home Improvements        839.28   \n",
              "2  Home Mortgage       107767.0  Home Improvements       1420.73   \n",
              "4  Home Mortgage        75713.0  Home Improvements       1242.95   \n",
              "\n",
              "   Years_of_Credit_History  Credit_Cards_Balance  Credit_Cards_Limit  \\\n",
              "0                     16.4                  2942                3881   \n",
              "2                     24.6                 35963               89459   \n",
              "4                     18.0                   769               17889   \n",
              "\n",
              "   Credit_Risk  Credit_Utilization  \n",
              "0            1               75.81  \n",
              "2            0               40.20  \n",
              "4            0                4.30  "
            ],
            "text/html": [
              "\n",
              "  <div id=\"df-4bafe492-b31a-404e-a01e-2b99cc42f6eb\">\n",
              "    <div class=\"colab-df-container\">\n",
              "      <div>\n",
              "<style scoped>\n",
              "    .dataframe tbody tr th:only-of-type {\n",
              "        vertical-align: middle;\n",
              "    }\n",
              "\n",
              "    .dataframe tbody tr th {\n",
              "        vertical-align: top;\n",
              "    }\n",
              "\n",
              "    .dataframe thead th {\n",
              "        text-align: right;\n",
              "    }\n",
              "</style>\n",
              "<table border=\"1\" class=\"dataframe\">\n",
              "  <thead>\n",
              "    <tr style=\"text-align: right;\">\n",
              "      <th></th>\n",
              "      <th>Loan_Amount</th>\n",
              "      <th>Term</th>\n",
              "      <th>Interest_Rate</th>\n",
              "      <th>Credit_Score</th>\n",
              "      <th>Years_in_Current_Job</th>\n",
              "      <th>Home_Ownership</th>\n",
              "      <th>Annual_Income</th>\n",
              "      <th>Purpose</th>\n",
              "      <th>Monthly_Debt</th>\n",
              "      <th>Years_of_Credit_History</th>\n",
              "      <th>Credit_Cards_Balance</th>\n",
              "      <th>Credit_Cards_Limit</th>\n",
              "      <th>Credit_Risk</th>\n",
              "      <th>Credit_Utilization</th>\n",
              "    </tr>\n",
              "  </thead>\n",
              "  <tbody>\n",
              "    <tr>\n",
              "      <th>0</th>\n",
              "      <td>6966</td>\n",
              "      <td>1 year</td>\n",
              "      <td>8.010</td>\n",
              "      <td>673</td>\n",
              "      <td>1 year or less</td>\n",
              "      <td>Home Mortgage</td>\n",
              "      <td>54736.0</td>\n",
              "      <td>Home Improvements</td>\n",
              "      <td>839.28</td>\n",
              "      <td>16.4</td>\n",
              "      <td>2942</td>\n",
              "      <td>3881</td>\n",
              "      <td>1</td>\n",
              "      <td>75.81</td>\n",
              "    </tr>\n",
              "    <tr>\n",
              "      <th>2</th>\n",
              "      <td>5878</td>\n",
              "      <td>1 year</td>\n",
              "      <td>5.570</td>\n",
              "      <td>743</td>\n",
              "      <td>1 year or less</td>\n",
              "      <td>Home Mortgage</td>\n",
              "      <td>107767.0</td>\n",
              "      <td>Home Improvements</td>\n",
              "      <td>1420.73</td>\n",
              "      <td>24.6</td>\n",
              "      <td>35963</td>\n",
              "      <td>89459</td>\n",
              "      <td>0</td>\n",
              "      <td>40.20</td>\n",
              "    </tr>\n",
              "    <tr>\n",
              "      <th>4</th>\n",
              "      <td>1010</td>\n",
              "      <td>1 year</td>\n",
              "      <td>6.435</td>\n",
              "      <td>745</td>\n",
              "      <td>1 year or less</td>\n",
              "      <td>Home Mortgage</td>\n",
              "      <td>75713.0</td>\n",
              "      <td>Home Improvements</td>\n",
              "      <td>1242.95</td>\n",
              "      <td>18.0</td>\n",
              "      <td>769</td>\n",
              "      <td>17889</td>\n",
              "      <td>0</td>\n",
              "      <td>4.30</td>\n",
              "    </tr>\n",
              "  </tbody>\n",
              "</table>\n",
              "</div>\n",
              "      <button class=\"colab-df-convert\" onclick=\"convertToInteractive('df-4bafe492-b31a-404e-a01e-2b99cc42f6eb')\"\n",
              "              title=\"Convert this dataframe to an interactive table.\"\n",
              "              style=\"display:none;\">\n",
              "        \n",
              "  <svg xmlns=\"http://www.w3.org/2000/svg\" height=\"24px\"viewBox=\"0 0 24 24\"\n",
              "       width=\"24px\">\n",
              "    <path d=\"M0 0h24v24H0V0z\" fill=\"none\"/>\n",
              "    <path d=\"M18.56 5.44l.94 2.06.94-2.06 2.06-.94-2.06-.94-.94-2.06-.94 2.06-2.06.94zm-11 1L8.5 8.5l.94-2.06 2.06-.94-2.06-.94L8.5 2.5l-.94 2.06-2.06.94zm10 10l.94 2.06.94-2.06 2.06-.94-2.06-.94-.94-2.06-.94 2.06-2.06.94z\"/><path d=\"M17.41 7.96l-1.37-1.37c-.4-.4-.92-.59-1.43-.59-.52 0-1.04.2-1.43.59L10.3 9.45l-7.72 7.72c-.78.78-.78 2.05 0 2.83L4 21.41c.39.39.9.59 1.41.59.51 0 1.02-.2 1.41-.59l7.78-7.78 2.81-2.81c.8-.78.8-2.07 0-2.86zM5.41 20L4 18.59l7.72-7.72 1.47 1.35L5.41 20z\"/>\n",
              "  </svg>\n",
              "      </button>\n",
              "      \n",
              "  <style>\n",
              "    .colab-df-container {\n",
              "      display:flex;\n",
              "      flex-wrap:wrap;\n",
              "      gap: 12px;\n",
              "    }\n",
              "\n",
              "    .colab-df-convert {\n",
              "      background-color: #E8F0FE;\n",
              "      border: none;\n",
              "      border-radius: 50%;\n",
              "      cursor: pointer;\n",
              "      display: none;\n",
              "      fill: #1967D2;\n",
              "      height: 32px;\n",
              "      padding: 0 0 0 0;\n",
              "      width: 32px;\n",
              "    }\n",
              "\n",
              "    .colab-df-convert:hover {\n",
              "      background-color: #E2EBFA;\n",
              "      box-shadow: 0px 1px 2px rgba(60, 64, 67, 0.3), 0px 1px 3px 1px rgba(60, 64, 67, 0.15);\n",
              "      fill: #174EA6;\n",
              "    }\n",
              "\n",
              "    [theme=dark] .colab-df-convert {\n",
              "      background-color: #3B4455;\n",
              "      fill: #D2E3FC;\n",
              "    }\n",
              "\n",
              "    [theme=dark] .colab-df-convert:hover {\n",
              "      background-color: #434B5C;\n",
              "      box-shadow: 0px 1px 3px 1px rgba(0, 0, 0, 0.15);\n",
              "      filter: drop-shadow(0px 1px 2px rgba(0, 0, 0, 0.3));\n",
              "      fill: #FFFFFF;\n",
              "    }\n",
              "  </style>\n",
              "\n",
              "      <script>\n",
              "        const buttonEl =\n",
              "          document.querySelector('#df-4bafe492-b31a-404e-a01e-2b99cc42f6eb button.colab-df-convert');\n",
              "        buttonEl.style.display =\n",
              "          google.colab.kernel.accessAllowed ? 'block' : 'none';\n",
              "\n",
              "        async function convertToInteractive(key) {\n",
              "          const element = document.querySelector('#df-4bafe492-b31a-404e-a01e-2b99cc42f6eb');\n",
              "          const dataTable =\n",
              "            await google.colab.kernel.invokeFunction('convertToInteractive',\n",
              "                                                     [key], {});\n",
              "          if (!dataTable) return;\n",
              "\n",
              "          const docLinkHtml = 'Like what you see? Visit the ' +\n",
              "            '<a target=\"_blank\" href=https://colab.research.google.com/notebooks/data_table.ipynb>data table notebook</a>'\n",
              "            + ' to learn more about interactive tables.';\n",
              "          element.innerHTML = '';\n",
              "          dataTable['output_type'] = 'display_data';\n",
              "          await google.colab.output.renderOutput(dataTable, element);\n",
              "          const docLink = document.createElement('div');\n",
              "          docLink.innerHTML = docLinkHtml;\n",
              "          element.appendChild(docLink);\n",
              "        }\n",
              "      </script>\n",
              "    </div>\n",
              "  </div>\n",
              "  "
            ]
          },
          "metadata": {}
        }
      ],
      "source": [
        "limit = data[\"Credit_Cards_Limit\"]\n",
        "data[\"Credit_Utilization\"] = round((data[\"Credit_Cards_Balance\"] / data[\"Credit_Cards_Limit\"]) * 100, 2)\n",
        "data[\"Credit_Utilization\"].replace(to_replace = [float('inf'), np.nan], value = 0, inplace=True)\n",
        "\n",
        "display(data.head(3))"
      ]
    },
    {
      "cell_type": "markdown",
      "metadata": {
        "id": "NBmq8C1XGizL"
      },
      "source": [
        "> Since there was a very weak correlation between Years_of_Credit_History and Credit_Score then it seems to be not impactful enough and can be removed entirely from the model. The same concern would apply to Years_in_Current_Job.\n",
        "\n"
      ]
    },
    {
      "cell_type": "code",
      "execution_count": 122,
      "metadata": {
        "colab": {
          "base_uri": "https://localhost:8080/",
          "height": 86
        },
        "id": "ozO-gFbkhlSI",
        "outputId": "d258ce91-1d4c-4ba0-ef21-65c0d646f141"
      },
      "outputs": [
        {
          "output_type": "display_data",
          "data": {
            "text/plain": [
              "Index(['Loan_Amount', 'Term', 'Interest_Rate', 'Credit_Score',\n",
              "       'Home_Ownership', 'Annual_Income', 'Purpose', 'Monthly_Debt',\n",
              "       'Credit_Cards_Balance', 'Credit_Risk', 'Credit_Utilization'],\n",
              "      dtype='object')"
            ]
          },
          "metadata": {}
        }
      ],
      "source": [
        "data = data.drop(columns = ['Years_in_Current_Job', 'Years_of_Credit_History', 'Credit_Cards_Limit'])\n",
        "display(data.columns)"
      ]
    },
    {
      "cell_type": "markdown",
      "metadata": {
        "id": "5IaeJ95MyRBZ"
      },
      "source": [
        "# Train Test Split\n",
        "> The dataset comprises of 15,787 records that have remained after inital data clean up (prevent data leakage). The split will be 75/25 split where the Training set is 75% with 11,840 entries and the Testing set will include 25% of the data set with the remaining 3,947 entries. "
      ]
    },
    {
      "cell_type": "markdown",
      "metadata": {
        "id": "7kdx9iUqhUCx"
      },
      "source": [
        "Remove Credit_Risk predicted column Train/Test Split \n"
      ]
    },
    {
      "cell_type": "code",
      "execution_count": 124,
      "metadata": {
        "colab": {
          "base_uri": "https://localhost:8080/",
          "height": 300
        },
        "id": "NMMFhGpoiPUH",
        "outputId": "17c9f12b-fb6f-4650-f996-688ab13f288d"
      },
      "outputs": [
        {
          "output_type": "display_data",
          "data": {
            "text/plain": [
              "        Loan_Amount  Interest_Rate  Credit_Score  Annual_Income  Monthly_Debt  \\\n",
              "count  1.578700e+04   15787.000000  15787.000000   15787.000000  15787.000000   \n",
              "mean   8.051086e+04       5.480135    715.703870   71904.597074    974.673670   \n",
              "std    5.794124e+05       1.610655     28.708938   46535.648443    637.055557   \n",
              "min    5.110000e+02       2.410000    585.000000    4033.000000      0.000000   \n",
              "25%    1.173900e+04       3.950000    702.000000   44500.500000    540.145000   \n",
              "50%    2.390900e+04       5.495000    722.000000   61458.000000    854.320000   \n",
              "75%    1.013960e+05       6.675000    738.000000   86650.500000   1261.565000   \n",
              "max    6.998809e+07      11.055000    751.000000  968430.000000   9119.240000   \n",
              "\n",
              "       Credit_Cards_Balance   Credit_Risk  Credit_Utilization  \n",
              "count          15787.000000  15787.000000        15787.000000  \n",
              "mean           15525.625198      0.168430           55.603727  \n",
              "std            19066.021805      0.374259           21.938592  \n",
              "min                0.000000      0.000000            0.000000  \n",
              "25%             6015.500000      0.000000           46.250000  \n",
              "50%            11085.000000      0.000000           50.000000  \n",
              "75%            19473.500000      0.000000           71.400000  \n",
              "max           683524.000000      1.000000          366.530000  "
            ],
            "text/html": [
              "\n",
              "  <div id=\"df-8469d479-bb91-4fb3-ac59-9a0fc762f094\">\n",
              "    <div class=\"colab-df-container\">\n",
              "      <div>\n",
              "<style scoped>\n",
              "    .dataframe tbody tr th:only-of-type {\n",
              "        vertical-align: middle;\n",
              "    }\n",
              "\n",
              "    .dataframe tbody tr th {\n",
              "        vertical-align: top;\n",
              "    }\n",
              "\n",
              "    .dataframe thead th {\n",
              "        text-align: right;\n",
              "    }\n",
              "</style>\n",
              "<table border=\"1\" class=\"dataframe\">\n",
              "  <thead>\n",
              "    <tr style=\"text-align: right;\">\n",
              "      <th></th>\n",
              "      <th>Loan_Amount</th>\n",
              "      <th>Interest_Rate</th>\n",
              "      <th>Credit_Score</th>\n",
              "      <th>Annual_Income</th>\n",
              "      <th>Monthly_Debt</th>\n",
              "      <th>Credit_Cards_Balance</th>\n",
              "      <th>Credit_Risk</th>\n",
              "      <th>Credit_Utilization</th>\n",
              "    </tr>\n",
              "  </thead>\n",
              "  <tbody>\n",
              "    <tr>\n",
              "      <th>count</th>\n",
              "      <td>1.578700e+04</td>\n",
              "      <td>15787.000000</td>\n",
              "      <td>15787.000000</td>\n",
              "      <td>15787.000000</td>\n",
              "      <td>15787.000000</td>\n",
              "      <td>15787.000000</td>\n",
              "      <td>15787.000000</td>\n",
              "      <td>15787.000000</td>\n",
              "    </tr>\n",
              "    <tr>\n",
              "      <th>mean</th>\n",
              "      <td>8.051086e+04</td>\n",
              "      <td>5.480135</td>\n",
              "      <td>715.703870</td>\n",
              "      <td>71904.597074</td>\n",
              "      <td>974.673670</td>\n",
              "      <td>15525.625198</td>\n",
              "      <td>0.168430</td>\n",
              "      <td>55.603727</td>\n",
              "    </tr>\n",
              "    <tr>\n",
              "      <th>std</th>\n",
              "      <td>5.794124e+05</td>\n",
              "      <td>1.610655</td>\n",
              "      <td>28.708938</td>\n",
              "      <td>46535.648443</td>\n",
              "      <td>637.055557</td>\n",
              "      <td>19066.021805</td>\n",
              "      <td>0.374259</td>\n",
              "      <td>21.938592</td>\n",
              "    </tr>\n",
              "    <tr>\n",
              "      <th>min</th>\n",
              "      <td>5.110000e+02</td>\n",
              "      <td>2.410000</td>\n",
              "      <td>585.000000</td>\n",
              "      <td>4033.000000</td>\n",
              "      <td>0.000000</td>\n",
              "      <td>0.000000</td>\n",
              "      <td>0.000000</td>\n",
              "      <td>0.000000</td>\n",
              "    </tr>\n",
              "    <tr>\n",
              "      <th>25%</th>\n",
              "      <td>1.173900e+04</td>\n",
              "      <td>3.950000</td>\n",
              "      <td>702.000000</td>\n",
              "      <td>44500.500000</td>\n",
              "      <td>540.145000</td>\n",
              "      <td>6015.500000</td>\n",
              "      <td>0.000000</td>\n",
              "      <td>46.250000</td>\n",
              "    </tr>\n",
              "    <tr>\n",
              "      <th>50%</th>\n",
              "      <td>2.390900e+04</td>\n",
              "      <td>5.495000</td>\n",
              "      <td>722.000000</td>\n",
              "      <td>61458.000000</td>\n",
              "      <td>854.320000</td>\n",
              "      <td>11085.000000</td>\n",
              "      <td>0.000000</td>\n",
              "      <td>50.000000</td>\n",
              "    </tr>\n",
              "    <tr>\n",
              "      <th>75%</th>\n",
              "      <td>1.013960e+05</td>\n",
              "      <td>6.675000</td>\n",
              "      <td>738.000000</td>\n",
              "      <td>86650.500000</td>\n",
              "      <td>1261.565000</td>\n",
              "      <td>19473.500000</td>\n",
              "      <td>0.000000</td>\n",
              "      <td>71.400000</td>\n",
              "    </tr>\n",
              "    <tr>\n",
              "      <th>max</th>\n",
              "      <td>6.998809e+07</td>\n",
              "      <td>11.055000</td>\n",
              "      <td>751.000000</td>\n",
              "      <td>968430.000000</td>\n",
              "      <td>9119.240000</td>\n",
              "      <td>683524.000000</td>\n",
              "      <td>1.000000</td>\n",
              "      <td>366.530000</td>\n",
              "    </tr>\n",
              "  </tbody>\n",
              "</table>\n",
              "</div>\n",
              "      <button class=\"colab-df-convert\" onclick=\"convertToInteractive('df-8469d479-bb91-4fb3-ac59-9a0fc762f094')\"\n",
              "              title=\"Convert this dataframe to an interactive table.\"\n",
              "              style=\"display:none;\">\n",
              "        \n",
              "  <svg xmlns=\"http://www.w3.org/2000/svg\" height=\"24px\"viewBox=\"0 0 24 24\"\n",
              "       width=\"24px\">\n",
              "    <path d=\"M0 0h24v24H0V0z\" fill=\"none\"/>\n",
              "    <path d=\"M18.56 5.44l.94 2.06.94-2.06 2.06-.94-2.06-.94-.94-2.06-.94 2.06-2.06.94zm-11 1L8.5 8.5l.94-2.06 2.06-.94-2.06-.94L8.5 2.5l-.94 2.06-2.06.94zm10 10l.94 2.06.94-2.06 2.06-.94-2.06-.94-.94-2.06-.94 2.06-2.06.94z\"/><path d=\"M17.41 7.96l-1.37-1.37c-.4-.4-.92-.59-1.43-.59-.52 0-1.04.2-1.43.59L10.3 9.45l-7.72 7.72c-.78.78-.78 2.05 0 2.83L4 21.41c.39.39.9.59 1.41.59.51 0 1.02-.2 1.41-.59l7.78-7.78 2.81-2.81c.8-.78.8-2.07 0-2.86zM5.41 20L4 18.59l7.72-7.72 1.47 1.35L5.41 20z\"/>\n",
              "  </svg>\n",
              "      </button>\n",
              "      \n",
              "  <style>\n",
              "    .colab-df-container {\n",
              "      display:flex;\n",
              "      flex-wrap:wrap;\n",
              "      gap: 12px;\n",
              "    }\n",
              "\n",
              "    .colab-df-convert {\n",
              "      background-color: #E8F0FE;\n",
              "      border: none;\n",
              "      border-radius: 50%;\n",
              "      cursor: pointer;\n",
              "      display: none;\n",
              "      fill: #1967D2;\n",
              "      height: 32px;\n",
              "      padding: 0 0 0 0;\n",
              "      width: 32px;\n",
              "    }\n",
              "\n",
              "    .colab-df-convert:hover {\n",
              "      background-color: #E2EBFA;\n",
              "      box-shadow: 0px 1px 2px rgba(60, 64, 67, 0.3), 0px 1px 3px 1px rgba(60, 64, 67, 0.15);\n",
              "      fill: #174EA6;\n",
              "    }\n",
              "\n",
              "    [theme=dark] .colab-df-convert {\n",
              "      background-color: #3B4455;\n",
              "      fill: #D2E3FC;\n",
              "    }\n",
              "\n",
              "    [theme=dark] .colab-df-convert:hover {\n",
              "      background-color: #434B5C;\n",
              "      box-shadow: 0px 1px 3px 1px rgba(0, 0, 0, 0.15);\n",
              "      filter: drop-shadow(0px 1px 2px rgba(0, 0, 0, 0.3));\n",
              "      fill: #FFFFFF;\n",
              "    }\n",
              "  </style>\n",
              "\n",
              "      <script>\n",
              "        const buttonEl =\n",
              "          document.querySelector('#df-8469d479-bb91-4fb3-ac59-9a0fc762f094 button.colab-df-convert');\n",
              "        buttonEl.style.display =\n",
              "          google.colab.kernel.accessAllowed ? 'block' : 'none';\n",
              "\n",
              "        async function convertToInteractive(key) {\n",
              "          const element = document.querySelector('#df-8469d479-bb91-4fb3-ac59-9a0fc762f094');\n",
              "          const dataTable =\n",
              "            await google.colab.kernel.invokeFunction('convertToInteractive',\n",
              "                                                     [key], {});\n",
              "          if (!dataTable) return;\n",
              "\n",
              "          const docLinkHtml = 'Like what you see? Visit the ' +\n",
              "            '<a target=\"_blank\" href=https://colab.research.google.com/notebooks/data_table.ipynb>data table notebook</a>'\n",
              "            + ' to learn more about interactive tables.';\n",
              "          element.innerHTML = '';\n",
              "          dataTable['output_type'] = 'display_data';\n",
              "          await google.colab.output.renderOutput(dataTable, element);\n",
              "          const docLink = document.createElement('div');\n",
              "          docLink.innerHTML = docLinkHtml;\n",
              "          element.appendChild(docLink);\n",
              "        }\n",
              "      </script>\n",
              "    </div>\n",
              "  </div>\n",
              "  "
            ]
          },
          "metadata": {}
        }
      ],
      "source": [
        "risk_col = 'Credit_Risk'\n",
        "display(data.describe())\n",
        "X_train, X_test, y_train, y_test = train_test_split(data.drop(columns=risk_col), data[risk_col],\n",
        "                                                   test_size=0.25, random_state=2345, stratify=data[risk_col])"
      ]
    },
    {
      "cell_type": "code",
      "execution_count": 125,
      "metadata": {
        "colab": {
          "base_uri": "https://localhost:8080/",
          "height": 566
        },
        "id": "gyTwfCwtPECc",
        "outputId": "4a677dc8-1e77-4553-a6e7-8ebdc282af23"
      },
      "outputs": [
        {
          "output_type": "stream",
          "name": "stdout",
          "text": [
            "On X train  (11840, 10)\n"
          ]
        },
        {
          "output_type": "display_data",
          "data": {
            "text/plain": [
              "       Loan_Amount    Term  Interest_Rate  Credit_Score Home_Ownership  \\\n",
              "15566        18394  5 year          6.895           746  Home Mortgage   \n",
              "17719        18940  3 year          4.815           724     Home Owner   \n",
              "\n",
              "       Annual_Income            Purpose  Monthly_Debt  Credit_Cards_Balance  \\\n",
              "15566        71533.0  Home Improvements       1639.30                 18087   \n",
              "17719        41197.0           Car Loan        964.69                 17930   \n",
              "\n",
              "       Credit_Utilization  \n",
              "15566               63.20  \n",
              "17719               87.01  "
            ],
            "text/html": [
              "\n",
              "  <div id=\"df-dd67a26d-22d0-4133-8ec5-4d888b7e0397\">\n",
              "    <div class=\"colab-df-container\">\n",
              "      <div>\n",
              "<style scoped>\n",
              "    .dataframe tbody tr th:only-of-type {\n",
              "        vertical-align: middle;\n",
              "    }\n",
              "\n",
              "    .dataframe tbody tr th {\n",
              "        vertical-align: top;\n",
              "    }\n",
              "\n",
              "    .dataframe thead th {\n",
              "        text-align: right;\n",
              "    }\n",
              "</style>\n",
              "<table border=\"1\" class=\"dataframe\">\n",
              "  <thead>\n",
              "    <tr style=\"text-align: right;\">\n",
              "      <th></th>\n",
              "      <th>Loan_Amount</th>\n",
              "      <th>Term</th>\n",
              "      <th>Interest_Rate</th>\n",
              "      <th>Credit_Score</th>\n",
              "      <th>Home_Ownership</th>\n",
              "      <th>Annual_Income</th>\n",
              "      <th>Purpose</th>\n",
              "      <th>Monthly_Debt</th>\n",
              "      <th>Credit_Cards_Balance</th>\n",
              "      <th>Credit_Utilization</th>\n",
              "    </tr>\n",
              "  </thead>\n",
              "  <tbody>\n",
              "    <tr>\n",
              "      <th>15566</th>\n",
              "      <td>18394</td>\n",
              "      <td>5 year</td>\n",
              "      <td>6.895</td>\n",
              "      <td>746</td>\n",
              "      <td>Home Mortgage</td>\n",
              "      <td>71533.0</td>\n",
              "      <td>Home Improvements</td>\n",
              "      <td>1639.30</td>\n",
              "      <td>18087</td>\n",
              "      <td>63.20</td>\n",
              "    </tr>\n",
              "    <tr>\n",
              "      <th>17719</th>\n",
              "      <td>18940</td>\n",
              "      <td>3 year</td>\n",
              "      <td>4.815</td>\n",
              "      <td>724</td>\n",
              "      <td>Home Owner</td>\n",
              "      <td>41197.0</td>\n",
              "      <td>Car Loan</td>\n",
              "      <td>964.69</td>\n",
              "      <td>17930</td>\n",
              "      <td>87.01</td>\n",
              "    </tr>\n",
              "  </tbody>\n",
              "</table>\n",
              "</div>\n",
              "      <button class=\"colab-df-convert\" onclick=\"convertToInteractive('df-dd67a26d-22d0-4133-8ec5-4d888b7e0397')\"\n",
              "              title=\"Convert this dataframe to an interactive table.\"\n",
              "              style=\"display:none;\">\n",
              "        \n",
              "  <svg xmlns=\"http://www.w3.org/2000/svg\" height=\"24px\"viewBox=\"0 0 24 24\"\n",
              "       width=\"24px\">\n",
              "    <path d=\"M0 0h24v24H0V0z\" fill=\"none\"/>\n",
              "    <path d=\"M18.56 5.44l.94 2.06.94-2.06 2.06-.94-2.06-.94-.94-2.06-.94 2.06-2.06.94zm-11 1L8.5 8.5l.94-2.06 2.06-.94-2.06-.94L8.5 2.5l-.94 2.06-2.06.94zm10 10l.94 2.06.94-2.06 2.06-.94-2.06-.94-.94-2.06-.94 2.06-2.06.94z\"/><path d=\"M17.41 7.96l-1.37-1.37c-.4-.4-.92-.59-1.43-.59-.52 0-1.04.2-1.43.59L10.3 9.45l-7.72 7.72c-.78.78-.78 2.05 0 2.83L4 21.41c.39.39.9.59 1.41.59.51 0 1.02-.2 1.41-.59l7.78-7.78 2.81-2.81c.8-.78.8-2.07 0-2.86zM5.41 20L4 18.59l7.72-7.72 1.47 1.35L5.41 20z\"/>\n",
              "  </svg>\n",
              "      </button>\n",
              "      \n",
              "  <style>\n",
              "    .colab-df-container {\n",
              "      display:flex;\n",
              "      flex-wrap:wrap;\n",
              "      gap: 12px;\n",
              "    }\n",
              "\n",
              "    .colab-df-convert {\n",
              "      background-color: #E8F0FE;\n",
              "      border: none;\n",
              "      border-radius: 50%;\n",
              "      cursor: pointer;\n",
              "      display: none;\n",
              "      fill: #1967D2;\n",
              "      height: 32px;\n",
              "      padding: 0 0 0 0;\n",
              "      width: 32px;\n",
              "    }\n",
              "\n",
              "    .colab-df-convert:hover {\n",
              "      background-color: #E2EBFA;\n",
              "      box-shadow: 0px 1px 2px rgba(60, 64, 67, 0.3), 0px 1px 3px 1px rgba(60, 64, 67, 0.15);\n",
              "      fill: #174EA6;\n",
              "    }\n",
              "\n",
              "    [theme=dark] .colab-df-convert {\n",
              "      background-color: #3B4455;\n",
              "      fill: #D2E3FC;\n",
              "    }\n",
              "\n",
              "    [theme=dark] .colab-df-convert:hover {\n",
              "      background-color: #434B5C;\n",
              "      box-shadow: 0px 1px 3px 1px rgba(0, 0, 0, 0.15);\n",
              "      filter: drop-shadow(0px 1px 2px rgba(0, 0, 0, 0.3));\n",
              "      fill: #FFFFFF;\n",
              "    }\n",
              "  </style>\n",
              "\n",
              "      <script>\n",
              "        const buttonEl =\n",
              "          document.querySelector('#df-dd67a26d-22d0-4133-8ec5-4d888b7e0397 button.colab-df-convert');\n",
              "        buttonEl.style.display =\n",
              "          google.colab.kernel.accessAllowed ? 'block' : 'none';\n",
              "\n",
              "        async function convertToInteractive(key) {\n",
              "          const element = document.querySelector('#df-dd67a26d-22d0-4133-8ec5-4d888b7e0397');\n",
              "          const dataTable =\n",
              "            await google.colab.kernel.invokeFunction('convertToInteractive',\n",
              "                                                     [key], {});\n",
              "          if (!dataTable) return;\n",
              "\n",
              "          const docLinkHtml = 'Like what you see? Visit the ' +\n",
              "            '<a target=\"_blank\" href=https://colab.research.google.com/notebooks/data_table.ipynb>data table notebook</a>'\n",
              "            + ' to learn more about interactive tables.';\n",
              "          element.innerHTML = '';\n",
              "          dataTable['output_type'] = 'display_data';\n",
              "          await google.colab.output.renderOutput(dataTable, element);\n",
              "          const docLink = document.createElement('div');\n",
              "          docLink.innerHTML = docLinkHtml;\n",
              "          element.appendChild(docLink);\n",
              "        }\n",
              "      </script>\n",
              "    </div>\n",
              "  </div>\n",
              "  "
            ]
          },
          "metadata": {}
        },
        {
          "output_type": "stream",
          "name": "stdout",
          "text": [
            "\n",
            "On y train  (11840,)\n"
          ]
        },
        {
          "output_type": "display_data",
          "data": {
            "text/plain": [
              "20238    0\n",
              "8464     0\n",
              "Name: Credit_Risk, dtype: int64"
            ]
          },
          "metadata": {}
        },
        {
          "output_type": "stream",
          "name": "stdout",
          "text": [
            "\n",
            "\n",
            "\n",
            "On X test  (3947, 10)\n"
          ]
        },
        {
          "output_type": "display_data",
          "data": {
            "text/plain": [
              "      Loan_Amount    Term  Interest_Rate  Credit_Score Home_Ownership  \\\n",
              "3892         4235  1 year          6.265           743  Home Mortgage   \n",
              "8270         6987  1 year          6.105           747           Rent   \n",
              "\n",
              "      Annual_Income   Purpose  Monthly_Debt  Credit_Cards_Balance  \\\n",
              "3892       100840.0  Car Loan       2462.18                 22849   \n",
              "8270       149730.0  Car Loan        175.93                  5084   \n",
              "\n",
              "      Credit_Utilization  \n",
              "3892                96.4  \n",
              "8270                30.0  "
            ],
            "text/html": [
              "\n",
              "  <div id=\"df-b5cc9341-7f61-40af-9db1-488efbd839ca\">\n",
              "    <div class=\"colab-df-container\">\n",
              "      <div>\n",
              "<style scoped>\n",
              "    .dataframe tbody tr th:only-of-type {\n",
              "        vertical-align: middle;\n",
              "    }\n",
              "\n",
              "    .dataframe tbody tr th {\n",
              "        vertical-align: top;\n",
              "    }\n",
              "\n",
              "    .dataframe thead th {\n",
              "        text-align: right;\n",
              "    }\n",
              "</style>\n",
              "<table border=\"1\" class=\"dataframe\">\n",
              "  <thead>\n",
              "    <tr style=\"text-align: right;\">\n",
              "      <th></th>\n",
              "      <th>Loan_Amount</th>\n",
              "      <th>Term</th>\n",
              "      <th>Interest_Rate</th>\n",
              "      <th>Credit_Score</th>\n",
              "      <th>Home_Ownership</th>\n",
              "      <th>Annual_Income</th>\n",
              "      <th>Purpose</th>\n",
              "      <th>Monthly_Debt</th>\n",
              "      <th>Credit_Cards_Balance</th>\n",
              "      <th>Credit_Utilization</th>\n",
              "    </tr>\n",
              "  </thead>\n",
              "  <tbody>\n",
              "    <tr>\n",
              "      <th>3892</th>\n",
              "      <td>4235</td>\n",
              "      <td>1 year</td>\n",
              "      <td>6.265</td>\n",
              "      <td>743</td>\n",
              "      <td>Home Mortgage</td>\n",
              "      <td>100840.0</td>\n",
              "      <td>Car Loan</td>\n",
              "      <td>2462.18</td>\n",
              "      <td>22849</td>\n",
              "      <td>96.4</td>\n",
              "    </tr>\n",
              "    <tr>\n",
              "      <th>8270</th>\n",
              "      <td>6987</td>\n",
              "      <td>1 year</td>\n",
              "      <td>6.105</td>\n",
              "      <td>747</td>\n",
              "      <td>Rent</td>\n",
              "      <td>149730.0</td>\n",
              "      <td>Car Loan</td>\n",
              "      <td>175.93</td>\n",
              "      <td>5084</td>\n",
              "      <td>30.0</td>\n",
              "    </tr>\n",
              "  </tbody>\n",
              "</table>\n",
              "</div>\n",
              "      <button class=\"colab-df-convert\" onclick=\"convertToInteractive('df-b5cc9341-7f61-40af-9db1-488efbd839ca')\"\n",
              "              title=\"Convert this dataframe to an interactive table.\"\n",
              "              style=\"display:none;\">\n",
              "        \n",
              "  <svg xmlns=\"http://www.w3.org/2000/svg\" height=\"24px\"viewBox=\"0 0 24 24\"\n",
              "       width=\"24px\">\n",
              "    <path d=\"M0 0h24v24H0V0z\" fill=\"none\"/>\n",
              "    <path d=\"M18.56 5.44l.94 2.06.94-2.06 2.06-.94-2.06-.94-.94-2.06-.94 2.06-2.06.94zm-11 1L8.5 8.5l.94-2.06 2.06-.94-2.06-.94L8.5 2.5l-.94 2.06-2.06.94zm10 10l.94 2.06.94-2.06 2.06-.94-2.06-.94-.94-2.06-.94 2.06-2.06.94z\"/><path d=\"M17.41 7.96l-1.37-1.37c-.4-.4-.92-.59-1.43-.59-.52 0-1.04.2-1.43.59L10.3 9.45l-7.72 7.72c-.78.78-.78 2.05 0 2.83L4 21.41c.39.39.9.59 1.41.59.51 0 1.02-.2 1.41-.59l7.78-7.78 2.81-2.81c.8-.78.8-2.07 0-2.86zM5.41 20L4 18.59l7.72-7.72 1.47 1.35L5.41 20z\"/>\n",
              "  </svg>\n",
              "      </button>\n",
              "      \n",
              "  <style>\n",
              "    .colab-df-container {\n",
              "      display:flex;\n",
              "      flex-wrap:wrap;\n",
              "      gap: 12px;\n",
              "    }\n",
              "\n",
              "    .colab-df-convert {\n",
              "      background-color: #E8F0FE;\n",
              "      border: none;\n",
              "      border-radius: 50%;\n",
              "      cursor: pointer;\n",
              "      display: none;\n",
              "      fill: #1967D2;\n",
              "      height: 32px;\n",
              "      padding: 0 0 0 0;\n",
              "      width: 32px;\n",
              "    }\n",
              "\n",
              "    .colab-df-convert:hover {\n",
              "      background-color: #E2EBFA;\n",
              "      box-shadow: 0px 1px 2px rgba(60, 64, 67, 0.3), 0px 1px 3px 1px rgba(60, 64, 67, 0.15);\n",
              "      fill: #174EA6;\n",
              "    }\n",
              "\n",
              "    [theme=dark] .colab-df-convert {\n",
              "      background-color: #3B4455;\n",
              "      fill: #D2E3FC;\n",
              "    }\n",
              "\n",
              "    [theme=dark] .colab-df-convert:hover {\n",
              "      background-color: #434B5C;\n",
              "      box-shadow: 0px 1px 3px 1px rgba(0, 0, 0, 0.15);\n",
              "      filter: drop-shadow(0px 1px 2px rgba(0, 0, 0, 0.3));\n",
              "      fill: #FFFFFF;\n",
              "    }\n",
              "  </style>\n",
              "\n",
              "      <script>\n",
              "        const buttonEl =\n",
              "          document.querySelector('#df-b5cc9341-7f61-40af-9db1-488efbd839ca button.colab-df-convert');\n",
              "        buttonEl.style.display =\n",
              "          google.colab.kernel.accessAllowed ? 'block' : 'none';\n",
              "\n",
              "        async function convertToInteractive(key) {\n",
              "          const element = document.querySelector('#df-b5cc9341-7f61-40af-9db1-488efbd839ca');\n",
              "          const dataTable =\n",
              "            await google.colab.kernel.invokeFunction('convertToInteractive',\n",
              "                                                     [key], {});\n",
              "          if (!dataTable) return;\n",
              "\n",
              "          const docLinkHtml = 'Like what you see? Visit the ' +\n",
              "            '<a target=\"_blank\" href=https://colab.research.google.com/notebooks/data_table.ipynb>data table notebook</a>'\n",
              "            + ' to learn more about interactive tables.';\n",
              "          element.innerHTML = '';\n",
              "          dataTable['output_type'] = 'display_data';\n",
              "          await google.colab.output.renderOutput(dataTable, element);\n",
              "          const docLink = document.createElement('div');\n",
              "          docLink.innerHTML = docLinkHtml;\n",
              "          element.appendChild(docLink);\n",
              "        }\n",
              "      </script>\n",
              "    </div>\n",
              "  </div>\n",
              "  "
            ]
          },
          "metadata": {}
        },
        {
          "output_type": "stream",
          "name": "stdout",
          "text": [
            "\n",
            "On y test  (3947,)\n"
          ]
        },
        {
          "output_type": "display_data",
          "data": {
            "text/plain": [
              "5074    0\n",
              "897     0\n",
              "Name: Credit_Risk, dtype: int64"
            ]
          },
          "metadata": {}
        }
      ],
      "source": [
        "# X Train\n",
        "print('On X train ', X_train.shape)\n",
        "display(X_train.sample(2))\n",
        "# Y Train\n",
        "print('\\nOn y train ', y_train.shape)\n",
        "display(y_train.sample(2))\n",
        "\n",
        "# X test\n",
        "print('\\n\\n\\nOn X test ', X_test.shape)\n",
        "display(X_test.sample(2))\n",
        "# Y test\n",
        "print('\\nOn y test ', y_test.shape)\n",
        "display(y_test.sample(2))"
      ]
    },
    {
      "cell_type": "markdown",
      "metadata": {
        "id": "Y1OZgZoS3TMZ"
      },
      "source": [
        "# Establishing the training pipeline\n",
        "\n",
        "> **Note: There will be no data imputed**  \n",
        "In the data clean up step, the were 3 columns with NA values. This included Credit_Score, Annual_Income, and Years_in_Current_Job. All records with NA entries for Credit_Score contained all NA entries for Annual_Income. I dropped these records because credit score plays a major part in determining if a record is at risk or not, the median credit score may sway the model to predict the record as not a credit risk and in result would lower the models accuracy. Years in current job has since been dismissed."
      ]
    },
    {
      "cell_type": "markdown",
      "metadata": {
        "id": "SzWmA2sasGzG"
      },
      "source": [
        "Creating individual pipelines for numerical and categorical columns"
      ]
    },
    {
      "cell_type": "code",
      "execution_count": 126,
      "metadata": {
        "id": "AJX6fHhKeRYh"
      },
      "outputs": [],
      "source": [
        "cat_pipeline = Pipeline(steps=[('onehot_cat', OneHotEncoder())])\n",
        "num_pipeline = Pipeline(steps=[('scale_num', StandardScaler())])\n",
        "\n",
        "preproc = ColumnTransformer([('cat_pipe', cat_pipeline, make_column_selector(dtype_include=object)),\n",
        "                             ('num_pipe', num_pipeline, make_column_selector(dtype_include=np.number))],\n",
        "                             remainder='passthrough')"
      ]
    },
    {
      "cell_type": "markdown",
      "metadata": {
        "id": "fAO_hII_yVGV"
      },
      "source": [
        "# ML Pipelines"
      ]
    },
    {
      "cell_type": "markdown",
      "metadata": {
        "id": "q3JcXB4MyZsC"
      },
      "source": [
        "### Model fitting and Evaluation\n",
        "\n",
        "#### Assumptions \n",
        "\n",
        " > 1. Because the most common purpose type is Home Loan, the model will be aided to perform at a higher accuracy because there is more data in that category to discern a pattern and will also have more records to predict based on that pattern which will overall add to the correct predictions count.\n",
        "\n"
      ]
    },
    {
      "cell_type": "markdown",
      "metadata": {
        "id": "U0UNt_1cdXlM"
      },
      "source": [
        "\n",
        "\n",
        "---\n",
        "\n",
        "\n",
        "## Model 1 - Gadient Boosting Classifier"
      ]
    },
    {
      "cell_type": "code",
      "execution_count": 127,
      "metadata": {
        "colab": {
          "base_uri": "https://localhost:8080/",
          "height": 192
        },
        "id": "Fqj9aH-rTSkc",
        "outputId": "d37ba29d-2568-46ba-94cc-9210c7772883"
      },
      "outputs": [
        {
          "output_type": "display_data",
          "data": {
            "text/plain": [
              "Pipeline(steps=[('preproc',\n",
              "                 ColumnTransformer(remainder='passthrough',\n",
              "                                   transformers=[('cat_pipe',\n",
              "                                                  Pipeline(steps=[('onehot_cat',\n",
              "                                                                   OneHotEncoder())]),\n",
              "                                                  <sklearn.compose._column_transformer.make_column_selector object at 0x7fbc86765590>),\n",
              "                                                 ('num_pipe',\n",
              "                                                  Pipeline(steps=[('scale_num',\n",
              "                                                                   StandardScaler())]),\n",
              "                                                  <sklearn.compose._column_transformer.make_column_selector object at 0x7fbc86765110>)])),\n",
              "                ('mdl',\n",
              "                 GradientBoostingClassifier(learning_rate=1.0, max_depth=2,\n",
              "                                            random_state=0))])"
            ],
            "text/html": [
              "<style>#sk-9181a0bf-0ed4-48b6-bafa-f8bf1e5a976f {color: black;background-color: white;}#sk-9181a0bf-0ed4-48b6-bafa-f8bf1e5a976f pre{padding: 0;}#sk-9181a0bf-0ed4-48b6-bafa-f8bf1e5a976f div.sk-toggleable {background-color: white;}#sk-9181a0bf-0ed4-48b6-bafa-f8bf1e5a976f label.sk-toggleable__label {cursor: pointer;display: block;width: 100%;margin-bottom: 0;padding: 0.3em;box-sizing: border-box;text-align: center;}#sk-9181a0bf-0ed4-48b6-bafa-f8bf1e5a976f label.sk-toggleable__label-arrow:before {content: \"▸\";float: left;margin-right: 0.25em;color: #696969;}#sk-9181a0bf-0ed4-48b6-bafa-f8bf1e5a976f label.sk-toggleable__label-arrow:hover:before {color: black;}#sk-9181a0bf-0ed4-48b6-bafa-f8bf1e5a976f div.sk-estimator:hover label.sk-toggleable__label-arrow:before {color: black;}#sk-9181a0bf-0ed4-48b6-bafa-f8bf1e5a976f div.sk-toggleable__content {max-height: 0;max-width: 0;overflow: hidden;text-align: left;background-color: #f0f8ff;}#sk-9181a0bf-0ed4-48b6-bafa-f8bf1e5a976f div.sk-toggleable__content pre {margin: 0.2em;color: black;border-radius: 0.25em;background-color: #f0f8ff;}#sk-9181a0bf-0ed4-48b6-bafa-f8bf1e5a976f input.sk-toggleable__control:checked~div.sk-toggleable__content {max-height: 200px;max-width: 100%;overflow: auto;}#sk-9181a0bf-0ed4-48b6-bafa-f8bf1e5a976f input.sk-toggleable__control:checked~label.sk-toggleable__label-arrow:before {content: \"▾\";}#sk-9181a0bf-0ed4-48b6-bafa-f8bf1e5a976f div.sk-estimator input.sk-toggleable__control:checked~label.sk-toggleable__label {background-color: #d4ebff;}#sk-9181a0bf-0ed4-48b6-bafa-f8bf1e5a976f div.sk-label input.sk-toggleable__control:checked~label.sk-toggleable__label {background-color: #d4ebff;}#sk-9181a0bf-0ed4-48b6-bafa-f8bf1e5a976f input.sk-hidden--visually {border: 0;clip: rect(1px 1px 1px 1px);clip: rect(1px, 1px, 1px, 1px);height: 1px;margin: -1px;overflow: hidden;padding: 0;position: absolute;width: 1px;}#sk-9181a0bf-0ed4-48b6-bafa-f8bf1e5a976f div.sk-estimator {font-family: monospace;background-color: #f0f8ff;border: 1px dotted black;border-radius: 0.25em;box-sizing: border-box;margin-bottom: 0.5em;}#sk-9181a0bf-0ed4-48b6-bafa-f8bf1e5a976f div.sk-estimator:hover {background-color: #d4ebff;}#sk-9181a0bf-0ed4-48b6-bafa-f8bf1e5a976f div.sk-parallel-item::after {content: \"\";width: 100%;border-bottom: 1px solid gray;flex-grow: 1;}#sk-9181a0bf-0ed4-48b6-bafa-f8bf1e5a976f div.sk-label:hover label.sk-toggleable__label {background-color: #d4ebff;}#sk-9181a0bf-0ed4-48b6-bafa-f8bf1e5a976f div.sk-serial::before {content: \"\";position: absolute;border-left: 1px solid gray;box-sizing: border-box;top: 2em;bottom: 0;left: 50%;}#sk-9181a0bf-0ed4-48b6-bafa-f8bf1e5a976f div.sk-serial {display: flex;flex-direction: column;align-items: center;background-color: white;padding-right: 0.2em;padding-left: 0.2em;}#sk-9181a0bf-0ed4-48b6-bafa-f8bf1e5a976f div.sk-item {z-index: 1;}#sk-9181a0bf-0ed4-48b6-bafa-f8bf1e5a976f div.sk-parallel {display: flex;align-items: stretch;justify-content: center;background-color: white;}#sk-9181a0bf-0ed4-48b6-bafa-f8bf1e5a976f div.sk-parallel::before {content: \"\";position: absolute;border-left: 1px solid gray;box-sizing: border-box;top: 2em;bottom: 0;left: 50%;}#sk-9181a0bf-0ed4-48b6-bafa-f8bf1e5a976f div.sk-parallel-item {display: flex;flex-direction: column;position: relative;background-color: white;}#sk-9181a0bf-0ed4-48b6-bafa-f8bf1e5a976f div.sk-parallel-item:first-child::after {align-self: flex-end;width: 50%;}#sk-9181a0bf-0ed4-48b6-bafa-f8bf1e5a976f div.sk-parallel-item:last-child::after {align-self: flex-start;width: 50%;}#sk-9181a0bf-0ed4-48b6-bafa-f8bf1e5a976f div.sk-parallel-item:only-child::after {width: 0;}#sk-9181a0bf-0ed4-48b6-bafa-f8bf1e5a976f div.sk-dashed-wrapped {border: 1px dashed gray;margin: 0 0.4em 0.5em 0.4em;box-sizing: border-box;padding-bottom: 0.4em;background-color: white;position: relative;}#sk-9181a0bf-0ed4-48b6-bafa-f8bf1e5a976f div.sk-label label {font-family: monospace;font-weight: bold;background-color: white;display: inline-block;line-height: 1.2em;}#sk-9181a0bf-0ed4-48b6-bafa-f8bf1e5a976f div.sk-label-container {position: relative;z-index: 2;text-align: center;}#sk-9181a0bf-0ed4-48b6-bafa-f8bf1e5a976f div.sk-container {/* jupyter's `normalize.less` sets `[hidden] { display: none; }` but bootstrap.min.css set `[hidden] { display: none !important; }` so we also need the `!important` here to be able to override the default hidden behavior on the sphinx rendered scikit-learn.org. See: https://github.com/scikit-learn/scikit-learn/issues/21755 */display: inline-block !important;position: relative;}#sk-9181a0bf-0ed4-48b6-bafa-f8bf1e5a976f div.sk-text-repr-fallback {display: none;}</style><div id=\"sk-9181a0bf-0ed4-48b6-bafa-f8bf1e5a976f\" class=\"sk-top-container\"><div class=\"sk-text-repr-fallback\"><pre>Pipeline(steps=[(&#x27;preproc&#x27;,\n",
              "                 ColumnTransformer(remainder=&#x27;passthrough&#x27;,\n",
              "                                   transformers=[(&#x27;cat_pipe&#x27;,\n",
              "                                                  Pipeline(steps=[(&#x27;onehot_cat&#x27;,\n",
              "                                                                   OneHotEncoder())]),\n",
              "                                                  &lt;sklearn.compose._column_transformer.make_column_selector object at 0x7fbc86765590&gt;),\n",
              "                                                 (&#x27;num_pipe&#x27;,\n",
              "                                                  Pipeline(steps=[(&#x27;scale_num&#x27;,\n",
              "                                                                   StandardScaler())]),\n",
              "                                                  &lt;sklearn.compose._column_transformer.make_column_selector object at 0x7fbc86765110&gt;)])),\n",
              "                (&#x27;mdl&#x27;,\n",
              "                 GradientBoostingClassifier(learning_rate=1.0, max_depth=2,\n",
              "                                            random_state=0))])</pre><b>Please rerun this cell to show the HTML repr or trust the notebook.</b></div><div class=\"sk-container\" hidden><div class=\"sk-item sk-dashed-wrapped\"><div class=\"sk-label-container\"><div class=\"sk-label sk-toggleable\"><input class=\"sk-toggleable__control sk-hidden--visually\" id=\"bcac10a4-7016-4ee5-9ff8-a9b94c1b720a\" type=\"checkbox\" ><label for=\"bcac10a4-7016-4ee5-9ff8-a9b94c1b720a\" class=\"sk-toggleable__label sk-toggleable__label-arrow\">Pipeline</label><div class=\"sk-toggleable__content\"><pre>Pipeline(steps=[(&#x27;preproc&#x27;,\n",
              "                 ColumnTransformer(remainder=&#x27;passthrough&#x27;,\n",
              "                                   transformers=[(&#x27;cat_pipe&#x27;,\n",
              "                                                  Pipeline(steps=[(&#x27;onehot_cat&#x27;,\n",
              "                                                                   OneHotEncoder())]),\n",
              "                                                  &lt;sklearn.compose._column_transformer.make_column_selector object at 0x7fbc86765590&gt;),\n",
              "                                                 (&#x27;num_pipe&#x27;,\n",
              "                                                  Pipeline(steps=[(&#x27;scale_num&#x27;,\n",
              "                                                                   StandardScaler())]),\n",
              "                                                  &lt;sklearn.compose._column_transformer.make_column_selector object at 0x7fbc86765110&gt;)])),\n",
              "                (&#x27;mdl&#x27;,\n",
              "                 GradientBoostingClassifier(learning_rate=1.0, max_depth=2,\n",
              "                                            random_state=0))])</pre></div></div></div><div class=\"sk-serial\"><div class=\"sk-item sk-dashed-wrapped\"><div class=\"sk-label-container\"><div class=\"sk-label sk-toggleable\"><input class=\"sk-toggleable__control sk-hidden--visually\" id=\"ff87f228-698d-4ca9-9b9f-78f651f57fab\" type=\"checkbox\" ><label for=\"ff87f228-698d-4ca9-9b9f-78f651f57fab\" class=\"sk-toggleable__label sk-toggleable__label-arrow\">preproc: ColumnTransformer</label><div class=\"sk-toggleable__content\"><pre>ColumnTransformer(remainder=&#x27;passthrough&#x27;,\n",
              "                  transformers=[(&#x27;cat_pipe&#x27;,\n",
              "                                 Pipeline(steps=[(&#x27;onehot_cat&#x27;,\n",
              "                                                  OneHotEncoder())]),\n",
              "                                 &lt;sklearn.compose._column_transformer.make_column_selector object at 0x7fbc86765590&gt;),\n",
              "                                (&#x27;num_pipe&#x27;,\n",
              "                                 Pipeline(steps=[(&#x27;scale_num&#x27;,\n",
              "                                                  StandardScaler())]),\n",
              "                                 &lt;sklearn.compose._column_transformer.make_column_selector object at 0x7fbc86765110&gt;)])</pre></div></div></div><div class=\"sk-parallel\"><div class=\"sk-parallel-item\"><div class=\"sk-item\"><div class=\"sk-label-container\"><div class=\"sk-label sk-toggleable\"><input class=\"sk-toggleable__control sk-hidden--visually\" id=\"8b9c34bd-58c1-4e54-8be3-0d5c0af46c79\" type=\"checkbox\" ><label for=\"8b9c34bd-58c1-4e54-8be3-0d5c0af46c79\" class=\"sk-toggleable__label sk-toggleable__label-arrow\">cat_pipe</label><div class=\"sk-toggleable__content\"><pre>&lt;sklearn.compose._column_transformer.make_column_selector object at 0x7fbc86765590&gt;</pre></div></div></div><div class=\"sk-serial\"><div class=\"sk-item\"><div class=\"sk-serial\"><div class=\"sk-item\"><div class=\"sk-estimator sk-toggleable\"><input class=\"sk-toggleable__control sk-hidden--visually\" id=\"07df7961-f7ef-4c2a-85ee-4a6057b01433\" type=\"checkbox\" ><label for=\"07df7961-f7ef-4c2a-85ee-4a6057b01433\" class=\"sk-toggleable__label sk-toggleable__label-arrow\">OneHotEncoder</label><div class=\"sk-toggleable__content\"><pre>OneHotEncoder()</pre></div></div></div></div></div></div></div></div><div class=\"sk-parallel-item\"><div class=\"sk-item\"><div class=\"sk-label-container\"><div class=\"sk-label sk-toggleable\"><input class=\"sk-toggleable__control sk-hidden--visually\" id=\"2da763c1-6343-42df-833e-0b6d333c6331\" type=\"checkbox\" ><label for=\"2da763c1-6343-42df-833e-0b6d333c6331\" class=\"sk-toggleable__label sk-toggleable__label-arrow\">num_pipe</label><div class=\"sk-toggleable__content\"><pre>&lt;sklearn.compose._column_transformer.make_column_selector object at 0x7fbc86765110&gt;</pre></div></div></div><div class=\"sk-serial\"><div class=\"sk-item\"><div class=\"sk-serial\"><div class=\"sk-item\"><div class=\"sk-estimator sk-toggleable\"><input class=\"sk-toggleable__control sk-hidden--visually\" id=\"b1040443-08a7-453f-9d4b-c2ad5bff094b\" type=\"checkbox\" ><label for=\"b1040443-08a7-453f-9d4b-c2ad5bff094b\" class=\"sk-toggleable__label sk-toggleable__label-arrow\">StandardScaler</label><div class=\"sk-toggleable__content\"><pre>StandardScaler()</pre></div></div></div></div></div></div></div></div><div class=\"sk-parallel-item\"><div class=\"sk-item\"><div class=\"sk-label-container\"><div class=\"sk-label sk-toggleable\"><input class=\"sk-toggleable__control sk-hidden--visually\" id=\"b21f4106-35c2-42ff-beb4-798ed4e8e6d9\" type=\"checkbox\" ><label for=\"b21f4106-35c2-42ff-beb4-798ed4e8e6d9\" class=\"sk-toggleable__label sk-toggleable__label-arrow\">remainder</label><div class=\"sk-toggleable__content\"><pre></pre></div></div></div><div class=\"sk-serial\"><div class=\"sk-item\"><div class=\"sk-estimator sk-toggleable\"><input class=\"sk-toggleable__control sk-hidden--visually\" id=\"5e64152f-5bc2-469e-989c-fb4a105a4be9\" type=\"checkbox\" ><label for=\"5e64152f-5bc2-469e-989c-fb4a105a4be9\" class=\"sk-toggleable__label sk-toggleable__label-arrow\">passthrough</label><div class=\"sk-toggleable__content\"><pre>passthrough</pre></div></div></div></div></div></div></div></div><div class=\"sk-item\"><div class=\"sk-estimator sk-toggleable\"><input class=\"sk-toggleable__control sk-hidden--visually\" id=\"c26de6fc-4008-4311-ac47-2c0fe08c91fe\" type=\"checkbox\" ><label for=\"c26de6fc-4008-4311-ac47-2c0fe08c91fe\" class=\"sk-toggleable__label sk-toggleable__label-arrow\">GradientBoostingClassifier</label><div class=\"sk-toggleable__content\"><pre>GradientBoostingClassifier(learning_rate=1.0, max_depth=2, random_state=0)</pre></div></div></div></div></div></div></div>"
            ]
          },
          "metadata": {}
        }
      ],
      "source": [
        "#generate the whole modeling pipeline with preprocessing\n",
        "pipe = Pipeline(steps=[('preproc', preproc), ('mdl', GradientBoostingClassifier(\n",
        "                n_estimators=100, learning_rate=1.0, max_depth=2, random_state=0))]) \n",
        "\n",
        "#visualization for steps\n",
        "with config_context(display='diagram'):\n",
        "    display(pipe)"
      ]
    },
    {
      "cell_type": "markdown",
      "metadata": {
        "id": "83XW_Ebbh9xL"
      },
      "source": [
        "### Cross-validation with hyperparameter tuning"
      ]
    },
    {
      "cell_type": "code",
      "execution_count": 128,
      "metadata": {
        "id": "-GXLxLqijKqi"
      },
      "outputs": [],
      "source": [
        "#hyperparameter tuning\n",
        "tuning_grid = {'mdl__learning_rate' : [0.1,1,10], 'mdl__max_depth': [1,2,3],\n",
        "               \"mdl__n_estimators\": [100, 200, 300, 400]}\n",
        "# GridSearchCV is used for cross-validation\n",
        "GB_grid_search = GridSearchCV(pipe, param_grid = tuning_grid, cv = 5, return_train_score=True)"
      ]
    },
    {
      "cell_type": "code",
      "source": [
        "GB_grid_search.fit(X_train, y_train)"
      ],
      "metadata": {
        "colab": {
          "base_uri": "https://localhost:8080/"
        },
        "id": "jnUH0CJcWNqU",
        "outputId": "2ec97161-e06f-422c-d07c-1584974e08c1"
      },
      "execution_count": 129,
      "outputs": [
        {
          "output_type": "execute_result",
          "data": {
            "text/plain": [
              "GridSearchCV(cv=5,\n",
              "             estimator=Pipeline(steps=[('preproc',\n",
              "                                        ColumnTransformer(remainder='passthrough',\n",
              "                                                          transformers=[('cat_pipe',\n",
              "                                                                         Pipeline(steps=[('onehot_cat',\n",
              "                                                                                          OneHotEncoder())]),\n",
              "                                                                         <sklearn.compose._column_transformer.make_column_selector object at 0x7fbc86765590>),\n",
              "                                                                        ('num_pipe',\n",
              "                                                                         Pipeline(steps=[('scale_num',\n",
              "                                                                                          StandardScaler())]),\n",
              "                                                                         <sklearn.compose._column_transformer.make_column_selector object at 0x7fbc86765110>)])),\n",
              "                                       ('mdl',\n",
              "                                        GradientBoostingClassifier(learning_rate=1.0,\n",
              "                                                                   max_depth=2,\n",
              "                                                                   random_state=0))]),\n",
              "             param_grid={'mdl__learning_rate': [0.1, 1, 10],\n",
              "                         'mdl__max_depth': [1, 2, 3],\n",
              "                         'mdl__n_estimators': [100, 200, 300, 400]},\n",
              "             return_train_score=True)"
            ]
          },
          "metadata": {},
          "execution_count": 129
        }
      ]
    },
    {
      "cell_type": "code",
      "execution_count": 130,
      "metadata": {
        "colab": {
          "base_uri": "https://localhost:8080/"
        },
        "id": "zEs3zLr1jKzj",
        "outputId": "aa1f4765-46ee-41e6-9f7a-2539ad84ba7b"
      },
      "outputs": [
        {
          "output_type": "stream",
          "name": "stdout",
          "text": [
            "0.9191722972972973\n"
          ]
        },
        {
          "output_type": "execute_result",
          "data": {
            "text/plain": [
              "{'mdl__learning_rate': 0.1, 'mdl__max_depth': 3, 'mdl__n_estimators': 300}"
            ]
          },
          "metadata": {},
          "execution_count": 130
        }
      ],
      "source": [
        "print(GB_grid_search.best_score_)\n",
        "GB_grid_search.best_params_"
      ]
    },
    {
      "cell_type": "code",
      "execution_count": 131,
      "metadata": {
        "colab": {
          "base_uri": "https://localhost:8080/",
          "height": 473
        },
        "id": "ZXKP8nLCjK9w",
        "outputId": "dd42529b-5512-4b04-e3b8-1e08369d4373"
      },
      "outputs": [
        {
          "output_type": "execute_result",
          "data": {
            "text/plain": [
              "   mean_fit_time  std_fit_time  mean_score_time  std_score_time  \\\n",
              "0       1.011462      0.013698         0.010606        0.000286   \n",
              "1       1.980132      0.011018         0.012679        0.000723   \n",
              "2       2.952472      0.028066         0.014282        0.000515   \n",
              "3       3.940095      0.024948         0.016847        0.001067   \n",
              "4       1.921052      0.223508         0.013108        0.002181   \n",
              "\n",
              "  param_mdl__learning_rate param_mdl__max_depth param_mdl__n_estimators  \\\n",
              "0                      0.1                    1                     100   \n",
              "1                      0.1                    1                     200   \n",
              "2                      0.1                    1                     300   \n",
              "3                      0.1                    1                     400   \n",
              "4                      0.1                    2                     100   \n",
              "\n",
              "                                              params  split0_test_score  \\\n",
              "0  {'mdl__learning_rate': 0.1, 'mdl__max_depth': ...           0.874155   \n",
              "1  {'mdl__learning_rate': 0.1, 'mdl__max_depth': ...           0.884713   \n",
              "2  {'mdl__learning_rate': 0.1, 'mdl__max_depth': ...           0.888514   \n",
              "3  {'mdl__learning_rate': 0.1, 'mdl__max_depth': ...           0.891892   \n",
              "4  {'mdl__learning_rate': 0.1, 'mdl__max_depth': ...           0.898649   \n",
              "\n",
              "   split1_test_score  ...  mean_test_score  std_test_score  rank_test_score  \\\n",
              "0           0.866976  ...         0.869341        0.005892               24   \n",
              "1           0.878378  ...         0.882010        0.005258               23   \n",
              "2           0.886824  ...         0.889274        0.003911               22   \n",
              "3           0.894003  ...         0.893581        0.004282               21   \n",
              "4           0.894848  ...         0.898311        0.002979               20   \n",
              "\n",
              "   split0_train_score  split1_train_score  split2_train_score  \\\n",
              "0            0.869405            0.871622            0.872361   \n",
              "1            0.884818            0.886613            0.885452   \n",
              "2            0.894003            0.893687            0.894531   \n",
              "3            0.900549            0.898649            0.900127   \n",
              "4            0.909628            0.907095            0.908150   \n",
              "\n",
              "   split3_train_score  split4_train_score  mean_train_score  std_train_score  \n",
              "0            0.874683            0.868349          0.871284         0.002235  \n",
              "1            0.887247            0.883552          0.885536         0.001307  \n",
              "2            0.896326            0.891364          0.893982         0.001596  \n",
              "3            0.901394            0.896643          0.899472         0.001671  \n",
              "4            0.908889            0.906883          0.908129         0.001044  \n",
              "\n",
              "[5 rows x 23 columns]"
            ],
            "text/html": [
              "\n",
              "  <div id=\"df-86f4d7bc-c230-45e9-96cf-21a6e26628ef\">\n",
              "    <div class=\"colab-df-container\">\n",
              "      <div>\n",
              "<style scoped>\n",
              "    .dataframe tbody tr th:only-of-type {\n",
              "        vertical-align: middle;\n",
              "    }\n",
              "\n",
              "    .dataframe tbody tr th {\n",
              "        vertical-align: top;\n",
              "    }\n",
              "\n",
              "    .dataframe thead th {\n",
              "        text-align: right;\n",
              "    }\n",
              "</style>\n",
              "<table border=\"1\" class=\"dataframe\">\n",
              "  <thead>\n",
              "    <tr style=\"text-align: right;\">\n",
              "      <th></th>\n",
              "      <th>mean_fit_time</th>\n",
              "      <th>std_fit_time</th>\n",
              "      <th>mean_score_time</th>\n",
              "      <th>std_score_time</th>\n",
              "      <th>param_mdl__learning_rate</th>\n",
              "      <th>param_mdl__max_depth</th>\n",
              "      <th>param_mdl__n_estimators</th>\n",
              "      <th>params</th>\n",
              "      <th>split0_test_score</th>\n",
              "      <th>split1_test_score</th>\n",
              "      <th>...</th>\n",
              "      <th>mean_test_score</th>\n",
              "      <th>std_test_score</th>\n",
              "      <th>rank_test_score</th>\n",
              "      <th>split0_train_score</th>\n",
              "      <th>split1_train_score</th>\n",
              "      <th>split2_train_score</th>\n",
              "      <th>split3_train_score</th>\n",
              "      <th>split4_train_score</th>\n",
              "      <th>mean_train_score</th>\n",
              "      <th>std_train_score</th>\n",
              "    </tr>\n",
              "  </thead>\n",
              "  <tbody>\n",
              "    <tr>\n",
              "      <th>0</th>\n",
              "      <td>1.011462</td>\n",
              "      <td>0.013698</td>\n",
              "      <td>0.010606</td>\n",
              "      <td>0.000286</td>\n",
              "      <td>0.1</td>\n",
              "      <td>1</td>\n",
              "      <td>100</td>\n",
              "      <td>{'mdl__learning_rate': 0.1, 'mdl__max_depth': ...</td>\n",
              "      <td>0.874155</td>\n",
              "      <td>0.866976</td>\n",
              "      <td>...</td>\n",
              "      <td>0.869341</td>\n",
              "      <td>0.005892</td>\n",
              "      <td>24</td>\n",
              "      <td>0.869405</td>\n",
              "      <td>0.871622</td>\n",
              "      <td>0.872361</td>\n",
              "      <td>0.874683</td>\n",
              "      <td>0.868349</td>\n",
              "      <td>0.871284</td>\n",
              "      <td>0.002235</td>\n",
              "    </tr>\n",
              "    <tr>\n",
              "      <th>1</th>\n",
              "      <td>1.980132</td>\n",
              "      <td>0.011018</td>\n",
              "      <td>0.012679</td>\n",
              "      <td>0.000723</td>\n",
              "      <td>0.1</td>\n",
              "      <td>1</td>\n",
              "      <td>200</td>\n",
              "      <td>{'mdl__learning_rate': 0.1, 'mdl__max_depth': ...</td>\n",
              "      <td>0.884713</td>\n",
              "      <td>0.878378</td>\n",
              "      <td>...</td>\n",
              "      <td>0.882010</td>\n",
              "      <td>0.005258</td>\n",
              "      <td>23</td>\n",
              "      <td>0.884818</td>\n",
              "      <td>0.886613</td>\n",
              "      <td>0.885452</td>\n",
              "      <td>0.887247</td>\n",
              "      <td>0.883552</td>\n",
              "      <td>0.885536</td>\n",
              "      <td>0.001307</td>\n",
              "    </tr>\n",
              "    <tr>\n",
              "      <th>2</th>\n",
              "      <td>2.952472</td>\n",
              "      <td>0.028066</td>\n",
              "      <td>0.014282</td>\n",
              "      <td>0.000515</td>\n",
              "      <td>0.1</td>\n",
              "      <td>1</td>\n",
              "      <td>300</td>\n",
              "      <td>{'mdl__learning_rate': 0.1, 'mdl__max_depth': ...</td>\n",
              "      <td>0.888514</td>\n",
              "      <td>0.886824</td>\n",
              "      <td>...</td>\n",
              "      <td>0.889274</td>\n",
              "      <td>0.003911</td>\n",
              "      <td>22</td>\n",
              "      <td>0.894003</td>\n",
              "      <td>0.893687</td>\n",
              "      <td>0.894531</td>\n",
              "      <td>0.896326</td>\n",
              "      <td>0.891364</td>\n",
              "      <td>0.893982</td>\n",
              "      <td>0.001596</td>\n",
              "    </tr>\n",
              "    <tr>\n",
              "      <th>3</th>\n",
              "      <td>3.940095</td>\n",
              "      <td>0.024948</td>\n",
              "      <td>0.016847</td>\n",
              "      <td>0.001067</td>\n",
              "      <td>0.1</td>\n",
              "      <td>1</td>\n",
              "      <td>400</td>\n",
              "      <td>{'mdl__learning_rate': 0.1, 'mdl__max_depth': ...</td>\n",
              "      <td>0.891892</td>\n",
              "      <td>0.894003</td>\n",
              "      <td>...</td>\n",
              "      <td>0.893581</td>\n",
              "      <td>0.004282</td>\n",
              "      <td>21</td>\n",
              "      <td>0.900549</td>\n",
              "      <td>0.898649</td>\n",
              "      <td>0.900127</td>\n",
              "      <td>0.901394</td>\n",
              "      <td>0.896643</td>\n",
              "      <td>0.899472</td>\n",
              "      <td>0.001671</td>\n",
              "    </tr>\n",
              "    <tr>\n",
              "      <th>4</th>\n",
              "      <td>1.921052</td>\n",
              "      <td>0.223508</td>\n",
              "      <td>0.013108</td>\n",
              "      <td>0.002181</td>\n",
              "      <td>0.1</td>\n",
              "      <td>2</td>\n",
              "      <td>100</td>\n",
              "      <td>{'mdl__learning_rate': 0.1, 'mdl__max_depth': ...</td>\n",
              "      <td>0.898649</td>\n",
              "      <td>0.894848</td>\n",
              "      <td>...</td>\n",
              "      <td>0.898311</td>\n",
              "      <td>0.002979</td>\n",
              "      <td>20</td>\n",
              "      <td>0.909628</td>\n",
              "      <td>0.907095</td>\n",
              "      <td>0.908150</td>\n",
              "      <td>0.908889</td>\n",
              "      <td>0.906883</td>\n",
              "      <td>0.908129</td>\n",
              "      <td>0.001044</td>\n",
              "    </tr>\n",
              "  </tbody>\n",
              "</table>\n",
              "<p>5 rows × 23 columns</p>\n",
              "</div>\n",
              "      <button class=\"colab-df-convert\" onclick=\"convertToInteractive('df-86f4d7bc-c230-45e9-96cf-21a6e26628ef')\"\n",
              "              title=\"Convert this dataframe to an interactive table.\"\n",
              "              style=\"display:none;\">\n",
              "        \n",
              "  <svg xmlns=\"http://www.w3.org/2000/svg\" height=\"24px\"viewBox=\"0 0 24 24\"\n",
              "       width=\"24px\">\n",
              "    <path d=\"M0 0h24v24H0V0z\" fill=\"none\"/>\n",
              "    <path d=\"M18.56 5.44l.94 2.06.94-2.06 2.06-.94-2.06-.94-.94-2.06-.94 2.06-2.06.94zm-11 1L8.5 8.5l.94-2.06 2.06-.94-2.06-.94L8.5 2.5l-.94 2.06-2.06.94zm10 10l.94 2.06.94-2.06 2.06-.94-2.06-.94-.94-2.06-.94 2.06-2.06.94z\"/><path d=\"M17.41 7.96l-1.37-1.37c-.4-.4-.92-.59-1.43-.59-.52 0-1.04.2-1.43.59L10.3 9.45l-7.72 7.72c-.78.78-.78 2.05 0 2.83L4 21.41c.39.39.9.59 1.41.59.51 0 1.02-.2 1.41-.59l7.78-7.78 2.81-2.81c.8-.78.8-2.07 0-2.86zM5.41 20L4 18.59l7.72-7.72 1.47 1.35L5.41 20z\"/>\n",
              "  </svg>\n",
              "      </button>\n",
              "      \n",
              "  <style>\n",
              "    .colab-df-container {\n",
              "      display:flex;\n",
              "      flex-wrap:wrap;\n",
              "      gap: 12px;\n",
              "    }\n",
              "\n",
              "    .colab-df-convert {\n",
              "      background-color: #E8F0FE;\n",
              "      border: none;\n",
              "      border-radius: 50%;\n",
              "      cursor: pointer;\n",
              "      display: none;\n",
              "      fill: #1967D2;\n",
              "      height: 32px;\n",
              "      padding: 0 0 0 0;\n",
              "      width: 32px;\n",
              "    }\n",
              "\n",
              "    .colab-df-convert:hover {\n",
              "      background-color: #E2EBFA;\n",
              "      box-shadow: 0px 1px 2px rgba(60, 64, 67, 0.3), 0px 1px 3px 1px rgba(60, 64, 67, 0.15);\n",
              "      fill: #174EA6;\n",
              "    }\n",
              "\n",
              "    [theme=dark] .colab-df-convert {\n",
              "      background-color: #3B4455;\n",
              "      fill: #D2E3FC;\n",
              "    }\n",
              "\n",
              "    [theme=dark] .colab-df-convert:hover {\n",
              "      background-color: #434B5C;\n",
              "      box-shadow: 0px 1px 3px 1px rgba(0, 0, 0, 0.15);\n",
              "      filter: drop-shadow(0px 1px 2px rgba(0, 0, 0, 0.3));\n",
              "      fill: #FFFFFF;\n",
              "    }\n",
              "  </style>\n",
              "\n",
              "      <script>\n",
              "        const buttonEl =\n",
              "          document.querySelector('#df-86f4d7bc-c230-45e9-96cf-21a6e26628ef button.colab-df-convert');\n",
              "        buttonEl.style.display =\n",
              "          google.colab.kernel.accessAllowed ? 'block' : 'none';\n",
              "\n",
              "        async function convertToInteractive(key) {\n",
              "          const element = document.querySelector('#df-86f4d7bc-c230-45e9-96cf-21a6e26628ef');\n",
              "          const dataTable =\n",
              "            await google.colab.kernel.invokeFunction('convertToInteractive',\n",
              "                                                     [key], {});\n",
              "          if (!dataTable) return;\n",
              "\n",
              "          const docLinkHtml = 'Like what you see? Visit the ' +\n",
              "            '<a target=\"_blank\" href=https://colab.research.google.com/notebooks/data_table.ipynb>data table notebook</a>'\n",
              "            + ' to learn more about interactive tables.';\n",
              "          element.innerHTML = '';\n",
              "          dataTable['output_type'] = 'display_data';\n",
              "          await google.colab.output.renderOutput(dataTable, element);\n",
              "          const docLink = document.createElement('div');\n",
              "          docLink.innerHTML = docLinkHtml;\n",
              "          element.appendChild(docLink);\n",
              "        }\n",
              "      </script>\n",
              "    </div>\n",
              "  </div>\n",
              "  "
            ]
          },
          "metadata": {},
          "execution_count": 131
        }
      ],
      "source": [
        "pd.DataFrame(GB_grid_search.cv_results_).head()"
      ]
    },
    {
      "cell_type": "markdown",
      "metadata": {
        "id": "LLaIxBk9oB7c"
      },
      "source": [
        "### Final fit "
      ]
    },
    {
      "cell_type": "code",
      "execution_count": 132,
      "metadata": {
        "colab": {
          "base_uri": "https://localhost:8080/"
        },
        "id": "JGawXzzcn23W",
        "outputId": "e9239ce9-8a88-42bd-a5dc-251104211fde"
      },
      "outputs": [
        {
          "output_type": "execute_result",
          "data": {
            "text/plain": [
              "Pipeline(steps=[('preproc',\n",
              "                 ColumnTransformer(remainder='passthrough',\n",
              "                                   transformers=[('cat_pipe',\n",
              "                                                  Pipeline(steps=[('onehot_cat',\n",
              "                                                                   OneHotEncoder())]),\n",
              "                                                  <sklearn.compose._column_transformer.make_column_selector object at 0x7fbc89b71910>),\n",
              "                                                 ('num_pipe',\n",
              "                                                  Pipeline(steps=[('scale_num',\n",
              "                                                                   StandardScaler())]),\n",
              "                                                  <sklearn.compose._column_transformer.make_column_selector object at 0x7fbc892c9f50>)])),\n",
              "                ('mdl',\n",
              "                 GradientBoostingClassifier(n_estimators=300, random_state=0))])"
            ]
          },
          "metadata": {},
          "execution_count": 132
        }
      ],
      "source": [
        "GB_grid_search.best_estimator_"
      ]
    },
    {
      "cell_type": "markdown",
      "metadata": {
        "id": "PoutdWstoFRn"
      },
      "source": [
        "### Variable Importance "
      ]
    },
    {
      "cell_type": "code",
      "execution_count": 133,
      "metadata": {
        "colab": {
          "base_uri": "https://localhost:8080/"
        },
        "id": "3HEgA9lJdQgb",
        "outputId": "b14cec33-9884-44ae-f062-b6a89edea79c"
      },
      "outputs": [
        {
          "output_type": "execute_result",
          "data": {
            "text/plain": [
              "array([7.19958756e-02, 1.53451822e-02, 9.50507635e-04, 5.74350176e-03,\n",
              "       2.18842484e-02, 8.88050155e-05, 5.71222224e-05, 1.03589643e-05,\n",
              "       7.80980441e-06, 0.00000000e+00, 2.19259577e-03, 3.62280111e-04,\n",
              "       1.28779664e-03, 7.90777075e-04, 5.26763314e-06, 2.68895728e-03,\n",
              "       1.62767528e-01, 4.29393415e-03, 3.26862282e-01, 1.83266923e-01,\n",
              "       6.78802185e-02, 1.15019062e-01, 1.64989657e-02])"
            ]
          },
          "metadata": {},
          "execution_count": 133
        }
      ],
      "source": [
        "vip = GB_grid_search.best_estimator_['mdl'].feature_importances_\n",
        "vip"
      ]
    },
    {
      "cell_type": "code",
      "execution_count": 134,
      "metadata": {
        "colab": {
          "base_uri": "https://localhost:8080/",
          "height": 335
        },
        "id": "rHpv0xYidS7b",
        "outputId": "7047c255-e093-4ea0-c802-68a8f41489dd"
      },
      "outputs": [
        {
          "output_type": "display_data",
          "data": {
            "text/plain": [
              "<Figure size 432x360 with 1 Axes>"
            ],
            "image/png": "[encoded data removed]"
          },
          "metadata": {
            "needs_background": "light"
          }
        }
      ],
      "source": [
        "#get names in correct preproc order\n",
        "cat_names = GB_grid_search.best_estimator_.named_steps['preproc'].transformers_[0][1].named_steps['onehot_cat'].get_feature_names_out()\n",
        "num_names = GB_grid_search.best_estimator_.named_steps['preproc'].transformers_[1][2]\n",
        "\n",
        "#create df with vip info\n",
        "coef_info = pd.DataFrame({'feat_names':np.hstack([cat_names, num_names]), 'vip': vip})\n",
        "\n",
        "#get sign and magnitude information\n",
        "coef_info = coef_info.assign(coef_mag = abs(coef_info['vip']),\n",
        "                             coef_sign = np.sign(coef_info['vip']))\n",
        "\n",
        "#sort and plot\n",
        "coef_info = coef_info.set_index('feat_names').sort_values(by='coef_mag', ascending=False)\n",
        "sns.barplot(y=coef_info.index, x='coef_mag', hue='coef_sign', data=coef_info, orient='h', dodge=False);\n",
        "plt.rcParams[\"figure.figsize\"] = [10, 6]"
      ]
    },
    {
      "cell_type": "markdown",
      "metadata": {
        "id": "VftDTblMoId8"
      },
      "source": [
        "### Performance metrics"
      ]
    },
    {
      "cell_type": "code",
      "execution_count": 135,
      "metadata": {
        "colab": {
          "base_uri": "https://localhost:8080/"
        },
        "id": "vnzE7SmEO3kZ",
        "outputId": "a2984fa8-30ce-4171-e923-b5252cda0c2c"
      },
      "outputs": [
        {
          "output_type": "stream",
          "name": "stdout",
          "text": [
            "              precision    recall  f1-score   support\n",
            "\n",
            "           0       0.94      0.97      0.95      3282\n",
            "           1       0.82      0.68      0.74       665\n",
            "\n",
            "    accuracy                           0.92      3947\n",
            "   macro avg       0.88      0.82      0.85      3947\n",
            "weighted avg       0.92      0.92      0.92      3947\n",
            "\n"
          ]
        }
      ],
      "source": [
        "print(classification_report(y_test, GB_grid_search.best_estimator_.predict(X_test)))"
      ]
    },
    {
      "cell_type": "code",
      "execution_count": 138,
      "metadata": {
        "colab": {
          "base_uri": "https://localhost:8080/",
          "height": 332
        },
        "id": "kWYCtiVJdcyK",
        "outputId": "1143c60b-933f-4142-fb64-b317531505f9"
      },
      "outputs": [
        {
          "output_type": "display_data",
          "data": {
            "text/plain": [
              "<Figure size 432x360 with 2 Axes>"
            ],
            "image/png": "[encoded data removed]"
          },
          "metadata": {
            "needs_background": "light"
          }
        }
      ],
      "source": [
        "cm = confusion_matrix(y_test, GB_grid_search.best_estimator_.predict(X_test))\n",
        "disp = ConfusionMatrixDisplay(confusion_matrix=cm,\n",
        "                               display_labels=['Not a Credit Risk', 'Is a Credit Risk'])\n",
        "disp.plot()\n",
        "plt.rcParams[\"figure.figsize\"] = [6, 5]\n",
        "plt.show()"
      ]
    },
    {
      "cell_type": "markdown",
      "metadata": {
        "id": "qyuRtUl_j26C"
      },
      "source": [
        "> The Gradient Boosting model performs well on predicting those who are not a credit risk but, performed okay on predicting those who are a credit risk. This prompts adjustment or changing models"
      ]
    },
    {
      "cell_type": "markdown",
      "metadata": {
        "id": "m7K8UTX6O_8M"
      },
      "source": [
        "### ROC_curve"
      ]
    },
    {
      "cell_type": "code",
      "execution_count": 140,
      "metadata": {
        "colab": {
          "base_uri": "https://localhost:8080/",
          "height": 355
        },
        "id": "WQdcKmV1PBqj",
        "outputId": "76c43b38-c202-404f-99fe-9126714f9bc6"
      },
      "outputs": [
        {
          "output_type": "stream",
          "name": "stdout",
          "text": [
            "Best Threshold=0.196349 \n",
            "Net Gain=0.782\n"
          ]
        },
        {
          "output_type": "display_data",
          "data": {
            "text/plain": [
              "<Figure size 432x360 with 1 Axes>"
            ],
            "image/png": "[encoded data removed]"
          },
          "metadata": {
            "needs_background": "light"
          }
        }
      ],
      "source": [
        "y_pred = GB_grid_search.best_estimator_.predict_proba(X_test)\n",
        "y_pred = y_pred[:, 1]\n",
        "fpr, tpr, thresholds = roc_curve(y_test, y_pred)\n",
        "net_gain = tpr - fpr\n",
        "ix = np.argmax(net_gain)\n",
        "print('Best Threshold=%f \\nNet Gain=%.3f' % (thresholds[ix], net_gain[ix]))\n",
        "plt.scatter(fpr[ix], tpr[ix], marker='o', color='black', label='Best threshold')\n",
        "plt.plot([0,1], [0,1], linestyle='--', label='No Skill')\n",
        "plt.plot(fpr, tpr, marker='.', label='Gradiant Boosting', markersize= 0.5)\n",
        "\n",
        "plt.legend()\n",
        "\n",
        "plt.rcParams[\"figure.figsize\"] = [8, 5]\n",
        "plt.show()"
      ]
    },
    {
      "cell_type": "markdown",
      "metadata": {
        "id": "Q2B3hjChPB3m"
      },
      "source": [
        "### Precision_Recall_curve"
      ]
    },
    {
      "cell_type": "code",
      "execution_count": 142,
      "metadata": {
        "colab": {
          "base_uri": "https://localhost:8080/",
          "height": 355
        },
        "id": "3BODFXCgd0xF",
        "outputId": "5abed0a8-2780-475f-a378-73d2b4293894"
      },
      "outputs": [
        {
          "output_type": "stream",
          "name": "stdout",
          "text": [
            "Best Threshold=0.324421 \n",
            "f1 score=0.759\n"
          ]
        },
        {
          "output_type": "display_data",
          "data": {
            "text/plain": [
              "<Figure size 576x360 with 1 Axes>"
            ],
            "image/png": "[encoded data removed]"
          },
          "metadata": {
            "needs_background": "light"
          }
        }
      ],
      "source": [
        "precision, recall, thresholds = precision_recall_curve(y_test, y_pred)\n",
        "f1 = 2 * ((precision * recall) / (precision + recall))\n",
        "ix = np.argmax(f1)\n",
        "\n",
        "print('Best Threshold=%f \\nf1 score=%.3f' % (thresholds[ix], f1[ix]))\n",
        "\n",
        "plt.plot(recall, precision, marker='.', label='Gradient Boosting', markersize= 0.5)\n",
        "plt.scatter(recall[ix], precision[ix], marker='o', color='black', label='Best threshold')\n",
        "\n",
        "plt.legend()\n",
        "plt.show()"
      ]
    },
    {
      "cell_type": "markdown",
      "metadata": {
        "id": "qh17DVVccqxv"
      },
      "source": [
        "\n",
        "\n",
        "---\n",
        "\n",
        "\n",
        "## Model 2 - Decision Tree Classifier"
      ]
    },
    {
      "cell_type": "code",
      "source": [
        "#generate the whole modeling pipeline with preprocessing\n",
        "pipe = Pipeline(steps=[('preproc', preproc), ('mdl', DecisionTreeClassifier(random_state=0))]) \n",
        "\n",
        "#visualization for steps\n",
        "with config_context(display='diagram'):\n",
        "    display(pipe)"
      ],
      "metadata": {
        "colab": {
          "base_uri": "https://localhost:8080/",
          "height": 192
        },
        "id": "tBapCRv2wzPn",
        "outputId": "e83960c9-1469-4f74-d182-b4c3d5020435"
      },
      "execution_count": 169,
      "outputs": [
        {
          "output_type": "display_data",
          "data": {
            "text/plain": [
              "Pipeline(steps=[('preproc',\n",
              "                 ColumnTransformer(remainder='passthrough',\n",
              "                                   transformers=[('cat_pipe',\n",
              "                                                  Pipeline(steps=[('onehot_cat',\n",
              "                                                                   OneHotEncoder())]),\n",
              "                                                  <sklearn.compose._column_transformer.make_column_selector object at 0x7fbc86765590>),\n",
              "                                                 ('num_pipe',\n",
              "                                                  Pipeline(steps=[('scale_num',\n",
              "                                                                   StandardScaler())]),\n",
              "                                                  <sklearn.compose._column_transformer.make_column_selector object at 0x7fbc86765110>)])),\n",
              "                ('mdl', DecisionTreeClassifier(random_state=0))])"
            ],
            "text/html": [
              "<style>#sk-c0f08c13-f5f1-4d51-9d9f-ab58ef915d7a {color: black;background-color: white;}#sk-c0f08c13-f5f1-4d51-9d9f-ab58ef915d7a pre{padding: 0;}#sk-c0f08c13-f5f1-4d51-9d9f-ab58ef915d7a div.sk-toggleable {background-color: white;}#sk-c0f08c13-f5f1-4d51-9d9f-ab58ef915d7a label.sk-toggleable__label {cursor: pointer;display: block;width: 100%;margin-bottom: 0;padding: 0.3em;box-sizing: border-box;text-align: center;}#sk-c0f08c13-f5f1-4d51-9d9f-ab58ef915d7a label.sk-toggleable__label-arrow:before {content: \"▸\";float: left;margin-right: 0.25em;color: #696969;}#sk-c0f08c13-f5f1-4d51-9d9f-ab58ef915d7a label.sk-toggleable__label-arrow:hover:before {color: black;}#sk-c0f08c13-f5f1-4d51-9d9f-ab58ef915d7a div.sk-estimator:hover label.sk-toggleable__label-arrow:before {color: black;}#sk-c0f08c13-f5f1-4d51-9d9f-ab58ef915d7a div.sk-toggleable__content {max-height: 0;max-width: 0;overflow: hidden;text-align: left;background-color: #f0f8ff;}#sk-c0f08c13-f5f1-4d51-9d9f-ab58ef915d7a div.sk-toggleable__content pre {margin: 0.2em;color: black;border-radius: 0.25em;background-color: #f0f8ff;}#sk-c0f08c13-f5f1-4d51-9d9f-ab58ef915d7a input.sk-toggleable__control:checked~div.sk-toggleable__content {max-height: 200px;max-width: 100%;overflow: auto;}#sk-c0f08c13-f5f1-4d51-9d9f-ab58ef915d7a input.sk-toggleable__control:checked~label.sk-toggleable__label-arrow:before {content: \"▾\";}#sk-c0f08c13-f5f1-4d51-9d9f-ab58ef915d7a div.sk-estimator input.sk-toggleable__control:checked~label.sk-toggleable__label {background-color: #d4ebff;}#sk-c0f08c13-f5f1-4d51-9d9f-ab58ef915d7a div.sk-label input.sk-toggleable__control:checked~label.sk-toggleable__label {background-color: #d4ebff;}#sk-c0f08c13-f5f1-4d51-9d9f-ab58ef915d7a input.sk-hidden--visually {border: 0;clip: rect(1px 1px 1px 1px);clip: rect(1px, 1px, 1px, 1px);height: 1px;margin: -1px;overflow: hidden;padding: 0;position: absolute;width: 1px;}#sk-c0f08c13-f5f1-4d51-9d9f-ab58ef915d7a div.sk-estimator {font-family: monospace;background-color: #f0f8ff;border: 1px dotted black;border-radius: 0.25em;box-sizing: border-box;margin-bottom: 0.5em;}#sk-c0f08c13-f5f1-4d51-9d9f-ab58ef915d7a div.sk-estimator:hover {background-color: #d4ebff;}#sk-c0f08c13-f5f1-4d51-9d9f-ab58ef915d7a div.sk-parallel-item::after {content: \"\";width: 100%;border-bottom: 1px solid gray;flex-grow: 1;}#sk-c0f08c13-f5f1-4d51-9d9f-ab58ef915d7a div.sk-label:hover label.sk-toggleable__label {background-color: #d4ebff;}#sk-c0f08c13-f5f1-4d51-9d9f-ab58ef915d7a div.sk-serial::before {content: \"\";position: absolute;border-left: 1px solid gray;box-sizing: border-box;top: 2em;bottom: 0;left: 50%;}#sk-c0f08c13-f5f1-4d51-9d9f-ab58ef915d7a div.sk-serial {display: flex;flex-direction: column;align-items: center;background-color: white;padding-right: 0.2em;padding-left: 0.2em;}#sk-c0f08c13-f5f1-4d51-9d9f-ab58ef915d7a div.sk-item {z-index: 1;}#sk-c0f08c13-f5f1-4d51-9d9f-ab58ef915d7a div.sk-parallel {display: flex;align-items: stretch;justify-content: center;background-color: white;}#sk-c0f08c13-f5f1-4d51-9d9f-ab58ef915d7a div.sk-parallel::before {content: \"\";position: absolute;border-left: 1px solid gray;box-sizing: border-box;top: 2em;bottom: 0;left: 50%;}#sk-c0f08c13-f5f1-4d51-9d9f-ab58ef915d7a div.sk-parallel-item {display: flex;flex-direction: column;position: relative;background-color: white;}#sk-c0f08c13-f5f1-4d51-9d9f-ab58ef915d7a div.sk-parallel-item:first-child::after {align-self: flex-end;width: 50%;}#sk-c0f08c13-f5f1-4d51-9d9f-ab58ef915d7a div.sk-parallel-item:last-child::after {align-self: flex-start;width: 50%;}#sk-c0f08c13-f5f1-4d51-9d9f-ab58ef915d7a div.sk-parallel-item:only-child::after {width: 0;}#sk-c0f08c13-f5f1-4d51-9d9f-ab58ef915d7a div.sk-dashed-wrapped {border: 1px dashed gray;margin: 0 0.4em 0.5em 0.4em;box-sizing: border-box;padding-bottom: 0.4em;background-color: white;position: relative;}#sk-c0f08c13-f5f1-4d51-9d9f-ab58ef915d7a div.sk-label label {font-family: monospace;font-weight: bold;background-color: white;display: inline-block;line-height: 1.2em;}#sk-c0f08c13-f5f1-4d51-9d9f-ab58ef915d7a div.sk-label-container {position: relative;z-index: 2;text-align: center;}#sk-c0f08c13-f5f1-4d51-9d9f-ab58ef915d7a div.sk-container {/* jupyter's `normalize.less` sets `[hidden] { display: none; }` but bootstrap.min.css set `[hidden] { display: none !important; }` so we also need the `!important` here to be able to override the default hidden behavior on the sphinx rendered scikit-learn.org. See: https://github.com/scikit-learn/scikit-learn/issues/21755 */display: inline-block !important;position: relative;}#sk-c0f08c13-f5f1-4d51-9d9f-ab58ef915d7a div.sk-text-repr-fallback {display: none;}</style><div id=\"sk-c0f08c13-f5f1-4d51-9d9f-ab58ef915d7a\" class=\"sk-top-container\"><div class=\"sk-text-repr-fallback\"><pre>Pipeline(steps=[(&#x27;preproc&#x27;,\n",
              "                 ColumnTransformer(remainder=&#x27;passthrough&#x27;,\n",
              "                                   transformers=[(&#x27;cat_pipe&#x27;,\n",
              "                                                  Pipeline(steps=[(&#x27;onehot_cat&#x27;,\n",
              "                                                                   OneHotEncoder())]),\n",
              "                                                  &lt;sklearn.compose._column_transformer.make_column_selector object at 0x7fbc86765590&gt;),\n",
              "                                                 (&#x27;num_pipe&#x27;,\n",
              "                                                  Pipeline(steps=[(&#x27;scale_num&#x27;,\n",
              "                                                                   StandardScaler())]),\n",
              "                                                  &lt;sklearn.compose._column_transformer.make_column_selector object at 0x7fbc86765110&gt;)])),\n",
              "                (&#x27;mdl&#x27;, DecisionTreeClassifier(random_state=0))])</pre><b>Please rerun this cell to show the HTML repr or trust the notebook.</b></div><div class=\"sk-container\" hidden><div class=\"sk-item sk-dashed-wrapped\"><div class=\"sk-label-container\"><div class=\"sk-label sk-toggleable\"><input class=\"sk-toggleable__control sk-hidden--visually\" id=\"6a8413a5-89c7-434e-9767-cc76ffdc9c0d\" type=\"checkbox\" ><label for=\"6a8413a5-89c7-434e-9767-cc76ffdc9c0d\" class=\"sk-toggleable__label sk-toggleable__label-arrow\">Pipeline</label><div class=\"sk-toggleable__content\"><pre>Pipeline(steps=[(&#x27;preproc&#x27;,\n",
              "                 ColumnTransformer(remainder=&#x27;passthrough&#x27;,\n",
              "                                   transformers=[(&#x27;cat_pipe&#x27;,\n",
              "                                                  Pipeline(steps=[(&#x27;onehot_cat&#x27;,\n",
              "                                                                   OneHotEncoder())]),\n",
              "                                                  &lt;sklearn.compose._column_transformer.make_column_selector object at 0x7fbc86765590&gt;),\n",
              "                                                 (&#x27;num_pipe&#x27;,\n",
              "                                                  Pipeline(steps=[(&#x27;scale_num&#x27;,\n",
              "                                                                   StandardScaler())]),\n",
              "                                                  &lt;sklearn.compose._column_transformer.make_column_selector object at 0x7fbc86765110&gt;)])),\n",
              "                (&#x27;mdl&#x27;, DecisionTreeClassifier(random_state=0))])</pre></div></div></div><div class=\"sk-serial\"><div class=\"sk-item sk-dashed-wrapped\"><div class=\"sk-label-container\"><div class=\"sk-label sk-toggleable\"><input class=\"sk-toggleable__control sk-hidden--visually\" id=\"b67c6327-defe-4257-981c-97f42582d709\" type=\"checkbox\" ><label for=\"b67c6327-defe-4257-981c-97f42582d709\" class=\"sk-toggleable__label sk-toggleable__label-arrow\">preproc: ColumnTransformer</label><div class=\"sk-toggleable__content\"><pre>ColumnTransformer(remainder=&#x27;passthrough&#x27;,\n",
              "                  transformers=[(&#x27;cat_pipe&#x27;,\n",
              "                                 Pipeline(steps=[(&#x27;onehot_cat&#x27;,\n",
              "                                                  OneHotEncoder())]),\n",
              "                                 &lt;sklearn.compose._column_transformer.make_column_selector object at 0x7fbc86765590&gt;),\n",
              "                                (&#x27;num_pipe&#x27;,\n",
              "                                 Pipeline(steps=[(&#x27;scale_num&#x27;,\n",
              "                                                  StandardScaler())]),\n",
              "                                 &lt;sklearn.compose._column_transformer.make_column_selector object at 0x7fbc86765110&gt;)])</pre></div></div></div><div class=\"sk-parallel\"><div class=\"sk-parallel-item\"><div class=\"sk-item\"><div class=\"sk-label-container\"><div class=\"sk-label sk-toggleable\"><input class=\"sk-toggleable__control sk-hidden--visually\" id=\"e0f3cdc6-77b6-4f03-88f0-ab5803c81b59\" type=\"checkbox\" ><label for=\"e0f3cdc6-77b6-4f03-88f0-ab5803c81b59\" class=\"sk-toggleable__label sk-toggleable__label-arrow\">cat_pipe</label><div class=\"sk-toggleable__content\"><pre>&lt;sklearn.compose._column_transformer.make_column_selector object at 0x7fbc86765590&gt;</pre></div></div></div><div class=\"sk-serial\"><div class=\"sk-item\"><div class=\"sk-serial\"><div class=\"sk-item\"><div class=\"sk-estimator sk-toggleable\"><input class=\"sk-toggleable__control sk-hidden--visually\" id=\"9e9d84b6-619d-4a32-b0f1-b6939e5cb73d\" type=\"checkbox\" ><label for=\"9e9d84b6-619d-4a32-b0f1-b6939e5cb73d\" class=\"sk-toggleable__label sk-toggleable__label-arrow\">OneHotEncoder</label><div class=\"sk-toggleable__content\"><pre>OneHotEncoder()</pre></div></div></div></div></div></div></div></div><div class=\"sk-parallel-item\"><div class=\"sk-item\"><div class=\"sk-label-container\"><div class=\"sk-label sk-toggleable\"><input class=\"sk-toggleable__control sk-hidden--visually\" id=\"04758b2a-b669-4945-aaac-deb257ded6f7\" type=\"checkbox\" ><label for=\"04758b2a-b669-4945-aaac-deb257ded6f7\" class=\"sk-toggleable__label sk-toggleable__label-arrow\">num_pipe</label><div class=\"sk-toggleable__content\"><pre>&lt;sklearn.compose._column_transformer.make_column_selector object at 0x7fbc86765110&gt;</pre></div></div></div><div class=\"sk-serial\"><div class=\"sk-item\"><div class=\"sk-serial\"><div class=\"sk-item\"><div class=\"sk-estimator sk-toggleable\"><input class=\"sk-toggleable__control sk-hidden--visually\" id=\"cbda85e6-6843-48ba-8aec-a60228a7f4a4\" type=\"checkbox\" ><label for=\"cbda85e6-6843-48ba-8aec-a60228a7f4a4\" class=\"sk-toggleable__label sk-toggleable__label-arrow\">StandardScaler</label><div class=\"sk-toggleable__content\"><pre>StandardScaler()</pre></div></div></div></div></div></div></div></div><div class=\"sk-parallel-item\"><div class=\"sk-item\"><div class=\"sk-label-container\"><div class=\"sk-label sk-toggleable\"><input class=\"sk-toggleable__control sk-hidden--visually\" id=\"61244789-01ed-442a-b911-85d0cc933c78\" type=\"checkbox\" ><label for=\"61244789-01ed-442a-b911-85d0cc933c78\" class=\"sk-toggleable__label sk-toggleable__label-arrow\">remainder</label><div class=\"sk-toggleable__content\"><pre></pre></div></div></div><div class=\"sk-serial\"><div class=\"sk-item\"><div class=\"sk-estimator sk-toggleable\"><input class=\"sk-toggleable__control sk-hidden--visually\" id=\"d09ea95a-4c58-41c4-8092-3eded5ce3dbf\" type=\"checkbox\" ><label for=\"d09ea95a-4c58-41c4-8092-3eded5ce3dbf\" class=\"sk-toggleable__label sk-toggleable__label-arrow\">passthrough</label><div class=\"sk-toggleable__content\"><pre>passthrough</pre></div></div></div></div></div></div></div></div><div class=\"sk-item\"><div class=\"sk-estimator sk-toggleable\"><input class=\"sk-toggleable__control sk-hidden--visually\" id=\"8c838e1e-8ca9-471e-8df4-ca1b6ac47841\" type=\"checkbox\" ><label for=\"8c838e1e-8ca9-471e-8df4-ca1b6ac47841\" class=\"sk-toggleable__label sk-toggleable__label-arrow\">DecisionTreeClassifier</label><div class=\"sk-toggleable__content\"><pre>DecisionTreeClassifier(random_state=0)</pre></div></div></div></div></div></div></div>"
            ]
          },
          "metadata": {}
        }
      ]
    },
    {
      "cell_type": "markdown",
      "metadata": {
        "id": "u-RLC_QAc-W7"
      },
      "source": [
        "### Cross-validation with hyperparameter tuning"
      ]
    },
    {
      "cell_type": "code",
      "source": [
        "#hyperparameter tuning\n",
        "tuning_grid = {'mdl__min_samples_split' : [2,4,6], 'mdl__max_depth': [4,7,10,12],\n",
        "               \"mdl__criterion\": [\"gini\", \"entropy\"]}\n",
        "# GridSearchCV is used for cross-validation\n",
        "DT_grid_search = GridSearchCV(pipe, param_grid = tuning_grid, cv = 5, return_train_score=True)"
      ],
      "metadata": {
        "id": "iy6K6v4DxL1H"
      },
      "execution_count": 170,
      "outputs": []
    },
    {
      "cell_type": "code",
      "source": [
        "DT_grid_search.fit(X_train, y_train)"
      ],
      "metadata": {
        "colab": {
          "base_uri": "https://localhost:8080/"
        },
        "id": "Zf4TobDjxL8d",
        "outputId": "493e4700-cd8f-4a86-8cf8-e33d359c1ba7"
      },
      "execution_count": 171,
      "outputs": [
        {
          "output_type": "execute_result",
          "data": {
            "text/plain": [
              "GridSearchCV(cv=5,\n",
              "             estimator=Pipeline(steps=[('preproc',\n",
              "                                        ColumnTransformer(remainder='passthrough',\n",
              "                                                          transformers=[('cat_pipe',\n",
              "                                                                         Pipeline(steps=[('onehot_cat',\n",
              "                                                                                          OneHotEncoder())]),\n",
              "                                                                         <sklearn.compose._column_transformer.make_column_selector object at 0x7fbc86765590>),\n",
              "                                                                        ('num_pipe',\n",
              "                                                                         Pipeline(steps=[('scale_num',\n",
              "                                                                                          StandardScaler())]),\n",
              "                                                                         <sklearn.compose._column_transformer.make_column_selector object at 0x7fbc86765110>)])),\n",
              "                                       ('mdl',\n",
              "                                        DecisionTreeClassifier(random_state=0))]),\n",
              "             param_grid={'mdl__criterion': ['gini', 'entropy'],\n",
              "                         'mdl__max_depth': [4, 7, 10, 12],\n",
              "                         'mdl__min_samples_split': [2, 4, 6]},\n",
              "             return_train_score=True)"
            ]
          },
          "metadata": {},
          "execution_count": 171
        }
      ]
    },
    {
      "cell_type": "code",
      "source": [
        "print(DT_grid_search.best_score_)\n",
        "DT_grid_search.best_params_"
      ],
      "metadata": {
        "colab": {
          "base_uri": "https://localhost:8080/"
        },
        "id": "h-x1Ui39zrvl",
        "outputId": "ab5746b3-ac43-41b9-9d17-eac3cbdf150b"
      },
      "execution_count": 172,
      "outputs": [
        {
          "output_type": "stream",
          "name": "stdout",
          "text": [
            "0.8926520270270271\n"
          ]
        },
        {
          "output_type": "execute_result",
          "data": {
            "text/plain": [
              "{'mdl__criterion': 'entropy',\n",
              " 'mdl__max_depth': 10,\n",
              " 'mdl__min_samples_split': 4}"
            ]
          },
          "metadata": {},
          "execution_count": 172
        }
      ]
    },
    {
      "cell_type": "markdown",
      "metadata": {
        "id": "Cl426Ub6dKn9"
      },
      "source": [
        "### Final fit "
      ]
    },
    {
      "cell_type": "code",
      "source": [
        "DT_grid_search.best_estimator_"
      ],
      "metadata": {
        "colab": {
          "base_uri": "https://localhost:8080/"
        },
        "id": "3eBgkkTuxT8C",
        "outputId": "c0f354f7-99da-4607-bc30-7b59bb8fcc5f"
      },
      "execution_count": 173,
      "outputs": [
        {
          "output_type": "execute_result",
          "data": {
            "text/plain": [
              "Pipeline(steps=[('preproc',\n",
              "                 ColumnTransformer(remainder='passthrough',\n",
              "                                   transformers=[('cat_pipe',\n",
              "                                                  Pipeline(steps=[('onehot_cat',\n",
              "                                                                   OneHotEncoder())]),\n",
              "                                                  <sklearn.compose._column_transformer.make_column_selector object at 0x7fbc8629c290>),\n",
              "                                                 ('num_pipe',\n",
              "                                                  Pipeline(steps=[('scale_num',\n",
              "                                                                   StandardScaler())]),\n",
              "                                                  <sklearn.compose._column_transformer.make_column_selector object at 0x7fbc8629c810>)])),\n",
              "                ('mdl',\n",
              "                 DecisionTreeClassifier(criterion='entropy', max_depth=10,\n",
              "                                        min_samples_split=4, random_state=0))])"
            ]
          },
          "metadata": {},
          "execution_count": 173
        }
      ]
    },
    {
      "cell_type": "markdown",
      "metadata": {
        "id": "c5aJY1eaeCwG"
      },
      "source": [
        "### Variable Importance "
      ]
    },
    {
      "cell_type": "code",
      "source": [
        "vip = DT_grid_search.best_estimator_['mdl'].feature_importances_\n",
        "vip"
      ],
      "metadata": {
        "colab": {
          "base_uri": "https://localhost:8080/"
        },
        "id": "ZmWkbHOfxcla",
        "outputId": "cbfa444d-9a57-4bdc-fccb-32bbb7eae6ae"
      },
      "execution_count": 174,
      "outputs": [
        {
          "output_type": "execute_result",
          "data": {
            "text/plain": [
              "array([0.08725582, 0.01580463, 0.00341519, 0.00524274, 0.02692893,\n",
              "       0.00054537, 0.        , 0.00164046, 0.00194324, 0.        ,\n",
              "       0.00142178, 0.00069605, 0.00054848, 0.        , 0.        ,\n",
              "       0.00100266, 0.13797069, 0.01765929, 0.25731254, 0.19497047,\n",
              "       0.0930547 , 0.12653571, 0.02605124])"
            ]
          },
          "metadata": {},
          "execution_count": 174
        }
      ]
    },
    {
      "cell_type": "code",
      "source": [
        "#get names in correct preproc order\n",
        "cat_names = DT_grid_search.best_estimator_.named_steps['preproc'].transformers_[0][1].named_steps['onehot_cat'].get_feature_names_out()\n",
        "num_names = DT_grid_search.best_estimator_.named_steps['preproc'].transformers_[1][2]\n",
        "#create df with vip info\n",
        "coef_info = pd.DataFrame({'feat_names':np.hstack([cat_names, num_names]), 'vip': vip})\n",
        "#get sign and magnitude information\n",
        "coef_info = coef_info.assign(coef_mag = abs(coef_info['vip']),\n",
        "                             coef_sign = np.sign(coef_info['vip']))\n",
        "\n",
        "#sort and plot\n",
        "coef_info = coef_info.set_index('feat_names').sort_values(by='coef_mag', ascending=False)\n",
        "sns.barplot(y=coef_info.index, x='coef_mag', hue='coef_sign', data=coef_info, orient='h', dodge=False);\n",
        "plt.rcParams[\"figure.figsize\"] = [10, 6]"
      ],
      "metadata": {
        "colab": {
          "base_uri": "https://localhost:8080/",
          "height": 335
        },
        "id": "Epc2zHE6xcvv",
        "outputId": "4a68b6b8-68b7-48d2-dfd7-24f2d6b79c5d"
      },
      "execution_count": 175,
      "outputs": [
        {
          "output_type": "display_data",
          "data": {
            "text/plain": [
              "<Figure size 576x360 with 1 Axes>"
            ],
            "image/png": "[encoded data removed]"
          },
          "metadata": {
            "needs_background": "light"
          }
        }
      ]
    },
    {
      "cell_type": "markdown",
      "metadata": {
        "id": "MMGJiPwteHgQ"
      },
      "source": [
        "### Performance metrics"
      ]
    },
    {
      "cell_type": "code",
      "source": [
        "print(classification_report(y_test, DT_grid_search.best_estimator_.predict(X_test)))"
      ],
      "metadata": {
        "colab": {
          "base_uri": "https://localhost:8080/"
        },
        "id": "OKseMbUcxmBD",
        "outputId": "453f1705-b58b-4ddd-b1d1-58b419b82f3f"
      },
      "execution_count": 176,
      "outputs": [
        {
          "output_type": "stream",
          "name": "stdout",
          "text": [
            "              precision    recall  f1-score   support\n",
            "\n",
            "           0       0.92      0.96      0.94      3282\n",
            "           1       0.74      0.60      0.66       665\n",
            "\n",
            "    accuracy                           0.90      3947\n",
            "   macro avg       0.83      0.78      0.80      3947\n",
            "weighted avg       0.89      0.90      0.89      3947\n",
            "\n"
          ]
        }
      ]
    },
    {
      "cell_type": "code",
      "source": [
        "cm = confusion_matrix(y_test, DT_grid_search.best_estimator_.predict(X_test))\n",
        "disp = ConfusionMatrixDisplay(confusion_matrix=cm,\n",
        "                               display_labels=['Not a Credit Risk', 'Is a Credit Risk'])\n",
        "disp.plot()\n",
        "plt.rcParams[\"figure.figsize\"] = [6, 5]\n",
        "plt.show()"
      ],
      "metadata": {
        "colab": {
          "base_uri": "https://localhost:8080/",
          "height": 388
        },
        "id": "CagUND_axmF4",
        "outputId": "5f846e5b-c0e9-4516-c968-072d8b40a9bf"
      },
      "execution_count": 177,
      "outputs": [
        {
          "output_type": "display_data",
          "data": {
            "text/plain": [
              "<Figure size 720x432 with 2 Axes>"
            ],
            "image/png": "[encoded data removed]"
          },
          "metadata": {
            "needs_background": "light"
          }
        }
      ]
    },
    {
      "cell_type": "markdown",
      "metadata": {
        "id": "9__IoTvYeHqf"
      },
      "source": [
        "### ROC_curve"
      ]
    },
    {
      "cell_type": "code",
      "source": [
        "y_pred = DT_grid_search.best_estimator_.predict_proba(X_test)\n",
        "y_pred = y_pred[:, 1]\n",
        "fpr, tpr, thresholds = roc_curve(y_test, y_pred)\n",
        "net_gain = tpr - fpr\n",
        "ix = np.argmax(net_gain)\n",
        "print('Best Threshold=%f \\nNet Gain=%.3f' % (thresholds[ix], net_gain[ix]))\n",
        "plt.scatter(fpr[ix], tpr[ix], marker='o', color='black', label='Best threshold')\n",
        "plt.plot([0,1], [0,1], linestyle='--', label='No Skill')\n",
        "plt.plot(fpr, tpr, marker='.', label='Decision Tree Classifier', markersize= 0.5)\n",
        "\n",
        "plt.legend()\n",
        "\n",
        "plt.rcParams[\"figure.figsize\"] = [8, 5]\n",
        "plt.show()"
      ],
      "metadata": {
        "colab": {
          "base_uri": "https://localhost:8080/",
          "height": 355
        },
        "id": "Jt5A2ez5xvuz",
        "outputId": "16f2f4d1-abd3-4ba0-b533-93131f526d94"
      },
      "execution_count": 178,
      "outputs": [
        {
          "output_type": "stream",
          "name": "stdout",
          "text": [
            "Best Threshold=0.111111 \n",
            "Net Gain=0.712\n"
          ]
        },
        {
          "output_type": "display_data",
          "data": {
            "text/plain": [
              "<Figure size 432x360 with 1 Axes>"
            ],
            "image/png": "[encoded data removed]"
          },
          "metadata": {
            "needs_background": "light"
          }
        }
      ]
    },
    {
      "cell_type": "markdown",
      "metadata": {
        "id": "wqF-WlT6eHzE"
      },
      "source": [
        "### Precision_Recall_curve"
      ]
    },
    {
      "cell_type": "code",
      "source": [
        "precision, recall, thresholds = precision_recall_curve(y_test, y_pred)\n",
        "f1 = 2 * ((precision * recall) / (precision + recall))\n",
        "ix = np.argmax(f1)\n",
        "\n",
        "print('Best Threshold=%f \\nf1 score=%.3f' % (thresholds[ix], f1[ix]))\n",
        "\n",
        "plt.plot(recall, precision, marker='.', label='Decision Tree Classifier', markersize= 0.5)\n",
        "plt.scatter(recall[ix], precision[ix], marker='o', color='black', label='Best threshold')\n",
        "\n",
        "plt.legend()\n",
        "plt.show()"
      ],
      "metadata": {
        "colab": {
          "base_uri": "https://localhost:8080/",
          "height": 355
        },
        "id": "BJ5ZST-Gxwmn",
        "outputId": "90fbb04c-28fa-4d99-ed59-52eb269de05b"
      },
      "execution_count": 179,
      "outputs": [
        {
          "output_type": "stream",
          "name": "stdout",
          "text": [
            "Best Threshold=0.342105 \n",
            "f1 score=0.699\n"
          ]
        },
        {
          "output_type": "display_data",
          "data": {
            "text/plain": [
              "<Figure size 576x360 with 1 Axes>"
            ],
            "image/png": "[encoded data removed]"
          },
          "metadata": {
            "needs_background": "light"
          }
        }
      ]
    },
    {
      "cell_type": "markdown",
      "metadata": {
        "id": "GprX8FGzc0A8"
      },
      "source": [
        "\n",
        "\n",
        "---\n",
        "\n",
        "\n",
        "## Model 3 - Gaussian Naive Bayes"
      ]
    },
    {
      "cell_type": "code",
      "source": [
        "#generate the whole modeling pipeline with preprocessing\n",
        "pipe = Pipeline(steps=[('preproc', preproc),\n",
        "                       ('mdl', GaussianNB())])\n",
        "\n",
        "#visualization for steps\n",
        "with config_context(display='diagram'):\n",
        "    display(pipe)"
      ],
      "metadata": {
        "colab": {
          "base_uri": "https://localhost:8080/",
          "height": 192
        },
        "id": "Cda2I_EEw04h",
        "outputId": "ac491a87-47df-42f8-cf3b-7f9b7b0aa686"
      },
      "execution_count": 180,
      "outputs": [
        {
          "output_type": "display_data",
          "data": {
            "text/plain": [
              "Pipeline(steps=[('preproc',\n",
              "                 ColumnTransformer(remainder='passthrough',\n",
              "                                   transformers=[('cat_pipe',\n",
              "                                                  Pipeline(steps=[('onehot_cat',\n",
              "                                                                   OneHotEncoder())]),\n",
              "                                                  <sklearn.compose._column_transformer.make_column_selector object at 0x7fbc86765590>),\n",
              "                                                 ('num_pipe',\n",
              "                                                  Pipeline(steps=[('scale_num',\n",
              "                                                                   StandardScaler())]),\n",
              "                                                  <sklearn.compose._column_transformer.make_column_selector object at 0x7fbc86765110>)])),\n",
              "                ('mdl', GaussianNB())])"
            ],
            "text/html": [
              "<style>#sk-f393c39f-0dea-44e8-9a69-b3f48706a5b9 {color: black;background-color: white;}#sk-f393c39f-0dea-44e8-9a69-b3f48706a5b9 pre{padding: 0;}#sk-f393c39f-0dea-44e8-9a69-b3f48706a5b9 div.sk-toggleable {background-color: white;}#sk-f393c39f-0dea-44e8-9a69-b3f48706a5b9 label.sk-toggleable__label {cursor: pointer;display: block;width: 100%;margin-bottom: 0;padding: 0.3em;box-sizing: border-box;text-align: center;}#sk-f393c39f-0dea-44e8-9a69-b3f48706a5b9 label.sk-toggleable__label-arrow:before {content: \"▸\";float: left;margin-right: 0.25em;color: #696969;}#sk-f393c39f-0dea-44e8-9a69-b3f48706a5b9 label.sk-toggleable__label-arrow:hover:before {color: black;}#sk-f393c39f-0dea-44e8-9a69-b3f48706a5b9 div.sk-estimator:hover label.sk-toggleable__label-arrow:before {color: black;}#sk-f393c39f-0dea-44e8-9a69-b3f48706a5b9 div.sk-toggleable__content {max-height: 0;max-width: 0;overflow: hidden;text-align: left;background-color: #f0f8ff;}#sk-f393c39f-0dea-44e8-9a69-b3f48706a5b9 div.sk-toggleable__content pre {margin: 0.2em;color: black;border-radius: 0.25em;background-color: #f0f8ff;}#sk-f393c39f-0dea-44e8-9a69-b3f48706a5b9 input.sk-toggleable__control:checked~div.sk-toggleable__content {max-height: 200px;max-width: 100%;overflow: auto;}#sk-f393c39f-0dea-44e8-9a69-b3f48706a5b9 input.sk-toggleable__control:checked~label.sk-toggleable__label-arrow:before {content: \"▾\";}#sk-f393c39f-0dea-44e8-9a69-b3f48706a5b9 div.sk-estimator input.sk-toggleable__control:checked~label.sk-toggleable__label {background-color: #d4ebff;}#sk-f393c39f-0dea-44e8-9a69-b3f48706a5b9 div.sk-label input.sk-toggleable__control:checked~label.sk-toggleable__label {background-color: #d4ebff;}#sk-f393c39f-0dea-44e8-9a69-b3f48706a5b9 input.sk-hidden--visually {border: 0;clip: rect(1px 1px 1px 1px);clip: rect(1px, 1px, 1px, 1px);height: 1px;margin: -1px;overflow: hidden;padding: 0;position: absolute;width: 1px;}#sk-f393c39f-0dea-44e8-9a69-b3f48706a5b9 div.sk-estimator {font-family: monospace;background-color: #f0f8ff;border: 1px dotted black;border-radius: 0.25em;box-sizing: border-box;margin-bottom: 0.5em;}#sk-f393c39f-0dea-44e8-9a69-b3f48706a5b9 div.sk-estimator:hover {background-color: #d4ebff;}#sk-f393c39f-0dea-44e8-9a69-b3f48706a5b9 div.sk-parallel-item::after {content: \"\";width: 100%;border-bottom: 1px solid gray;flex-grow: 1;}#sk-f393c39f-0dea-44e8-9a69-b3f48706a5b9 div.sk-label:hover label.sk-toggleable__label {background-color: #d4ebff;}#sk-f393c39f-0dea-44e8-9a69-b3f48706a5b9 div.sk-serial::before {content: \"\";position: absolute;border-left: 1px solid gray;box-sizing: border-box;top: 2em;bottom: 0;left: 50%;}#sk-f393c39f-0dea-44e8-9a69-b3f48706a5b9 div.sk-serial {display: flex;flex-direction: column;align-items: center;background-color: white;padding-right: 0.2em;padding-left: 0.2em;}#sk-f393c39f-0dea-44e8-9a69-b3f48706a5b9 div.sk-item {z-index: 1;}#sk-f393c39f-0dea-44e8-9a69-b3f48706a5b9 div.sk-parallel {display: flex;align-items: stretch;justify-content: center;background-color: white;}#sk-f393c39f-0dea-44e8-9a69-b3f48706a5b9 div.sk-parallel::before {content: \"\";position: absolute;border-left: 1px solid gray;box-sizing: border-box;top: 2em;bottom: 0;left: 50%;}#sk-f393c39f-0dea-44e8-9a69-b3f48706a5b9 div.sk-parallel-item {display: flex;flex-direction: column;position: relative;background-color: white;}#sk-f393c39f-0dea-44e8-9a69-b3f48706a5b9 div.sk-parallel-item:first-child::after {align-self: flex-end;width: 50%;}#sk-f393c39f-0dea-44e8-9a69-b3f48706a5b9 div.sk-parallel-item:last-child::after {align-self: flex-start;width: 50%;}#sk-f393c39f-0dea-44e8-9a69-b3f48706a5b9 div.sk-parallel-item:only-child::after {width: 0;}#sk-f393c39f-0dea-44e8-9a69-b3f48706a5b9 div.sk-dashed-wrapped {border: 1px dashed gray;margin: 0 0.4em 0.5em 0.4em;box-sizing: border-box;padding-bottom: 0.4em;background-color: white;position: relative;}#sk-f393c39f-0dea-44e8-9a69-b3f48706a5b9 div.sk-label label {font-family: monospace;font-weight: bold;background-color: white;display: inline-block;line-height: 1.2em;}#sk-f393c39f-0dea-44e8-9a69-b3f48706a5b9 div.sk-label-container {position: relative;z-index: 2;text-align: center;}#sk-f393c39f-0dea-44e8-9a69-b3f48706a5b9 div.sk-container {/* jupyter's `normalize.less` sets `[hidden] { display: none; }` but bootstrap.min.css set `[hidden] { display: none !important; }` so we also need the `!important` here to be able to override the default hidden behavior on the sphinx rendered scikit-learn.org. See: https://github.com/scikit-learn/scikit-learn/issues/21755 */display: inline-block !important;position: relative;}#sk-f393c39f-0dea-44e8-9a69-b3f48706a5b9 div.sk-text-repr-fallback {display: none;}</style><div id=\"sk-f393c39f-0dea-44e8-9a69-b3f48706a5b9\" class=\"sk-top-container\"><div class=\"sk-text-repr-fallback\"><pre>Pipeline(steps=[(&#x27;preproc&#x27;,\n",
              "                 ColumnTransformer(remainder=&#x27;passthrough&#x27;,\n",
              "                                   transformers=[(&#x27;cat_pipe&#x27;,\n",
              "                                                  Pipeline(steps=[(&#x27;onehot_cat&#x27;,\n",
              "                                                                   OneHotEncoder())]),\n",
              "                                                  &lt;sklearn.compose._column_transformer.make_column_selector object at 0x7fbc86765590&gt;),\n",
              "                                                 (&#x27;num_pipe&#x27;,\n",
              "                                                  Pipeline(steps=[(&#x27;scale_num&#x27;,\n",
              "                                                                   StandardScaler())]),\n",
              "                                                  &lt;sklearn.compose._column_transformer.make_column_selector object at 0x7fbc86765110&gt;)])),\n",
              "                (&#x27;mdl&#x27;, GaussianNB())])</pre><b>Please rerun this cell to show the HTML repr or trust the notebook.</b></div><div class=\"sk-container\" hidden><div class=\"sk-item sk-dashed-wrapped\"><div class=\"sk-label-container\"><div class=\"sk-label sk-toggleable\"><input class=\"sk-toggleable__control sk-hidden--visually\" id=\"50dd8728-a1ba-49e4-9636-f7de8b800b9a\" type=\"checkbox\" ><label for=\"50dd8728-a1ba-49e4-9636-f7de8b800b9a\" class=\"sk-toggleable__label sk-toggleable__label-arrow\">Pipeline</label><div class=\"sk-toggleable__content\"><pre>Pipeline(steps=[(&#x27;preproc&#x27;,\n",
              "                 ColumnTransformer(remainder=&#x27;passthrough&#x27;,\n",
              "                                   transformers=[(&#x27;cat_pipe&#x27;,\n",
              "                                                  Pipeline(steps=[(&#x27;onehot_cat&#x27;,\n",
              "                                                                   OneHotEncoder())]),\n",
              "                                                  &lt;sklearn.compose._column_transformer.make_column_selector object at 0x7fbc86765590&gt;),\n",
              "                                                 (&#x27;num_pipe&#x27;,\n",
              "                                                  Pipeline(steps=[(&#x27;scale_num&#x27;,\n",
              "                                                                   StandardScaler())]),\n",
              "                                                  &lt;sklearn.compose._column_transformer.make_column_selector object at 0x7fbc86765110&gt;)])),\n",
              "                (&#x27;mdl&#x27;, GaussianNB())])</pre></div></div></div><div class=\"sk-serial\"><div class=\"sk-item sk-dashed-wrapped\"><div class=\"sk-label-container\"><div class=\"sk-label sk-toggleable\"><input class=\"sk-toggleable__control sk-hidden--visually\" id=\"423cb640-e690-4c11-8a00-d945430fc603\" type=\"checkbox\" ><label for=\"423cb640-e690-4c11-8a00-d945430fc603\" class=\"sk-toggleable__label sk-toggleable__label-arrow\">preproc: ColumnTransformer</label><div class=\"sk-toggleable__content\"><pre>ColumnTransformer(remainder=&#x27;passthrough&#x27;,\n",
              "                  transformers=[(&#x27;cat_pipe&#x27;,\n",
              "                                 Pipeline(steps=[(&#x27;onehot_cat&#x27;,\n",
              "                                                  OneHotEncoder())]),\n",
              "                                 &lt;sklearn.compose._column_transformer.make_column_selector object at 0x7fbc86765590&gt;),\n",
              "                                (&#x27;num_pipe&#x27;,\n",
              "                                 Pipeline(steps=[(&#x27;scale_num&#x27;,\n",
              "                                                  StandardScaler())]),\n",
              "                                 &lt;sklearn.compose._column_transformer.make_column_selector object at 0x7fbc86765110&gt;)])</pre></div></div></div><div class=\"sk-parallel\"><div class=\"sk-parallel-item\"><div class=\"sk-item\"><div class=\"sk-label-container\"><div class=\"sk-label sk-toggleable\"><input class=\"sk-toggleable__control sk-hidden--visually\" id=\"2f2c02a3-bfaf-4307-8cff-053b4856dc6a\" type=\"checkbox\" ><label for=\"2f2c02a3-bfaf-4307-8cff-053b4856dc6a\" class=\"sk-toggleable__label sk-toggleable__label-arrow\">cat_pipe</label><div class=\"sk-toggleable__content\"><pre>&lt;sklearn.compose._column_transformer.make_column_selector object at 0x7fbc86765590&gt;</pre></div></div></div><div class=\"sk-serial\"><div class=\"sk-item\"><div class=\"sk-serial\"><div class=\"sk-item\"><div class=\"sk-estimator sk-toggleable\"><input class=\"sk-toggleable__control sk-hidden--visually\" id=\"c9c85054-1104-4fc1-893e-d7296068dac9\" type=\"checkbox\" ><label for=\"c9c85054-1104-4fc1-893e-d7296068dac9\" class=\"sk-toggleable__label sk-toggleable__label-arrow\">OneHotEncoder</label><div class=\"sk-toggleable__content\"><pre>OneHotEncoder()</pre></div></div></div></div></div></div></div></div><div class=\"sk-parallel-item\"><div class=\"sk-item\"><div class=\"sk-label-container\"><div class=\"sk-label sk-toggleable\"><input class=\"sk-toggleable__control sk-hidden--visually\" id=\"e2c69467-4ae4-4c8e-9e6a-99ae5d5bde52\" type=\"checkbox\" ><label for=\"e2c69467-4ae4-4c8e-9e6a-99ae5d5bde52\" class=\"sk-toggleable__label sk-toggleable__label-arrow\">num_pipe</label><div class=\"sk-toggleable__content\"><pre>&lt;sklearn.compose._column_transformer.make_column_selector object at 0x7fbc86765110&gt;</pre></div></div></div><div class=\"sk-serial\"><div class=\"sk-item\"><div class=\"sk-serial\"><div class=\"sk-item\"><div class=\"sk-estimator sk-toggleable\"><input class=\"sk-toggleable__control sk-hidden--visually\" id=\"9ddecf89-977f-4057-a6a8-78145f8e4c75\" type=\"checkbox\" ><label for=\"9ddecf89-977f-4057-a6a8-78145f8e4c75\" class=\"sk-toggleable__label sk-toggleable__label-arrow\">StandardScaler</label><div class=\"sk-toggleable__content\"><pre>StandardScaler()</pre></div></div></div></div></div></div></div></div><div class=\"sk-parallel-item\"><div class=\"sk-item\"><div class=\"sk-label-container\"><div class=\"sk-label sk-toggleable\"><input class=\"sk-toggleable__control sk-hidden--visually\" id=\"56ada109-2cee-4a2f-8b11-c21bdccb6037\" type=\"checkbox\" ><label for=\"56ada109-2cee-4a2f-8b11-c21bdccb6037\" class=\"sk-toggleable__label sk-toggleable__label-arrow\">remainder</label><div class=\"sk-toggleable__content\"><pre></pre></div></div></div><div class=\"sk-serial\"><div class=\"sk-item\"><div class=\"sk-estimator sk-toggleable\"><input class=\"sk-toggleable__control sk-hidden--visually\" id=\"c322a412-7b4b-459c-9b3f-f1909c431fd9\" type=\"checkbox\" ><label for=\"c322a412-7b4b-459c-9b3f-f1909c431fd9\" class=\"sk-toggleable__label sk-toggleable__label-arrow\">passthrough</label><div class=\"sk-toggleable__content\"><pre>passthrough</pre></div></div></div></div></div></div></div></div><div class=\"sk-item\"><div class=\"sk-estimator sk-toggleable\"><input class=\"sk-toggleable__control sk-hidden--visually\" id=\"24a52ab1-1b19-4ad6-aad8-9d96a50b2cad\" type=\"checkbox\" ><label for=\"24a52ab1-1b19-4ad6-aad8-9d96a50b2cad\" class=\"sk-toggleable__label sk-toggleable__label-arrow\">GaussianNB</label><div class=\"sk-toggleable__content\"><pre>GaussianNB()</pre></div></div></div></div></div></div></div>"
            ]
          },
          "metadata": {}
        }
      ]
    },
    {
      "cell_type": "markdown",
      "metadata": {
        "id": "brwchltec_iv"
      },
      "source": [
        "### Cross-validation with hyperparameter tuning"
      ]
    },
    {
      "cell_type": "code",
      "source": [
        "#hyperparameter tuning\n",
        "tuning_grid = {'mdl__var_smoothing' : np.logspace(0,-9, num=100)}\n",
        "# GridSearchCV is used for cross-validation\n",
        "NB_grid_search = GridSearchCV(pipe, param_grid = tuning_grid, cv = 5, return_train_score=True)\n"
      ],
      "metadata": {
        "id": "oNfD8eGYxNKl"
      },
      "execution_count": 181,
      "outputs": []
    },
    {
      "cell_type": "code",
      "source": [
        "NB_grid_search.fit(X_train, y_train)"
      ],
      "metadata": {
        "colab": {
          "base_uri": "https://localhost:8080/"
        },
        "id": "3weo10-sxNR5",
        "outputId": "757e75df-51a7-4119-e9c5-2ecf9cad48e1"
      },
      "execution_count": 182,
      "outputs": [
        {
          "output_type": "execute_result",
          "data": {
            "text/plain": [
              "GridSearchCV(cv=5,\n",
              "             estimator=Pipeline(steps=[('preproc',\n",
              "                                        ColumnTransformer(remainder='passthrough',\n",
              "                                                          transformers=[('cat_pipe',\n",
              "                                                                         Pipeline(steps=[('onehot_cat',\n",
              "                                                                                          OneHotEncoder())]),\n",
              "                                                                         <sklearn.compose._column_transformer.make_column_selector object at 0x7fbc86765590>),\n",
              "                                                                        ('num_pipe',\n",
              "                                                                         Pipeline(steps=[('scale_num',\n",
              "                                                                                          StandardScaler())]),\n",
              "                                                                         <sklearn.compose._column_transforme...\n",
              "       1.23284674e-07, 1.00000000e-07, 8.11130831e-08, 6.57933225e-08,\n",
              "       5.33669923e-08, 4.32876128e-08, 3.51119173e-08, 2.84803587e-08,\n",
              "       2.31012970e-08, 1.87381742e-08, 1.51991108e-08, 1.23284674e-08,\n",
              "       1.00000000e-08, 8.11130831e-09, 6.57933225e-09, 5.33669923e-09,\n",
              "       4.32876128e-09, 3.51119173e-09, 2.84803587e-09, 2.31012970e-09,\n",
              "       1.87381742e-09, 1.51991108e-09, 1.23284674e-09, 1.00000000e-09])},\n",
              "             return_train_score=True)"
            ]
          },
          "metadata": {},
          "execution_count": 182
        }
      ]
    },
    {
      "cell_type": "code",
      "source": [
        "print(NB_grid_search.best_score_)\n",
        "NB_grid_search.best_params_"
      ],
      "metadata": {
        "id": "u5JZfQvqzuKr",
        "colab": {
          "base_uri": "https://localhost:8080/"
        },
        "outputId": "16a70196-af27-4656-ae36-d44141794149"
      },
      "execution_count": 183,
      "outputs": [
        {
          "output_type": "stream",
          "name": "stdout",
          "text": [
            "0.8527871621621621\n"
          ]
        },
        {
          "output_type": "execute_result",
          "data": {
            "text/plain": [
              "{'mdl__var_smoothing': 0.012328467394420659}"
            ]
          },
          "metadata": {},
          "execution_count": 183
        }
      ]
    },
    {
      "cell_type": "markdown",
      "metadata": {
        "id": "oTLrwcoIdIPE"
      },
      "source": [
        "### Final fit "
      ]
    },
    {
      "cell_type": "code",
      "source": [
        "NB_grid_search.best_estimator_"
      ],
      "metadata": {
        "id": "pYNhc-mExU_n",
        "colab": {
          "base_uri": "https://localhost:8080/"
        },
        "outputId": "f17ad24f-d28c-4ed8-b426-83a5fc3639ad"
      },
      "execution_count": 184,
      "outputs": [
        {
          "output_type": "execute_result",
          "data": {
            "text/plain": [
              "Pipeline(steps=[('preproc',\n",
              "                 ColumnTransformer(remainder='passthrough',\n",
              "                                   transformers=[('cat_pipe',\n",
              "                                                  Pipeline(steps=[('onehot_cat',\n",
              "                                                                   OneHotEncoder())]),\n",
              "                                                  <sklearn.compose._column_transformer.make_column_selector object at 0x7fbc862393d0>),\n",
              "                                                 ('num_pipe',\n",
              "                                                  Pipeline(steps=[('scale_num',\n",
              "                                                                   StandardScaler())]),\n",
              "                                                  <sklearn.compose._column_transformer.make_column_selector object at 0x7fbc86239910>)])),\n",
              "                ('mdl', GaussianNB(var_smoothing=0.012328467394420659))])"
            ]
          },
          "metadata": {},
          "execution_count": 184
        }
      ]
    },
    {
      "cell_type": "markdown",
      "metadata": {
        "id": "6y88N_fjeEK9"
      },
      "source": [
        "### Variable Importance "
      ]
    },
    {
      "cell_type": "code",
      "source": [
        "vip = permutation_importance(NB_grid_search.best_estimator_, X_test, y_test)\n",
        "vip.importances_mean"
      ],
      "metadata": {
        "id": "xxwe-VYwxgjQ",
        "colab": {
          "base_uri": "https://localhost:8080/"
        },
        "outputId": "ecd90246-5d46-4f96-addd-92efd1b3097f"
      },
      "execution_count": 185,
      "outputs": [
        {
          "output_type": "execute_result",
          "data": {
            "text/plain": [
              "array([ 0.00841145,  0.00694198, -0.00015201,  0.04418546,  0.00040537,\n",
              "        0.01388396,  0.00157081, -0.00086141,  0.00304028,  0.00369901])"
            ]
          },
          "metadata": {},
          "execution_count": 185
        }
      ]
    },
    {
      "cell_type": "code",
      "source": [
        "#sort and plot\n",
        "fig, ax = plt.subplots()\n",
        "sorted_vip_idx = abs(vip.importances_mean).argsort()\n",
        "plt.barh(range(len(sorted_vip_idx)), abs(vip['importances_mean'][sorted_vip_idx]))\n",
        "\n",
        "ax.set_yticks(range(len(sorted_vip_idx)))\n",
        "ax.set_yticklabels(X_train.columns[sorted_vip_idx])\n",
        "plt.rcParams[\"figure.figsize\"] = [10, 6]"
      ],
      "metadata": {
        "id": "0iiAjetpxgtl",
        "colab": {
          "base_uri": "https://localhost:8080/",
          "height": 320
        },
        "outputId": "11aaa286-d52f-4f08-be7d-e60fc4d6f08c"
      },
      "execution_count": 186,
      "outputs": [
        {
          "output_type": "display_data",
          "data": {
            "text/plain": [
              "<Figure size 576x360 with 1 Axes>"
            ],
            "image/png": "[encoded data removed]"
          },
          "metadata": {
            "needs_background": "light"
          }
        }
      ]
    },
    {
      "cell_type": "markdown",
      "metadata": {
        "id": "X4zaUbaFeF9C"
      },
      "source": [
        "### Performance metrics"
      ]
    },
    {
      "cell_type": "code",
      "source": [
        "print(classification_report(y_test, NB_grid_search.best_estimator_.predict(X_test)))"
      ],
      "metadata": {
        "id": "tKuRbmkRxnJd",
        "colab": {
          "base_uri": "https://localhost:8080/"
        },
        "outputId": "62d2f9e3-7a86-43f9-9849-5af08833578b"
      },
      "execution_count": 187,
      "outputs": [
        {
          "output_type": "stream",
          "name": "stdout",
          "text": [
            "              precision    recall  f1-score   support\n",
            "\n",
            "           0       0.86      0.97      0.92      3282\n",
            "           1       0.66      0.24      0.36       665\n",
            "\n",
            "    accuracy                           0.85      3947\n",
            "   macro avg       0.76      0.61      0.64      3947\n",
            "weighted avg       0.83      0.85      0.82      3947\n",
            "\n"
          ]
        }
      ]
    },
    {
      "cell_type": "code",
      "source": [
        "cm = confusion_matrix(y_test, NB_grid_search.best_estimator_.predict(X_test))\n",
        "disp = ConfusionMatrixDisplay(confusion_matrix=cm,\n",
        "                               display_labels=['Not a Credit Risk', 'Is a Credit Risk'])\n",
        "disp.plot()\n",
        "plt.rcParams[\"figure.figsize\"] = [6, 5]\n",
        "plt.show()"
      ],
      "metadata": {
        "id": "uqdl58qgxnMD",
        "colab": {
          "base_uri": "https://localhost:8080/",
          "height": 388
        },
        "outputId": "3087df3d-e824-4845-9459-0c46d88f70f1"
      },
      "execution_count": 188,
      "outputs": [
        {
          "output_type": "display_data",
          "data": {
            "text/plain": [
              "<Figure size 720x432 with 2 Axes>"
            ],
            "image/png": "[encoded data removed]"
          },
          "metadata": {
            "needs_background": "light"
          }
        }
      ]
    },
    {
      "cell_type": "markdown",
      "metadata": {
        "id": "5RMb3Q9yeGEB"
      },
      "source": [
        "### ROC_curve"
      ]
    },
    {
      "cell_type": "code",
      "source": [
        "y_pred = NB_grid_search.best_estimator_.predict_proba(X_test)\n",
        "y_pred = y_pred[:, 1]\n",
        "fpr, tpr, thresholds = roc_curve(y_test, y_pred)\n",
        "net_gain = tpr - fpr\n",
        "ix = np.argmax(net_gain)\n",
        "print('Best Threshold=%f \\nNet Gain=%.3f' % (thresholds[ix], net_gain[ix]))\n",
        "plt.scatter(fpr[ix], tpr[ix], marker='o', color='black', label='Best threshold')\n",
        "plt.plot([0,1], [0,1], linestyle='--', label='No Skill')\n",
        "plt.plot(fpr, tpr, marker='.', label='Gaussian Naive Bayes', markersize= 0.5)\n",
        "\n",
        "plt.legend()\n",
        "\n",
        "plt.rcParams[\"figure.figsize\"] = [8, 5]\n",
        "plt.show()"
      ],
      "metadata": {
        "id": "hta-6-4ExxmP",
        "colab": {
          "base_uri": "https://localhost:8080/",
          "height": 355
        },
        "outputId": "2ece7fd2-c629-45a5-bf31-486ee16cd5e8"
      },
      "execution_count": 189,
      "outputs": [
        {
          "output_type": "stream",
          "name": "stdout",
          "text": [
            "Best Threshold=0.075622 \n",
            "Net Gain=0.541\n"
          ]
        },
        {
          "output_type": "display_data",
          "data": {
            "text/plain": [
              "<Figure size 432x360 with 1 Axes>"
            ],
            "image/png": "[encoded data removed]"
          },
          "metadata": {
            "needs_background": "light"
          }
        }
      ]
    },
    {
      "cell_type": "markdown",
      "metadata": {
        "id": "xBlByylxeGKR"
      },
      "source": [
        "### Precision_Recall_curve"
      ]
    },
    {
      "cell_type": "code",
      "source": [
        "precision, recall, thresholds = precision_recall_curve(y_test, y_pred)\n",
        "f1 = 2 * ((precision * recall) / (precision + recall))\n",
        "ix = np.argmax(f1)\n",
        "\n",
        "print('Best Threshold=%f \\nf1 score=%.3f' % (thresholds[ix], f1[ix]))\n",
        "\n",
        "plt.plot(recall, precision, marker='.', label='Gaussian Naive Bayes', markersize= 0.5)\n",
        "plt.scatter(recall[ix], precision[ix], marker='o', color='black', label='Best threshold')\n",
        "\n",
        "plt.legend()\n",
        "plt.show()"
      ],
      "metadata": {
        "id": "kT3CVz16xx_o",
        "colab": {
          "base_uri": "https://localhost:8080/",
          "height": 355
        },
        "outputId": "3eeeeab5-16e2-414c-b54e-233693fe6817"
      },
      "execution_count": 190,
      "outputs": [
        {
          "output_type": "stream",
          "name": "stdout",
          "text": [
            "Best Threshold=0.139078 \n",
            "f1 score=0.576\n"
          ]
        },
        {
          "output_type": "display_data",
          "data": {
            "text/plain": [
              "<Figure size 576x360 with 1 Axes>"
            ],
            "image/png": "[encoded data removed]"
          },
          "metadata": {
            "needs_background": "light"
          }
        }
      ]
    },
    {
      "cell_type": "markdown",
      "source": [
        "# Model Results\n",
        "\n",
        "> **Gradient Boosting**  \n",
        "Accuracy: 92%        \n",
        "F1 Score: \n",
        "*   Not A credit Risk: 95%\n",
        "*   Is a Credit Risk: 74%\n",
        "\n",
        "---\n",
        "> **Decision Tree Classifer**  \n",
        "Accuracy:  90%      \n",
        "F1 Score: \n",
        "*   Not A credit Risk: 94%\n",
        "*   Is a Credit Risk: 66%\n",
        " \n",
        "---\n",
        "> **Gaussian Naive Bayes**  \n",
        "Accuracy: 85%    \n",
        "F1 Score: \n",
        "*   Not A credit Risk: 92%\n",
        "*   Is a Credit Risk: 36%\n",
        "\n",
        "\n",
        "\n",
        "\n",
        "\n",
        "\n",
        "    \n"
      ],
      "metadata": {
        "id": "9Ydtv0QCM7yv"
      }
    },
    {
      "cell_type": "markdown",
      "source": [
        "## Which model performed best?\n",
        "> Gradient Boosting \n",
        "\n",
        "## Did the preliminary results match your expectation? Why or Why not \n",
        "> I was happy to see the Gradient Boosting model achieved a 92% accuracy. When looking at the f1-scores, I expected the models to score high on predicting those records who are not a risk but, I was not expecting the models ability to flag the records as a crredit risk to be as low. Especially on the Gaussian Naive Bayes which did incredibly poor with a 36% F1 score for predicting the record as a credit risk. Even the Gradient Boosting model did just ok on flagging those as a risk. This tells me the model is failing to flag those who are a credit risk and will need further improvement. "
      ],
      "metadata": {
        "id": "IRVVQ1z8NW1E"
      }
    }
  ],
  "metadata": {
    "colab": {
      "collapsed_sections": [],
      "provenance": [],
      "toc_visible": true,
      "authorship_tag": "ABX9TyNxk07FW/P5eegYo3QKPowj",
      "include_colab_link": true
    },
    "kernelspec": {
      "display_name": "Python 3",
      "name": "python3"
    },
    "language_info": {
      "name": "python"
    }
  },
  "nbformat": 4,
  "nbformat_minor": 0
}
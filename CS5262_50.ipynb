{
  "nbformat": 4,
  "nbformat_minor": 0,
  "metadata": {
    "colab": {
      "provenance": [],
      "collapsed_sections": [],
      "authorship_tag": "ABX9TyML4wyI5Xl3avM7V4BlDHHk",
      "include_colab_link": true
    },
    "kernelspec": {
      "name": "python3",
      "display_name": "Python 3"
    },
    "language_info": {
      "name": "python"
    }
  },
  "cells": [
    {
      "cell_type": "markdown",
      "metadata": {
        "id": "view-in-github",
        "colab_type": "text"
      },
      "source": [
        "<a href=\"https://colab.research.google.com/github/karelyrodri/Machine-Learning-CS5262-50/blob/main/CS5262_50.ipynb\" target=\"_parent\"><img src=\"https://colab.research.google.com/assets/colab-badge.svg\" alt=\"Open In Colab\"/></a>"
      ]
    },
    {
      "cell_type": "markdown",
      "source": [
        "# Credit Risk "
      ],
      "metadata": {
        "id": "nk1yOJ6NYiue"
      }
    },
    {
      "cell_type": "markdown",
      "source": [
        "## Background \n",
        "The data used consists of a financial information regarding loans and credit \n",
        "\n",
        "After data clean up, there is 15,787 records and 12 features that will be used\n",
        "\n",
        "Numeric Columns:\n",
        "1.   Loan Amount\n",
        "2.   Credit Score\n",
        "3.   Annual Income \n",
        "4.   Monthly Debt \n",
        "5.   Years of Credit History\n",
        "6.   Credit Card Balance\n",
        "7.   Credit Card Limit \n",
        "8.   Interest Rate\n",
        "\n",
        "Categorical Columns:\n",
        "1.   Loan Term Length - [1 year, 3 year, 5 year, 7 year, 10 year, 15 year, 30 year]\n",
        "2.   Years in Current Job - [1 Year or Less, 2 - 4 years, 5 - 7 years,  8 - 9 years, 10+ years]\n",
        "3.   Home Ownership - [Rent, Home Mortgage, Home Owner]\n",
        "4.   Loan Purpose - [Home Improvements, Business Loan, Car Loan, Home Loan,\n",
        " Medical Bills, Educational Expenses]\n",
        "\n",
        "\n",
        "\n",
        "\n",
        "\n",
        "\n"
      ],
      "metadata": {
        "id": "AEvWi8NvZetQ"
      }
    },
    {
      "cell_type": "markdown",
      "source": [
        "## Project Description\n",
        "\n",
        "This project will focus on assessing loan/credit risk. \n",
        "\n",
        "This is the probability an individal will be unable to repay their debt obligations. The goal is to predict whether there is or is not credit risk given the information supplied in each record.\n",
        "\n",
        "0 - Not a Credit Risk\n",
        "\n",
        "1 - Is a Credit Risk"
      ],
      "metadata": {
        "id": "6slPuEfxkK5P"
      }
    },
    {
      "cell_type": "markdown",
      "source": [
        "## Performance Metric\n",
        "*   Precision =  True Positives/(True Positives + False Positives)\n",
        "*   Recall =  True Positives/(True Positives + False Negatives)\n",
        "*   F1 Score = 2 x ((Precision x Recall)/(Precision + Recall))\n",
        "\n",
        " "
      ],
      "metadata": {
        "id": "RF25w41ekLFD"
      }
    },
    {
      "cell_type": "markdown",
      "source": [
        "# Load Data\n",
        "**Python imports**\n"
      ],
      "metadata": {
        "id": "E5ddJOlHQZm7"
      }
    },
    {
      "cell_type": "code",
      "source": [
        "import pandas as pd\n",
        "import numpy as np \n",
        "import seaborn as sns\n",
        "import matplotlib.pyplot as plt\n",
        "# machine learning libs\n",
        "from sklearn.model_selection import train_test_split, GridSearchCV\n",
        "from sklearn.pipeline import Pipeline \n",
        "from sklearn.compose import ColumnTransformer, make_column_selector\n",
        "from sklearn.impute import SimpleImputer\n",
        "from sklearn.preprocessing import OneHotEncoder, LabelBinarizer, StandardScaler\n",
        "from sklearn import config_context\n",
        "from sklearn.metrics import classification_report, confusion_matrix, ConfusionMatrixDisplay\n",
        "from sklearn.ensemble import GradientBoostingClassifier\n",
        "from sklearn.metrics import roc_curve\n",
        "from sklearn.metrics import precision_recall_curve"
      ],
      "metadata": {
        "id": "tXBazP5NQYTq"
      },
      "execution_count": null,
      "outputs": []
    },
    {
      "cell_type": "markdown",
      "source": [
        "> Read google spreadsheet as a csv"
      ],
      "metadata": {
        "id": "9qFynYv2Xdbh"
      }
    },
    {
      "cell_type": "code",
      "source": [
        "data = pd.read_csv(\"https://docs.google.com/spreadsheets/d/1AvPiqVtKBoKFiX4h3uGFbWBty7ZhNt4FmWU6jrXhb8U/export?format=csv&grid=\")\n",
        "display(data)\n",
        "data.info()"
      ],
      "metadata": {
        "colab": {
          "base_uri": "https://localhost:8080/",
          "height": 1000
        },
        "id": "tr4X-OgCQblP",
        "outputId": "b7dc9d9e-263e-435c-d74f-929de53876da"
      },
      "execution_count": null,
      "outputs": [
        {
          "output_type": "display_data",
          "data": {
            "text/plain": [
              "       Loan_Amount     Term  Interest_Rate  Credit_Score Years_in_Current_Job  \\\n",
              "0             6966   1 year          8.010         673.0       1 year or less   \n",
              "1             9848   3 year          5.570           NaN          5 - 7 years   \n",
              "2             5878   1 year          5.570         743.0       1 year or less   \n",
              "3         99999999   3 year          6.435         724.0          2 - 4 years   \n",
              "4             1010   1 year          6.435         745.0       1 year or less   \n",
              "...            ...      ...            ...           ...                  ...   \n",
              "21336       188256  30 year          4.295         741.0          2 - 4 years   \n",
              "21337         4542   1 year          7.825         722.0       1 year or less   \n",
              "21338        15730   7 year          4.295         725.0            10+ years   \n",
              "21339        14727   3 year          5.370         745.0          5 - 7 years   \n",
              "21340       177552  30 year          2.410         748.0       1 year or less   \n",
              "\n",
              "      Home_Ownership  Annual_Income               Purpose  Monthly_Debt  \\\n",
              "0      Home Mortgage        54736.0     Home Improvements        839.28   \n",
              "1               Rent            NaN     Home Improvements        605.65   \n",
              "2      Home Mortgage       107767.0     Home Improvements       1420.73   \n",
              "3               Rent        27462.0              Car Loan        338.69   \n",
              "4      Home Mortgage        75713.0     Home Improvements       1242.95   \n",
              "...              ...            ...                   ...           ...   \n",
              "21336  Home Mortgage       136904.0             Home Loan       1996.51   \n",
              "21337           Rent        33125.0     Home Improvements        665.27   \n",
              "21338  Home Mortgage        60952.0     Home Improvements       1056.51   \n",
              "21339  Home Mortgage        78544.0  Educational Expenses        988.35   \n",
              "21340  Home Mortgage        84949.0             Home Loan        842.41   \n",
              "\n",
              "       Years_of_Credit_History  Credit_Cards_Balance  Credit_Cards_Limit  \\\n",
              "0                         16.4                  2942                3881   \n",
              "1                         18.8                  6957                8568   \n",
              "2                         24.6                 35963               89459   \n",
              "3                         10.8                 11773               15369   \n",
              "4                         18.0                   769               17889   \n",
              "...                        ...                   ...                 ...   \n",
              "21336                     16.4                 17931               23532   \n",
              "21337                     11.3                 11325               20972   \n",
              "21338                     18.1                  9589               13660   \n",
              "21339                     13.0                 17083               31991   \n",
              "21340                     16.0                  5903               22194   \n",
              "\n",
              "       Credit_Risk  \n",
              "0                1  \n",
              "1                1  \n",
              "2                0  \n",
              "3                1  \n",
              "4                0  \n",
              "...            ...  \n",
              "21336            0  \n",
              "21337            0  \n",
              "21338            0  \n",
              "21339            0  \n",
              "21340            0  \n",
              "\n",
              "[21341 rows x 13 columns]"
            ],
            "text/html": [
              "\n",
              "  <div id=\"df-ea44fd5c-01b2-4858-80ad-4646bf4bf58f\">\n",
              "    <div class=\"colab-df-container\">\n",
              "      <div>\n",
              "<style scoped>\n",
              "    .dataframe tbody tr th:only-of-type {\n",
              "        vertical-align: middle;\n",
              "    }\n",
              "\n",
              "    .dataframe tbody tr th {\n",
              "        vertical-align: top;\n",
              "    }\n",
              "\n",
              "    .dataframe thead th {\n",
              "        text-align: right;\n",
              "    }\n",
              "</style>\n",
              "<table border=\"1\" class=\"dataframe\">\n",
              "  <thead>\n",
              "    <tr style=\"text-align: right;\">\n",
              "      <th></th>\n",
              "      <th>Loan_Amount</th>\n",
              "      <th>Term</th>\n",
              "      <th>Interest_Rate</th>\n",
              "      <th>Credit_Score</th>\n",
              "      <th>Years_in_Current_Job</th>\n",
              "      <th>Home_Ownership</th>\n",
              "      <th>Annual_Income</th>\n",
              "      <th>Purpose</th>\n",
              "      <th>Monthly_Debt</th>\n",
              "      <th>Years_of_Credit_History</th>\n",
              "      <th>Credit_Cards_Balance</th>\n",
              "      <th>Credit_Cards_Limit</th>\n",
              "      <th>Credit_Risk</th>\n",
              "    </tr>\n",
              "  </thead>\n",
              "  <tbody>\n",
              "    <tr>\n",
              "      <th>0</th>\n",
              "      <td>6966</td>\n",
              "      <td>1 year</td>\n",
              "      <td>8.010</td>\n",
              "      <td>673.0</td>\n",
              "      <td>1 year or less</td>\n",
              "      <td>Home Mortgage</td>\n",
              "      <td>54736.0</td>\n",
              "      <td>Home Improvements</td>\n",
              "      <td>839.28</td>\n",
              "      <td>16.4</td>\n",
              "      <td>2942</td>\n",
              "      <td>3881</td>\n",
              "      <td>1</td>\n",
              "    </tr>\n",
              "    <tr>\n",
              "      <th>1</th>\n",
              "      <td>9848</td>\n",
              "      <td>3 year</td>\n",
              "      <td>5.570</td>\n",
              "      <td>NaN</td>\n",
              "      <td>5 - 7 years</td>\n",
              "      <td>Rent</td>\n",
              "      <td>NaN</td>\n",
              "      <td>Home Improvements</td>\n",
              "      <td>605.65</td>\n",
              "      <td>18.8</td>\n",
              "      <td>6957</td>\n",
              "      <td>8568</td>\n",
              "      <td>1</td>\n",
              "    </tr>\n",
              "    <tr>\n",
              "      <th>2</th>\n",
              "      <td>5878</td>\n",
              "      <td>1 year</td>\n",
              "      <td>5.570</td>\n",
              "      <td>743.0</td>\n",
              "      <td>1 year or less</td>\n",
              "      <td>Home Mortgage</td>\n",
              "      <td>107767.0</td>\n",
              "      <td>Home Improvements</td>\n",
              "      <td>1420.73</td>\n",
              "      <td>24.6</td>\n",
              "      <td>35963</td>\n",
              "      <td>89459</td>\n",
              "      <td>0</td>\n",
              "    </tr>\n",
              "    <tr>\n",
              "      <th>3</th>\n",
              "      <td>99999999</td>\n",
              "      <td>3 year</td>\n",
              "      <td>6.435</td>\n",
              "      <td>724.0</td>\n",
              "      <td>2 - 4 years</td>\n",
              "      <td>Rent</td>\n",
              "      <td>27462.0</td>\n",
              "      <td>Car Loan</td>\n",
              "      <td>338.69</td>\n",
              "      <td>10.8</td>\n",
              "      <td>11773</td>\n",
              "      <td>15369</td>\n",
              "      <td>1</td>\n",
              "    </tr>\n",
              "    <tr>\n",
              "      <th>4</th>\n",
              "      <td>1010</td>\n",
              "      <td>1 year</td>\n",
              "      <td>6.435</td>\n",
              "      <td>745.0</td>\n",
              "      <td>1 year or less</td>\n",
              "      <td>Home Mortgage</td>\n",
              "      <td>75713.0</td>\n",
              "      <td>Home Improvements</td>\n",
              "      <td>1242.95</td>\n",
              "      <td>18.0</td>\n",
              "      <td>769</td>\n",
              "      <td>17889</td>\n",
              "      <td>0</td>\n",
              "    </tr>\n",
              "    <tr>\n",
              "      <th>...</th>\n",
              "      <td>...</td>\n",
              "      <td>...</td>\n",
              "      <td>...</td>\n",
              "      <td>...</td>\n",
              "      <td>...</td>\n",
              "      <td>...</td>\n",
              "      <td>...</td>\n",
              "      <td>...</td>\n",
              "      <td>...</td>\n",
              "      <td>...</td>\n",
              "      <td>...</td>\n",
              "      <td>...</td>\n",
              "      <td>...</td>\n",
              "    </tr>\n",
              "    <tr>\n",
              "      <th>21336</th>\n",
              "      <td>188256</td>\n",
              "      <td>30 year</td>\n",
              "      <td>4.295</td>\n",
              "      <td>741.0</td>\n",
              "      <td>2 - 4 years</td>\n",
              "      <td>Home Mortgage</td>\n",
              "      <td>136904.0</td>\n",
              "      <td>Home Loan</td>\n",
              "      <td>1996.51</td>\n",
              "      <td>16.4</td>\n",
              "      <td>17931</td>\n",
              "      <td>23532</td>\n",
              "      <td>0</td>\n",
              "    </tr>\n",
              "    <tr>\n",
              "      <th>21337</th>\n",
              "      <td>4542</td>\n",
              "      <td>1 year</td>\n",
              "      <td>7.825</td>\n",
              "      <td>722.0</td>\n",
              "      <td>1 year or less</td>\n",
              "      <td>Rent</td>\n",
              "      <td>33125.0</td>\n",
              "      <td>Home Improvements</td>\n",
              "      <td>665.27</td>\n",
              "      <td>11.3</td>\n",
              "      <td>11325</td>\n",
              "      <td>20972</td>\n",
              "      <td>0</td>\n",
              "    </tr>\n",
              "    <tr>\n",
              "      <th>21338</th>\n",
              "      <td>15730</td>\n",
              "      <td>7 year</td>\n",
              "      <td>4.295</td>\n",
              "      <td>725.0</td>\n",
              "      <td>10+ years</td>\n",
              "      <td>Home Mortgage</td>\n",
              "      <td>60952.0</td>\n",
              "      <td>Home Improvements</td>\n",
              "      <td>1056.51</td>\n",
              "      <td>18.1</td>\n",
              "      <td>9589</td>\n",
              "      <td>13660</td>\n",
              "      <td>0</td>\n",
              "    </tr>\n",
              "    <tr>\n",
              "      <th>21339</th>\n",
              "      <td>14727</td>\n",
              "      <td>3 year</td>\n",
              "      <td>5.370</td>\n",
              "      <td>745.0</td>\n",
              "      <td>5 - 7 years</td>\n",
              "      <td>Home Mortgage</td>\n",
              "      <td>78544.0</td>\n",
              "      <td>Educational Expenses</td>\n",
              "      <td>988.35</td>\n",
              "      <td>13.0</td>\n",
              "      <td>17083</td>\n",
              "      <td>31991</td>\n",
              "      <td>0</td>\n",
              "    </tr>\n",
              "    <tr>\n",
              "      <th>21340</th>\n",
              "      <td>177552</td>\n",
              "      <td>30 year</td>\n",
              "      <td>2.410</td>\n",
              "      <td>748.0</td>\n",
              "      <td>1 year or less</td>\n",
              "      <td>Home Mortgage</td>\n",
              "      <td>84949.0</td>\n",
              "      <td>Home Loan</td>\n",
              "      <td>842.41</td>\n",
              "      <td>16.0</td>\n",
              "      <td>5903</td>\n",
              "      <td>22194</td>\n",
              "      <td>0</td>\n",
              "    </tr>\n",
              "  </tbody>\n",
              "</table>\n",
              "<p>21341 rows × 13 columns</p>\n",
              "</div>\n",
              "      <button class=\"colab-df-convert\" onclick=\"convertToInteractive('df-ea44fd5c-01b2-4858-80ad-4646bf4bf58f')\"\n",
              "              title=\"Convert this dataframe to an interactive table.\"\n",
              "              style=\"display:none;\">\n",
              "        \n",
              "  <svg xmlns=\"http://www.w3.org/2000/svg\" height=\"24px\"viewBox=\"0 0 24 24\"\n",
              "       width=\"24px\">\n",
              "    <path d=\"M0 0h24v24H0V0z\" fill=\"none\"/>\n",
              "    <path d=\"M18.56 5.44l.94 2.06.94-2.06 2.06-.94-2.06-.94-.94-2.06-.94 2.06-2.06.94zm-11 1L8.5 8.5l.94-2.06 2.06-.94-2.06-.94L8.5 2.5l-.94 2.06-2.06.94zm10 10l.94 2.06.94-2.06 2.06-.94-2.06-.94-.94-2.06-.94 2.06-2.06.94z\"/><path d=\"M17.41 7.96l-1.37-1.37c-.4-.4-.92-.59-1.43-.59-.52 0-1.04.2-1.43.59L10.3 9.45l-7.72 7.72c-.78.78-.78 2.05 0 2.83L4 21.41c.39.39.9.59 1.41.59.51 0 1.02-.2 1.41-.59l7.78-7.78 2.81-2.81c.8-.78.8-2.07 0-2.86zM5.41 20L4 18.59l7.72-7.72 1.47 1.35L5.41 20z\"/>\n",
              "  </svg>\n",
              "      </button>\n",
              "      \n",
              "  <style>\n",
              "    .colab-df-container {\n",
              "      display:flex;\n",
              "      flex-wrap:wrap;\n",
              "      gap: 12px;\n",
              "    }\n",
              "\n",
              "    .colab-df-convert {\n",
              "      background-color: #E8F0FE;\n",
              "      border: none;\n",
              "      border-radius: 50%;\n",
              "      cursor: pointer;\n",
              "      display: none;\n",
              "      fill: #1967D2;\n",
              "      height: 32px;\n",
              "      padding: 0 0 0 0;\n",
              "      width: 32px;\n",
              "    }\n",
              "\n",
              "    .colab-df-convert:hover {\n",
              "      background-color: #E2EBFA;\n",
              "      box-shadow: 0px 1px 2px rgba(60, 64, 67, 0.3), 0px 1px 3px 1px rgba(60, 64, 67, 0.15);\n",
              "      fill: #174EA6;\n",
              "    }\n",
              "\n",
              "    [theme=dark] .colab-df-convert {\n",
              "      background-color: #3B4455;\n",
              "      fill: #D2E3FC;\n",
              "    }\n",
              "\n",
              "    [theme=dark] .colab-df-convert:hover {\n",
              "      background-color: #434B5C;\n",
              "      box-shadow: 0px 1px 3px 1px rgba(0, 0, 0, 0.15);\n",
              "      filter: drop-shadow(0px 1px 2px rgba(0, 0, 0, 0.3));\n",
              "      fill: #FFFFFF;\n",
              "    }\n",
              "  </style>\n",
              "\n",
              "      <script>\n",
              "        const buttonEl =\n",
              "          document.querySelector('#df-ea44fd5c-01b2-4858-80ad-4646bf4bf58f button.colab-df-convert');\n",
              "        buttonEl.style.display =\n",
              "          google.colab.kernel.accessAllowed ? 'block' : 'none';\n",
              "\n",
              "        async function convertToInteractive(key) {\n",
              "          const element = document.querySelector('#df-ea44fd5c-01b2-4858-80ad-4646bf4bf58f');\n",
              "          const dataTable =\n",
              "            await google.colab.kernel.invokeFunction('convertToInteractive',\n",
              "                                                     [key], {});\n",
              "          if (!dataTable) return;\n",
              "\n",
              "          const docLinkHtml = 'Like what you see? Visit the ' +\n",
              "            '<a target=\"_blank\" href=https://colab.research.google.com/notebooks/data_table.ipynb>data table notebook</a>'\n",
              "            + ' to learn more about interactive tables.';\n",
              "          element.innerHTML = '';\n",
              "          dataTable['output_type'] = 'display_data';\n",
              "          await google.colab.output.renderOutput(dataTable, element);\n",
              "          const docLink = document.createElement('div');\n",
              "          docLink.innerHTML = docLinkHtml;\n",
              "          element.appendChild(docLink);\n",
              "        }\n",
              "      </script>\n",
              "    </div>\n",
              "  </div>\n",
              "  "
            ]
          },
          "metadata": {}
        },
        {
          "output_type": "stream",
          "name": "stdout",
          "text": [
            "<class 'pandas.core.frame.DataFrame'>\n",
            "RangeIndex: 21341 entries, 0 to 21340\n",
            "Data columns (total 13 columns):\n",
            " #   Column                   Non-Null Count  Dtype  \n",
            "---  ------                   --------------  -----  \n",
            " 0   Loan_Amount              21341 non-null  int64  \n",
            " 1   Term                     21341 non-null  object \n",
            " 2   Interest_Rate            21341 non-null  float64\n",
            " 3   Credit_Score             18168 non-null  float64\n",
            " 4   Years_in_Current_Job     20649 non-null  object \n",
            " 5   Home_Ownership           21341 non-null  object \n",
            " 6   Annual_Income            18168 non-null  float64\n",
            " 7   Purpose                  21341 non-null  object \n",
            " 8   Monthly_Debt             21341 non-null  float64\n",
            " 9   Years_of_Credit_History  21341 non-null  float64\n",
            " 10  Credit_Cards_Balance     21341 non-null  int64  \n",
            " 11  Credit_Cards_Limit       21341 non-null  int64  \n",
            " 12  Credit_Risk              21341 non-null  int64  \n",
            "dtypes: float64(5), int64(4), object(4)\n",
            "memory usage: 2.1+ MB\n"
          ]
        }
      ]
    },
    {
      "cell_type": "markdown",
      "source": [
        "## Data Clean Up\n",
        "Remove data that will scew the results or is NAN or empty.\n"
      ],
      "metadata": {
        "id": "brc_vFI4pRKt"
      }
    },
    {
      "cell_type": "code",
      "source": [
        "data.isna().sum()"
      ],
      "metadata": {
        "colab": {
          "base_uri": "https://localhost:8080/"
        },
        "id": "fqjZkiqy-lf9",
        "outputId": "3a625a26-4f3c-4333-d39b-563d24be1c83"
      },
      "execution_count": null,
      "outputs": [
        {
          "output_type": "execute_result",
          "data": {
            "text/plain": [
              "Loan_Amount                   0\n",
              "Term                          0\n",
              "Interest_Rate                 0\n",
              "Credit_Score               3173\n",
              "Years_in_Current_Job        692\n",
              "Home_Ownership                0\n",
              "Annual_Income              3173\n",
              "Purpose                       0\n",
              "Monthly_Debt                  0\n",
              "Years_of_Credit_History       0\n",
              "Credit_Cards_Balance          0\n",
              "Credit_Cards_Limit            0\n",
              "Credit_Risk                   0\n",
              "dtype: int64"
            ]
          },
          "metadata": {},
          "execution_count": 14
        }
      ]
    },
    {
      "cell_type": "code",
      "source": [
        "data = data.dropna()\n",
        "data = data[data.Loan_Amount != 99999999] # there are 1905 values 0.089%\n",
        "data = data[data.Years_in_Current_Job != \"\"]\n",
        "data['Credit_Score'] = data['Credit_Score'].apply(np.int64)\n",
        "print(data.shape, \"\\n\")\n",
        "\n",
        "print(data.isna().sum())"
      ],
      "metadata": {
        "colab": {
          "base_uri": "https://localhost:8080/"
        },
        "id": "tRqqpoNFpPaG",
        "outputId": "961b3290-6bb4-4248-f7ce-b5456434ce24"
      },
      "execution_count": null,
      "outputs": [
        {
          "output_type": "stream",
          "name": "stdout",
          "text": [
            "(15787, 13) \n",
            "\n",
            "Loan_Amount                0\n",
            "Term                       0\n",
            "Interest_Rate              0\n",
            "Credit_Score               0\n",
            "Years_in_Current_Job       0\n",
            "Home_Ownership             0\n",
            "Annual_Income              0\n",
            "Purpose                    0\n",
            "Monthly_Debt               0\n",
            "Years_of_Credit_History    0\n",
            "Credit_Cards_Balance       0\n",
            "Credit_Cards_Limit         0\n",
            "Credit_Risk                0\n",
            "dtype: int64\n"
          ]
        }
      ]
    },
    {
      "cell_type": "markdown",
      "source": [
        "# Exploratory Data Analysis\n"
      ],
      "metadata": {
        "id": "cWIaHaL5seY0"
      }
    },
    {
      "cell_type": "markdown",
      "source": [
        "## Question 1. Is there a relationship between home ownership and income? Do those who rent have lower income? "
      ],
      "metadata": {
        "id": "O9PfdFfKxGea"
      }
    },
    {
      "cell_type": "code",
      "source": [
        "avg = data.groupby('Home_Ownership').agg(Average_Income=(\"Annual_Income\", \"mean\"), Standard_Deviation=(\"Annual_Income\", \"std\"))\n",
        "sorted = data.sort_values(by=[\"Annual_Income\"])\n",
        "percent_20 = int(15787 * .20)\n",
        "print(\"20% of the total rows is: \", percent_20, \" records\")\n",
        "avg[\"Bottom_20%\"] = sorted.head(percent_20).groupby('Home_Ownership').agg(Bottom_20=(\"Annual_Income\", \"mean\"))\n",
        "avg[\"Top_20%\"] = sorted.tail(percent_20).groupby('Home_Ownership').agg(Top_20=(\"Annual_Income\", \"mean\"))\n",
        "display(avg.round(2))"
      ],
      "metadata": {
        "colab": {
          "base_uri": "https://localhost:8080/",
          "height": 192
        },
        "id": "W9r5FLN4xyZ3",
        "outputId": "ff25f020-d202-4d77-dcb8-8bc6bdc5c016"
      },
      "execution_count": null,
      "outputs": [
        {
          "output_type": "stream",
          "name": "stdout",
          "text": [
            "20% of the total rows is:  3157  records\n"
          ]
        },
        {
          "output_type": "display_data",
          "data": {
            "text/plain": [
              "                Average_Income  Standard_Deviation  Bottom_20%    Top_20%\n",
              "Home_Ownership                                                           \n",
              "Home Mortgage         77660.38            48922.04    32264.63  138299.57\n",
              "Home Owner            61296.31            47666.10    30046.76  137923.30\n",
              "Rent                  60892.51            37279.66    31218.03  132526.17"
            ],
            "text/html": [
              "\n",
              "  <div id=\"df-190f7dc1-4ef5-498d-970f-13ecb61c415a\">\n",
              "    <div class=\"colab-df-container\">\n",
              "      <div>\n",
              "<style scoped>\n",
              "    .dataframe tbody tr th:only-of-type {\n",
              "        vertical-align: middle;\n",
              "    }\n",
              "\n",
              "    .dataframe tbody tr th {\n",
              "        vertical-align: top;\n",
              "    }\n",
              "\n",
              "    .dataframe thead th {\n",
              "        text-align: right;\n",
              "    }\n",
              "</style>\n",
              "<table border=\"1\" class=\"dataframe\">\n",
              "  <thead>\n",
              "    <tr style=\"text-align: right;\">\n",
              "      <th></th>\n",
              "      <th>Average_Income</th>\n",
              "      <th>Standard_Deviation</th>\n",
              "      <th>Bottom_20%</th>\n",
              "      <th>Top_20%</th>\n",
              "    </tr>\n",
              "    <tr>\n",
              "      <th>Home_Ownership</th>\n",
              "      <th></th>\n",
              "      <th></th>\n",
              "      <th></th>\n",
              "      <th></th>\n",
              "    </tr>\n",
              "  </thead>\n",
              "  <tbody>\n",
              "    <tr>\n",
              "      <th>Home Mortgage</th>\n",
              "      <td>77660.38</td>\n",
              "      <td>48922.04</td>\n",
              "      <td>32264.63</td>\n",
              "      <td>138299.57</td>\n",
              "    </tr>\n",
              "    <tr>\n",
              "      <th>Home Owner</th>\n",
              "      <td>61296.31</td>\n",
              "      <td>47666.10</td>\n",
              "      <td>30046.76</td>\n",
              "      <td>137923.30</td>\n",
              "    </tr>\n",
              "    <tr>\n",
              "      <th>Rent</th>\n",
              "      <td>60892.51</td>\n",
              "      <td>37279.66</td>\n",
              "      <td>31218.03</td>\n",
              "      <td>132526.17</td>\n",
              "    </tr>\n",
              "  </tbody>\n",
              "</table>\n",
              "</div>\n",
              "      <button class=\"colab-df-convert\" onclick=\"convertToInteractive('df-190f7dc1-4ef5-498d-970f-13ecb61c415a')\"\n",
              "              title=\"Convert this dataframe to an interactive table.\"\n",
              "              style=\"display:none;\">\n",
              "        \n",
              "  <svg xmlns=\"http://www.w3.org/2000/svg\" height=\"24px\"viewBox=\"0 0 24 24\"\n",
              "       width=\"24px\">\n",
              "    <path d=\"M0 0h24v24H0V0z\" fill=\"none\"/>\n",
              "    <path d=\"M18.56 5.44l.94 2.06.94-2.06 2.06-.94-2.06-.94-.94-2.06-.94 2.06-2.06.94zm-11 1L8.5 8.5l.94-2.06 2.06-.94-2.06-.94L8.5 2.5l-.94 2.06-2.06.94zm10 10l.94 2.06.94-2.06 2.06-.94-2.06-.94-.94-2.06-.94 2.06-2.06.94z\"/><path d=\"M17.41 7.96l-1.37-1.37c-.4-.4-.92-.59-1.43-.59-.52 0-1.04.2-1.43.59L10.3 9.45l-7.72 7.72c-.78.78-.78 2.05 0 2.83L4 21.41c.39.39.9.59 1.41.59.51 0 1.02-.2 1.41-.59l7.78-7.78 2.81-2.81c.8-.78.8-2.07 0-2.86zM5.41 20L4 18.59l7.72-7.72 1.47 1.35L5.41 20z\"/>\n",
              "  </svg>\n",
              "      </button>\n",
              "      \n",
              "  <style>\n",
              "    .colab-df-container {\n",
              "      display:flex;\n",
              "      flex-wrap:wrap;\n",
              "      gap: 12px;\n",
              "    }\n",
              "\n",
              "    .colab-df-convert {\n",
              "      background-color: #E8F0FE;\n",
              "      border: none;\n",
              "      border-radius: 50%;\n",
              "      cursor: pointer;\n",
              "      display: none;\n",
              "      fill: #1967D2;\n",
              "      height: 32px;\n",
              "      padding: 0 0 0 0;\n",
              "      width: 32px;\n",
              "    }\n",
              "\n",
              "    .colab-df-convert:hover {\n",
              "      background-color: #E2EBFA;\n",
              "      box-shadow: 0px 1px 2px rgba(60, 64, 67, 0.3), 0px 1px 3px 1px rgba(60, 64, 67, 0.15);\n",
              "      fill: #174EA6;\n",
              "    }\n",
              "\n",
              "    [theme=dark] .colab-df-convert {\n",
              "      background-color: #3B4455;\n",
              "      fill: #D2E3FC;\n",
              "    }\n",
              "\n",
              "    [theme=dark] .colab-df-convert:hover {\n",
              "      background-color: #434B5C;\n",
              "      box-shadow: 0px 1px 3px 1px rgba(0, 0, 0, 0.15);\n",
              "      filter: drop-shadow(0px 1px 2px rgba(0, 0, 0, 0.3));\n",
              "      fill: #FFFFFF;\n",
              "    }\n",
              "  </style>\n",
              "\n",
              "      <script>\n",
              "        const buttonEl =\n",
              "          document.querySelector('#df-190f7dc1-4ef5-498d-970f-13ecb61c415a button.colab-df-convert');\n",
              "        buttonEl.style.display =\n",
              "          google.colab.kernel.accessAllowed ? 'block' : 'none';\n",
              "\n",
              "        async function convertToInteractive(key) {\n",
              "          const element = document.querySelector('#df-190f7dc1-4ef5-498d-970f-13ecb61c415a');\n",
              "          const dataTable =\n",
              "            await google.colab.kernel.invokeFunction('convertToInteractive',\n",
              "                                                     [key], {});\n",
              "          if (!dataTable) return;\n",
              "\n",
              "          const docLinkHtml = 'Like what you see? Visit the ' +\n",
              "            '<a target=\"_blank\" href=https://colab.research.google.com/notebooks/data_table.ipynb>data table notebook</a>'\n",
              "            + ' to learn more about interactive tables.';\n",
              "          element.innerHTML = '';\n",
              "          dataTable['output_type'] = 'display_data';\n",
              "          await google.colab.output.renderOutput(dataTable, element);\n",
              "          const docLink = document.createElement('div');\n",
              "          docLink.innerHTML = docLinkHtml;\n",
              "          element.appendChild(docLink);\n",
              "        }\n",
              "      </script>\n",
              "    </div>\n",
              "  </div>\n",
              "  "
            ]
          },
          "metadata": {}
        }
      ]
    },
    {
      "cell_type": "markdown",
      "source": [
        "### Findings\n",
        "> The average annual income for home owners and renters is about the same amount. Those with mortgages make on average about 16k more. To get a sense of the dispersion of the values from the mean in each grouping, the standard deviation is calculated. The results are that those with a mortgage and those who own homes deviate about the same away from their mean. This gives a sense that those with mortgages are making a bit more annually. The deviation of the renters is lower meaning that those in this category are making slightly closer to the that lower mean. This appears that the renters on an average are making less than those with a home mortgages but similar to those own homes. \n",
        "\n",
        "> When focusing on the average top and bottom 20% income for each grouping, there is not a significant difference. This means there is not many outliers in the data. The data concludes renters do not make less than home owners but rather earn about the same. We can conclude renters make less than those with a mortgage.\n"
      ],
      "metadata": {
        "id": "fypHqPSUxz_N"
      }
    },
    {
      "cell_type": "markdown",
      "source": [
        "## 2. What is the most common purpose for a loan (exluding home loan) among those who rent, own, or have a mortgage? "
      ],
      "metadata": {
        "id": "a2tnbW_CxJn8"
      }
    },
    {
      "cell_type": "code",
      "source": [
        "plt.rcParams[\"figure.figsize\"] = [10, 4]\n",
        "loan_purpose = data.loc[data[\"Purpose\"] != \"Home Loan\"]\n",
        "sns.countplot(x = \"Purpose\", hue=\"Home_Ownership\", data=loan_purpose)\n",
        "plt.xlabel(\"Loan Purpose\")\n",
        "plt.ylabel(\"Records Count\")"
      ],
      "metadata": {
        "colab": {
          "base_uri": "https://localhost:8080/",
          "height": 296
        },
        "id": "j4M11CvXxzCb",
        "outputId": "fbb72247-d5ec-4755-b5f3-51ace9221ba2"
      },
      "execution_count": null,
      "outputs": [
        {
          "output_type": "execute_result",
          "data": {
            "text/plain": [
              "Text(0, 0.5, 'Records Count')"
            ]
          },
          "metadata": {},
          "execution_count": 123
        },
        {
          "output_type": "display_data",
          "data": {
            "text/plain": [
              "<Figure size 720x288 with 1 Axes>"
            ],
            "image/png": "[encoded data removed]"
          },
          "metadata": {
            "needs_background": "light"
          }
        }
      ]
    },
    {
      "cell_type": "markdown",
      "source": [
        "### Findings\n",
        "\n",
        "> Among those who rent, the most common loan type is a Car Loan compared to those who have a mortgage most commonly have a loan for Home Improvements followed by a Car Loan. Home owners have the least amount of loans taken out in general. Their most common loan is a Car Loan however, the other loan types don't fall far behind.\n",
        "\n",
        "> This lender seems to give out more Car Loans in total than any other loan type."
      ],
      "metadata": {
        "id": "GW5uzTFnx0z8"
      }
    },
    {
      "cell_type": "markdown",
      "source": [
        "## 3. Does credit score improve over time? Do those with longer credit history have higher credit scores?"
      ],
      "metadata": {
        "id": "Ra3hiW2SxN0L"
      }
    },
    {
      "cell_type": "code",
      "source": [
        "sns.scatterplot(x=data['Years_of_Credit_History'], y=data['Credit_Score'])\n",
        "plt.xlabel(\"Years of Credit History\")\n",
        "plt.ylabel(\"Credit Score\")"
      ],
      "metadata": {
        "colab": {
          "base_uri": "https://localhost:8080/",
          "height": 296
        },
        "id": "G8GGwiaVsgW8",
        "outputId": "0764f89f-a0ee-428d-b149-e03c199fa3e5"
      },
      "execution_count": null,
      "outputs": [
        {
          "output_type": "execute_result",
          "data": {
            "text/plain": [
              "Text(0, 0.5, 'Credit Score')"
            ]
          },
          "metadata": {},
          "execution_count": 120
        },
        {
          "output_type": "display_data",
          "data": {
            "text/plain": [
              "<Figure size 720x288 with 1 Axes>"
            ],
            "image/png": "[encoded data removed]"
          },
          "metadata": {
            "needs_background": "light"
          }
        }
      ]
    },
    {
      "cell_type": "markdown",
      "source": [
        "### Findings\n",
        "> The data does not seem to have a strong relationship between the amount of years with credit history and their credit score. The scatterplot shows a weak positive correlation. It isnt until about 40 years of history that we see more records with higher credit scores; any amount of years before that is highly unpredicatable. It is not guaranteed that time will improve credit score."
      ],
      "metadata": {
        "id": "irD0rMsrx1jt"
      }
    },
    {
      "cell_type": "markdown",
      "source": [
        "## 4. What are the portions of each loan purpose category? Which Purpose type are the most common and least common?"
      ],
      "metadata": {
        "id": "NrlMI3Qv7q00"
      }
    },
    {
      "cell_type": "code",
      "source": [
        "plt.rcParams[\"figure.figsize\"] = [5, 5]\n",
        "purpose_counts = data['Purpose'].value_counts()\n",
        "plt.pie(purpose_counts, labels=purpose_counts.index, shadow = True, autopct='%1.1f%%', explode= (0.1, 0, 0, 0, 0, 0), startangle=120)\n",
        "plt.show()"
      ],
      "metadata": {
        "colab": {
          "base_uri": "https://localhost:8080/",
          "height": 303
        },
        "id": "a9VoDufp7rWQ",
        "outputId": "f3f21939-f0d3-46e0-ee49-7f4b1c371de0"
      },
      "execution_count": null,
      "outputs": [
        {
          "output_type": "display_data",
          "data": {
            "text/plain": [
              "<Figure size 360x360 with 1 Axes>"
            ],
            "image/png": "[encoded data removed]"
          },
          "metadata": {}
        }
      ]
    },
    {
      "cell_type": "markdown",
      "source": [
        "### Findings\n",
        "> The lender of the data set lends out the most Home Loans than any other type of loan. The top 3 types of loans are Home, Car, and Home Improvement loans that make up 68% of the data set. This is compared to the least common Business, Medical, and Educational loans. The pie chart demonstates those in the data set file to borrow money for perpetual voluntary reasons. "
      ],
      "metadata": {
        "id": "rw1sH4Ye7rus"
      }
    },
    {
      "cell_type": "markdown",
      "source": [
        "# Feature Engineering\n"
      ],
      "metadata": {
        "id": "Ks_FRRKuxU50"
      }
    },
    {
      "cell_type": "markdown",
      "source": [
        "> The Credit_Cards_Balance is important as it adds to the amount borrowed however, the Credit_Cards_Limit column is only relevant as it relates to the credit card balances. The limit column will be converted into a percentage of credit utilization as lenders this in count in the real world."
      ],
      "metadata": {
        "id": "-lpruZWlFn5O"
      }
    },
    {
      "cell_type": "code",
      "source": [
        "limit = data[\"Credit_Cards_Limit\"]\n",
        "data[\"Credit_Utilization\"] = round((data[\"Credit_Cards_Balance\"] / data[\"Credit_Cards_Limit\"]) * 100, 2)\n",
        "data[\"Credit_Utilization\"].replace(to_replace = [float('inf'), np.nan], value = 0, inplace=True)\n",
        "\n",
        "display(data.head(3))"
      ],
      "metadata": {
        "colab": {
          "base_uri": "https://localhost:8080/",
          "height": 259
        },
        "id": "0SPR1G5WFqVL",
        "outputId": "0fdc7928-2f6c-465a-f28f-30d6086a19d4"
      },
      "execution_count": null,
      "outputs": [
        {
          "output_type": "display_data",
          "data": {
            "text/plain": [
              "   Loan_Amount    Term  Interest_Rate  Credit_Score Years_in_Current_Job  \\\n",
              "0         6966  1 year          8.010           673       1 year or less   \n",
              "2         5878  1 year          5.570           743       1 year or less   \n",
              "4         1010  1 year          6.435           745       1 year or less   \n",
              "\n",
              "  Home_Ownership  Annual_Income            Purpose  Monthly_Debt  \\\n",
              "0  Home Mortgage        54736.0  Home Improvements        839.28   \n",
              "2  Home Mortgage       107767.0  Home Improvements       1420.73   \n",
              "4  Home Mortgage        75713.0  Home Improvements       1242.95   \n",
              "\n",
              "   Years_of_Credit_History  Credit_Cards_Balance  Credit_Cards_Limit  \\\n",
              "0                     16.4                  2942                3881   \n",
              "2                     24.6                 35963               89459   \n",
              "4                     18.0                   769               17889   \n",
              "\n",
              "   Credit_Risk  Credit_Utilization  \n",
              "0            1               75.81  \n",
              "2            0               40.20  \n",
              "4            0                4.30  "
            ],
            "text/html": [
              "\n",
              "  <div id=\"df-3ee6043f-ab80-4f4b-9c7b-6818d7767698\">\n",
              "    <div class=\"colab-df-container\">\n",
              "      <div>\n",
              "<style scoped>\n",
              "    .dataframe tbody tr th:only-of-type {\n",
              "        vertical-align: middle;\n",
              "    }\n",
              "\n",
              "    .dataframe tbody tr th {\n",
              "        vertical-align: top;\n",
              "    }\n",
              "\n",
              "    .dataframe thead th {\n",
              "        text-align: right;\n",
              "    }\n",
              "</style>\n",
              "<table border=\"1\" class=\"dataframe\">\n",
              "  <thead>\n",
              "    <tr style=\"text-align: right;\">\n",
              "      <th></th>\n",
              "      <th>Loan_Amount</th>\n",
              "      <th>Term</th>\n",
              "      <th>Interest_Rate</th>\n",
              "      <th>Credit_Score</th>\n",
              "      <th>Years_in_Current_Job</th>\n",
              "      <th>Home_Ownership</th>\n",
              "      <th>Annual_Income</th>\n",
              "      <th>Purpose</th>\n",
              "      <th>Monthly_Debt</th>\n",
              "      <th>Years_of_Credit_History</th>\n",
              "      <th>Credit_Cards_Balance</th>\n",
              "      <th>Credit_Cards_Limit</th>\n",
              "      <th>Credit_Risk</th>\n",
              "      <th>Credit_Utilization</th>\n",
              "    </tr>\n",
              "  </thead>\n",
              "  <tbody>\n",
              "    <tr>\n",
              "      <th>0</th>\n",
              "      <td>6966</td>\n",
              "      <td>1 year</td>\n",
              "      <td>8.010</td>\n",
              "      <td>673</td>\n",
              "      <td>1 year or less</td>\n",
              "      <td>Home Mortgage</td>\n",
              "      <td>54736.0</td>\n",
              "      <td>Home Improvements</td>\n",
              "      <td>839.28</td>\n",
              "      <td>16.4</td>\n",
              "      <td>2942</td>\n",
              "      <td>3881</td>\n",
              "      <td>1</td>\n",
              "      <td>75.81</td>\n",
              "    </tr>\n",
              "    <tr>\n",
              "      <th>2</th>\n",
              "      <td>5878</td>\n",
              "      <td>1 year</td>\n",
              "      <td>5.570</td>\n",
              "      <td>743</td>\n",
              "      <td>1 year or less</td>\n",
              "      <td>Home Mortgage</td>\n",
              "      <td>107767.0</td>\n",
              "      <td>Home Improvements</td>\n",
              "      <td>1420.73</td>\n",
              "      <td>24.6</td>\n",
              "      <td>35963</td>\n",
              "      <td>89459</td>\n",
              "      <td>0</td>\n",
              "      <td>40.20</td>\n",
              "    </tr>\n",
              "    <tr>\n",
              "      <th>4</th>\n",
              "      <td>1010</td>\n",
              "      <td>1 year</td>\n",
              "      <td>6.435</td>\n",
              "      <td>745</td>\n",
              "      <td>1 year or less</td>\n",
              "      <td>Home Mortgage</td>\n",
              "      <td>75713.0</td>\n",
              "      <td>Home Improvements</td>\n",
              "      <td>1242.95</td>\n",
              "      <td>18.0</td>\n",
              "      <td>769</td>\n",
              "      <td>17889</td>\n",
              "      <td>0</td>\n",
              "      <td>4.30</td>\n",
              "    </tr>\n",
              "  </tbody>\n",
              "</table>\n",
              "</div>\n",
              "      <button class=\"colab-df-convert\" onclick=\"convertToInteractive('df-3ee6043f-ab80-4f4b-9c7b-6818d7767698')\"\n",
              "              title=\"Convert this dataframe to an interactive table.\"\n",
              "              style=\"display:none;\">\n",
              "        \n",
              "  <svg xmlns=\"http://www.w3.org/2000/svg\" height=\"24px\"viewBox=\"0 0 24 24\"\n",
              "       width=\"24px\">\n",
              "    <path d=\"M0 0h24v24H0V0z\" fill=\"none\"/>\n",
              "    <path d=\"M18.56 5.44l.94 2.06.94-2.06 2.06-.94-2.06-.94-.94-2.06-.94 2.06-2.06.94zm-11 1L8.5 8.5l.94-2.06 2.06-.94-2.06-.94L8.5 2.5l-.94 2.06-2.06.94zm10 10l.94 2.06.94-2.06 2.06-.94-2.06-.94-.94-2.06-.94 2.06-2.06.94z\"/><path d=\"M17.41 7.96l-1.37-1.37c-.4-.4-.92-.59-1.43-.59-.52 0-1.04.2-1.43.59L10.3 9.45l-7.72 7.72c-.78.78-.78 2.05 0 2.83L4 21.41c.39.39.9.59 1.41.59.51 0 1.02-.2 1.41-.59l7.78-7.78 2.81-2.81c.8-.78.8-2.07 0-2.86zM5.41 20L4 18.59l7.72-7.72 1.47 1.35L5.41 20z\"/>\n",
              "  </svg>\n",
              "      </button>\n",
              "      \n",
              "  <style>\n",
              "    .colab-df-container {\n",
              "      display:flex;\n",
              "      flex-wrap:wrap;\n",
              "      gap: 12px;\n",
              "    }\n",
              "\n",
              "    .colab-df-convert {\n",
              "      background-color: #E8F0FE;\n",
              "      border: none;\n",
              "      border-radius: 50%;\n",
              "      cursor: pointer;\n",
              "      display: none;\n",
              "      fill: #1967D2;\n",
              "      height: 32px;\n",
              "      padding: 0 0 0 0;\n",
              "      width: 32px;\n",
              "    }\n",
              "\n",
              "    .colab-df-convert:hover {\n",
              "      background-color: #E2EBFA;\n",
              "      box-shadow: 0px 1px 2px rgba(60, 64, 67, 0.3), 0px 1px 3px 1px rgba(60, 64, 67, 0.15);\n",
              "      fill: #174EA6;\n",
              "    }\n",
              "\n",
              "    [theme=dark] .colab-df-convert {\n",
              "      background-color: #3B4455;\n",
              "      fill: #D2E3FC;\n",
              "    }\n",
              "\n",
              "    [theme=dark] .colab-df-convert:hover {\n",
              "      background-color: #434B5C;\n",
              "      box-shadow: 0px 1px 3px 1px rgba(0, 0, 0, 0.15);\n",
              "      filter: drop-shadow(0px 1px 2px rgba(0, 0, 0, 0.3));\n",
              "      fill: #FFFFFF;\n",
              "    }\n",
              "  </style>\n",
              "\n",
              "      <script>\n",
              "        const buttonEl =\n",
              "          document.querySelector('#df-3ee6043f-ab80-4f4b-9c7b-6818d7767698 button.colab-df-convert');\n",
              "        buttonEl.style.display =\n",
              "          google.colab.kernel.accessAllowed ? 'block' : 'none';\n",
              "\n",
              "        async function convertToInteractive(key) {\n",
              "          const element = document.querySelector('#df-3ee6043f-ab80-4f4b-9c7b-6818d7767698');\n",
              "          const dataTable =\n",
              "            await google.colab.kernel.invokeFunction('convertToInteractive',\n",
              "                                                     [key], {});\n",
              "          if (!dataTable) return;\n",
              "\n",
              "          const docLinkHtml = 'Like what you see? Visit the ' +\n",
              "            '<a target=\"_blank\" href=https://colab.research.google.com/notebooks/data_table.ipynb>data table notebook</a>'\n",
              "            + ' to learn more about interactive tables.';\n",
              "          element.innerHTML = '';\n",
              "          dataTable['output_type'] = 'display_data';\n",
              "          await google.colab.output.renderOutput(dataTable, element);\n",
              "          const docLink = document.createElement('div');\n",
              "          docLink.innerHTML = docLinkHtml;\n",
              "          element.appendChild(docLink);\n",
              "        }\n",
              "      </script>\n",
              "    </div>\n",
              "  </div>\n",
              "  "
            ]
          },
          "metadata": {}
        }
      ]
    },
    {
      "cell_type": "markdown",
      "source": [
        "> Since there was a very weak correlation between Years_of_Credit_History and Credit_Score then it seems to be not impactful enough and can be removed entirely from the model. The same concern would apply to Years_in_Current_Job.\n",
        "\n"
      ],
      "metadata": {
        "id": "NBmq8C1XGizL"
      }
    },
    {
      "cell_type": "code",
      "source": [
        "data = data.drop(columns = ['Years_in_Current_Job', 'Years_of_Credit_History', 'Credit_Cards_Limit'])\n",
        "display(data.columns)"
      ],
      "metadata": {
        "id": "ozO-gFbkhlSI",
        "colab": {
          "base_uri": "https://localhost:8080/",
          "height": 86
        },
        "outputId": "ec0e7370-2c97-4503-d96c-6aecc22ed5ec"
      },
      "execution_count": null,
      "outputs": [
        {
          "output_type": "display_data",
          "data": {
            "text/plain": [
              "Index(['Loan_Amount', 'Term', 'Interest_Rate', 'Credit_Score',\n",
              "       'Home_Ownership', 'Annual_Income', 'Purpose', 'Monthly_Debt',\n",
              "       'Credit_Cards_Balance', 'Credit_Risk', 'Credit_Utilization'],\n",
              "      dtype='object')"
            ]
          },
          "metadata": {}
        }
      ]
    },
    {
      "cell_type": "markdown",
      "source": [
        "# Train Test Split\n",
        "> The dataset comprises of 15,787 records that have remained after inital data clean up (prevent data leakage). The split will be 70/30 split where the Training set is 70% with 11,050 entries and the Testing set will include 30% of the data set with the remaining 4,737 entries. "
      ],
      "metadata": {
        "id": "5IaeJ95MyRBZ"
      }
    },
    {
      "cell_type": "markdown",
      "source": [
        "Remove Credit_Risk predicted column Train/Test Split \n"
      ],
      "metadata": {
        "id": "7kdx9iUqhUCx"
      }
    },
    {
      "cell_type": "code",
      "source": [
        "risk_col = 'Credit_Risk'\n",
        "display(data.describe())\n",
        "X_train, X_test, y_train, y_test = train_test_split(data.drop(columns=risk_col), data[risk_col],\n",
        "                                                   test_size=0.3, random_state=2345, stratify=data[risk_col])"
      ],
      "metadata": {
        "id": "NMMFhGpoiPUH",
        "colab": {
          "base_uri": "https://localhost:8080/",
          "height": 300
        },
        "outputId": "13aeca7b-5a38-428f-ceb1-061cac14f2c2"
      },
      "execution_count": null,
      "outputs": [
        {
          "output_type": "display_data",
          "data": {
            "text/plain": [
              "        Loan_Amount  Interest_Rate  Credit_Score  Annual_Income  Monthly_Debt  \\\n",
              "count  1.578700e+04   15787.000000  15787.000000   15787.000000  15787.000000   \n",
              "mean   8.051086e+04       5.480135    715.703870   71904.597074    974.673670   \n",
              "std    5.794124e+05       1.610655     28.708938   46535.648443    637.055557   \n",
              "min    5.110000e+02       2.410000    585.000000    4033.000000      0.000000   \n",
              "25%    1.173900e+04       3.950000    702.000000   44500.500000    540.145000   \n",
              "50%    2.390900e+04       5.495000    722.000000   61458.000000    854.320000   \n",
              "75%    1.013960e+05       6.675000    738.000000   86650.500000   1261.565000   \n",
              "max    6.998809e+07      11.055000    751.000000  968430.000000   9119.240000   \n",
              "\n",
              "       Credit_Cards_Balance   Credit_Risk  Credit_Utilization  \n",
              "count          15787.000000  15787.000000        15787.000000  \n",
              "mean           15525.625198      0.243175           55.603727  \n",
              "std            19066.021805      0.429013           21.938592  \n",
              "min                0.000000      0.000000            0.000000  \n",
              "25%             6015.500000      0.000000           46.250000  \n",
              "50%            11085.000000      0.000000           50.000000  \n",
              "75%            19473.500000      0.000000           71.400000  \n",
              "max           683524.000000      1.000000          366.530000  "
            ],
            "text/html": [
              "\n",
              "  <div id=\"df-38735f18-2fc1-4664-a7bc-5d302c129903\">\n",
              "    <div class=\"colab-df-container\">\n",
              "      <div>\n",
              "<style scoped>\n",
              "    .dataframe tbody tr th:only-of-type {\n",
              "        vertical-align: middle;\n",
              "    }\n",
              "\n",
              "    .dataframe tbody tr th {\n",
              "        vertical-align: top;\n",
              "    }\n",
              "\n",
              "    .dataframe thead th {\n",
              "        text-align: right;\n",
              "    }\n",
              "</style>\n",
              "<table border=\"1\" class=\"dataframe\">\n",
              "  <thead>\n",
              "    <tr style=\"text-align: right;\">\n",
              "      <th></th>\n",
              "      <th>Loan_Amount</th>\n",
              "      <th>Interest_Rate</th>\n",
              "      <th>Credit_Score</th>\n",
              "      <th>Annual_Income</th>\n",
              "      <th>Monthly_Debt</th>\n",
              "      <th>Credit_Cards_Balance</th>\n",
              "      <th>Credit_Risk</th>\n",
              "      <th>Credit_Utilization</th>\n",
              "    </tr>\n",
              "  </thead>\n",
              "  <tbody>\n",
              "    <tr>\n",
              "      <th>count</th>\n",
              "      <td>1.578700e+04</td>\n",
              "      <td>15787.000000</td>\n",
              "      <td>15787.000000</td>\n",
              "      <td>15787.000000</td>\n",
              "      <td>15787.000000</td>\n",
              "      <td>15787.000000</td>\n",
              "      <td>15787.000000</td>\n",
              "      <td>15787.000000</td>\n",
              "    </tr>\n",
              "    <tr>\n",
              "      <th>mean</th>\n",
              "      <td>8.051086e+04</td>\n",
              "      <td>5.480135</td>\n",
              "      <td>715.703870</td>\n",
              "      <td>71904.597074</td>\n",
              "      <td>974.673670</td>\n",
              "      <td>15525.625198</td>\n",
              "      <td>0.243175</td>\n",
              "      <td>55.603727</td>\n",
              "    </tr>\n",
              "    <tr>\n",
              "      <th>std</th>\n",
              "      <td>5.794124e+05</td>\n",
              "      <td>1.610655</td>\n",
              "      <td>28.708938</td>\n",
              "      <td>46535.648443</td>\n",
              "      <td>637.055557</td>\n",
              "      <td>19066.021805</td>\n",
              "      <td>0.429013</td>\n",
              "      <td>21.938592</td>\n",
              "    </tr>\n",
              "    <tr>\n",
              "      <th>min</th>\n",
              "      <td>5.110000e+02</td>\n",
              "      <td>2.410000</td>\n",
              "      <td>585.000000</td>\n",
              "      <td>4033.000000</td>\n",
              "      <td>0.000000</td>\n",
              "      <td>0.000000</td>\n",
              "      <td>0.000000</td>\n",
              "      <td>0.000000</td>\n",
              "    </tr>\n",
              "    <tr>\n",
              "      <th>25%</th>\n",
              "      <td>1.173900e+04</td>\n",
              "      <td>3.950000</td>\n",
              "      <td>702.000000</td>\n",
              "      <td>44500.500000</td>\n",
              "      <td>540.145000</td>\n",
              "      <td>6015.500000</td>\n",
              "      <td>0.000000</td>\n",
              "      <td>46.250000</td>\n",
              "    </tr>\n",
              "    <tr>\n",
              "      <th>50%</th>\n",
              "      <td>2.390900e+04</td>\n",
              "      <td>5.495000</td>\n",
              "      <td>722.000000</td>\n",
              "      <td>61458.000000</td>\n",
              "      <td>854.320000</td>\n",
              "      <td>11085.000000</td>\n",
              "      <td>0.000000</td>\n",
              "      <td>50.000000</td>\n",
              "    </tr>\n",
              "    <tr>\n",
              "      <th>75%</th>\n",
              "      <td>1.013960e+05</td>\n",
              "      <td>6.675000</td>\n",
              "      <td>738.000000</td>\n",
              "      <td>86650.500000</td>\n",
              "      <td>1261.565000</td>\n",
              "      <td>19473.500000</td>\n",
              "      <td>0.000000</td>\n",
              "      <td>71.400000</td>\n",
              "    </tr>\n",
              "    <tr>\n",
              "      <th>max</th>\n",
              "      <td>6.998809e+07</td>\n",
              "      <td>11.055000</td>\n",
              "      <td>751.000000</td>\n",
              "      <td>968430.000000</td>\n",
              "      <td>9119.240000</td>\n",
              "      <td>683524.000000</td>\n",
              "      <td>1.000000</td>\n",
              "      <td>366.530000</td>\n",
              "    </tr>\n",
              "  </tbody>\n",
              "</table>\n",
              "</div>\n",
              "      <button class=\"colab-df-convert\" onclick=\"convertToInteractive('df-38735f18-2fc1-4664-a7bc-5d302c129903')\"\n",
              "              title=\"Convert this dataframe to an interactive table.\"\n",
              "              style=\"display:none;\">\n",
              "        \n",
              "  <svg xmlns=\"http://www.w3.org/2000/svg\" height=\"24px\"viewBox=\"0 0 24 24\"\n",
              "       width=\"24px\">\n",
              "    <path d=\"M0 0h24v24H0V0z\" fill=\"none\"/>\n",
              "    <path d=\"M18.56 5.44l.94 2.06.94-2.06 2.06-.94-2.06-.94-.94-2.06-.94 2.06-2.06.94zm-11 1L8.5 8.5l.94-2.06 2.06-.94-2.06-.94L8.5 2.5l-.94 2.06-2.06.94zm10 10l.94 2.06.94-2.06 2.06-.94-2.06-.94-.94-2.06-.94 2.06-2.06.94z\"/><path d=\"M17.41 7.96l-1.37-1.37c-.4-.4-.92-.59-1.43-.59-.52 0-1.04.2-1.43.59L10.3 9.45l-7.72 7.72c-.78.78-.78 2.05 0 2.83L4 21.41c.39.39.9.59 1.41.59.51 0 1.02-.2 1.41-.59l7.78-7.78 2.81-2.81c.8-.78.8-2.07 0-2.86zM5.41 20L4 18.59l7.72-7.72 1.47 1.35L5.41 20z\"/>\n",
              "  </svg>\n",
              "      </button>\n",
              "      \n",
              "  <style>\n",
              "    .colab-df-container {\n",
              "      display:flex;\n",
              "      flex-wrap:wrap;\n",
              "      gap: 12px;\n",
              "    }\n",
              "\n",
              "    .colab-df-convert {\n",
              "      background-color: #E8F0FE;\n",
              "      border: none;\n",
              "      border-radius: 50%;\n",
              "      cursor: pointer;\n",
              "      display: none;\n",
              "      fill: #1967D2;\n",
              "      height: 32px;\n",
              "      padding: 0 0 0 0;\n",
              "      width: 32px;\n",
              "    }\n",
              "\n",
              "    .colab-df-convert:hover {\n",
              "      background-color: #E2EBFA;\n",
              "      box-shadow: 0px 1px 2px rgba(60, 64, 67, 0.3), 0px 1px 3px 1px rgba(60, 64, 67, 0.15);\n",
              "      fill: #174EA6;\n",
              "    }\n",
              "\n",
              "    [theme=dark] .colab-df-convert {\n",
              "      background-color: #3B4455;\n",
              "      fill: #D2E3FC;\n",
              "    }\n",
              "\n",
              "    [theme=dark] .colab-df-convert:hover {\n",
              "      background-color: #434B5C;\n",
              "      box-shadow: 0px 1px 3px 1px rgba(0, 0, 0, 0.15);\n",
              "      filter: drop-shadow(0px 1px 2px rgba(0, 0, 0, 0.3));\n",
              "      fill: #FFFFFF;\n",
              "    }\n",
              "  </style>\n",
              "\n",
              "      <script>\n",
              "        const buttonEl =\n",
              "          document.querySelector('#df-38735f18-2fc1-4664-a7bc-5d302c129903 button.colab-df-convert');\n",
              "        buttonEl.style.display =\n",
              "          google.colab.kernel.accessAllowed ? 'block' : 'none';\n",
              "\n",
              "        async function convertToInteractive(key) {\n",
              "          const element = document.querySelector('#df-38735f18-2fc1-4664-a7bc-5d302c129903');\n",
              "          const dataTable =\n",
              "            await google.colab.kernel.invokeFunction('convertToInteractive',\n",
              "                                                     [key], {});\n",
              "          if (!dataTable) return;\n",
              "\n",
              "          const docLinkHtml = 'Like what you see? Visit the ' +\n",
              "            '<a target=\"_blank\" href=https://colab.research.google.com/notebooks/data_table.ipynb>data table notebook</a>'\n",
              "            + ' to learn more about interactive tables.';\n",
              "          element.innerHTML = '';\n",
              "          dataTable['output_type'] = 'display_data';\n",
              "          await google.colab.output.renderOutput(dataTable, element);\n",
              "          const docLink = document.createElement('div');\n",
              "          docLink.innerHTML = docLinkHtml;\n",
              "          element.appendChild(docLink);\n",
              "        }\n",
              "      </script>\n",
              "    </div>\n",
              "  </div>\n",
              "  "
            ]
          },
          "metadata": {}
        }
      ]
    },
    {
      "cell_type": "code",
      "source": [
        "# X Train\n",
        "print('On X train ', X_train.shape)\n",
        "display(X_train.sample(2))\n",
        "# Y Train\n",
        "print('\\nOn y train ', y_train.shape)\n",
        "display(y_train.sample(2))\n",
        "\n",
        "# X test\n",
        "print('\\n\\n\\nOn X test ', X_test.shape)\n",
        "display(X_test.sample(2))\n",
        "# Y test\n",
        "print('\\nOn y test ', y_test.shape)\n",
        "display(y_test.sample(2))"
      ],
      "metadata": {
        "colab": {
          "base_uri": "https://localhost:8080/",
          "height": 467
        },
        "id": "gyTwfCwtPECc",
        "outputId": "dd16e03f-6fd1-48bb-ccb8-282b96b558a4"
      },
      "execution_count": null,
      "outputs": [
        {
          "output_type": "stream",
          "name": "stdout",
          "text": [
            "On X train  (11050, 10)\n"
          ]
        },
        {
          "output_type": "display_data",
          "data": {
            "text/plain": [
              "       Loan_Amount    Term  Interest_Rate  Credit_Score Home_Ownership  \\\n",
              "16752         2458  1 year          5.185           738           Rent   \n",
              "20590        19858  7 year          2.710           721           Rent   \n",
              "\n",
              "       Annual_Income               Purpose  Monthly_Debt  \\\n",
              "16752        40303.0  Educational Expenses        812.77   \n",
              "20590        46666.0              Car Loan        595.00   \n",
              "\n",
              "       Credit_Cards_Balance  Credit_Utilization  \n",
              "16752                  8009                48.5  \n",
              "20590                 19193                84.8  "
            ],
            "text/html": [
              "\n",
              "  <div id=\"df-c8e7274a-7e3e-4066-ac8c-710efe2e91ce\">\n",
              "    <div class=\"colab-df-container\">\n",
              "      <div>\n",
              "<style scoped>\n",
              "    .dataframe tbody tr th:only-of-type {\n",
              "        vertical-align: middle;\n",
              "    }\n",
              "\n",
              "    .dataframe tbody tr th {\n",
              "        vertical-align: top;\n",
              "    }\n",
              "\n",
              "    .dataframe thead th {\n",
              "        text-align: right;\n",
              "    }\n",
              "</style>\n",
              "<table border=\"1\" class=\"dataframe\">\n",
              "  <thead>\n",
              "    <tr style=\"text-align: right;\">\n",
              "      <th></th>\n",
              "      <th>Loan_Amount</th>\n",
              "      <th>Term</th>\n",
              "      <th>Interest_Rate</th>\n",
              "      <th>Credit_Score</th>\n",
              "      <th>Home_Ownership</th>\n",
              "      <th>Annual_Income</th>\n",
              "      <th>Purpose</th>\n",
              "      <th>Monthly_Debt</th>\n",
              "      <th>Credit_Cards_Balance</th>\n",
              "      <th>Credit_Utilization</th>\n",
              "    </tr>\n",
              "  </thead>\n",
              "  <tbody>\n",
              "    <tr>\n",
              "      <th>16752</th>\n",
              "      <td>2458</td>\n",
              "      <td>1 year</td>\n",
              "      <td>5.185</td>\n",
              "      <td>738</td>\n",
              "      <td>Rent</td>\n",
              "      <td>40303.0</td>\n",
              "      <td>Educational Expenses</td>\n",
              "      <td>812.77</td>\n",
              "      <td>8009</td>\n",
              "      <td>48.5</td>\n",
              "    </tr>\n",
              "    <tr>\n",
              "      <th>20590</th>\n",
              "      <td>19858</td>\n",
              "      <td>7 year</td>\n",
              "      <td>2.710</td>\n",
              "      <td>721</td>\n",
              "      <td>Rent</td>\n",
              "      <td>46666.0</td>\n",
              "      <td>Car Loan</td>\n",
              "      <td>595.00</td>\n",
              "      <td>19193</td>\n",
              "      <td>84.8</td>\n",
              "    </tr>\n",
              "  </tbody>\n",
              "</table>\n",
              "</div>\n",
              "      <button class=\"colab-df-convert\" onclick=\"convertToInteractive('df-c8e7274a-7e3e-4066-ac8c-710efe2e91ce')\"\n",
              "              title=\"Convert this dataframe to an interactive table.\"\n",
              "              style=\"display:none;\">\n",
              "        \n",
              "  <svg xmlns=\"http://www.w3.org/2000/svg\" height=\"24px\"viewBox=\"0 0 24 24\"\n",
              "       width=\"24px\">\n",
              "    <path d=\"M0 0h24v24H0V0z\" fill=\"none\"/>\n",
              "    <path d=\"M18.56 5.44l.94 2.06.94-2.06 2.06-.94-2.06-.94-.94-2.06-.94 2.06-2.06.94zm-11 1L8.5 8.5l.94-2.06 2.06-.94-2.06-.94L8.5 2.5l-.94 2.06-2.06.94zm10 10l.94 2.06.94-2.06 2.06-.94-2.06-.94-.94-2.06-.94 2.06-2.06.94z\"/><path d=\"M17.41 7.96l-1.37-1.37c-.4-.4-.92-.59-1.43-.59-.52 0-1.04.2-1.43.59L10.3 9.45l-7.72 7.72c-.78.78-.78 2.05 0 2.83L4 21.41c.39.39.9.59 1.41.59.51 0 1.02-.2 1.41-.59l7.78-7.78 2.81-2.81c.8-.78.8-2.07 0-2.86zM5.41 20L4 18.59l7.72-7.72 1.47 1.35L5.41 20z\"/>\n",
              "  </svg>\n",
              "      </button>\n",
              "      \n",
              "  <style>\n",
              "    .colab-df-container {\n",
              "      display:flex;\n",
              "      flex-wrap:wrap;\n",
              "      gap: 12px;\n",
              "    }\n",
              "\n",
              "    .colab-df-convert {\n",
              "      background-color: #E8F0FE;\n",
              "      border: none;\n",
              "      border-radius: 50%;\n",
              "      cursor: pointer;\n",
              "      display: none;\n",
              "      fill: #1967D2;\n",
              "      height: 32px;\n",
              "      padding: 0 0 0 0;\n",
              "      width: 32px;\n",
              "    }\n",
              "\n",
              "    .colab-df-convert:hover {\n",
              "      background-color: #E2EBFA;\n",
              "      box-shadow: 0px 1px 2px rgba(60, 64, 67, 0.3), 0px 1px 3px 1px rgba(60, 64, 67, 0.15);\n",
              "      fill: #174EA6;\n",
              "    }\n",
              "\n",
              "    [theme=dark] .colab-df-convert {\n",
              "      background-color: #3B4455;\n",
              "      fill: #D2E3FC;\n",
              "    }\n",
              "\n",
              "    [theme=dark] .colab-df-convert:hover {\n",
              "      background-color: #434B5C;\n",
              "      box-shadow: 0px 1px 3px 1px rgba(0, 0, 0, 0.15);\n",
              "      filter: drop-shadow(0px 1px 2px rgba(0, 0, 0, 0.3));\n",
              "      fill: #FFFFFF;\n",
              "    }\n",
              "  </style>\n",
              "\n",
              "      <script>\n",
              "        const buttonEl =\n",
              "          document.querySelector('#df-c8e7274a-7e3e-4066-ac8c-710efe2e91ce button.colab-df-convert');\n",
              "        buttonEl.style.display =\n",
              "          google.colab.kernel.accessAllowed ? 'block' : 'none';\n",
              "\n",
              "        async function convertToInteractive(key) {\n",
              "          const element = document.querySelector('#df-c8e7274a-7e3e-4066-ac8c-710efe2e91ce');\n",
              "          const dataTable =\n",
              "            await google.colab.kernel.invokeFunction('convertToInteractive',\n",
              "                                                     [key], {});\n",
              "          if (!dataTable) return;\n",
              "\n",
              "          const docLinkHtml = 'Like what you see? Visit the ' +\n",
              "            '<a target=\"_blank\" href=https://colab.research.google.com/notebooks/data_table.ipynb>data table notebook</a>'\n",
              "            + ' to learn more about interactive tables.';\n",
              "          element.innerHTML = '';\n",
              "          dataTable['output_type'] = 'display_data';\n",
              "          await google.colab.output.renderOutput(dataTable, element);\n",
              "          const docLink = document.createElement('div');\n",
              "          docLink.innerHTML = docLinkHtml;\n",
              "          element.appendChild(docLink);\n",
              "        }\n",
              "      </script>\n",
              "    </div>\n",
              "  </div>\n",
              "  "
            ]
          },
          "metadata": {}
        },
        {
          "output_type": "stream",
          "name": "stdout",
          "text": [
            "\n",
            "On y train  (11050,)\n"
          ]
        },
        {
          "output_type": "display_data",
          "data": {
            "text/plain": [
              "10749    0\n",
              "14906    0\n",
              "Name: Credit_Risk, dtype: int64"
            ]
          },
          "metadata": {}
        },
        {
          "output_type": "stream",
          "name": "stdout",
          "text": [
            "\n",
            "\n",
            "\n",
            "On X test  (4737, 10)\n"
          ]
        },
        {
          "output_type": "display_data",
          "data": {
            "text/plain": [
              "      Loan_Amount    Term  Interest_Rate  Credit_Score Home_Ownership  \\\n",
              "7219         9796  1 year          6.345           716           Rent   \n",
              "94           2521  1 year          7.995           739           Rent   \n",
              "\n",
              "      Annual_Income            Purpose  Monthly_Debt  Credit_Cards_Balance  \\\n",
              "7219        68572.0  Home Improvements        306.86                  4436   \n",
              "94          27230.0           Car Loan        242.80                  3137   \n",
              "\n",
              "      Credit_Utilization  \n",
              "7219               30.00  \n",
              "94                 62.18  "
            ],
            "text/html": [
              "\n",
              "  <div id=\"df-9eedd398-b5c3-4125-a5c2-4258e5c5c97c\">\n",
              "    <div class=\"colab-df-container\">\n",
              "      <div>\n",
              "<style scoped>\n",
              "    .dataframe tbody tr th:only-of-type {\n",
              "        vertical-align: middle;\n",
              "    }\n",
              "\n",
              "    .dataframe tbody tr th {\n",
              "        vertical-align: top;\n",
              "    }\n",
              "\n",
              "    .dataframe thead th {\n",
              "        text-align: right;\n",
              "    }\n",
              "</style>\n",
              "<table border=\"1\" class=\"dataframe\">\n",
              "  <thead>\n",
              "    <tr style=\"text-align: right;\">\n",
              "      <th></th>\n",
              "      <th>Loan_Amount</th>\n",
              "      <th>Term</th>\n",
              "      <th>Interest_Rate</th>\n",
              "      <th>Credit_Score</th>\n",
              "      <th>Home_Ownership</th>\n",
              "      <th>Annual_Income</th>\n",
              "      <th>Purpose</th>\n",
              "      <th>Monthly_Debt</th>\n",
              "      <th>Credit_Cards_Balance</th>\n",
              "      <th>Credit_Utilization</th>\n",
              "    </tr>\n",
              "  </thead>\n",
              "  <tbody>\n",
              "    <tr>\n",
              "      <th>7219</th>\n",
              "      <td>9796</td>\n",
              "      <td>1 year</td>\n",
              "      <td>6.345</td>\n",
              "      <td>716</td>\n",
              "      <td>Rent</td>\n",
              "      <td>68572.0</td>\n",
              "      <td>Home Improvements</td>\n",
              "      <td>306.86</td>\n",
              "      <td>4436</td>\n",
              "      <td>30.00</td>\n",
              "    </tr>\n",
              "    <tr>\n",
              "      <th>94</th>\n",
              "      <td>2521</td>\n",
              "      <td>1 year</td>\n",
              "      <td>7.995</td>\n",
              "      <td>739</td>\n",
              "      <td>Rent</td>\n",
              "      <td>27230.0</td>\n",
              "      <td>Car Loan</td>\n",
              "      <td>242.80</td>\n",
              "      <td>3137</td>\n",
              "      <td>62.18</td>\n",
              "    </tr>\n",
              "  </tbody>\n",
              "</table>\n",
              "</div>\n",
              "      <button class=\"colab-df-convert\" onclick=\"convertToInteractive('df-9eedd398-b5c3-4125-a5c2-4258e5c5c97c')\"\n",
              "              title=\"Convert this dataframe to an interactive table.\"\n",
              "              style=\"display:none;\">\n",
              "        \n",
              "  <svg xmlns=\"http://www.w3.org/2000/svg\" height=\"24px\"viewBox=\"0 0 24 24\"\n",
              "       width=\"24px\">\n",
              "    <path d=\"M0 0h24v24H0V0z\" fill=\"none\"/>\n",
              "    <path d=\"M18.56 5.44l.94 2.06.94-2.06 2.06-.94-2.06-.94-.94-2.06-.94 2.06-2.06.94zm-11 1L8.5 8.5l.94-2.06 2.06-.94-2.06-.94L8.5 2.5l-.94 2.06-2.06.94zm10 10l.94 2.06.94-2.06 2.06-.94-2.06-.94-.94-2.06-.94 2.06-2.06.94z\"/><path d=\"M17.41 7.96l-1.37-1.37c-.4-.4-.92-.59-1.43-.59-.52 0-1.04.2-1.43.59L10.3 9.45l-7.72 7.72c-.78.78-.78 2.05 0 2.83L4 21.41c.39.39.9.59 1.41.59.51 0 1.02-.2 1.41-.59l7.78-7.78 2.81-2.81c.8-.78.8-2.07 0-2.86zM5.41 20L4 18.59l7.72-7.72 1.47 1.35L5.41 20z\"/>\n",
              "  </svg>\n",
              "      </button>\n",
              "      \n",
              "  <style>\n",
              "    .colab-df-container {\n",
              "      display:flex;\n",
              "      flex-wrap:wrap;\n",
              "      gap: 12px;\n",
              "    }\n",
              "\n",
              "    .colab-df-convert {\n",
              "      background-color: #E8F0FE;\n",
              "      border: none;\n",
              "      border-radius: 50%;\n",
              "      cursor: pointer;\n",
              "      display: none;\n",
              "      fill: #1967D2;\n",
              "      height: 32px;\n",
              "      padding: 0 0 0 0;\n",
              "      width: 32px;\n",
              "    }\n",
              "\n",
              "    .colab-df-convert:hover {\n",
              "      background-color: #E2EBFA;\n",
              "      box-shadow: 0px 1px 2px rgba(60, 64, 67, 0.3), 0px 1px 3px 1px rgba(60, 64, 67, 0.15);\n",
              "      fill: #174EA6;\n",
              "    }\n",
              "\n",
              "    [theme=dark] .colab-df-convert {\n",
              "      background-color: #3B4455;\n",
              "      fill: #D2E3FC;\n",
              "    }\n",
              "\n",
              "    [theme=dark] .colab-df-convert:hover {\n",
              "      background-color: #434B5C;\n",
              "      box-shadow: 0px 1px 3px 1px rgba(0, 0, 0, 0.15);\n",
              "      filter: drop-shadow(0px 1px 2px rgba(0, 0, 0, 0.3));\n",
              "      fill: #FFFFFF;\n",
              "    }\n",
              "  </style>\n",
              "\n",
              "      <script>\n",
              "        const buttonEl =\n",
              "          document.querySelector('#df-9eedd398-b5c3-4125-a5c2-4258e5c5c97c button.colab-df-convert');\n",
              "        buttonEl.style.display =\n",
              "          google.colab.kernel.accessAllowed ? 'block' : 'none';\n",
              "\n",
              "        async function convertToInteractive(key) {\n",
              "          const element = document.querySelector('#df-9eedd398-b5c3-4125-a5c2-4258e5c5c97c');\n",
              "          const dataTable =\n",
              "            await google.colab.kernel.invokeFunction('convertToInteractive',\n",
              "                                                     [key], {});\n",
              "          if (!dataTable) return;\n",
              "\n",
              "          const docLinkHtml = 'Like what you see? Visit the ' +\n",
              "            '<a target=\"_blank\" href=https://colab.research.google.com/notebooks/data_table.ipynb>data table notebook</a>'\n",
              "            + ' to learn more about interactive tables.';\n",
              "          element.innerHTML = '';\n",
              "          dataTable['output_type'] = 'display_data';\n",
              "          await google.colab.output.renderOutput(dataTable, element);\n",
              "          const docLink = document.createElement('div');\n",
              "          docLink.innerHTML = docLinkHtml;\n",
              "          element.appendChild(docLink);\n",
              "        }\n",
              "      </script>\n",
              "    </div>\n",
              "  </div>\n",
              "  "
            ]
          },
          "metadata": {}
        },
        {
          "output_type": "stream",
          "name": "stdout",
          "text": [
            "\n",
            "On y test  (4737,)\n"
          ]
        },
        {
          "output_type": "display_data",
          "data": {
            "text/plain": [
              "5522    0\n",
              "9598    0\n",
              "Name: Credit_Risk, dtype: int64"
            ]
          },
          "metadata": {}
        }
      ]
    },
    {
      "cell_type": "markdown",
      "source": [
        "# ML Pipeline\n",
        "> The pipeline will involve preprocessing steps of the data and defining Transforms and Estimators on the training data. The next pipe will involve trial and error of different models to find the best performing one. Pipes to consider are caching calculations when appropiate througout the pipeline as intermediate steps for grid search and model fitting. The pipeline may need to Tranform targets of the model."
      ],
      "metadata": {
        "id": "fAO_hII_yVGV"
      }
    },
    {
      "cell_type": "markdown",
      "source": [
        "## Establishing the training pipeline\n",
        "\n",
        "> **Note: There will be no data imputed**  \n",
        "In the data clean up step, the were 3 columns with NA values. This included Credit_Score, Annual_Income, and Years_in_Current_Job. All records with NA entries for Credit_Score contained all NA entries for Annual_Income. I dropped these records because credit score plays a major part in determining if a record is at risk or not, the median credit score may sway the model to predict the record as not a credit risk and in result would lower the models accuracy. Years in current job has since been dismissed."
      ],
      "metadata": {
        "id": "Y1OZgZoS3TMZ"
      }
    },
    {
      "cell_type": "markdown",
      "source": [
        "Creating individual pipelines for numerical and categorical columns"
      ],
      "metadata": {
        "id": "SzWmA2sasGzG"
      }
    },
    {
      "cell_type": "code",
      "source": [
        "cat_pipeline = Pipeline(steps=[('onehot_cat', OneHotEncoder())])\n",
        "num_pipeline = Pipeline(steps=[('scale_num', StandardScaler())])\n",
        "\n",
        "preproc = ColumnTransformer([('cat_pipe', cat_pipeline, make_column_selector(dtype_include=object)),\n",
        "                             ('num_pipe', num_pipeline, make_column_selector(dtype_include=np.number))],\n",
        "                             remainder='passthrough')"
      ],
      "metadata": {
        "id": "AJX6fHhKeRYh"
      },
      "execution_count": null,
      "outputs": []
    },
    {
      "cell_type": "markdown",
      "source": [
        "> The pipeline will train a GradientBoostingClassifier model"
      ],
      "metadata": {
        "id": "U0UNt_1cdXlM"
      }
    },
    {
      "cell_type": "code",
      "source": [
        "#generate the whole modeling pipeline with preprocessing\n",
        "pipe = Pipeline(steps=[('preproc', preproc), ('mdl', GradientBoostingClassifier(\n",
        "                n_estimators=100, learning_rate=1.0, max_depth=2, random_state=0))]) \n",
        "\n",
        "#visualization for steps\n",
        "with config_context(display='diagram'):\n",
        "    display(pipe)"
      ],
      "metadata": {
        "colab": {
          "base_uri": "https://localhost:8080/",
          "height": 192
        },
        "id": "Fqj9aH-rTSkc",
        "outputId": "1e8e3108-9544-4c14-a75b-b65a009439ab"
      },
      "execution_count": null,
      "outputs": [
        {
          "output_type": "display_data",
          "data": {
            "text/plain": [
              "Pipeline(steps=[('preproc',\n",
              "                 ColumnTransformer(remainder='passthrough',\n",
              "                                   transformers=[('cat_pipe',\n",
              "                                                  Pipeline(steps=[('onehot_cat',\n",
              "                                                                   OneHotEncoder())]),\n",
              "                                                  <sklearn.compose._column_transformer.make_column_selector object at 0x7f4a8b78d710>),\n",
              "                                                 ('num_pipe',\n",
              "                                                  Pipeline(steps=[('scale_num',\n",
              "                                                                   StandardScaler())]),\n",
              "                                                  <sklearn.compose._column_transformer.make_column_selector object at 0x7f4a8b78fc50>)])),\n",
              "                ('mdl',\n",
              "                 GradientBoostingClassifier(learning_rate=1.0, max_depth=2,\n",
              "                                            random_state=0))])"
            ],
            "text/html": [
              "<style>#sk-2231f530-d0b2-41e6-b496-159cf0b4cbb1 {color: black;background-color: white;}#sk-2231f530-d0b2-41e6-b496-159cf0b4cbb1 pre{padding: 0;}#sk-2231f530-d0b2-41e6-b496-159cf0b4cbb1 div.sk-toggleable {background-color: white;}#sk-2231f530-d0b2-41e6-b496-159cf0b4cbb1 label.sk-toggleable__label {cursor: pointer;display: block;width: 100%;margin-bottom: 0;padding: 0.3em;box-sizing: border-box;text-align: center;}#sk-2231f530-d0b2-41e6-b496-159cf0b4cbb1 label.sk-toggleable__label-arrow:before {content: \"▸\";float: left;margin-right: 0.25em;color: #696969;}#sk-2231f530-d0b2-41e6-b496-159cf0b4cbb1 label.sk-toggleable__label-arrow:hover:before {color: black;}#sk-2231f530-d0b2-41e6-b496-159cf0b4cbb1 div.sk-estimator:hover label.sk-toggleable__label-arrow:before {color: black;}#sk-2231f530-d0b2-41e6-b496-159cf0b4cbb1 div.sk-toggleable__content {max-height: 0;max-width: 0;overflow: hidden;text-align: left;background-color: #f0f8ff;}#sk-2231f530-d0b2-41e6-b496-159cf0b4cbb1 div.sk-toggleable__content pre {margin: 0.2em;color: black;border-radius: 0.25em;background-color: #f0f8ff;}#sk-2231f530-d0b2-41e6-b496-159cf0b4cbb1 input.sk-toggleable__control:checked~div.sk-toggleable__content {max-height: 200px;max-width: 100%;overflow: auto;}#sk-2231f530-d0b2-41e6-b496-159cf0b4cbb1 input.sk-toggleable__control:checked~label.sk-toggleable__label-arrow:before {content: \"▾\";}#sk-2231f530-d0b2-41e6-b496-159cf0b4cbb1 div.sk-estimator input.sk-toggleable__control:checked~label.sk-toggleable__label {background-color: #d4ebff;}#sk-2231f530-d0b2-41e6-b496-159cf0b4cbb1 div.sk-label input.sk-toggleable__control:checked~label.sk-toggleable__label {background-color: #d4ebff;}#sk-2231f530-d0b2-41e6-b496-159cf0b4cbb1 input.sk-hidden--visually {border: 0;clip: rect(1px 1px 1px 1px);clip: rect(1px, 1px, 1px, 1px);height: 1px;margin: -1px;overflow: hidden;padding: 0;position: absolute;width: 1px;}#sk-2231f530-d0b2-41e6-b496-159cf0b4cbb1 div.sk-estimator {font-family: monospace;background-color: #f0f8ff;border: 1px dotted black;border-radius: 0.25em;box-sizing: border-box;margin-bottom: 0.5em;}#sk-2231f530-d0b2-41e6-b496-159cf0b4cbb1 div.sk-estimator:hover {background-color: #d4ebff;}#sk-2231f530-d0b2-41e6-b496-159cf0b4cbb1 div.sk-parallel-item::after {content: \"\";width: 100%;border-bottom: 1px solid gray;flex-grow: 1;}#sk-2231f530-d0b2-41e6-b496-159cf0b4cbb1 div.sk-label:hover label.sk-toggleable__label {background-color: #d4ebff;}#sk-2231f530-d0b2-41e6-b496-159cf0b4cbb1 div.sk-serial::before {content: \"\";position: absolute;border-left: 1px solid gray;box-sizing: border-box;top: 2em;bottom: 0;left: 50%;}#sk-2231f530-d0b2-41e6-b496-159cf0b4cbb1 div.sk-serial {display: flex;flex-direction: column;align-items: center;background-color: white;padding-right: 0.2em;padding-left: 0.2em;}#sk-2231f530-d0b2-41e6-b496-159cf0b4cbb1 div.sk-item {z-index: 1;}#sk-2231f530-d0b2-41e6-b496-159cf0b4cbb1 div.sk-parallel {display: flex;align-items: stretch;justify-content: center;background-color: white;}#sk-2231f530-d0b2-41e6-b496-159cf0b4cbb1 div.sk-parallel::before {content: \"\";position: absolute;border-left: 1px solid gray;box-sizing: border-box;top: 2em;bottom: 0;left: 50%;}#sk-2231f530-d0b2-41e6-b496-159cf0b4cbb1 div.sk-parallel-item {display: flex;flex-direction: column;position: relative;background-color: white;}#sk-2231f530-d0b2-41e6-b496-159cf0b4cbb1 div.sk-parallel-item:first-child::after {align-self: flex-end;width: 50%;}#sk-2231f530-d0b2-41e6-b496-159cf0b4cbb1 div.sk-parallel-item:last-child::after {align-self: flex-start;width: 50%;}#sk-2231f530-d0b2-41e6-b496-159cf0b4cbb1 div.sk-parallel-item:only-child::after {width: 0;}#sk-2231f530-d0b2-41e6-b496-159cf0b4cbb1 div.sk-dashed-wrapped {border: 1px dashed gray;margin: 0 0.4em 0.5em 0.4em;box-sizing: border-box;padding-bottom: 0.4em;background-color: white;position: relative;}#sk-2231f530-d0b2-41e6-b496-159cf0b4cbb1 div.sk-label label {font-family: monospace;font-weight: bold;background-color: white;display: inline-block;line-height: 1.2em;}#sk-2231f530-d0b2-41e6-b496-159cf0b4cbb1 div.sk-label-container {position: relative;z-index: 2;text-align: center;}#sk-2231f530-d0b2-41e6-b496-159cf0b4cbb1 div.sk-container {/* jupyter's `normalize.less` sets `[hidden] { display: none; }` but bootstrap.min.css set `[hidden] { display: none !important; }` so we also need the `!important` here to be able to override the default hidden behavior on the sphinx rendered scikit-learn.org. See: https://github.com/scikit-learn/scikit-learn/issues/21755 */display: inline-block !important;position: relative;}#sk-2231f530-d0b2-41e6-b496-159cf0b4cbb1 div.sk-text-repr-fallback {display: none;}</style><div id=\"sk-2231f530-d0b2-41e6-b496-159cf0b4cbb1\" class=\"sk-top-container\"><div class=\"sk-text-repr-fallback\"><pre>Pipeline(steps=[(&#x27;preproc&#x27;,\n",
              "                 ColumnTransformer(remainder=&#x27;passthrough&#x27;,\n",
              "                                   transformers=[(&#x27;cat_pipe&#x27;,\n",
              "                                                  Pipeline(steps=[(&#x27;onehot_cat&#x27;,\n",
              "                                                                   OneHotEncoder())]),\n",
              "                                                  &lt;sklearn.compose._column_transformer.make_column_selector object at 0x7f4a8b78d710&gt;),\n",
              "                                                 (&#x27;num_pipe&#x27;,\n",
              "                                                  Pipeline(steps=[(&#x27;scale_num&#x27;,\n",
              "                                                                   StandardScaler())]),\n",
              "                                                  &lt;sklearn.compose._column_transformer.make_column_selector object at 0x7f4a8b78fc50&gt;)])),\n",
              "                (&#x27;mdl&#x27;,\n",
              "                 GradientBoostingClassifier(learning_rate=1.0, max_depth=2,\n",
              "                                            random_state=0))])</pre><b>Please rerun this cell to show the HTML repr or trust the notebook.</b></div><div class=\"sk-container\" hidden><div class=\"sk-item sk-dashed-wrapped\"><div class=\"sk-label-container\"><div class=\"sk-label sk-toggleable\"><input class=\"sk-toggleable__control sk-hidden--visually\" id=\"597cd7b5-b188-4e34-b12b-d84249b7ca92\" type=\"checkbox\" ><label for=\"597cd7b5-b188-4e34-b12b-d84249b7ca92\" class=\"sk-toggleable__label sk-toggleable__label-arrow\">Pipeline</label><div class=\"sk-toggleable__content\"><pre>Pipeline(steps=[(&#x27;preproc&#x27;,\n",
              "                 ColumnTransformer(remainder=&#x27;passthrough&#x27;,\n",
              "                                   transformers=[(&#x27;cat_pipe&#x27;,\n",
              "                                                  Pipeline(steps=[(&#x27;onehot_cat&#x27;,\n",
              "                                                                   OneHotEncoder())]),\n",
              "                                                  &lt;sklearn.compose._column_transformer.make_column_selector object at 0x7f4a8b78d710&gt;),\n",
              "                                                 (&#x27;num_pipe&#x27;,\n",
              "                                                  Pipeline(steps=[(&#x27;scale_num&#x27;,\n",
              "                                                                   StandardScaler())]),\n",
              "                                                  &lt;sklearn.compose._column_transformer.make_column_selector object at 0x7f4a8b78fc50&gt;)])),\n",
              "                (&#x27;mdl&#x27;,\n",
              "                 GradientBoostingClassifier(learning_rate=1.0, max_depth=2,\n",
              "                                            random_state=0))])</pre></div></div></div><div class=\"sk-serial\"><div class=\"sk-item sk-dashed-wrapped\"><div class=\"sk-label-container\"><div class=\"sk-label sk-toggleable\"><input class=\"sk-toggleable__control sk-hidden--visually\" id=\"7b6b055a-2786-4b0d-a066-6291079a301f\" type=\"checkbox\" ><label for=\"7b6b055a-2786-4b0d-a066-6291079a301f\" class=\"sk-toggleable__label sk-toggleable__label-arrow\">preproc: ColumnTransformer</label><div class=\"sk-toggleable__content\"><pre>ColumnTransformer(remainder=&#x27;passthrough&#x27;,\n",
              "                  transformers=[(&#x27;cat_pipe&#x27;,\n",
              "                                 Pipeline(steps=[(&#x27;onehot_cat&#x27;,\n",
              "                                                  OneHotEncoder())]),\n",
              "                                 &lt;sklearn.compose._column_transformer.make_column_selector object at 0x7f4a8b78d710&gt;),\n",
              "                                (&#x27;num_pipe&#x27;,\n",
              "                                 Pipeline(steps=[(&#x27;scale_num&#x27;,\n",
              "                                                  StandardScaler())]),\n",
              "                                 &lt;sklearn.compose._column_transformer.make_column_selector object at 0x7f4a8b78fc50&gt;)])</pre></div></div></div><div class=\"sk-parallel\"><div class=\"sk-parallel-item\"><div class=\"sk-item\"><div class=\"sk-label-container\"><div class=\"sk-label sk-toggleable\"><input class=\"sk-toggleable__control sk-hidden--visually\" id=\"ecf43e6a-c97d-4cc2-a5ca-e48669bfba69\" type=\"checkbox\" ><label for=\"ecf43e6a-c97d-4cc2-a5ca-e48669bfba69\" class=\"sk-toggleable__label sk-toggleable__label-arrow\">cat_pipe</label><div class=\"sk-toggleable__content\"><pre>&lt;sklearn.compose._column_transformer.make_column_selector object at 0x7f4a8b78d710&gt;</pre></div></div></div><div class=\"sk-serial\"><div class=\"sk-item\"><div class=\"sk-serial\"><div class=\"sk-item\"><div class=\"sk-estimator sk-toggleable\"><input class=\"sk-toggleable__control sk-hidden--visually\" id=\"aa669101-86c4-4922-962d-c7cf7c1846e8\" type=\"checkbox\" ><label for=\"aa669101-86c4-4922-962d-c7cf7c1846e8\" class=\"sk-toggleable__label sk-toggleable__label-arrow\">OneHotEncoder</label><div class=\"sk-toggleable__content\"><pre>OneHotEncoder()</pre></div></div></div></div></div></div></div></div><div class=\"sk-parallel-item\"><div class=\"sk-item\"><div class=\"sk-label-container\"><div class=\"sk-label sk-toggleable\"><input class=\"sk-toggleable__control sk-hidden--visually\" id=\"45a12e49-1a82-4a4c-9090-2b48b5879dda\" type=\"checkbox\" ><label for=\"45a12e49-1a82-4a4c-9090-2b48b5879dda\" class=\"sk-toggleable__label sk-toggleable__label-arrow\">num_pipe</label><div class=\"sk-toggleable__content\"><pre>&lt;sklearn.compose._column_transformer.make_column_selector object at 0x7f4a8b78fc50&gt;</pre></div></div></div><div class=\"sk-serial\"><div class=\"sk-item\"><div class=\"sk-serial\"><div class=\"sk-item\"><div class=\"sk-estimator sk-toggleable\"><input class=\"sk-toggleable__control sk-hidden--visually\" id=\"5997a280-a1a9-4370-81c8-775b484e409e\" type=\"checkbox\" ><label for=\"5997a280-a1a9-4370-81c8-775b484e409e\" class=\"sk-toggleable__label sk-toggleable__label-arrow\">StandardScaler</label><div class=\"sk-toggleable__content\"><pre>StandardScaler()</pre></div></div></div></div></div></div></div></div><div class=\"sk-parallel-item\"><div class=\"sk-item\"><div class=\"sk-label-container\"><div class=\"sk-label sk-toggleable\"><input class=\"sk-toggleable__control sk-hidden--visually\" id=\"358ccd59-3442-4b31-be82-a95a1d73a890\" type=\"checkbox\" ><label for=\"358ccd59-3442-4b31-be82-a95a1d73a890\" class=\"sk-toggleable__label sk-toggleable__label-arrow\">remainder</label><div class=\"sk-toggleable__content\"><pre></pre></div></div></div><div class=\"sk-serial\"><div class=\"sk-item\"><div class=\"sk-estimator sk-toggleable\"><input class=\"sk-toggleable__control sk-hidden--visually\" id=\"bfa9ac02-b2c4-448c-bafa-6f2b3aeae6d2\" type=\"checkbox\" ><label for=\"bfa9ac02-b2c4-448c-bafa-6f2b3aeae6d2\" class=\"sk-toggleable__label sk-toggleable__label-arrow\">passthrough</label><div class=\"sk-toggleable__content\"><pre>passthrough</pre></div></div></div></div></div></div></div></div><div class=\"sk-item\"><div class=\"sk-estimator sk-toggleable\"><input class=\"sk-toggleable__control sk-hidden--visually\" id=\"20639622-2dfc-4845-9f1f-5e5b612c41df\" type=\"checkbox\" ><label for=\"20639622-2dfc-4845-9f1f-5e5b612c41df\" class=\"sk-toggleable__label sk-toggleable__label-arrow\">GradientBoostingClassifier</label><div class=\"sk-toggleable__content\"><pre>GradientBoostingClassifier(learning_rate=1.0, max_depth=2, random_state=0)</pre></div></div></div></div></div></div></div>"
            ]
          },
          "metadata": {}
        }
      ]
    },
    {
      "cell_type": "markdown",
      "source": [
        "## Cross-validation with hyperparameter tuning"
      ],
      "metadata": {
        "id": "83XW_Ebbh9xL"
      }
    },
    {
      "cell_type": "code",
      "source": [
        "#hyperparameter tuning\n",
        "tuning_grid = {'mdl__learning_rate' : [0.1,1,10,50], 'mdl__max_depth': [1,2,3,4],\n",
        "               \"mdl__n_estimators\": [100, 200, 300, 400]}\n",
        "# GridSearchCV is used for cross-validation\n",
        "grid_search = GridSearchCV(pipe, param_grid = tuning_grid, cv = 5, return_train_score=True)\n",
        "\n",
        "grid_search.fit(X_train, y_train)"
      ],
      "metadata": {
        "colab": {
          "base_uri": "https://localhost:8080/"
        },
        "id": "-GXLxLqijKqi",
        "outputId": "d9881d81-88b8-455e-9e87-e5dad1e211a4"
      },
      "execution_count": null,
      "outputs": [
        {
          "output_type": "execute_result",
          "data": {
            "text/plain": [
              "GridSearchCV(cv=5,\n",
              "             estimator=Pipeline(steps=[('preproc',\n",
              "                                        ColumnTransformer(remainder='passthrough',\n",
              "                                                          transformers=[('cat_pipe',\n",
              "                                                                         Pipeline(steps=[('onehot_cat',\n",
              "                                                                                          OneHotEncoder())]),\n",
              "                                                                         <sklearn.compose._column_transformer.make_column_selector object at 0x7f4a8b78d710>),\n",
              "                                                                        ('num_pipe',\n",
              "                                                                         Pipeline(steps=[('scale_num',\n",
              "                                                                                          StandardScaler())]),\n",
              "                                                                         <sklearn.compose._column_transformer.make_column_selector object at 0x7f4a8b78fc50>)])),\n",
              "                                       ('mdl',\n",
              "                                        GradientBoostingClassifier(learning_rate=1.0,\n",
              "                                                                   max_depth=2,\n",
              "                                                                   random_state=0))]),\n",
              "             param_grid={'mdl__learning_rate': [0.1, 1, 10, 50],\n",
              "                         'mdl__max_depth': [1, 2, 3, 4],\n",
              "                         'mdl__n_estimators': [100, 200, 300, 400]},\n",
              "             return_train_score=True)"
            ]
          },
          "metadata": {},
          "execution_count": 86
        }
      ]
    },
    {
      "cell_type": "code",
      "source": [
        "print(grid_search.best_score_)\n",
        "grid_search.best_params_"
      ],
      "metadata": {
        "colab": {
          "base_uri": "https://localhost:8080/"
        },
        "id": "zEs3zLr1jKzj",
        "outputId": "19116fe1-29aa-4595-d149-2a0b348044eb"
      },
      "execution_count": null,
      "outputs": [
        {
          "output_type": "stream",
          "name": "stdout",
          "text": [
            "0.799366515837104\n"
          ]
        },
        {
          "output_type": "execute_result",
          "data": {
            "text/plain": [
              "{'mdl__learning_rate': 0.1, 'mdl__max_depth': 2, 'mdl__n_estimators': 300}"
            ]
          },
          "metadata": {},
          "execution_count": 87
        }
      ]
    },
    {
      "cell_type": "code",
      "source": [
        "pd.DataFrame(grid_search.cv_results_).head()"
      ],
      "metadata": {
        "colab": {
          "base_uri": "https://localhost:8080/",
          "height": 473
        },
        "id": "ZXKP8nLCjK9w",
        "outputId": "97fb53ed-7233-4db4-a8f9-aab6ac7ee54e"
      },
      "execution_count": null,
      "outputs": [
        {
          "output_type": "execute_result",
          "data": {
            "text/plain": [
              "   mean_fit_time  std_fit_time  mean_score_time  std_score_time  \\\n",
              "0       0.980036      0.030046         0.010253        0.000313   \n",
              "1       1.872928      0.006315         0.012148        0.000784   \n",
              "2       2.806561      0.015571         0.013435        0.000160   \n",
              "3       3.737024      0.011364         0.014773        0.000420   \n",
              "4       1.668085      0.013675         0.011192        0.000204   \n",
              "\n",
              "  param_mdl__learning_rate param_mdl__max_depth param_mdl__n_estimators  \\\n",
              "0                      0.1                    1                     100   \n",
              "1                      0.1                    1                     200   \n",
              "2                      0.1                    1                     300   \n",
              "3                      0.1                    1                     400   \n",
              "4                      0.1                    2                     100   \n",
              "\n",
              "                                              params  split0_test_score  \\\n",
              "0  {'mdl__learning_rate': 0.1, 'mdl__max_depth': ...           0.763348   \n",
              "1  {'mdl__learning_rate': 0.1, 'mdl__max_depth': ...           0.785520   \n",
              "2  {'mdl__learning_rate': 0.1, 'mdl__max_depth': ...           0.799548   \n",
              "3  {'mdl__learning_rate': 0.1, 'mdl__max_depth': ...           0.799095   \n",
              "4  {'mdl__learning_rate': 0.1, 'mdl__max_depth': ...           0.801810   \n",
              "\n",
              "   split1_test_score  ...  mean_test_score  std_test_score  rank_test_score  \\\n",
              "0           0.766063  ...         0.764072        0.002769               32   \n",
              "1           0.780995  ...         0.783348        0.006344               20   \n",
              "2           0.780543  ...         0.788688        0.008210               18   \n",
              "3           0.784163  ...         0.790045        0.006644               17   \n",
              "4           0.793213  ...         0.796471        0.005050                8   \n",
              "\n",
              "   split0_train_score  split1_train_score  split2_train_score  \\\n",
              "0            0.766855            0.766855            0.772059   \n",
              "1            0.787104            0.787330            0.789819   \n",
              "2            0.795023            0.797738            0.799548   \n",
              "3            0.799095            0.801923            0.803846   \n",
              "4            0.809163            0.809163            0.809615   \n",
              "\n",
              "   split3_train_score  split4_train_score  mean_train_score  std_train_score  \n",
              "0            0.762896            0.767081          0.767149         0.002911  \n",
              "1            0.784615            0.788122          0.787398         0.001686  \n",
              "2            0.796267            0.795023          0.796719         0.001732  \n",
              "3            0.799434            0.801471          0.801154         0.001740  \n",
              "4            0.807466            0.808710          0.808824         0.000737  \n",
              "\n",
              "[5 rows x 23 columns]"
            ],
            "text/html": [
              "\n",
              "  <div id=\"df-88f9e4fd-af8e-45f1-b800-990002682073\">\n",
              "    <div class=\"colab-df-container\">\n",
              "      <div>\n",
              "<style scoped>\n",
              "    .dataframe tbody tr th:only-of-type {\n",
              "        vertical-align: middle;\n",
              "    }\n",
              "\n",
              "    .dataframe tbody tr th {\n",
              "        vertical-align: top;\n",
              "    }\n",
              "\n",
              "    .dataframe thead th {\n",
              "        text-align: right;\n",
              "    }\n",
              "</style>\n",
              "<table border=\"1\" class=\"dataframe\">\n",
              "  <thead>\n",
              "    <tr style=\"text-align: right;\">\n",
              "      <th></th>\n",
              "      <th>mean_fit_time</th>\n",
              "      <th>std_fit_time</th>\n",
              "      <th>mean_score_time</th>\n",
              "      <th>std_score_time</th>\n",
              "      <th>param_mdl__learning_rate</th>\n",
              "      <th>param_mdl__max_depth</th>\n",
              "      <th>param_mdl__n_estimators</th>\n",
              "      <th>params</th>\n",
              "      <th>split0_test_score</th>\n",
              "      <th>split1_test_score</th>\n",
              "      <th>...</th>\n",
              "      <th>mean_test_score</th>\n",
              "      <th>std_test_score</th>\n",
              "      <th>rank_test_score</th>\n",
              "      <th>split0_train_score</th>\n",
              "      <th>split1_train_score</th>\n",
              "      <th>split2_train_score</th>\n",
              "      <th>split3_train_score</th>\n",
              "      <th>split4_train_score</th>\n",
              "      <th>mean_train_score</th>\n",
              "      <th>std_train_score</th>\n",
              "    </tr>\n",
              "  </thead>\n",
              "  <tbody>\n",
              "    <tr>\n",
              "      <th>0</th>\n",
              "      <td>0.980036</td>\n",
              "      <td>0.030046</td>\n",
              "      <td>0.010253</td>\n",
              "      <td>0.000313</td>\n",
              "      <td>0.1</td>\n",
              "      <td>1</td>\n",
              "      <td>100</td>\n",
              "      <td>{'mdl__learning_rate': 0.1, 'mdl__max_depth': ...</td>\n",
              "      <td>0.763348</td>\n",
              "      <td>0.766063</td>\n",
              "      <td>...</td>\n",
              "      <td>0.764072</td>\n",
              "      <td>0.002769</td>\n",
              "      <td>32</td>\n",
              "      <td>0.766855</td>\n",
              "      <td>0.766855</td>\n",
              "      <td>0.772059</td>\n",
              "      <td>0.762896</td>\n",
              "      <td>0.767081</td>\n",
              "      <td>0.767149</td>\n",
              "      <td>0.002911</td>\n",
              "    </tr>\n",
              "    <tr>\n",
              "      <th>1</th>\n",
              "      <td>1.872928</td>\n",
              "      <td>0.006315</td>\n",
              "      <td>0.012148</td>\n",
              "      <td>0.000784</td>\n",
              "      <td>0.1</td>\n",
              "      <td>1</td>\n",
              "      <td>200</td>\n",
              "      <td>{'mdl__learning_rate': 0.1, 'mdl__max_depth': ...</td>\n",
              "      <td>0.785520</td>\n",
              "      <td>0.780995</td>\n",
              "      <td>...</td>\n",
              "      <td>0.783348</td>\n",
              "      <td>0.006344</td>\n",
              "      <td>20</td>\n",
              "      <td>0.787104</td>\n",
              "      <td>0.787330</td>\n",
              "      <td>0.789819</td>\n",
              "      <td>0.784615</td>\n",
              "      <td>0.788122</td>\n",
              "      <td>0.787398</td>\n",
              "      <td>0.001686</td>\n",
              "    </tr>\n",
              "    <tr>\n",
              "      <th>2</th>\n",
              "      <td>2.806561</td>\n",
              "      <td>0.015571</td>\n",
              "      <td>0.013435</td>\n",
              "      <td>0.000160</td>\n",
              "      <td>0.1</td>\n",
              "      <td>1</td>\n",
              "      <td>300</td>\n",
              "      <td>{'mdl__learning_rate': 0.1, 'mdl__max_depth': ...</td>\n",
              "      <td>0.799548</td>\n",
              "      <td>0.780543</td>\n",
              "      <td>...</td>\n",
              "      <td>0.788688</td>\n",
              "      <td>0.008210</td>\n",
              "      <td>18</td>\n",
              "      <td>0.795023</td>\n",
              "      <td>0.797738</td>\n",
              "      <td>0.799548</td>\n",
              "      <td>0.796267</td>\n",
              "      <td>0.795023</td>\n",
              "      <td>0.796719</td>\n",
              "      <td>0.001732</td>\n",
              "    </tr>\n",
              "    <tr>\n",
              "      <th>3</th>\n",
              "      <td>3.737024</td>\n",
              "      <td>0.011364</td>\n",
              "      <td>0.014773</td>\n",
              "      <td>0.000420</td>\n",
              "      <td>0.1</td>\n",
              "      <td>1</td>\n",
              "      <td>400</td>\n",
              "      <td>{'mdl__learning_rate': 0.1, 'mdl__max_depth': ...</td>\n",
              "      <td>0.799095</td>\n",
              "      <td>0.784163</td>\n",
              "      <td>...</td>\n",
              "      <td>0.790045</td>\n",
              "      <td>0.006644</td>\n",
              "      <td>17</td>\n",
              "      <td>0.799095</td>\n",
              "      <td>0.801923</td>\n",
              "      <td>0.803846</td>\n",
              "      <td>0.799434</td>\n",
              "      <td>0.801471</td>\n",
              "      <td>0.801154</td>\n",
              "      <td>0.001740</td>\n",
              "    </tr>\n",
              "    <tr>\n",
              "      <th>4</th>\n",
              "      <td>1.668085</td>\n",
              "      <td>0.013675</td>\n",
              "      <td>0.011192</td>\n",
              "      <td>0.000204</td>\n",
              "      <td>0.1</td>\n",
              "      <td>2</td>\n",
              "      <td>100</td>\n",
              "      <td>{'mdl__learning_rate': 0.1, 'mdl__max_depth': ...</td>\n",
              "      <td>0.801810</td>\n",
              "      <td>0.793213</td>\n",
              "      <td>...</td>\n",
              "      <td>0.796471</td>\n",
              "      <td>0.005050</td>\n",
              "      <td>8</td>\n",
              "      <td>0.809163</td>\n",
              "      <td>0.809163</td>\n",
              "      <td>0.809615</td>\n",
              "      <td>0.807466</td>\n",
              "      <td>0.808710</td>\n",
              "      <td>0.808824</td>\n",
              "      <td>0.000737</td>\n",
              "    </tr>\n",
              "  </tbody>\n",
              "</table>\n",
              "<p>5 rows × 23 columns</p>\n",
              "</div>\n",
              "      <button class=\"colab-df-convert\" onclick=\"convertToInteractive('df-88f9e4fd-af8e-45f1-b800-990002682073')\"\n",
              "              title=\"Convert this dataframe to an interactive table.\"\n",
              "              style=\"display:none;\">\n",
              "        \n",
              "  <svg xmlns=\"http://www.w3.org/2000/svg\" height=\"24px\"viewBox=\"0 0 24 24\"\n",
              "       width=\"24px\">\n",
              "    <path d=\"M0 0h24v24H0V0z\" fill=\"none\"/>\n",
              "    <path d=\"M18.56 5.44l.94 2.06.94-2.06 2.06-.94-2.06-.94-.94-2.06-.94 2.06-2.06.94zm-11 1L8.5 8.5l.94-2.06 2.06-.94-2.06-.94L8.5 2.5l-.94 2.06-2.06.94zm10 10l.94 2.06.94-2.06 2.06-.94-2.06-.94-.94-2.06-.94 2.06-2.06.94z\"/><path d=\"M17.41 7.96l-1.37-1.37c-.4-.4-.92-.59-1.43-.59-.52 0-1.04.2-1.43.59L10.3 9.45l-7.72 7.72c-.78.78-.78 2.05 0 2.83L4 21.41c.39.39.9.59 1.41.59.51 0 1.02-.2 1.41-.59l7.78-7.78 2.81-2.81c.8-.78.8-2.07 0-2.86zM5.41 20L4 18.59l7.72-7.72 1.47 1.35L5.41 20z\"/>\n",
              "  </svg>\n",
              "      </button>\n",
              "      \n",
              "  <style>\n",
              "    .colab-df-container {\n",
              "      display:flex;\n",
              "      flex-wrap:wrap;\n",
              "      gap: 12px;\n",
              "    }\n",
              "\n",
              "    .colab-df-convert {\n",
              "      background-color: #E8F0FE;\n",
              "      border: none;\n",
              "      border-radius: 50%;\n",
              "      cursor: pointer;\n",
              "      display: none;\n",
              "      fill: #1967D2;\n",
              "      height: 32px;\n",
              "      padding: 0 0 0 0;\n",
              "      width: 32px;\n",
              "    }\n",
              "\n",
              "    .colab-df-convert:hover {\n",
              "      background-color: #E2EBFA;\n",
              "      box-shadow: 0px 1px 2px rgba(60, 64, 67, 0.3), 0px 1px 3px 1px rgba(60, 64, 67, 0.15);\n",
              "      fill: #174EA6;\n",
              "    }\n",
              "\n",
              "    [theme=dark] .colab-df-convert {\n",
              "      background-color: #3B4455;\n",
              "      fill: #D2E3FC;\n",
              "    }\n",
              "\n",
              "    [theme=dark] .colab-df-convert:hover {\n",
              "      background-color: #434B5C;\n",
              "      box-shadow: 0px 1px 3px 1px rgba(0, 0, 0, 0.15);\n",
              "      filter: drop-shadow(0px 1px 2px rgba(0, 0, 0, 0.3));\n",
              "      fill: #FFFFFF;\n",
              "    }\n",
              "  </style>\n",
              "\n",
              "      <script>\n",
              "        const buttonEl =\n",
              "          document.querySelector('#df-88f9e4fd-af8e-45f1-b800-990002682073 button.colab-df-convert');\n",
              "        buttonEl.style.display =\n",
              "          google.colab.kernel.accessAllowed ? 'block' : 'none';\n",
              "\n",
              "        async function convertToInteractive(key) {\n",
              "          const element = document.querySelector('#df-88f9e4fd-af8e-45f1-b800-990002682073');\n",
              "          const dataTable =\n",
              "            await google.colab.kernel.invokeFunction('convertToInteractive',\n",
              "                                                     [key], {});\n",
              "          if (!dataTable) return;\n",
              "\n",
              "          const docLinkHtml = 'Like what you see? Visit the ' +\n",
              "            '<a target=\"_blank\" href=https://colab.research.google.com/notebooks/data_table.ipynb>data table notebook</a>'\n",
              "            + ' to learn more about interactive tables.';\n",
              "          element.innerHTML = '';\n",
              "          dataTable['output_type'] = 'display_data';\n",
              "          await google.colab.output.renderOutput(dataTable, element);\n",
              "          const docLink = document.createElement('div');\n",
              "          docLink.innerHTML = docLinkHtml;\n",
              "          element.appendChild(docLink);\n",
              "        }\n",
              "      </script>\n",
              "    </div>\n",
              "  </div>\n",
              "  "
            ]
          },
          "metadata": {},
          "execution_count": 90
        }
      ]
    },
    {
      "cell_type": "markdown",
      "source": [
        "## Model fitting and Evaluation\n",
        "\n",
        "### Assumptions \n",
        "\n",
        " > 1. Because the most common purpose type is Home Loan, the model will be aided to perform at a higher accuracy because there is more data in that category to discern a pattern and will also have more records to predict based on that pattern which will overall add to the correct predictions count.\n",
        "\n"
      ],
      "metadata": {
        "id": "q3JcXB4MyZsC"
      }
    },
    {
      "cell_type": "markdown",
      "source": [
        "Final fit "
      ],
      "metadata": {
        "id": "LLaIxBk9oB7c"
      }
    },
    {
      "cell_type": "code",
      "source": [
        "grid_search.best_estimator_"
      ],
      "metadata": {
        "colab": {
          "base_uri": "https://localhost:8080/"
        },
        "id": "JGawXzzcn23W",
        "outputId": "561f95cc-db6a-4b85-8ae4-ad83022480a6"
      },
      "execution_count": null,
      "outputs": [
        {
          "output_type": "execute_result",
          "data": {
            "text/plain": [
              "Pipeline(steps=[('preproc',\n",
              "                 ColumnTransformer(remainder='passthrough',\n",
              "                                   transformers=[('cat_pipe',\n",
              "                                                  Pipeline(steps=[('onehot_cat',\n",
              "                                                                   OneHotEncoder())]),\n",
              "                                                  <sklearn.compose._column_transformer.make_column_selector object at 0x7f4a8b72e350>),\n",
              "                                                 ('num_pipe',\n",
              "                                                  Pipeline(steps=[('scale_num',\n",
              "                                                                   StandardScaler())]),\n",
              "                                                  <sklearn.compose._column_transformer.make_column_selector object at 0x7f4a8b72e0d0>)])),\n",
              "                ('mdl',\n",
              "                 GradientBoostingClassifier(max_depth=2, n_estimators=300,\n",
              "                                            random_state=0))])"
            ]
          },
          "metadata": {},
          "execution_count": 91
        }
      ]
    },
    {
      "cell_type": "markdown",
      "source": [
        "### Variable Importance "
      ],
      "metadata": {
        "id": "PoutdWstoFRn"
      }
    },
    {
      "cell_type": "code",
      "source": [
        "vip = grid_search.best_estimator_['mdl'].feature_importances_\n",
        "vip"
      ],
      "metadata": {
        "colab": {
          "base_uri": "https://localhost:8080/"
        },
        "id": "3HEgA9lJdQgb",
        "outputId": "d2e9fa3c-5171-4836-abaf-342e83a0aa87"
      },
      "execution_count": 127,
      "outputs": [
        {
          "output_type": "execute_result",
          "data": {
            "text/plain": [
              "array([1.37710835e-01, 1.40414331e-02, 1.69031455e-04, 6.35364173e-03,\n",
              "       3.29268304e-02, 0.00000000e+00, 4.54400090e-03, 8.08320249e-06,\n",
              "       0.00000000e+00, 0.00000000e+00, 8.99030446e-03, 0.00000000e+00,\n",
              "       0.00000000e+00, 0.00000000e+00, 0.00000000e+00, 7.68868498e-03,\n",
              "       1.83113129e-01, 4.51258693e-03, 1.64781273e-01, 1.86049642e-01,\n",
              "       1.14653950e-01, 1.28002358e-01, 6.45421562e-03])"
            ]
          },
          "metadata": {},
          "execution_count": 127
        }
      ]
    },
    {
      "cell_type": "code",
      "source": [
        "#get names in correct preproc order\n",
        "cat_names = grid_search.best_estimator_.named_steps['preproc'].transformers_[0][1].named_steps['onehot_cat'].get_feature_names_out()\n",
        "num_names = grid_search.best_estimator_.named_steps['preproc'].transformers_[1][2]\n",
        "\n",
        "#create df with vip info\n",
        "coef_info = pd.DataFrame({'feat_names':np.hstack([cat_names, num_names]), 'vip': vip})\n",
        "\n",
        "#get sign and magnitude information\n",
        "coef_info = coef_info.assign(coef_mag = abs(coef_info['vip']),\n",
        "                             coef_sign = np.sign(coef_info['vip']))\n",
        "\n",
        "#sort and plot\n",
        "coef_info = coef_info.set_index('feat_names').sort_values(by='coef_mag', ascending=False)\n",
        "sns.barplot(y=coef_info.index, x='coef_mag', hue='coef_sign', data=coef_info, orient='h', dodge=False);\n",
        "plt.rcParams[\"figure.figsize\"] = [10, 6]"
      ],
      "metadata": {
        "id": "rHpv0xYidS7b",
        "colab": {
          "base_uri": "https://localhost:8080/",
          "height": 389
        },
        "outputId": "fddae5df-184f-46f7-9fc9-89c8ab4e6b5c"
      },
      "execution_count": 136,
      "outputs": [
        {
          "output_type": "display_data",
          "data": {
            "text/plain": [
              "<Figure size 720x432 with 1 Axes>"
            ],
            "image/png": "[encoded data removed]"
          },
          "metadata": {
            "needs_background": "light"
          }
        }
      ]
    },
    {
      "cell_type": "markdown",
      "source": [
        "### Performance metrics"
      ],
      "metadata": {
        "id": "VftDTblMoId8"
      }
    },
    {
      "cell_type": "code",
      "source": [
        "print(classification_report(y_test, grid_search.best_estimator_.predict(X_test)))"
      ],
      "metadata": {
        "colab": {
          "base_uri": "https://localhost:8080/"
        },
        "id": "vnzE7SmEO3kZ",
        "outputId": "b61a08e4-7516-4037-cf88-8451e0dd7d20"
      },
      "execution_count": null,
      "outputs": [
        {
          "output_type": "stream",
          "name": "stdout",
          "text": [
            "              precision    recall  f1-score   support\n",
            "\n",
            "           0       0.82      0.92      0.86      3585\n",
            "           1       0.58      0.35      0.44      1152\n",
            "\n",
            "    accuracy                           0.78      4737\n",
            "   macro avg       0.70      0.64      0.65      4737\n",
            "weighted avg       0.76      0.78      0.76      4737\n",
            "\n"
          ]
        }
      ]
    },
    {
      "cell_type": "code",
      "source": [
        "cm = confusion_matrix(y_test, grid_search.best_estimator_.predict(X_test))\n",
        "disp = ConfusionMatrixDisplay(confusion_matrix=cm,\n",
        "                               display_labels=grid_search.classes_)\n",
        "disp.plot()\n",
        "plt.rcParams[\"figure.figsize\"] = [6, 5]\n",
        "plt.show()"
      ],
      "metadata": {
        "colab": {
          "base_uri": "https://localhost:8080/",
          "height": 332
        },
        "id": "kWYCtiVJdcyK",
        "outputId": "84980a8d-7fb9-4b4a-b03b-8698caff9002"
      },
      "execution_count": 141,
      "outputs": [
        {
          "output_type": "display_data",
          "data": {
            "text/plain": [
              "<Figure size 432x360 with 2 Axes>"
            ],
            "image/png": "[encoded data removed]"
          },
          "metadata": {
            "needs_background": "light"
          }
        }
      ]
    },
    {
      "cell_type": "markdown",
      "source": [
        "> The Gradient Boosting model performs well on predicting those who are not a credit risk but, performed okay on predicting those who are a credit risk. This prompts adjustment or changing models"
      ],
      "metadata": {
        "id": "qyuRtUl_j26C"
      }
    },
    {
      "cell_type": "markdown",
      "source": [
        "### ROC_curve"
      ],
      "metadata": {
        "id": "m7K8UTX6O_8M"
      }
    },
    {
      "cell_type": "code",
      "source": [
        "y_pred = grid_search.predict_proba(X_test)\n",
        "y_pred = y_pred[:, 1]\n",
        "fpr, tpr, thresholds = roc_curve(y_test, y_pred)\n",
        "net_gain = tpr - fpr\n",
        "ix = np.argmax(net_gain)\n",
        "print('Best Threshold=%f \\nNet Gain=%.3f' % (thresholds[ix], net_gain[ix]))\n",
        "plt.scatter(fpr[ix], tpr[ix], marker='o', color='black', label='Best threshold')\n",
        "plt.plot([0,1], [0,1], linestyle='--', label='No Skill')\n",
        "plt.plot(fpr, tpr, marker='.', label='Gradiant Boosting', markersize= 0.5)\n",
        "\n",
        "\n",
        "plt.xlabel('FPR')\n",
        "plt.ylabel('TPR')\n",
        "plt.legend()\n",
        "\n",
        "plt.rcParams[\"figure.figsize\"] = [8, 5]\n",
        "plt.show()"
      ],
      "metadata": {
        "colab": {
          "base_uri": "https://localhost:8080/",
          "height": 369
        },
        "id": "WQdcKmV1PBqj",
        "outputId": "9f4a9ccf-ae48-4063-ce5f-752498ed4517"
      },
      "execution_count": null,
      "outputs": [
        {
          "output_type": "stream",
          "name": "stdout",
          "text": [
            "Best Threshold=0.215241 \n",
            "Net Gain=0.521\n"
          ]
        },
        {
          "output_type": "display_data",
          "data": {
            "text/plain": [
              "<Figure size 576x360 with 1 Axes>"
            ],
            "image/png": "[encoded data removed]"
          },
          "metadata": {
            "needs_background": "light"
          }
        }
      ]
    },
    {
      "cell_type": "markdown",
      "source": [
        "### Precision_Recall_curve"
      ],
      "metadata": {
        "id": "Q2B3hjChPB3m"
      }
    },
    {
      "cell_type": "code",
      "source": [
        "precision, recall, thresholds = precision_recall_curve(y_test, y_pred)\n",
        "f1 = 2 * ((precision * recall) / (precision + recall))\n",
        "ix = np.argmax(f1)\n",
        "\n",
        "print('Best Threshold=%f \\nf1 score=%.3f' % (thresholds[ix], f1[ix]))\n",
        "\n",
        "plt.plot(recall, precision, marker='.', label='Gradient Boosting', markersize= 0.5)\n",
        "plt.scatter(recall[ix], precision[ix], marker='o', color='black', label='Best threshold')\n",
        "\n",
        "plt.xlabel('Recall')\n",
        "plt.ylabel('Precision')\n",
        "plt.legend()\n",
        "plt.show()"
      ],
      "metadata": {
        "colab": {
          "base_uri": "https://localhost:8080/",
          "height": 369
        },
        "id": "3BODFXCgd0xF",
        "outputId": "9e856b51-aa16-4213-b0fc-8132b4be40a7"
      },
      "execution_count": 125,
      "outputs": [
        {
          "output_type": "stream",
          "name": "stdout",
          "text": [
            "Best Threshold=0.253279 \n",
            "f1 score=0.601\n"
          ]
        },
        {
          "output_type": "display_data",
          "data": {
            "text/plain": [
              "<Figure size 576x360 with 1 Axes>"
            ],
            "image/png": "[encoded data removed]"
          },
          "metadata": {
            "needs_background": "light"
          }
        }
      ]
    }
  ]
}
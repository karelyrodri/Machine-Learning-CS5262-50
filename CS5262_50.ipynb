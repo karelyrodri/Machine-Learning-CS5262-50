{
  "cells": [
    {
      "cell_type": "markdown",
      "metadata": {
        "id": "view-in-github",
        "colab_type": "text"
      },
      "source": [
        "<a href=\"https://colab.research.google.com/github/karelyrodri/Machine-Learning-CS5262-50/blob/main/CS5262_50.ipynb\" target=\"_parent\"><img src=\"https://colab.research.google.com/assets/colab-badge.svg\" alt=\"Open In Colab\"/></a>"
      ]
    },
    {
      "cell_type": "markdown",
      "metadata": {
        "id": "nk1yOJ6NYiue"
      },
      "source": [
        "# Credit Risk "
      ]
    },
    {
      "cell_type": "markdown",
      "metadata": {
        "id": "AEvWi8NvZetQ"
      },
      "source": [
        "## Background \n",
        "The data used consists of a financial information regarding loans and credit \n",
        "\n",
        "After data clean up, there is 15,787 records and 12 features that will be used\n",
        "\n",
        "Numeric Columns:\n",
        "1.   Loan Amount\n",
        "2.   Credit Score\n",
        "3.   Annual Income \n",
        "4.   Monthly Debt \n",
        "5.   Years of Credit History\n",
        "6.   Credit Card Balance\n",
        "7.   Credit Card Limit \n",
        "8.   Interest Rate\n",
        "\n",
        "Categorical Columns:\n",
        "1.   Loan Term Length - [1 year, 3 year, 5 year, 7 year, 10 year, 15 year, 30 year]\n",
        "2.   Years in Current Job - [1 Year or Less, 2 - 4 years, 5 - 7 years,  8 - 9 years, 10+ years]\n",
        "3.   Home Ownership - [Rent, Home Mortgage, Home Owner]\n",
        "4.   Loan Purpose - [Home Improvements, Business Loan, Car Loan, Home Loan,\n",
        " Medical Bills, Educational Expenses]\n",
        "\n",
        "\n",
        "\n",
        "\n",
        "\n",
        "\n"
      ]
    },
    {
      "cell_type": "markdown",
      "metadata": {
        "id": "6slPuEfxkK5P"
      },
      "source": [
        "## Project Description\n",
        "\n",
        "This project will focus on assessing loan/credit risk. \n",
        "\n",
        "This is the probability an individal will be unable to repay their debt obligations. The goal is to predict whether there is or is not credit risk given the information supplied in each record.\n",
        "\n",
        "0 - Not a Credit Risk\n",
        "\n",
        "1 - Is a Credit Risk"
      ]
    },
    {
      "cell_type": "markdown",
      "metadata": {
        "id": "RF25w41ekLFD"
      },
      "source": [
        "## Performance Metric\n",
        "*   Precision =  True Positives/(True Positives + False Positives)\n",
        "*   Recall =  True Positives/(True Positives + False Negatives)\n",
        "*   F1 Score = 2 x ((Precision x Recall)/(Precision + Recall))\n",
        "\n",
        " "
      ]
    },
    {
      "cell_type": "markdown",
      "metadata": {
        "id": "E5ddJOlHQZm7"
      },
      "source": [
        "# Load Data\n"
      ]
    },
    {
      "cell_type": "markdown",
      "source": [
        "## Python imports"
      ],
      "metadata": {
        "id": "asM-Azis33_H"
      }
    },
    {
      "cell_type": "code",
      "execution_count": 1,
      "metadata": {
        "id": "tXBazP5NQYTq"
      },
      "outputs": [],
      "source": [
        "import pandas as pd\n",
        "import numpy as np \n",
        "import seaborn as sns\n",
        "import matplotlib.pyplot as plt\n",
        "# machine learning libs\n",
        "from sklearn.model_selection import train_test_split, GridSearchCV\n",
        "from sklearn.pipeline import Pipeline \n",
        "from sklearn.compose import ColumnTransformer, make_column_selector\n",
        "from sklearn.impute import SimpleImputer\n",
        "from sklearn.preprocessing import OneHotEncoder, LabelBinarizer, StandardScaler\n",
        "from sklearn import config_context\n",
        "from sklearn.metrics import classification_report, confusion_matrix, ConfusionMatrixDisplay\n",
        "from sklearn.ensemble import GradientBoostingClassifier\n",
        "from sklearn.tree import DecisionTreeClassifier\n",
        "from sklearn.naive_bayes import GaussianNB\n",
        "from sklearn.inspection import permutation_importance\n",
        "from sklearn.metrics import roc_curve\n",
        "from sklearn.metrics import precision_recall_curve"
      ]
    },
    {
      "cell_type": "markdown",
      "metadata": {
        "id": "9qFynYv2Xdbh"
      },
      "source": [
        "> Read google spreadsheet as a csv"
      ]
    },
    {
      "cell_type": "code",
      "execution_count": 153,
      "metadata": {
        "colab": {
          "base_uri": "https://localhost:8080/",
          "height": 1000
        },
        "id": "tr4X-OgCQblP",
        "outputId": "54928b21-c5a2-4b17-ea2a-b9e426a28f61"
      },
      "outputs": [
        {
          "output_type": "display_data",
          "data": {
            "text/plain": [
              "       Loan_Amount     Term  Interest_Rate  Credit_Score Years_in_Current_Job  \\\n",
              "0             6966   1 year          8.010         673.0       1 year or less   \n",
              "1             9848   3 year          5.570           NaN          5 - 7 years   \n",
              "2             5878   1 year          5.570         743.0       1 year or less   \n",
              "3         99999999   3 year          6.435         724.0          2 - 4 years   \n",
              "4             1010   1 year          6.435         745.0       1 year or less   \n",
              "...            ...      ...            ...           ...                  ...   \n",
              "21336       188256  30 year          4.295         741.0          2 - 4 years   \n",
              "21337         4542   1 year          7.825         722.0       1 year or less   \n",
              "21338        15730   7 year          4.295         725.0            10+ years   \n",
              "21339        14727   3 year          5.370         745.0          5 - 7 years   \n",
              "21340       177552  30 year          2.410         748.0       1 year or less   \n",
              "\n",
              "      Home_Ownership  Annual_Income               Purpose  Monthly_Debt  \\\n",
              "0      Home Mortgage        54736.0     Home Improvements        839.28   \n",
              "1               Rent            NaN     Home Improvements        605.65   \n",
              "2      Home Mortgage       107767.0     Home Improvements       1420.73   \n",
              "3               Rent        27462.0              Car Loan        338.69   \n",
              "4      Home Mortgage        75713.0     Home Improvements       1242.95   \n",
              "...              ...            ...                   ...           ...   \n",
              "21336  Home Mortgage       136904.0             Home Loan       1996.51   \n",
              "21337           Rent        33125.0     Home Improvements        665.27   \n",
              "21338  Home Mortgage        60952.0     Home Improvements       1056.51   \n",
              "21339  Home Mortgage        78544.0  Educational Expenses        988.35   \n",
              "21340  Home Mortgage        84949.0             Home Loan        842.41   \n",
              "\n",
              "       Years_of_Credit_History  Credit_Cards_Balance  Credit_Cards_Limit  \\\n",
              "0                         16.4                  2942                3881   \n",
              "1                         18.8                  6957                8568   \n",
              "2                         24.6                 35963               89459   \n",
              "3                         10.8                 11773               15369   \n",
              "4                         18.0                   769               17889   \n",
              "...                        ...                   ...                 ...   \n",
              "21336                     16.4                 17931               23532   \n",
              "21337                     11.3                 11325               20972   \n",
              "21338                     18.1                  9589               13660   \n",
              "21339                     13.0                 17083               31991   \n",
              "21340                     16.0                  5903               22194   \n",
              "\n",
              "       Credit_Risk  \n",
              "0                1  \n",
              "1                1  \n",
              "2                0  \n",
              "3                1  \n",
              "4                0  \n",
              "...            ...  \n",
              "21336            0  \n",
              "21337            0  \n",
              "21338            0  \n",
              "21339            0  \n",
              "21340            0  \n",
              "\n",
              "[21341 rows x 13 columns]"
            ],
            "text/html": [
              "\n",
              "  <div id=\"df-797aa904-9499-46c9-838c-8642d057d073\">\n",
              "    <div class=\"colab-df-container\">\n",
              "      <div>\n",
              "<style scoped>\n",
              "    .dataframe tbody tr th:only-of-type {\n",
              "        vertical-align: middle;\n",
              "    }\n",
              "\n",
              "    .dataframe tbody tr th {\n",
              "        vertical-align: top;\n",
              "    }\n",
              "\n",
              "    .dataframe thead th {\n",
              "        text-align: right;\n",
              "    }\n",
              "</style>\n",
              "<table border=\"1\" class=\"dataframe\">\n",
              "  <thead>\n",
              "    <tr style=\"text-align: right;\">\n",
              "      <th></th>\n",
              "      <th>Loan_Amount</th>\n",
              "      <th>Term</th>\n",
              "      <th>Interest_Rate</th>\n",
              "      <th>Credit_Score</th>\n",
              "      <th>Years_in_Current_Job</th>\n",
              "      <th>Home_Ownership</th>\n",
              "      <th>Annual_Income</th>\n",
              "      <th>Purpose</th>\n",
              "      <th>Monthly_Debt</th>\n",
              "      <th>Years_of_Credit_History</th>\n",
              "      <th>Credit_Cards_Balance</th>\n",
              "      <th>Credit_Cards_Limit</th>\n",
              "      <th>Credit_Risk</th>\n",
              "    </tr>\n",
              "  </thead>\n",
              "  <tbody>\n",
              "    <tr>\n",
              "      <th>0</th>\n",
              "      <td>6966</td>\n",
              "      <td>1 year</td>\n",
              "      <td>8.010</td>\n",
              "      <td>673.0</td>\n",
              "      <td>1 year or less</td>\n",
              "      <td>Home Mortgage</td>\n",
              "      <td>54736.0</td>\n",
              "      <td>Home Improvements</td>\n",
              "      <td>839.28</td>\n",
              "      <td>16.4</td>\n",
              "      <td>2942</td>\n",
              "      <td>3881</td>\n",
              "      <td>1</td>\n",
              "    </tr>\n",
              "    <tr>\n",
              "      <th>1</th>\n",
              "      <td>9848</td>\n",
              "      <td>3 year</td>\n",
              "      <td>5.570</td>\n",
              "      <td>NaN</td>\n",
              "      <td>5 - 7 years</td>\n",
              "      <td>Rent</td>\n",
              "      <td>NaN</td>\n",
              "      <td>Home Improvements</td>\n",
              "      <td>605.65</td>\n",
              "      <td>18.8</td>\n",
              "      <td>6957</td>\n",
              "      <td>8568</td>\n",
              "      <td>1</td>\n",
              "    </tr>\n",
              "    <tr>\n",
              "      <th>2</th>\n",
              "      <td>5878</td>\n",
              "      <td>1 year</td>\n",
              "      <td>5.570</td>\n",
              "      <td>743.0</td>\n",
              "      <td>1 year or less</td>\n",
              "      <td>Home Mortgage</td>\n",
              "      <td>107767.0</td>\n",
              "      <td>Home Improvements</td>\n",
              "      <td>1420.73</td>\n",
              "      <td>24.6</td>\n",
              "      <td>35963</td>\n",
              "      <td>89459</td>\n",
              "      <td>0</td>\n",
              "    </tr>\n",
              "    <tr>\n",
              "      <th>3</th>\n",
              "      <td>99999999</td>\n",
              "      <td>3 year</td>\n",
              "      <td>6.435</td>\n",
              "      <td>724.0</td>\n",
              "      <td>2 - 4 years</td>\n",
              "      <td>Rent</td>\n",
              "      <td>27462.0</td>\n",
              "      <td>Car Loan</td>\n",
              "      <td>338.69</td>\n",
              "      <td>10.8</td>\n",
              "      <td>11773</td>\n",
              "      <td>15369</td>\n",
              "      <td>1</td>\n",
              "    </tr>\n",
              "    <tr>\n",
              "      <th>4</th>\n",
              "      <td>1010</td>\n",
              "      <td>1 year</td>\n",
              "      <td>6.435</td>\n",
              "      <td>745.0</td>\n",
              "      <td>1 year or less</td>\n",
              "      <td>Home Mortgage</td>\n",
              "      <td>75713.0</td>\n",
              "      <td>Home Improvements</td>\n",
              "      <td>1242.95</td>\n",
              "      <td>18.0</td>\n",
              "      <td>769</td>\n",
              "      <td>17889</td>\n",
              "      <td>0</td>\n",
              "    </tr>\n",
              "    <tr>\n",
              "      <th>...</th>\n",
              "      <td>...</td>\n",
              "      <td>...</td>\n",
              "      <td>...</td>\n",
              "      <td>...</td>\n",
              "      <td>...</td>\n",
              "      <td>...</td>\n",
              "      <td>...</td>\n",
              "      <td>...</td>\n",
              "      <td>...</td>\n",
              "      <td>...</td>\n",
              "      <td>...</td>\n",
              "      <td>...</td>\n",
              "      <td>...</td>\n",
              "    </tr>\n",
              "    <tr>\n",
              "      <th>21336</th>\n",
              "      <td>188256</td>\n",
              "      <td>30 year</td>\n",
              "      <td>4.295</td>\n",
              "      <td>741.0</td>\n",
              "      <td>2 - 4 years</td>\n",
              "      <td>Home Mortgage</td>\n",
              "      <td>136904.0</td>\n",
              "      <td>Home Loan</td>\n",
              "      <td>1996.51</td>\n",
              "      <td>16.4</td>\n",
              "      <td>17931</td>\n",
              "      <td>23532</td>\n",
              "      <td>0</td>\n",
              "    </tr>\n",
              "    <tr>\n",
              "      <th>21337</th>\n",
              "      <td>4542</td>\n",
              "      <td>1 year</td>\n",
              "      <td>7.825</td>\n",
              "      <td>722.0</td>\n",
              "      <td>1 year or less</td>\n",
              "      <td>Rent</td>\n",
              "      <td>33125.0</td>\n",
              "      <td>Home Improvements</td>\n",
              "      <td>665.27</td>\n",
              "      <td>11.3</td>\n",
              "      <td>11325</td>\n",
              "      <td>20972</td>\n",
              "      <td>0</td>\n",
              "    </tr>\n",
              "    <tr>\n",
              "      <th>21338</th>\n",
              "      <td>15730</td>\n",
              "      <td>7 year</td>\n",
              "      <td>4.295</td>\n",
              "      <td>725.0</td>\n",
              "      <td>10+ years</td>\n",
              "      <td>Home Mortgage</td>\n",
              "      <td>60952.0</td>\n",
              "      <td>Home Improvements</td>\n",
              "      <td>1056.51</td>\n",
              "      <td>18.1</td>\n",
              "      <td>9589</td>\n",
              "      <td>13660</td>\n",
              "      <td>0</td>\n",
              "    </tr>\n",
              "    <tr>\n",
              "      <th>21339</th>\n",
              "      <td>14727</td>\n",
              "      <td>3 year</td>\n",
              "      <td>5.370</td>\n",
              "      <td>745.0</td>\n",
              "      <td>5 - 7 years</td>\n",
              "      <td>Home Mortgage</td>\n",
              "      <td>78544.0</td>\n",
              "      <td>Educational Expenses</td>\n",
              "      <td>988.35</td>\n",
              "      <td>13.0</td>\n",
              "      <td>17083</td>\n",
              "      <td>31991</td>\n",
              "      <td>0</td>\n",
              "    </tr>\n",
              "    <tr>\n",
              "      <th>21340</th>\n",
              "      <td>177552</td>\n",
              "      <td>30 year</td>\n",
              "      <td>2.410</td>\n",
              "      <td>748.0</td>\n",
              "      <td>1 year or less</td>\n",
              "      <td>Home Mortgage</td>\n",
              "      <td>84949.0</td>\n",
              "      <td>Home Loan</td>\n",
              "      <td>842.41</td>\n",
              "      <td>16.0</td>\n",
              "      <td>5903</td>\n",
              "      <td>22194</td>\n",
              "      <td>0</td>\n",
              "    </tr>\n",
              "  </tbody>\n",
              "</table>\n",
              "<p>21341 rows × 13 columns</p>\n",
              "</div>\n",
              "      <button class=\"colab-df-convert\" onclick=\"convertToInteractive('df-797aa904-9499-46c9-838c-8642d057d073')\"\n",
              "              title=\"Convert this dataframe to an interactive table.\"\n",
              "              style=\"display:none;\">\n",
              "        \n",
              "  <svg xmlns=\"http://www.w3.org/2000/svg\" height=\"24px\"viewBox=\"0 0 24 24\"\n",
              "       width=\"24px\">\n",
              "    <path d=\"M0 0h24v24H0V0z\" fill=\"none\"/>\n",
              "    <path d=\"M18.56 5.44l.94 2.06.94-2.06 2.06-.94-2.06-.94-.94-2.06-.94 2.06-2.06.94zm-11 1L8.5 8.5l.94-2.06 2.06-.94-2.06-.94L8.5 2.5l-.94 2.06-2.06.94zm10 10l.94 2.06.94-2.06 2.06-.94-2.06-.94-.94-2.06-.94 2.06-2.06.94z\"/><path d=\"M17.41 7.96l-1.37-1.37c-.4-.4-.92-.59-1.43-.59-.52 0-1.04.2-1.43.59L10.3 9.45l-7.72 7.72c-.78.78-.78 2.05 0 2.83L4 21.41c.39.39.9.59 1.41.59.51 0 1.02-.2 1.41-.59l7.78-7.78 2.81-2.81c.8-.78.8-2.07 0-2.86zM5.41 20L4 18.59l7.72-7.72 1.47 1.35L5.41 20z\"/>\n",
              "  </svg>\n",
              "      </button>\n",
              "      \n",
              "  <style>\n",
              "    .colab-df-container {\n",
              "      display:flex;\n",
              "      flex-wrap:wrap;\n",
              "      gap: 12px;\n",
              "    }\n",
              "\n",
              "    .colab-df-convert {\n",
              "      background-color: #E8F0FE;\n",
              "      border: none;\n",
              "      border-radius: 50%;\n",
              "      cursor: pointer;\n",
              "      display: none;\n",
              "      fill: #1967D2;\n",
              "      height: 32px;\n",
              "      padding: 0 0 0 0;\n",
              "      width: 32px;\n",
              "    }\n",
              "\n",
              "    .colab-df-convert:hover {\n",
              "      background-color: #E2EBFA;\n",
              "      box-shadow: 0px 1px 2px rgba(60, 64, 67, 0.3), 0px 1px 3px 1px rgba(60, 64, 67, 0.15);\n",
              "      fill: #174EA6;\n",
              "    }\n",
              "\n",
              "    [theme=dark] .colab-df-convert {\n",
              "      background-color: #3B4455;\n",
              "      fill: #D2E3FC;\n",
              "    }\n",
              "\n",
              "    [theme=dark] .colab-df-convert:hover {\n",
              "      background-color: #434B5C;\n",
              "      box-shadow: 0px 1px 3px 1px rgba(0, 0, 0, 0.15);\n",
              "      filter: drop-shadow(0px 1px 2px rgba(0, 0, 0, 0.3));\n",
              "      fill: #FFFFFF;\n",
              "    }\n",
              "  </style>\n",
              "\n",
              "      <script>\n",
              "        const buttonEl =\n",
              "          document.querySelector('#df-797aa904-9499-46c9-838c-8642d057d073 button.colab-df-convert');\n",
              "        buttonEl.style.display =\n",
              "          google.colab.kernel.accessAllowed ? 'block' : 'none';\n",
              "\n",
              "        async function convertToInteractive(key) {\n",
              "          const element = document.querySelector('#df-797aa904-9499-46c9-838c-8642d057d073');\n",
              "          const dataTable =\n",
              "            await google.colab.kernel.invokeFunction('convertToInteractive',\n",
              "                                                     [key], {});\n",
              "          if (!dataTable) return;\n",
              "\n",
              "          const docLinkHtml = 'Like what you see? Visit the ' +\n",
              "            '<a target=\"_blank\" href=https://colab.research.google.com/notebooks/data_table.ipynb>data table notebook</a>'\n",
              "            + ' to learn more about interactive tables.';\n",
              "          element.innerHTML = '';\n",
              "          dataTable['output_type'] = 'display_data';\n",
              "          await google.colab.output.renderOutput(dataTable, element);\n",
              "          const docLink = document.createElement('div');\n",
              "          docLink.innerHTML = docLinkHtml;\n",
              "          element.appendChild(docLink);\n",
              "        }\n",
              "      </script>\n",
              "    </div>\n",
              "  </div>\n",
              "  "
            ]
          },
          "metadata": {}
        },
        {
          "output_type": "stream",
          "name": "stdout",
          "text": [
            "<class 'pandas.core.frame.DataFrame'>\n",
            "RangeIndex: 21341 entries, 0 to 21340\n",
            "Data columns (total 13 columns):\n",
            " #   Column                   Non-Null Count  Dtype  \n",
            "---  ------                   --------------  -----  \n",
            " 0   Loan_Amount              21341 non-null  int64  \n",
            " 1   Term                     21341 non-null  object \n",
            " 2   Interest_Rate            21341 non-null  float64\n",
            " 3   Credit_Score             18168 non-null  float64\n",
            " 4   Years_in_Current_Job     20649 non-null  object \n",
            " 5   Home_Ownership           21341 non-null  object \n",
            " 6   Annual_Income            18168 non-null  float64\n",
            " 7   Purpose                  21341 non-null  object \n",
            " 8   Monthly_Debt             21341 non-null  float64\n",
            " 9   Years_of_Credit_History  21341 non-null  float64\n",
            " 10  Credit_Cards_Balance     21341 non-null  int64  \n",
            " 11  Credit_Cards_Limit       21341 non-null  int64  \n",
            " 12  Credit_Risk              21341 non-null  int64  \n",
            "dtypes: float64(5), int64(4), object(4)\n",
            "memory usage: 2.1+ MB\n"
          ]
        }
      ],
      "source": [
        "data = pd.read_csv(\"https://docs.google.com/spreadsheets/d/1AvPiqVtKBoKFiX4h3uGFbWBty7ZhNt4FmWU6jrXhb8U/export?format=csv&grid=\")\n",
        "display(data)\n",
        "data.info()"
      ]
    },
    {
      "cell_type": "markdown",
      "metadata": {
        "id": "brc_vFI4pRKt"
      },
      "source": [
        "## Data Clean Up\n",
        "Remove data that will scew the results or is NAN or empty.\n"
      ]
    },
    {
      "cell_type": "code",
      "execution_count": null,
      "metadata": {
        "colab": {
          "base_uri": "https://localhost:8080/"
        },
        "id": "fqjZkiqy-lf9",
        "outputId": "3a625a26-4f3c-4333-d39b-563d24be1c83"
      },
      "outputs": [
        {
          "data": {
            "text/plain": [
              "Loan_Amount                   0\n",
              "Term                          0\n",
              "Interest_Rate                 0\n",
              "Credit_Score               3173\n",
              "Years_in_Current_Job        692\n",
              "Home_Ownership                0\n",
              "Annual_Income              3173\n",
              "Purpose                       0\n",
              "Monthly_Debt                  0\n",
              "Years_of_Credit_History       0\n",
              "Credit_Cards_Balance          0\n",
              "Credit_Cards_Limit            0\n",
              "Credit_Risk                   0\n",
              "dtype: int64"
            ]
          },
          "execution_count": 14,
          "metadata": {},
          "output_type": "execute_result"
        }
      ],
      "source": [
        "data.isna().sum()"
      ]
    },
    {
      "cell_type": "code",
      "execution_count": 154,
      "metadata": {
        "colab": {
          "base_uri": "https://localhost:8080/"
        },
        "id": "tRqqpoNFpPaG",
        "outputId": "69e1954a-9104-4e65-e801-348559dd28e9"
      },
      "outputs": [
        {
          "output_type": "stream",
          "name": "stdout",
          "text": [
            "(15787, 13) \n",
            "\n",
            "Loan_Amount                0\n",
            "Term                       0\n",
            "Interest_Rate              0\n",
            "Credit_Score               0\n",
            "Years_in_Current_Job       0\n",
            "Home_Ownership             0\n",
            "Annual_Income              0\n",
            "Purpose                    0\n",
            "Monthly_Debt               0\n",
            "Years_of_Credit_History    0\n",
            "Credit_Cards_Balance       0\n",
            "Credit_Cards_Limit         0\n",
            "Credit_Risk                0\n",
            "dtype: int64\n"
          ]
        }
      ],
      "source": [
        "data = data.dropna()\n",
        "data = data[data.Loan_Amount != 99999999] # there are 1905 values 0.089%\n",
        "data = data[data.Years_in_Current_Job != \"\"]\n",
        "data['Credit_Score'] = data['Credit_Score'].apply(np.int64)\n",
        "print(data.shape, \"\\n\")\n",
        "\n",
        "print(data.isna().sum())"
      ]
    },
    {
      "cell_type": "markdown",
      "metadata": {
        "id": "cWIaHaL5seY0"
      },
      "source": [
        "# Exploratory Data Analysis\n"
      ]
    },
    {
      "cell_type": "markdown",
      "metadata": {
        "id": "O9PfdFfKxGea"
      },
      "source": [
        "## Question 1. Is there a relationship between home ownership and income? Do those who rent have lower income? "
      ]
    },
    {
      "cell_type": "code",
      "execution_count": null,
      "metadata": {
        "colab": {
          "base_uri": "https://localhost:8080/",
          "height": 192
        },
        "id": "W9r5FLN4xyZ3",
        "outputId": "ff25f020-d202-4d77-dcb8-8bc6bdc5c016"
      },
      "outputs": [
        {
          "name": "stdout",
          "output_type": "stream",
          "text": [
            "20% of the total rows is:  3157  records\n"
          ]
        },
        {
          "data": {
            "text/html": [
              "\n",
              "  <div id=\"df-190f7dc1-4ef5-498d-970f-13ecb61c415a\">\n",
              "    <div class=\"colab-df-container\">\n",
              "      <div>\n",
              "<style scoped>\n",
              "    .dataframe tbody tr th:only-of-type {\n",
              "        vertical-align: middle;\n",
              "    }\n",
              "\n",
              "    .dataframe tbody tr th {\n",
              "        vertical-align: top;\n",
              "    }\n",
              "\n",
              "    .dataframe thead th {\n",
              "        text-align: right;\n",
              "    }\n",
              "</style>\n",
              "<table border=\"1\" class=\"dataframe\">\n",
              "  <thead>\n",
              "    <tr style=\"text-align: right;\">\n",
              "      <th></th>\n",
              "      <th>Average_Income</th>\n",
              "      <th>Standard_Deviation</th>\n",
              "      <th>Bottom_20%</th>\n",
              "      <th>Top_20%</th>\n",
              "    </tr>\n",
              "    <tr>\n",
              "      <th>Home_Ownership</th>\n",
              "      <th></th>\n",
              "      <th></th>\n",
              "      <th></th>\n",
              "      <th></th>\n",
              "    </tr>\n",
              "  </thead>\n",
              "  <tbody>\n",
              "    <tr>\n",
              "      <th>Home Mortgage</th>\n",
              "      <td>77660.38</td>\n",
              "      <td>48922.04</td>\n",
              "      <td>32264.63</td>\n",
              "      <td>138299.57</td>\n",
              "    </tr>\n",
              "    <tr>\n",
              "      <th>Home Owner</th>\n",
              "      <td>61296.31</td>\n",
              "      <td>47666.10</td>\n",
              "      <td>30046.76</td>\n",
              "      <td>137923.30</td>\n",
              "    </tr>\n",
              "    <tr>\n",
              "      <th>Rent</th>\n",
              "      <td>60892.51</td>\n",
              "      <td>37279.66</td>\n",
              "      <td>31218.03</td>\n",
              "      <td>132526.17</td>\n",
              "    </tr>\n",
              "  </tbody>\n",
              "</table>\n",
              "</div>\n",
              "      <button class=\"colab-df-convert\" onclick=\"convertToInteractive('df-190f7dc1-4ef5-498d-970f-13ecb61c415a')\"\n",
              "              title=\"Convert this dataframe to an interactive table.\"\n",
              "              style=\"display:none;\">\n",
              "        \n",
              "  <svg xmlns=\"http://www.w3.org/2000/svg\" height=\"24px\"viewBox=\"0 0 24 24\"\n",
              "       width=\"24px\">\n",
              "    <path d=\"M0 0h24v24H0V0z\" fill=\"none\"/>\n",
              "    <path d=\"M18.56 5.44l.94 2.06.94-2.06 2.06-.94-2.06-.94-.94-2.06-.94 2.06-2.06.94zm-11 1L8.5 8.5l.94-2.06 2.06-.94-2.06-.94L8.5 2.5l-.94 2.06-2.06.94zm10 10l.94 2.06.94-2.06 2.06-.94-2.06-.94-.94-2.06-.94 2.06-2.06.94z\"/><path d=\"M17.41 7.96l-1.37-1.37c-.4-.4-.92-.59-1.43-.59-.52 0-1.04.2-1.43.59L10.3 9.45l-7.72 7.72c-.78.78-.78 2.05 0 2.83L4 21.41c.39.39.9.59 1.41.59.51 0 1.02-.2 1.41-.59l7.78-7.78 2.81-2.81c.8-.78.8-2.07 0-2.86zM5.41 20L4 18.59l7.72-7.72 1.47 1.35L5.41 20z\"/>\n",
              "  </svg>\n",
              "      </button>\n",
              "      \n",
              "  <style>\n",
              "    .colab-df-container {\n",
              "      display:flex;\n",
              "      flex-wrap:wrap;\n",
              "      gap: 12px;\n",
              "    }\n",
              "\n",
              "    .colab-df-convert {\n",
              "      background-color: #E8F0FE;\n",
              "      border: none;\n",
              "      border-radius: 50%;\n",
              "      cursor: pointer;\n",
              "      display: none;\n",
              "      fill: #1967D2;\n",
              "      height: 32px;\n",
              "      padding: 0 0 0 0;\n",
              "      width: 32px;\n",
              "    }\n",
              "\n",
              "    .colab-df-convert:hover {\n",
              "      background-color: #E2EBFA;\n",
              "      box-shadow: 0px 1px 2px rgba(60, 64, 67, 0.3), 0px 1px 3px 1px rgba(60, 64, 67, 0.15);\n",
              "      fill: #174EA6;\n",
              "    }\n",
              "\n",
              "    [theme=dark] .colab-df-convert {\n",
              "      background-color: #3B4455;\n",
              "      fill: #D2E3FC;\n",
              "    }\n",
              "\n",
              "    [theme=dark] .colab-df-convert:hover {\n",
              "      background-color: #434B5C;\n",
              "      box-shadow: 0px 1px 3px 1px rgba(0, 0, 0, 0.15);\n",
              "      filter: drop-shadow(0px 1px 2px rgba(0, 0, 0, 0.3));\n",
              "      fill: #FFFFFF;\n",
              "    }\n",
              "  </style>\n",
              "\n",
              "      <script>\n",
              "        const buttonEl =\n",
              "          document.querySelector('#df-190f7dc1-4ef5-498d-970f-13ecb61c415a button.colab-df-convert');\n",
              "        buttonEl.style.display =\n",
              "          google.colab.kernel.accessAllowed ? 'block' : 'none';\n",
              "\n",
              "        async function convertToInteractive(key) {\n",
              "          const element = document.querySelector('#df-190f7dc1-4ef5-498d-970f-13ecb61c415a');\n",
              "          const dataTable =\n",
              "            await google.colab.kernel.invokeFunction('convertToInteractive',\n",
              "                                                     [key], {});\n",
              "          if (!dataTable) return;\n",
              "\n",
              "          const docLinkHtml = 'Like what you see? Visit the ' +\n",
              "            '<a target=\"_blank\" href=https://colab.research.google.com/notebooks/data_table.ipynb>data table notebook</a>'\n",
              "            + ' to learn more about interactive tables.';\n",
              "          element.innerHTML = '';\n",
              "          dataTable['output_type'] = 'display_data';\n",
              "          await google.colab.output.renderOutput(dataTable, element);\n",
              "          const docLink = document.createElement('div');\n",
              "          docLink.innerHTML = docLinkHtml;\n",
              "          element.appendChild(docLink);\n",
              "        }\n",
              "      </script>\n",
              "    </div>\n",
              "  </div>\n",
              "  "
            ],
            "text/plain": [
              "                Average_Income  Standard_Deviation  Bottom_20%    Top_20%\n",
              "Home_Ownership                                                           \n",
              "Home Mortgage         77660.38            48922.04    32264.63  138299.57\n",
              "Home Owner            61296.31            47666.10    30046.76  137923.30\n",
              "Rent                  60892.51            37279.66    31218.03  132526.17"
            ]
          },
          "metadata": {},
          "output_type": "display_data"
        }
      ],
      "source": [
        "avg = data.groupby('Home_Ownership').agg(Average_Income=(\"Annual_Income\", \"mean\"), Standard_Deviation=(\"Annual_Income\", \"std\"))\n",
        "sorted = data.sort_values(by=[\"Annual_Income\"])\n",
        "percent_20 = int(15787 * .20)\n",
        "print(\"20% of the total rows is: \", percent_20, \" records\")\n",
        "avg[\"Bottom_20%\"] = sorted.head(percent_20).groupby('Home_Ownership').agg(Bottom_20=(\"Annual_Income\", \"mean\"))\n",
        "avg[\"Top_20%\"] = sorted.tail(percent_20).groupby('Home_Ownership').agg(Top_20=(\"Annual_Income\", \"mean\"))\n",
        "display(avg.round(2))"
      ]
    },
    {
      "cell_type": "markdown",
      "metadata": {
        "id": "fypHqPSUxz_N"
      },
      "source": [
        "### Findings\n",
        "> The average annual income for home owners and renters is about the same amount. Those with mortgages make on average about 16k more. To get a sense of the dispersion of the values from the mean in each grouping, the standard deviation is calculated. The results are that those with a mortgage and those who own homes deviate about the same away from their mean. This gives a sense that those with mortgages are making a bit more annually. The deviation of the renters is lower meaning that those in this category are making slightly closer to that lower mean. This appears that the renters on an average are making less than those with a home mortgages but similar to those own homes. \n",
        "\n",
        "> When focusing on the average top and bottom 20% income for each grouping, there is not a significant difference. This means there is not many outliers in the data. The data concludes renters do not make less than home owners but rather earn about the same. We can conclude renters make less than those with a mortgage.\n"
      ]
    },
    {
      "cell_type": "markdown",
      "metadata": {
        "id": "a2tnbW_CxJn8"
      },
      "source": [
        "## 2. What is the most common purpose for a loan (exluding home loan) among those who rent, own, or have a mortgage? "
      ]
    },
    {
      "cell_type": "code",
      "execution_count": null,
      "metadata": {
        "colab": {
          "base_uri": "https://localhost:8080/",
          "height": 296
        },
        "id": "j4M11CvXxzCb",
        "outputId": "fbb72247-d5ec-4755-b5f3-51ace9221ba2"
      },
      "outputs": [
        {
          "data": {
            "text/plain": [
              "Text(0, 0.5, 'Records Count')"
            ]
          },
          "execution_count": 123,
          "metadata": {},
          "output_type": "execute_result"
        },
        {
          "data": {
            "image/png": "[encoded data removed]",
            "text/plain": [
              "<Figure size 720x288 with 1 Axes>"
            ]
          },
          "metadata": {},
          "output_type": "display_data"
        }
      ],
      "source": [
        "plt.rcParams[\"figure.figsize\"] = [10, 4]\n",
        "loan_purpose = data.loc[data[\"Purpose\"] != \"Home Loan\"]\n",
        "sns.countplot(x = \"Purpose\", hue=\"Home_Ownership\", data=loan_purpose)\n",
        "plt.xlabel(\"Loan Purpose\")\n",
        "plt.ylabel(\"Records Count\")"
      ]
    },
    {
      "cell_type": "markdown",
      "metadata": {
        "id": "GW5uzTFnx0z8"
      },
      "source": [
        "### Findings\n",
        "\n",
        "> Among those who rent, the most common loan type is a Car Loan compared to those who have a mortgage most commonly have a loan for Home Improvements followed by a Car Loan. Home owners have the least amount of loans taken out in general. Their most common loan is a Car Loan however, the other loan types don't fall far behind.\n",
        "\n",
        "> This lender seems to give out more Car Loans in total than any other loan type when excluding Home Loans."
      ]
    },
    {
      "cell_type": "markdown",
      "metadata": {
        "id": "Ra3hiW2SxN0L"
      },
      "source": [
        "## 3. Does credit score improve over time? Do those with longer credit history have higher credit scores?"
      ]
    },
    {
      "cell_type": "code",
      "execution_count": null,
      "metadata": {
        "colab": {
          "base_uri": "https://localhost:8080/",
          "height": 296
        },
        "id": "G8GGwiaVsgW8",
        "outputId": "0764f89f-a0ee-428d-b149-e03c199fa3e5"
      },
      "outputs": [
        {
          "data": {
            "text/plain": [
              "Text(0, 0.5, 'Credit Score')"
            ]
          },
          "execution_count": 120,
          "metadata": {},
          "output_type": "execute_result"
        },
        {
          "data": {
            "image/png": "[encoded data removed]",
            "text/plain": [
              "<Figure size 720x288 with 1 Axes>"
            ]
          },
          "metadata": {},
          "output_type": "display_data"
        }
      ],
      "source": [
        "sns.scatterplot(x=data['Years_of_Credit_History'], y=data['Credit_Score'])\n",
        "plt.xlabel(\"Years of Credit History\")\n",
        "plt.ylabel(\"Credit Score\")"
      ]
    },
    {
      "cell_type": "markdown",
      "metadata": {
        "id": "irD0rMsrx1jt"
      },
      "source": [
        "### Findings\n",
        "> The data does not seem to have a strong relationship between the amount of years with credit history and their credit score. The scatterplot shows a weak positive correlation. It isnt until about 40 years of history that we see more records with higher credit scores; any amount of years before that is highly unpredicatable. It is not guaranteed that time will improve credit score."
      ]
    },
    {
      "cell_type": "markdown",
      "metadata": {
        "id": "NrlMI3Qv7q00"
      },
      "source": [
        "## 4. What are the portions of each loan purpose category? Which Purpose type are the most common and least common?"
      ]
    },
    {
      "cell_type": "code",
      "execution_count": null,
      "metadata": {
        "colab": {
          "base_uri": "https://localhost:8080/",
          "height": 303
        },
        "id": "a9VoDufp7rWQ",
        "outputId": "f3f21939-f0d3-46e0-ee49-7f4b1c371de0"
      },
      "outputs": [
        {
          "data": {
            "image/png": "[encoded data removed]",
            "text/plain": [
              "<Figure size 360x360 with 1 Axes>"
            ]
          },
          "metadata": {},
          "output_type": "display_data"
        }
      ],
      "source": [
        "plt.rcParams[\"figure.figsize\"] = [5, 5]\n",
        "purpose_counts = data['Purpose'].value_counts()\n",
        "plt.pie(purpose_counts, labels=purpose_counts.index, shadow = True, autopct='%1.1f%%', explode= (0.1, 0, 0, 0, 0, 0), startangle=120)\n",
        "plt.show()"
      ]
    },
    {
      "cell_type": "markdown",
      "metadata": {
        "id": "rw1sH4Ye7rus"
      },
      "source": [
        "### Findings\n",
        "> The lender of the data set lends out the most Home Loans than any other type of loan. The top 3 types of loans are Home, Car, and Home Improvement loans that make up 68% of the data set. This is compared to the least common Business, Medical, and Educational loans. The pie chart demonstates those in the data set file to borrow money for perpetual voluntary reasons. "
      ]
    },
    {
      "cell_type": "markdown",
      "metadata": {
        "id": "Ks_FRRKuxU50"
      },
      "source": [
        "# Feature Engineering\n"
      ]
    },
    {
      "cell_type": "markdown",
      "metadata": {
        "id": "-lpruZWlFn5O"
      },
      "source": [
        "## Feature 1 - Credit_Cards_Balance and Credit_Cards_Limit \n",
        "> The Credit Cards Balance is the amount due on all credit lines and the Credit Cards Limit refers to the total limit amount of credit given to the record holder.\n",
        "\n",
        "> The new feature will be labeled Credit Utilization and will be represented as a percentage with 2 decimal places. This is the percentage of how much of the available credit is used up.   \n",
        "Formula: Credit Cards Balance / Credit Cards Limit\n",
        "\n",
        "> The Credit Cards Limit column is only relevant as it relates to the credit Card balances. The limit column will be converted into the credit utilization ratio as lenders take this into account in the real world. The Credit Cards Balance is important and relevant as it adds to the amount borrowed however, The Credit Cards Limit is now taken in account and can be dismissed.\n",
        "\n",
        "> Unite Testing: Inputs for each feature must be greater or equal to 0. The testing will be to ensure that those who contain a 0 in either feature will be set to a 0 utilization score and not NAN nor inf. \n",
        "\n"
      ]
    },
    {
      "cell_type": "code",
      "execution_count": 155,
      "metadata": {
        "colab": {
          "base_uri": "https://localhost:8080/",
          "height": 259
        },
        "id": "0SPR1G5WFqVL",
        "outputId": "4708d25b-5764-40b5-8846-060529ce16f7"
      },
      "outputs": [
        {
          "output_type": "display_data",
          "data": {
            "text/plain": [
              "   Loan_Amount    Term  Interest_Rate  Credit_Score Years_in_Current_Job  \\\n",
              "0         6966  1 year          8.010           673       1 year or less   \n",
              "2         5878  1 year          5.570           743       1 year or less   \n",
              "4         1010  1 year          6.435           745       1 year or less   \n",
              "\n",
              "  Home_Ownership  Annual_Income            Purpose  Monthly_Debt  \\\n",
              "0  Home Mortgage        54736.0  Home Improvements        839.28   \n",
              "2  Home Mortgage       107767.0  Home Improvements       1420.73   \n",
              "4  Home Mortgage        75713.0  Home Improvements       1242.95   \n",
              "\n",
              "   Years_of_Credit_History  Credit_Cards_Balance  Credit_Cards_Limit  \\\n",
              "0                     16.4                  2942                3881   \n",
              "2                     24.6                 35963               89459   \n",
              "4                     18.0                   769               17889   \n",
              "\n",
              "   Credit_Risk  Credit_Utilization  \n",
              "0            1               75.81  \n",
              "2            0               40.20  \n",
              "4            0                4.30  "
            ],
            "text/html": [
              "\n",
              "  <div id=\"df-63c7c956-673b-4b5b-a3ce-6e827a0e4478\">\n",
              "    <div class=\"colab-df-container\">\n",
              "      <div>\n",
              "<style scoped>\n",
              "    .dataframe tbody tr th:only-of-type {\n",
              "        vertical-align: middle;\n",
              "    }\n",
              "\n",
              "    .dataframe tbody tr th {\n",
              "        vertical-align: top;\n",
              "    }\n",
              "\n",
              "    .dataframe thead th {\n",
              "        text-align: right;\n",
              "    }\n",
              "</style>\n",
              "<table border=\"1\" class=\"dataframe\">\n",
              "  <thead>\n",
              "    <tr style=\"text-align: right;\">\n",
              "      <th></th>\n",
              "      <th>Loan_Amount</th>\n",
              "      <th>Term</th>\n",
              "      <th>Interest_Rate</th>\n",
              "      <th>Credit_Score</th>\n",
              "      <th>Years_in_Current_Job</th>\n",
              "      <th>Home_Ownership</th>\n",
              "      <th>Annual_Income</th>\n",
              "      <th>Purpose</th>\n",
              "      <th>Monthly_Debt</th>\n",
              "      <th>Years_of_Credit_History</th>\n",
              "      <th>Credit_Cards_Balance</th>\n",
              "      <th>Credit_Cards_Limit</th>\n",
              "      <th>Credit_Risk</th>\n",
              "      <th>Credit_Utilization</th>\n",
              "    </tr>\n",
              "  </thead>\n",
              "  <tbody>\n",
              "    <tr>\n",
              "      <th>0</th>\n",
              "      <td>6966</td>\n",
              "      <td>1 year</td>\n",
              "      <td>8.010</td>\n",
              "      <td>673</td>\n",
              "      <td>1 year or less</td>\n",
              "      <td>Home Mortgage</td>\n",
              "      <td>54736.0</td>\n",
              "      <td>Home Improvements</td>\n",
              "      <td>839.28</td>\n",
              "      <td>16.4</td>\n",
              "      <td>2942</td>\n",
              "      <td>3881</td>\n",
              "      <td>1</td>\n",
              "      <td>75.81</td>\n",
              "    </tr>\n",
              "    <tr>\n",
              "      <th>2</th>\n",
              "      <td>5878</td>\n",
              "      <td>1 year</td>\n",
              "      <td>5.570</td>\n",
              "      <td>743</td>\n",
              "      <td>1 year or less</td>\n",
              "      <td>Home Mortgage</td>\n",
              "      <td>107767.0</td>\n",
              "      <td>Home Improvements</td>\n",
              "      <td>1420.73</td>\n",
              "      <td>24.6</td>\n",
              "      <td>35963</td>\n",
              "      <td>89459</td>\n",
              "      <td>0</td>\n",
              "      <td>40.20</td>\n",
              "    </tr>\n",
              "    <tr>\n",
              "      <th>4</th>\n",
              "      <td>1010</td>\n",
              "      <td>1 year</td>\n",
              "      <td>6.435</td>\n",
              "      <td>745</td>\n",
              "      <td>1 year or less</td>\n",
              "      <td>Home Mortgage</td>\n",
              "      <td>75713.0</td>\n",
              "      <td>Home Improvements</td>\n",
              "      <td>1242.95</td>\n",
              "      <td>18.0</td>\n",
              "      <td>769</td>\n",
              "      <td>17889</td>\n",
              "      <td>0</td>\n",
              "      <td>4.30</td>\n",
              "    </tr>\n",
              "  </tbody>\n",
              "</table>\n",
              "</div>\n",
              "      <button class=\"colab-df-convert\" onclick=\"convertToInteractive('df-63c7c956-673b-4b5b-a3ce-6e827a0e4478')\"\n",
              "              title=\"Convert this dataframe to an interactive table.\"\n",
              "              style=\"display:none;\">\n",
              "        \n",
              "  <svg xmlns=\"http://www.w3.org/2000/svg\" height=\"24px\"viewBox=\"0 0 24 24\"\n",
              "       width=\"24px\">\n",
              "    <path d=\"M0 0h24v24H0V0z\" fill=\"none\"/>\n",
              "    <path d=\"M18.56 5.44l.94 2.06.94-2.06 2.06-.94-2.06-.94-.94-2.06-.94 2.06-2.06.94zm-11 1L8.5 8.5l.94-2.06 2.06-.94-2.06-.94L8.5 2.5l-.94 2.06-2.06.94zm10 10l.94 2.06.94-2.06 2.06-.94-2.06-.94-.94-2.06-.94 2.06-2.06.94z\"/><path d=\"M17.41 7.96l-1.37-1.37c-.4-.4-.92-.59-1.43-.59-.52 0-1.04.2-1.43.59L10.3 9.45l-7.72 7.72c-.78.78-.78 2.05 0 2.83L4 21.41c.39.39.9.59 1.41.59.51 0 1.02-.2 1.41-.59l7.78-7.78 2.81-2.81c.8-.78.8-2.07 0-2.86zM5.41 20L4 18.59l7.72-7.72 1.47 1.35L5.41 20z\"/>\n",
              "  </svg>\n",
              "      </button>\n",
              "      \n",
              "  <style>\n",
              "    .colab-df-container {\n",
              "      display:flex;\n",
              "      flex-wrap:wrap;\n",
              "      gap: 12px;\n",
              "    }\n",
              "\n",
              "    .colab-df-convert {\n",
              "      background-color: #E8F0FE;\n",
              "      border: none;\n",
              "      border-radius: 50%;\n",
              "      cursor: pointer;\n",
              "      display: none;\n",
              "      fill: #1967D2;\n",
              "      height: 32px;\n",
              "      padding: 0 0 0 0;\n",
              "      width: 32px;\n",
              "    }\n",
              "\n",
              "    .colab-df-convert:hover {\n",
              "      background-color: #E2EBFA;\n",
              "      box-shadow: 0px 1px 2px rgba(60, 64, 67, 0.3), 0px 1px 3px 1px rgba(60, 64, 67, 0.15);\n",
              "      fill: #174EA6;\n",
              "    }\n",
              "\n",
              "    [theme=dark] .colab-df-convert {\n",
              "      background-color: #3B4455;\n",
              "      fill: #D2E3FC;\n",
              "    }\n",
              "\n",
              "    [theme=dark] .colab-df-convert:hover {\n",
              "      background-color: #434B5C;\n",
              "      box-shadow: 0px 1px 3px 1px rgba(0, 0, 0, 0.15);\n",
              "      filter: drop-shadow(0px 1px 2px rgba(0, 0, 0, 0.3));\n",
              "      fill: #FFFFFF;\n",
              "    }\n",
              "  </style>\n",
              "\n",
              "      <script>\n",
              "        const buttonEl =\n",
              "          document.querySelector('#df-63c7c956-673b-4b5b-a3ce-6e827a0e4478 button.colab-df-convert');\n",
              "        buttonEl.style.display =\n",
              "          google.colab.kernel.accessAllowed ? 'block' : 'none';\n",
              "\n",
              "        async function convertToInteractive(key) {\n",
              "          const element = document.querySelector('#df-63c7c956-673b-4b5b-a3ce-6e827a0e4478');\n",
              "          const dataTable =\n",
              "            await google.colab.kernel.invokeFunction('convertToInteractive',\n",
              "                                                     [key], {});\n",
              "          if (!dataTable) return;\n",
              "\n",
              "          const docLinkHtml = 'Like what you see? Visit the ' +\n",
              "            '<a target=\"_blank\" href=https://colab.research.google.com/notebooks/data_table.ipynb>data table notebook</a>'\n",
              "            + ' to learn more about interactive tables.';\n",
              "          element.innerHTML = '';\n",
              "          dataTable['output_type'] = 'display_data';\n",
              "          await google.colab.output.renderOutput(dataTable, element);\n",
              "          const docLink = document.createElement('div');\n",
              "          docLink.innerHTML = docLinkHtml;\n",
              "          element.appendChild(docLink);\n",
              "        }\n",
              "      </script>\n",
              "    </div>\n",
              "  </div>\n",
              "  "
            ]
          },
          "metadata": {}
        }
      ],
      "source": [
        "limit = data[\"Credit_Cards_Limit\"]\n",
        "data[\"Credit_Utilization\"] = round((data[\"Credit_Cards_Balance\"] / data[\"Credit_Cards_Limit\"]) * 100, 2)\n",
        "data[\"Credit_Utilization\"].replace(to_replace = [float('inf'), np.nan], value = 0, inplace=True)\n",
        "\n",
        "display(data.head(3))"
      ]
    },
    {
      "cell_type": "code",
      "source": [
        "data = data.drop(columns = ['Credit_Cards_Limit'])\n",
        "display(data.columns)"
      ],
      "metadata": {
        "colab": {
          "base_uri": "https://localhost:8080/",
          "height": 104
        },
        "id": "E71X_AILCmsd",
        "outputId": "225a7117-d140-48c3-9e58-07fef04f06ea"
      },
      "execution_count": 156,
      "outputs": [
        {
          "output_type": "display_data",
          "data": {
            "text/plain": [
              "Index(['Loan_Amount', 'Term', 'Interest_Rate', 'Credit_Score',\n",
              "       'Years_in_Current_Job', 'Home_Ownership', 'Annual_Income', 'Purpose',\n",
              "       'Monthly_Debt', 'Years_of_Credit_History', 'Credit_Cards_Balance',\n",
              "       'Credit_Risk', 'Credit_Utilization'],\n",
              "      dtype='object')"
            ]
          },
          "metadata": {}
        }
      ]
    },
    {
      "cell_type": "markdown",
      "source": [
        "## Feature 2 - Loan_Amount, Term, Interest_Rate, Annual_Income, Monthly Debt, Credit_Cards_Balance\n",
        "> The Loan Amount and Credit Cards Balance refer to the amounts owed to the lender that are subject to the Interest Rate. The Term refers to the agreed upon length of time that the Loan Amount must be paid by. The Annual Income is the the amount the record holder earns yearly and the Monthly Debt is in regards to the amount they owe in all bills each month\n",
        "\n",
        "> These features with be used to engineer a Debt to Income Ratio column. \n",
        "This calculation is used to describe the percentage of income used on bills on a monthly basis. The first step is to calculate the Compound Interest owed on the principle amounts. This will determine the exact amount owed including the additional interest charges by the end of the agreed term. Then we will be able to caluclate the monthly Debt to Income Ratio.\n",
        "Formulas:\n",
        "  *   Compound Interest:   \n",
        "  (Loan Amount + Credit Cards Balance) * ((1.0+ (.001 * Interest Rate /4.0)) ** (Term * 4.0))\n",
        "  *   Debt to Income ratio:    \n",
        "  ((Compound / term / 12) + Monthly Debt) / (Annual Income /12)\n",
        "\n",
        "> The Debt to Income Ratio is important as it gives better insight to whether the record holder will have the funds available each month to pay their monthly debts that includes the owed amount to the lender. Lenders \n",
        "take the Debt to Income Ratio in account in the real world. No Columns will be discarded, this new feature will only be added to the data set.\n",
        "\n",
        "> Unit Testing: Inputs will be checked to ensure they are non-negative values. Because the term value is categorical and needs to undergo slicing and float conversion in order to calculate both Compound Interest and Debt to Income Ratio, we must test that the string is qualified to be successful when extracting the term number. The result should fall within the range 0 to 100"
      ],
      "metadata": {
        "id": "hy_Sa_Ep7pV9"
      }
    },
    {
      "cell_type": "code",
      "source": [
        "data[\"Term_Num\"] = data[\"Term\"].apply(lambda x: float(x.split(\" \", 1)[0]))\n",
        "data[\"Compound\"] = data[[\"Loan_Amount\", \"Credit_Cards_Balance\"]].sum(axis=1) * \\\n",
        "                  ((1.0+ (.001 * data[\"Interest_Rate\"]/4.0)) ** (data[\"Term_Num\"]  * 4.0))                \n",
        "data[\"Debt_To_Income_Ratio\"] = ((data[\"Compound\"] / data[\"Term_Num\"] / 12) + data[\"Monthly_Debt\"]) \\\n",
        "                               / (data[\"Annual_Income\"] / 12)\n",
        "data[\"Debt_To_Income_Ratio\"] = round(data[\"Debt_To_Income_Ratio\"], 2)\n",
        "display(data.head(3))"
      ],
      "metadata": {
        "colab": {
          "base_uri": "https://localhost:8080/",
          "height": 259
        },
        "id": "1pN-9HJp_lgy",
        "outputId": "412b5f55-0bbe-49b8-9d91-e72902894ca3"
      },
      "execution_count": 157,
      "outputs": [
        {
          "output_type": "display_data",
          "data": {
            "text/plain": [
              "   Loan_Amount    Term  Interest_Rate  Credit_Score Years_in_Current_Job  \\\n",
              "0         6966  1 year          8.010           673       1 year or less   \n",
              "2         5878  1 year          5.570           743       1 year or less   \n",
              "4         1010  1 year          6.435           745       1 year or less   \n",
              "\n",
              "  Home_Ownership  Annual_Income            Purpose  Monthly_Debt  \\\n",
              "0  Home Mortgage        54736.0  Home Improvements        839.28   \n",
              "2  Home Mortgage       107767.0  Home Improvements       1420.73   \n",
              "4  Home Mortgage        75713.0  Home Improvements       1242.95   \n",
              "\n",
              "   Years_of_Credit_History  Credit_Cards_Balance  Credit_Risk  \\\n",
              "0                     16.4                  2942            1   \n",
              "2                     24.6                 35963            0   \n",
              "4                     18.0                   769            0   \n",
              "\n",
              "   Credit_Utilization  Term_Num      Compound  Debt_To_Income_Ratio  \n",
              "0               75.81       1.0   9987.601785                  0.37  \n",
              "2               40.20       1.0  42074.541614                  0.55  \n",
              "4                4.30       1.0   1790.475520                  0.22  "
            ],
            "text/html": [
              "\n",
              "  <div id=\"df-e6a7f12f-abed-4a8c-add6-83fd44959cff\">\n",
              "    <div class=\"colab-df-container\">\n",
              "      <div>\n",
              "<style scoped>\n",
              "    .dataframe tbody tr th:only-of-type {\n",
              "        vertical-align: middle;\n",
              "    }\n",
              "\n",
              "    .dataframe tbody tr th {\n",
              "        vertical-align: top;\n",
              "    }\n",
              "\n",
              "    .dataframe thead th {\n",
              "        text-align: right;\n",
              "    }\n",
              "</style>\n",
              "<table border=\"1\" class=\"dataframe\">\n",
              "  <thead>\n",
              "    <tr style=\"text-align: right;\">\n",
              "      <th></th>\n",
              "      <th>Loan_Amount</th>\n",
              "      <th>Term</th>\n",
              "      <th>Interest_Rate</th>\n",
              "      <th>Credit_Score</th>\n",
              "      <th>Years_in_Current_Job</th>\n",
              "      <th>Home_Ownership</th>\n",
              "      <th>Annual_Income</th>\n",
              "      <th>Purpose</th>\n",
              "      <th>Monthly_Debt</th>\n",
              "      <th>Years_of_Credit_History</th>\n",
              "      <th>Credit_Cards_Balance</th>\n",
              "      <th>Credit_Risk</th>\n",
              "      <th>Credit_Utilization</th>\n",
              "      <th>Term_Num</th>\n",
              "      <th>Compound</th>\n",
              "      <th>Debt_To_Income_Ratio</th>\n",
              "    </tr>\n",
              "  </thead>\n",
              "  <tbody>\n",
              "    <tr>\n",
              "      <th>0</th>\n",
              "      <td>6966</td>\n",
              "      <td>1 year</td>\n",
              "      <td>8.010</td>\n",
              "      <td>673</td>\n",
              "      <td>1 year or less</td>\n",
              "      <td>Home Mortgage</td>\n",
              "      <td>54736.0</td>\n",
              "      <td>Home Improvements</td>\n",
              "      <td>839.28</td>\n",
              "      <td>16.4</td>\n",
              "      <td>2942</td>\n",
              "      <td>1</td>\n",
              "      <td>75.81</td>\n",
              "      <td>1.0</td>\n",
              "      <td>9987.601785</td>\n",
              "      <td>0.37</td>\n",
              "    </tr>\n",
              "    <tr>\n",
              "      <th>2</th>\n",
              "      <td>5878</td>\n",
              "      <td>1 year</td>\n",
              "      <td>5.570</td>\n",
              "      <td>743</td>\n",
              "      <td>1 year or less</td>\n",
              "      <td>Home Mortgage</td>\n",
              "      <td>107767.0</td>\n",
              "      <td>Home Improvements</td>\n",
              "      <td>1420.73</td>\n",
              "      <td>24.6</td>\n",
              "      <td>35963</td>\n",
              "      <td>0</td>\n",
              "      <td>40.20</td>\n",
              "      <td>1.0</td>\n",
              "      <td>42074.541614</td>\n",
              "      <td>0.55</td>\n",
              "    </tr>\n",
              "    <tr>\n",
              "      <th>4</th>\n",
              "      <td>1010</td>\n",
              "      <td>1 year</td>\n",
              "      <td>6.435</td>\n",
              "      <td>745</td>\n",
              "      <td>1 year or less</td>\n",
              "      <td>Home Mortgage</td>\n",
              "      <td>75713.0</td>\n",
              "      <td>Home Improvements</td>\n",
              "      <td>1242.95</td>\n",
              "      <td>18.0</td>\n",
              "      <td>769</td>\n",
              "      <td>0</td>\n",
              "      <td>4.30</td>\n",
              "      <td>1.0</td>\n",
              "      <td>1790.475520</td>\n",
              "      <td>0.22</td>\n",
              "    </tr>\n",
              "  </tbody>\n",
              "</table>\n",
              "</div>\n",
              "      <button class=\"colab-df-convert\" onclick=\"convertToInteractive('df-e6a7f12f-abed-4a8c-add6-83fd44959cff')\"\n",
              "              title=\"Convert this dataframe to an interactive table.\"\n",
              "              style=\"display:none;\">\n",
              "        \n",
              "  <svg xmlns=\"http://www.w3.org/2000/svg\" height=\"24px\"viewBox=\"0 0 24 24\"\n",
              "       width=\"24px\">\n",
              "    <path d=\"M0 0h24v24H0V0z\" fill=\"none\"/>\n",
              "    <path d=\"M18.56 5.44l.94 2.06.94-2.06 2.06-.94-2.06-.94-.94-2.06-.94 2.06-2.06.94zm-11 1L8.5 8.5l.94-2.06 2.06-.94-2.06-.94L8.5 2.5l-.94 2.06-2.06.94zm10 10l.94 2.06.94-2.06 2.06-.94-2.06-.94-.94-2.06-.94 2.06-2.06.94z\"/><path d=\"M17.41 7.96l-1.37-1.37c-.4-.4-.92-.59-1.43-.59-.52 0-1.04.2-1.43.59L10.3 9.45l-7.72 7.72c-.78.78-.78 2.05 0 2.83L4 21.41c.39.39.9.59 1.41.59.51 0 1.02-.2 1.41-.59l7.78-7.78 2.81-2.81c.8-.78.8-2.07 0-2.86zM5.41 20L4 18.59l7.72-7.72 1.47 1.35L5.41 20z\"/>\n",
              "  </svg>\n",
              "      </button>\n",
              "      \n",
              "  <style>\n",
              "    .colab-df-container {\n",
              "      display:flex;\n",
              "      flex-wrap:wrap;\n",
              "      gap: 12px;\n",
              "    }\n",
              "\n",
              "    .colab-df-convert {\n",
              "      background-color: #E8F0FE;\n",
              "      border: none;\n",
              "      border-radius: 50%;\n",
              "      cursor: pointer;\n",
              "      display: none;\n",
              "      fill: #1967D2;\n",
              "      height: 32px;\n",
              "      padding: 0 0 0 0;\n",
              "      width: 32px;\n",
              "    }\n",
              "\n",
              "    .colab-df-convert:hover {\n",
              "      background-color: #E2EBFA;\n",
              "      box-shadow: 0px 1px 2px rgba(60, 64, 67, 0.3), 0px 1px 3px 1px rgba(60, 64, 67, 0.15);\n",
              "      fill: #174EA6;\n",
              "    }\n",
              "\n",
              "    [theme=dark] .colab-df-convert {\n",
              "      background-color: #3B4455;\n",
              "      fill: #D2E3FC;\n",
              "    }\n",
              "\n",
              "    [theme=dark] .colab-df-convert:hover {\n",
              "      background-color: #434B5C;\n",
              "      box-shadow: 0px 1px 3px 1px rgba(0, 0, 0, 0.15);\n",
              "      filter: drop-shadow(0px 1px 2px rgba(0, 0, 0, 0.3));\n",
              "      fill: #FFFFFF;\n",
              "    }\n",
              "  </style>\n",
              "\n",
              "      <script>\n",
              "        const buttonEl =\n",
              "          document.querySelector('#df-e6a7f12f-abed-4a8c-add6-83fd44959cff button.colab-df-convert');\n",
              "        buttonEl.style.display =\n",
              "          google.colab.kernel.accessAllowed ? 'block' : 'none';\n",
              "\n",
              "        async function convertToInteractive(key) {\n",
              "          const element = document.querySelector('#df-e6a7f12f-abed-4a8c-add6-83fd44959cff');\n",
              "          const dataTable =\n",
              "            await google.colab.kernel.invokeFunction('convertToInteractive',\n",
              "                                                     [key], {});\n",
              "          if (!dataTable) return;\n",
              "\n",
              "          const docLinkHtml = 'Like what you see? Visit the ' +\n",
              "            '<a target=\"_blank\" href=https://colab.research.google.com/notebooks/data_table.ipynb>data table notebook</a>'\n",
              "            + ' to learn more about interactive tables.';\n",
              "          element.innerHTML = '';\n",
              "          dataTable['output_type'] = 'display_data';\n",
              "          await google.colab.output.renderOutput(dataTable, element);\n",
              "          const docLink = document.createElement('div');\n",
              "          docLink.innerHTML = docLinkHtml;\n",
              "          element.appendChild(docLink);\n",
              "        }\n",
              "      </script>\n",
              "    </div>\n",
              "  </div>\n",
              "  "
            ]
          },
          "metadata": {}
        }
      ]
    },
    {
      "cell_type": "code",
      "source": [
        "data = data.drop(columns = ['Compound', \"Term_Num\"])\n",
        "display(data.columns)"
      ],
      "metadata": {
        "colab": {
          "base_uri": "https://localhost:8080/",
          "height": 104
        },
        "id": "J1BK13VXQkeO",
        "outputId": "2fc9f4d8-9692-4ccb-8699-67b73a1d0d7c"
      },
      "execution_count": 158,
      "outputs": [
        {
          "output_type": "display_data",
          "data": {
            "text/plain": [
              "Index(['Loan_Amount', 'Term', 'Interest_Rate', 'Credit_Score',\n",
              "       'Years_in_Current_Job', 'Home_Ownership', 'Annual_Income', 'Purpose',\n",
              "       'Monthly_Debt', 'Years_of_Credit_History', 'Credit_Cards_Balance',\n",
              "       'Credit_Risk', 'Credit_Utilization', 'Debt_To_Income_Ratio'],\n",
              "      dtype='object')"
            ]
          },
          "metadata": {}
        }
      ]
    },
    {
      "cell_type": "markdown",
      "metadata": {
        "id": "NBmq8C1XGizL"
      },
      "source": [
        "> Since there was a very weak correlation between Years_of_Credit_History and Credit_Score then it seems to be not impactful enough and can be removed entirely from the model. The same concern would apply to Years_in_Current_Job.\n",
        "\n"
      ]
    },
    {
      "cell_type": "code",
      "execution_count": 159,
      "metadata": {
        "colab": {
          "base_uri": "https://localhost:8080/",
          "height": 104
        },
        "id": "ozO-gFbkhlSI",
        "outputId": "1e0255af-3e7c-4a8e-b0a8-0d9d581b75be"
      },
      "outputs": [
        {
          "output_type": "display_data",
          "data": {
            "text/plain": [
              "Index(['Loan_Amount', 'Term', 'Interest_Rate', 'Credit_Score',\n",
              "       'Home_Ownership', 'Annual_Income', 'Purpose', 'Monthly_Debt',\n",
              "       'Credit_Cards_Balance', 'Credit_Risk', 'Credit_Utilization',\n",
              "       'Debt_To_Income_Ratio'],\n",
              "      dtype='object')"
            ]
          },
          "metadata": {}
        }
      ],
      "source": [
        "data = data.drop(columns = ['Years_in_Current_Job', 'Years_of_Credit_History'])\n",
        "display(data.columns)"
      ]
    },
    {
      "cell_type": "markdown",
      "metadata": {
        "id": "5IaeJ95MyRBZ"
      },
      "source": [
        "# Train Test Split\n",
        "> The dataset comprises of 15,787 records that have remained after inital data clean up (prevent data leakage). The split will be 75/25 split where the Training set is 75% with 11,840 entries and the Testing set will include 25% of the data set with the remaining 3,947 entries. "
      ]
    },
    {
      "cell_type": "markdown",
      "metadata": {
        "id": "7kdx9iUqhUCx"
      },
      "source": [
        "Remove Credit_Risk predicted column Train/Test Split \n"
      ]
    },
    {
      "cell_type": "code",
      "execution_count": 160,
      "metadata": {
        "colab": {
          "base_uri": "https://localhost:8080/",
          "height": 364
        },
        "id": "NMMFhGpoiPUH",
        "outputId": "73ba8ffd-b440-4093-8adc-93ea32e93936"
      },
      "outputs": [
        {
          "output_type": "display_data",
          "data": {
            "text/plain": [
              "        Loan_Amount  Interest_Rate  Credit_Score  Annual_Income  Monthly_Debt  \\\n",
              "count  1.578700e+04   15787.000000  15787.000000   15787.000000  15787.000000   \n",
              "mean   8.051086e+04       5.480135    715.703870   71904.597074    974.673670   \n",
              "std    5.794124e+05       1.610655     28.708938   46535.648443    637.055557   \n",
              "min    5.110000e+02       2.410000    585.000000    4033.000000      0.000000   \n",
              "25%    1.173900e+04       3.950000    702.000000   44500.500000    540.145000   \n",
              "50%    2.390900e+04       5.495000    722.000000   61458.000000    854.320000   \n",
              "75%    1.013960e+05       6.675000    738.000000   86650.500000   1261.565000   \n",
              "max    6.998809e+07      11.055000    751.000000  968430.000000   9119.240000   \n",
              "\n",
              "       Credit_Cards_Balance   Credit_Risk  Credit_Utilization  \\\n",
              "count          15787.000000  15787.000000        15787.000000   \n",
              "mean           15525.625198      0.168430           55.603727   \n",
              "std            19066.021805      0.374259           21.938592   \n",
              "min                0.000000      0.000000            0.000000   \n",
              "25%             6015.500000      0.000000           46.250000   \n",
              "50%            11085.000000      0.000000           50.000000   \n",
              "75%            19473.500000      0.000000           71.400000   \n",
              "max           683524.000000      1.000000          366.530000   \n",
              "\n",
              "       Debt_To_Income_Ratio  \n",
              "count          15787.000000  \n",
              "mean               0.355120  \n",
              "std                0.397667  \n",
              "min                0.010000  \n",
              "25%                0.210000  \n",
              "50%                0.310000  \n",
              "75%                0.430000  \n",
              "max               42.320000  "
            ],
            "text/html": [
              "\n",
              "  <div id=\"df-975aef3f-7545-41c7-af2e-eb2b12702939\">\n",
              "    <div class=\"colab-df-container\">\n",
              "      <div>\n",
              "<style scoped>\n",
              "    .dataframe tbody tr th:only-of-type {\n",
              "        vertical-align: middle;\n",
              "    }\n",
              "\n",
              "    .dataframe tbody tr th {\n",
              "        vertical-align: top;\n",
              "    }\n",
              "\n",
              "    .dataframe thead th {\n",
              "        text-align: right;\n",
              "    }\n",
              "</style>\n",
              "<table border=\"1\" class=\"dataframe\">\n",
              "  <thead>\n",
              "    <tr style=\"text-align: right;\">\n",
              "      <th></th>\n",
              "      <th>Loan_Amount</th>\n",
              "      <th>Interest_Rate</th>\n",
              "      <th>Credit_Score</th>\n",
              "      <th>Annual_Income</th>\n",
              "      <th>Monthly_Debt</th>\n",
              "      <th>Credit_Cards_Balance</th>\n",
              "      <th>Credit_Risk</th>\n",
              "      <th>Credit_Utilization</th>\n",
              "      <th>Debt_To_Income_Ratio</th>\n",
              "    </tr>\n",
              "  </thead>\n",
              "  <tbody>\n",
              "    <tr>\n",
              "      <th>count</th>\n",
              "      <td>1.578700e+04</td>\n",
              "      <td>15787.000000</td>\n",
              "      <td>15787.000000</td>\n",
              "      <td>15787.000000</td>\n",
              "      <td>15787.000000</td>\n",
              "      <td>15787.000000</td>\n",
              "      <td>15787.000000</td>\n",
              "      <td>15787.000000</td>\n",
              "      <td>15787.000000</td>\n",
              "    </tr>\n",
              "    <tr>\n",
              "      <th>mean</th>\n",
              "      <td>8.051086e+04</td>\n",
              "      <td>5.480135</td>\n",
              "      <td>715.703870</td>\n",
              "      <td>71904.597074</td>\n",
              "      <td>974.673670</td>\n",
              "      <td>15525.625198</td>\n",
              "      <td>0.168430</td>\n",
              "      <td>55.603727</td>\n",
              "      <td>0.355120</td>\n",
              "    </tr>\n",
              "    <tr>\n",
              "      <th>std</th>\n",
              "      <td>5.794124e+05</td>\n",
              "      <td>1.610655</td>\n",
              "      <td>28.708938</td>\n",
              "      <td>46535.648443</td>\n",
              "      <td>637.055557</td>\n",
              "      <td>19066.021805</td>\n",
              "      <td>0.374259</td>\n",
              "      <td>21.938592</td>\n",
              "      <td>0.397667</td>\n",
              "    </tr>\n",
              "    <tr>\n",
              "      <th>min</th>\n",
              "      <td>5.110000e+02</td>\n",
              "      <td>2.410000</td>\n",
              "      <td>585.000000</td>\n",
              "      <td>4033.000000</td>\n",
              "      <td>0.000000</td>\n",
              "      <td>0.000000</td>\n",
              "      <td>0.000000</td>\n",
              "      <td>0.000000</td>\n",
              "      <td>0.010000</td>\n",
              "    </tr>\n",
              "    <tr>\n",
              "      <th>25%</th>\n",
              "      <td>1.173900e+04</td>\n",
              "      <td>3.950000</td>\n",
              "      <td>702.000000</td>\n",
              "      <td>44500.500000</td>\n",
              "      <td>540.145000</td>\n",
              "      <td>6015.500000</td>\n",
              "      <td>0.000000</td>\n",
              "      <td>46.250000</td>\n",
              "      <td>0.210000</td>\n",
              "    </tr>\n",
              "    <tr>\n",
              "      <th>50%</th>\n",
              "      <td>2.390900e+04</td>\n",
              "      <td>5.495000</td>\n",
              "      <td>722.000000</td>\n",
              "      <td>61458.000000</td>\n",
              "      <td>854.320000</td>\n",
              "      <td>11085.000000</td>\n",
              "      <td>0.000000</td>\n",
              "      <td>50.000000</td>\n",
              "      <td>0.310000</td>\n",
              "    </tr>\n",
              "    <tr>\n",
              "      <th>75%</th>\n",
              "      <td>1.013960e+05</td>\n",
              "      <td>6.675000</td>\n",
              "      <td>738.000000</td>\n",
              "      <td>86650.500000</td>\n",
              "      <td>1261.565000</td>\n",
              "      <td>19473.500000</td>\n",
              "      <td>0.000000</td>\n",
              "      <td>71.400000</td>\n",
              "      <td>0.430000</td>\n",
              "    </tr>\n",
              "    <tr>\n",
              "      <th>max</th>\n",
              "      <td>6.998809e+07</td>\n",
              "      <td>11.055000</td>\n",
              "      <td>751.000000</td>\n",
              "      <td>968430.000000</td>\n",
              "      <td>9119.240000</td>\n",
              "      <td>683524.000000</td>\n",
              "      <td>1.000000</td>\n",
              "      <td>366.530000</td>\n",
              "      <td>42.320000</td>\n",
              "    </tr>\n",
              "  </tbody>\n",
              "</table>\n",
              "</div>\n",
              "      <button class=\"colab-df-convert\" onclick=\"convertToInteractive('df-975aef3f-7545-41c7-af2e-eb2b12702939')\"\n",
              "              title=\"Convert this dataframe to an interactive table.\"\n",
              "              style=\"display:none;\">\n",
              "        \n",
              "  <svg xmlns=\"http://www.w3.org/2000/svg\" height=\"24px\"viewBox=\"0 0 24 24\"\n",
              "       width=\"24px\">\n",
              "    <path d=\"M0 0h24v24H0V0z\" fill=\"none\"/>\n",
              "    <path d=\"M18.56 5.44l.94 2.06.94-2.06 2.06-.94-2.06-.94-.94-2.06-.94 2.06-2.06.94zm-11 1L8.5 8.5l.94-2.06 2.06-.94-2.06-.94L8.5 2.5l-.94 2.06-2.06.94zm10 10l.94 2.06.94-2.06 2.06-.94-2.06-.94-.94-2.06-.94 2.06-2.06.94z\"/><path d=\"M17.41 7.96l-1.37-1.37c-.4-.4-.92-.59-1.43-.59-.52 0-1.04.2-1.43.59L10.3 9.45l-7.72 7.72c-.78.78-.78 2.05 0 2.83L4 21.41c.39.39.9.59 1.41.59.51 0 1.02-.2 1.41-.59l7.78-7.78 2.81-2.81c.8-.78.8-2.07 0-2.86zM5.41 20L4 18.59l7.72-7.72 1.47 1.35L5.41 20z\"/>\n",
              "  </svg>\n",
              "      </button>\n",
              "      \n",
              "  <style>\n",
              "    .colab-df-container {\n",
              "      display:flex;\n",
              "      flex-wrap:wrap;\n",
              "      gap: 12px;\n",
              "    }\n",
              "\n",
              "    .colab-df-convert {\n",
              "      background-color: #E8F0FE;\n",
              "      border: none;\n",
              "      border-radius: 50%;\n",
              "      cursor: pointer;\n",
              "      display: none;\n",
              "      fill: #1967D2;\n",
              "      height: 32px;\n",
              "      padding: 0 0 0 0;\n",
              "      width: 32px;\n",
              "    }\n",
              "\n",
              "    .colab-df-convert:hover {\n",
              "      background-color: #E2EBFA;\n",
              "      box-shadow: 0px 1px 2px rgba(60, 64, 67, 0.3), 0px 1px 3px 1px rgba(60, 64, 67, 0.15);\n",
              "      fill: #174EA6;\n",
              "    }\n",
              "\n",
              "    [theme=dark] .colab-df-convert {\n",
              "      background-color: #3B4455;\n",
              "      fill: #D2E3FC;\n",
              "    }\n",
              "\n",
              "    [theme=dark] .colab-df-convert:hover {\n",
              "      background-color: #434B5C;\n",
              "      box-shadow: 0px 1px 3px 1px rgba(0, 0, 0, 0.15);\n",
              "      filter: drop-shadow(0px 1px 2px rgba(0, 0, 0, 0.3));\n",
              "      fill: #FFFFFF;\n",
              "    }\n",
              "  </style>\n",
              "\n",
              "      <script>\n",
              "        const buttonEl =\n",
              "          document.querySelector('#df-975aef3f-7545-41c7-af2e-eb2b12702939 button.colab-df-convert');\n",
              "        buttonEl.style.display =\n",
              "          google.colab.kernel.accessAllowed ? 'block' : 'none';\n",
              "\n",
              "        async function convertToInteractive(key) {\n",
              "          const element = document.querySelector('#df-975aef3f-7545-41c7-af2e-eb2b12702939');\n",
              "          const dataTable =\n",
              "            await google.colab.kernel.invokeFunction('convertToInteractive',\n",
              "                                                     [key], {});\n",
              "          if (!dataTable) return;\n",
              "\n",
              "          const docLinkHtml = 'Like what you see? Visit the ' +\n",
              "            '<a target=\"_blank\" href=https://colab.research.google.com/notebooks/data_table.ipynb>data table notebook</a>'\n",
              "            + ' to learn more about interactive tables.';\n",
              "          element.innerHTML = '';\n",
              "          dataTable['output_type'] = 'display_data';\n",
              "          await google.colab.output.renderOutput(dataTable, element);\n",
              "          const docLink = document.createElement('div');\n",
              "          docLink.innerHTML = docLinkHtml;\n",
              "          element.appendChild(docLink);\n",
              "        }\n",
              "      </script>\n",
              "    </div>\n",
              "  </div>\n",
              "  "
            ]
          },
          "metadata": {}
        }
      ],
      "source": [
        "risk_col = 'Credit_Risk'\n",
        "display(data.describe())\n",
        "X_train, X_test, y_train, y_test = train_test_split(data.drop(columns=risk_col), data[risk_col],\n",
        "                                                   test_size=0.25, random_state=2345, stratify=data[risk_col])"
      ]
    },
    {
      "cell_type": "code",
      "execution_count": 161,
      "metadata": {
        "colab": {
          "base_uri": "https://localhost:8080/",
          "height": 601
        },
        "id": "gyTwfCwtPECc",
        "outputId": "d9346f9b-baed-4ef3-d6ae-47774b32da0b"
      },
      "outputs": [
        {
          "output_type": "stream",
          "name": "stdout",
          "text": [
            "On X train  (11840, 11)\n"
          ]
        },
        {
          "output_type": "display_data",
          "data": {
            "text/plain": [
              "       Loan_Amount     Term  Interest_Rate  Credit_Score Home_Ownership  \\\n",
              "11766        85776  10 year           3.95           723  Home Mortgage   \n",
              "5827         10953   3 year           7.48           716           Rent   \n",
              "\n",
              "       Annual_Income            Purpose  Monthly_Debt  Credit_Cards_Balance  \\\n",
              "11766        37422.0          Home Loan        576.92                  5211   \n",
              "5827         38540.0  Home Improvements        607.00                  8426   \n",
              "\n",
              "       Credit_Utilization  Debt_To_Income_Ratio  \n",
              "11766                48.6                  0.44  \n",
              "5827                 59.8                  0.36  "
            ],
            "text/html": [
              "\n",
              "  <div id=\"df-de19e1f1-ee3f-4386-8517-21df098b4a00\">\n",
              "    <div class=\"colab-df-container\">\n",
              "      <div>\n",
              "<style scoped>\n",
              "    .dataframe tbody tr th:only-of-type {\n",
              "        vertical-align: middle;\n",
              "    }\n",
              "\n",
              "    .dataframe tbody tr th {\n",
              "        vertical-align: top;\n",
              "    }\n",
              "\n",
              "    .dataframe thead th {\n",
              "        text-align: right;\n",
              "    }\n",
              "</style>\n",
              "<table border=\"1\" class=\"dataframe\">\n",
              "  <thead>\n",
              "    <tr style=\"text-align: right;\">\n",
              "      <th></th>\n",
              "      <th>Loan_Amount</th>\n",
              "      <th>Term</th>\n",
              "      <th>Interest_Rate</th>\n",
              "      <th>Credit_Score</th>\n",
              "      <th>Home_Ownership</th>\n",
              "      <th>Annual_Income</th>\n",
              "      <th>Purpose</th>\n",
              "      <th>Monthly_Debt</th>\n",
              "      <th>Credit_Cards_Balance</th>\n",
              "      <th>Credit_Utilization</th>\n",
              "      <th>Debt_To_Income_Ratio</th>\n",
              "    </tr>\n",
              "  </thead>\n",
              "  <tbody>\n",
              "    <tr>\n",
              "      <th>11766</th>\n",
              "      <td>85776</td>\n",
              "      <td>10 year</td>\n",
              "      <td>3.95</td>\n",
              "      <td>723</td>\n",
              "      <td>Home Mortgage</td>\n",
              "      <td>37422.0</td>\n",
              "      <td>Home Loan</td>\n",
              "      <td>576.92</td>\n",
              "      <td>5211</td>\n",
              "      <td>48.6</td>\n",
              "      <td>0.44</td>\n",
              "    </tr>\n",
              "    <tr>\n",
              "      <th>5827</th>\n",
              "      <td>10953</td>\n",
              "      <td>3 year</td>\n",
              "      <td>7.48</td>\n",
              "      <td>716</td>\n",
              "      <td>Rent</td>\n",
              "      <td>38540.0</td>\n",
              "      <td>Home Improvements</td>\n",
              "      <td>607.00</td>\n",
              "      <td>8426</td>\n",
              "      <td>59.8</td>\n",
              "      <td>0.36</td>\n",
              "    </tr>\n",
              "  </tbody>\n",
              "</table>\n",
              "</div>\n",
              "      <button class=\"colab-df-convert\" onclick=\"convertToInteractive('df-de19e1f1-ee3f-4386-8517-21df098b4a00')\"\n",
              "              title=\"Convert this dataframe to an interactive table.\"\n",
              "              style=\"display:none;\">\n",
              "        \n",
              "  <svg xmlns=\"http://www.w3.org/2000/svg\" height=\"24px\"viewBox=\"0 0 24 24\"\n",
              "       width=\"24px\">\n",
              "    <path d=\"M0 0h24v24H0V0z\" fill=\"none\"/>\n",
              "    <path d=\"M18.56 5.44l.94 2.06.94-2.06 2.06-.94-2.06-.94-.94-2.06-.94 2.06-2.06.94zm-11 1L8.5 8.5l.94-2.06 2.06-.94-2.06-.94L8.5 2.5l-.94 2.06-2.06.94zm10 10l.94 2.06.94-2.06 2.06-.94-2.06-.94-.94-2.06-.94 2.06-2.06.94z\"/><path d=\"M17.41 7.96l-1.37-1.37c-.4-.4-.92-.59-1.43-.59-.52 0-1.04.2-1.43.59L10.3 9.45l-7.72 7.72c-.78.78-.78 2.05 0 2.83L4 21.41c.39.39.9.59 1.41.59.51 0 1.02-.2 1.41-.59l7.78-7.78 2.81-2.81c.8-.78.8-2.07 0-2.86zM5.41 20L4 18.59l7.72-7.72 1.47 1.35L5.41 20z\"/>\n",
              "  </svg>\n",
              "      </button>\n",
              "      \n",
              "  <style>\n",
              "    .colab-df-container {\n",
              "      display:flex;\n",
              "      flex-wrap:wrap;\n",
              "      gap: 12px;\n",
              "    }\n",
              "\n",
              "    .colab-df-convert {\n",
              "      background-color: #E8F0FE;\n",
              "      border: none;\n",
              "      border-radius: 50%;\n",
              "      cursor: pointer;\n",
              "      display: none;\n",
              "      fill: #1967D2;\n",
              "      height: 32px;\n",
              "      padding: 0 0 0 0;\n",
              "      width: 32px;\n",
              "    }\n",
              "\n",
              "    .colab-df-convert:hover {\n",
              "      background-color: #E2EBFA;\n",
              "      box-shadow: 0px 1px 2px rgba(60, 64, 67, 0.3), 0px 1px 3px 1px rgba(60, 64, 67, 0.15);\n",
              "      fill: #174EA6;\n",
              "    }\n",
              "\n",
              "    [theme=dark] .colab-df-convert {\n",
              "      background-color: #3B4455;\n",
              "      fill: #D2E3FC;\n",
              "    }\n",
              "\n",
              "    [theme=dark] .colab-df-convert:hover {\n",
              "      background-color: #434B5C;\n",
              "      box-shadow: 0px 1px 3px 1px rgba(0, 0, 0, 0.15);\n",
              "      filter: drop-shadow(0px 1px 2px rgba(0, 0, 0, 0.3));\n",
              "      fill: #FFFFFF;\n",
              "    }\n",
              "  </style>\n",
              "\n",
              "      <script>\n",
              "        const buttonEl =\n",
              "          document.querySelector('#df-de19e1f1-ee3f-4386-8517-21df098b4a00 button.colab-df-convert');\n",
              "        buttonEl.style.display =\n",
              "          google.colab.kernel.accessAllowed ? 'block' : 'none';\n",
              "\n",
              "        async function convertToInteractive(key) {\n",
              "          const element = document.querySelector('#df-de19e1f1-ee3f-4386-8517-21df098b4a00');\n",
              "          const dataTable =\n",
              "            await google.colab.kernel.invokeFunction('convertToInteractive',\n",
              "                                                     [key], {});\n",
              "          if (!dataTable) return;\n",
              "\n",
              "          const docLinkHtml = 'Like what you see? Visit the ' +\n",
              "            '<a target=\"_blank\" href=https://colab.research.google.com/notebooks/data_table.ipynb>data table notebook</a>'\n",
              "            + ' to learn more about interactive tables.';\n",
              "          element.innerHTML = '';\n",
              "          dataTable['output_type'] = 'display_data';\n",
              "          await google.colab.output.renderOutput(dataTable, element);\n",
              "          const docLink = document.createElement('div');\n",
              "          docLink.innerHTML = docLinkHtml;\n",
              "          element.appendChild(docLink);\n",
              "        }\n",
              "      </script>\n",
              "    </div>\n",
              "  </div>\n",
              "  "
            ]
          },
          "metadata": {}
        },
        {
          "output_type": "stream",
          "name": "stdout",
          "text": [
            "\n",
            "On y train  (11840,)\n"
          ]
        },
        {
          "output_type": "display_data",
          "data": {
            "text/plain": [
              "993      1\n",
              "13423    0\n",
              "Name: Credit_Risk, dtype: int64"
            ]
          },
          "metadata": {}
        },
        {
          "output_type": "stream",
          "name": "stdout",
          "text": [
            "\n",
            "\n",
            "\n",
            "On X test  (3947, 11)\n"
          ]
        },
        {
          "output_type": "display_data",
          "data": {
            "text/plain": [
              "       Loan_Amount     Term  Interest_Rate  Credit_Score Home_Ownership  \\\n",
              "11817        30737  10 year           6.21           736           Rent   \n",
              "2816          5646   1 year           6.49           726           Rent   \n",
              "\n",
              "       Annual_Income        Purpose  Monthly_Debt  Credit_Cards_Balance  \\\n",
              "11817        58929.0  Business Loan       1492.86                 10574   \n",
              "2816         50415.0       Car Loan       1436.83                 12132   \n",
              "\n",
              "       Credit_Utilization  Debt_To_Income_Ratio  \n",
              "11817                50.0                  0.38  \n",
              "2816                 42.1                  0.70  "
            ],
            "text/html": [
              "\n",
              "  <div id=\"df-0ad2e344-6d00-4db7-a051-1e2ea2c9b58a\">\n",
              "    <div class=\"colab-df-container\">\n",
              "      <div>\n",
              "<style scoped>\n",
              "    .dataframe tbody tr th:only-of-type {\n",
              "        vertical-align: middle;\n",
              "    }\n",
              "\n",
              "    .dataframe tbody tr th {\n",
              "        vertical-align: top;\n",
              "    }\n",
              "\n",
              "    .dataframe thead th {\n",
              "        text-align: right;\n",
              "    }\n",
              "</style>\n",
              "<table border=\"1\" class=\"dataframe\">\n",
              "  <thead>\n",
              "    <tr style=\"text-align: right;\">\n",
              "      <th></th>\n",
              "      <th>Loan_Amount</th>\n",
              "      <th>Term</th>\n",
              "      <th>Interest_Rate</th>\n",
              "      <th>Credit_Score</th>\n",
              "      <th>Home_Ownership</th>\n",
              "      <th>Annual_Income</th>\n",
              "      <th>Purpose</th>\n",
              "      <th>Monthly_Debt</th>\n",
              "      <th>Credit_Cards_Balance</th>\n",
              "      <th>Credit_Utilization</th>\n",
              "      <th>Debt_To_Income_Ratio</th>\n",
              "    </tr>\n",
              "  </thead>\n",
              "  <tbody>\n",
              "    <tr>\n",
              "      <th>11817</th>\n",
              "      <td>30737</td>\n",
              "      <td>10 year</td>\n",
              "      <td>6.21</td>\n",
              "      <td>736</td>\n",
              "      <td>Rent</td>\n",
              "      <td>58929.0</td>\n",
              "      <td>Business Loan</td>\n",
              "      <td>1492.86</td>\n",
              "      <td>10574</td>\n",
              "      <td>50.0</td>\n",
              "      <td>0.38</td>\n",
              "    </tr>\n",
              "    <tr>\n",
              "      <th>2816</th>\n",
              "      <td>5646</td>\n",
              "      <td>1 year</td>\n",
              "      <td>6.49</td>\n",
              "      <td>726</td>\n",
              "      <td>Rent</td>\n",
              "      <td>50415.0</td>\n",
              "      <td>Car Loan</td>\n",
              "      <td>1436.83</td>\n",
              "      <td>12132</td>\n",
              "      <td>42.1</td>\n",
              "      <td>0.70</td>\n",
              "    </tr>\n",
              "  </tbody>\n",
              "</table>\n",
              "</div>\n",
              "      <button class=\"colab-df-convert\" onclick=\"convertToInteractive('df-0ad2e344-6d00-4db7-a051-1e2ea2c9b58a')\"\n",
              "              title=\"Convert this dataframe to an interactive table.\"\n",
              "              style=\"display:none;\">\n",
              "        \n",
              "  <svg xmlns=\"http://www.w3.org/2000/svg\" height=\"24px\"viewBox=\"0 0 24 24\"\n",
              "       width=\"24px\">\n",
              "    <path d=\"M0 0h24v24H0V0z\" fill=\"none\"/>\n",
              "    <path d=\"M18.56 5.44l.94 2.06.94-2.06 2.06-.94-2.06-.94-.94-2.06-.94 2.06-2.06.94zm-11 1L8.5 8.5l.94-2.06 2.06-.94-2.06-.94L8.5 2.5l-.94 2.06-2.06.94zm10 10l.94 2.06.94-2.06 2.06-.94-2.06-.94-.94-2.06-.94 2.06-2.06.94z\"/><path d=\"M17.41 7.96l-1.37-1.37c-.4-.4-.92-.59-1.43-.59-.52 0-1.04.2-1.43.59L10.3 9.45l-7.72 7.72c-.78.78-.78 2.05 0 2.83L4 21.41c.39.39.9.59 1.41.59.51 0 1.02-.2 1.41-.59l7.78-7.78 2.81-2.81c.8-.78.8-2.07 0-2.86zM5.41 20L4 18.59l7.72-7.72 1.47 1.35L5.41 20z\"/>\n",
              "  </svg>\n",
              "      </button>\n",
              "      \n",
              "  <style>\n",
              "    .colab-df-container {\n",
              "      display:flex;\n",
              "      flex-wrap:wrap;\n",
              "      gap: 12px;\n",
              "    }\n",
              "\n",
              "    .colab-df-convert {\n",
              "      background-color: #E8F0FE;\n",
              "      border: none;\n",
              "      border-radius: 50%;\n",
              "      cursor: pointer;\n",
              "      display: none;\n",
              "      fill: #1967D2;\n",
              "      height: 32px;\n",
              "      padding: 0 0 0 0;\n",
              "      width: 32px;\n",
              "    }\n",
              "\n",
              "    .colab-df-convert:hover {\n",
              "      background-color: #E2EBFA;\n",
              "      box-shadow: 0px 1px 2px rgba(60, 64, 67, 0.3), 0px 1px 3px 1px rgba(60, 64, 67, 0.15);\n",
              "      fill: #174EA6;\n",
              "    }\n",
              "\n",
              "    [theme=dark] .colab-df-convert {\n",
              "      background-color: #3B4455;\n",
              "      fill: #D2E3FC;\n",
              "    }\n",
              "\n",
              "    [theme=dark] .colab-df-convert:hover {\n",
              "      background-color: #434B5C;\n",
              "      box-shadow: 0px 1px 3px 1px rgba(0, 0, 0, 0.15);\n",
              "      filter: drop-shadow(0px 1px 2px rgba(0, 0, 0, 0.3));\n",
              "      fill: #FFFFFF;\n",
              "    }\n",
              "  </style>\n",
              "\n",
              "      <script>\n",
              "        const buttonEl =\n",
              "          document.querySelector('#df-0ad2e344-6d00-4db7-a051-1e2ea2c9b58a button.colab-df-convert');\n",
              "        buttonEl.style.display =\n",
              "          google.colab.kernel.accessAllowed ? 'block' : 'none';\n",
              "\n",
              "        async function convertToInteractive(key) {\n",
              "          const element = document.querySelector('#df-0ad2e344-6d00-4db7-a051-1e2ea2c9b58a');\n",
              "          const dataTable =\n",
              "            await google.colab.kernel.invokeFunction('convertToInteractive',\n",
              "                                                     [key], {});\n",
              "          if (!dataTable) return;\n",
              "\n",
              "          const docLinkHtml = 'Like what you see? Visit the ' +\n",
              "            '<a target=\"_blank\" href=https://colab.research.google.com/notebooks/data_table.ipynb>data table notebook</a>'\n",
              "            + ' to learn more about interactive tables.';\n",
              "          element.innerHTML = '';\n",
              "          dataTable['output_type'] = 'display_data';\n",
              "          await google.colab.output.renderOutput(dataTable, element);\n",
              "          const docLink = document.createElement('div');\n",
              "          docLink.innerHTML = docLinkHtml;\n",
              "          element.appendChild(docLink);\n",
              "        }\n",
              "      </script>\n",
              "    </div>\n",
              "  </div>\n",
              "  "
            ]
          },
          "metadata": {}
        },
        {
          "output_type": "stream",
          "name": "stdout",
          "text": [
            "\n",
            "On y test  (3947,)\n"
          ]
        },
        {
          "output_type": "display_data",
          "data": {
            "text/plain": [
              "5291    0\n",
              "1043    0\n",
              "Name: Credit_Risk, dtype: int64"
            ]
          },
          "metadata": {}
        }
      ],
      "source": [
        "# X Train\n",
        "print('On X train ', X_train.shape)\n",
        "display(X_train.sample(2))\n",
        "# Y Train\n",
        "print('\\nOn y train ', y_train.shape)\n",
        "display(y_train.sample(2))\n",
        "\n",
        "# X test\n",
        "print('\\n\\n\\nOn X test ', X_test.shape)\n",
        "display(X_test.sample(2))\n",
        "# Y test\n",
        "print('\\nOn y test ', y_test.shape)\n",
        "display(y_test.sample(2))"
      ]
    },
    {
      "cell_type": "markdown",
      "metadata": {
        "id": "Y1OZgZoS3TMZ"
      },
      "source": [
        "# Establishing the training pipeline\n",
        "\n",
        "> **Note: There will be no data imputed**  \n",
        "In the data clean up step, the were 3 columns with NA values. This included Credit_Score, Annual_Income, and Years_in_Current_Job. All records with NA entries for Credit_Score contained all NA entries for Annual_Income. I dropped these records because credit score plays a major part in determining if a record is at risk or not, the median credit score may sway the model to predict the record as not a credit risk and in result would lower the models accuracy. Years in current job has since been dismissed."
      ]
    },
    {
      "cell_type": "markdown",
      "metadata": {
        "id": "SzWmA2sasGzG"
      },
      "source": [
        "Creating individual pipelines for numerical and categorical columns"
      ]
    },
    {
      "cell_type": "code",
      "execution_count": 106,
      "metadata": {
        "id": "AJX6fHhKeRYh"
      },
      "outputs": [],
      "source": [
        "cat_pipeline = Pipeline(steps=[('onehot_cat', OneHotEncoder())])\n",
        "num_pipeline = Pipeline(steps=[('scale_num', StandardScaler())])\n",
        "\n",
        "preproc = ColumnTransformer([('cat_pipe', cat_pipeline, make_column_selector(dtype_include=object)),\n",
        "                             ('num_pipe', num_pipeline, make_column_selector(dtype_include=np.number))],\n",
        "                             remainder='passthrough')"
      ]
    },
    {
      "cell_type": "markdown",
      "metadata": {
        "id": "fAO_hII_yVGV"
      },
      "source": [
        "# ML Pipelines"
      ]
    },
    {
      "cell_type": "markdown",
      "metadata": {
        "id": "q3JcXB4MyZsC"
      },
      "source": [
        "### Model fitting and Evaluation\n",
        "\n",
        "#### Assumptions \n",
        "\n",
        " > 1. Because the most common purpose type is Home Loan, the model will be aided to perform at a higher accuracy because there is more data in that category to discern a pattern and will also have more records to predict based on that pattern which will overall add to the correct predictions count.\n",
        "\n"
      ]
    },
    {
      "cell_type": "markdown",
      "metadata": {
        "id": "U0UNt_1cdXlM"
      },
      "source": [
        "\n",
        "\n",
        "---\n",
        "\n",
        "\n",
        "## Model 1 - Gadient Boosting Classifier"
      ]
    },
    {
      "cell_type": "code",
      "execution_count": 107,
      "metadata": {
        "colab": {
          "base_uri": "https://localhost:8080/",
          "height": 192
        },
        "id": "Fqj9aH-rTSkc",
        "outputId": "d0b856d2-4331-42fb-fcce-33bb8dee9f22"
      },
      "outputs": [
        {
          "output_type": "display_data",
          "data": {
            "text/plain": [
              "Pipeline(steps=[('preproc',\n",
              "                 ColumnTransformer(remainder='passthrough',\n",
              "                                   transformers=[('cat_pipe',\n",
              "                                                  Pipeline(steps=[('onehot_cat',\n",
              "                                                                   OneHotEncoder())]),\n",
              "                                                  <sklearn.compose._column_transformer.make_column_selector object at 0x7f2548b2bdd0>),\n",
              "                                                 ('num_pipe',\n",
              "                                                  Pipeline(steps=[('scale_num',\n",
              "                                                                   StandardScaler())]),\n",
              "                                                  <sklearn.compose._column_transformer.make_column_selector object at 0x7f2548b2b910>)])),\n",
              "                ('mdl',\n",
              "                 GradientBoostingClassifier(learning_rate=1.0, max_depth=2,\n",
              "                                            random_state=0))])"
            ],
            "text/html": [
              "<style>#sk-0b49dfca-24c8-47e0-aff6-6dd54ae1ddbd {color: black;background-color: white;}#sk-0b49dfca-24c8-47e0-aff6-6dd54ae1ddbd pre{padding: 0;}#sk-0b49dfca-24c8-47e0-aff6-6dd54ae1ddbd div.sk-toggleable {background-color: white;}#sk-0b49dfca-24c8-47e0-aff6-6dd54ae1ddbd label.sk-toggleable__label {cursor: pointer;display: block;width: 100%;margin-bottom: 0;padding: 0.3em;box-sizing: border-box;text-align: center;}#sk-0b49dfca-24c8-47e0-aff6-6dd54ae1ddbd label.sk-toggleable__label-arrow:before {content: \"▸\";float: left;margin-right: 0.25em;color: #696969;}#sk-0b49dfca-24c8-47e0-aff6-6dd54ae1ddbd label.sk-toggleable__label-arrow:hover:before {color: black;}#sk-0b49dfca-24c8-47e0-aff6-6dd54ae1ddbd div.sk-estimator:hover label.sk-toggleable__label-arrow:before {color: black;}#sk-0b49dfca-24c8-47e0-aff6-6dd54ae1ddbd div.sk-toggleable__content {max-height: 0;max-width: 0;overflow: hidden;text-align: left;background-color: #f0f8ff;}#sk-0b49dfca-24c8-47e0-aff6-6dd54ae1ddbd div.sk-toggleable__content pre {margin: 0.2em;color: black;border-radius: 0.25em;background-color: #f0f8ff;}#sk-0b49dfca-24c8-47e0-aff6-6dd54ae1ddbd input.sk-toggleable__control:checked~div.sk-toggleable__content {max-height: 200px;max-width: 100%;overflow: auto;}#sk-0b49dfca-24c8-47e0-aff6-6dd54ae1ddbd input.sk-toggleable__control:checked~label.sk-toggleable__label-arrow:before {content: \"▾\";}#sk-0b49dfca-24c8-47e0-aff6-6dd54ae1ddbd div.sk-estimator input.sk-toggleable__control:checked~label.sk-toggleable__label {background-color: #d4ebff;}#sk-0b49dfca-24c8-47e0-aff6-6dd54ae1ddbd div.sk-label input.sk-toggleable__control:checked~label.sk-toggleable__label {background-color: #d4ebff;}#sk-0b49dfca-24c8-47e0-aff6-6dd54ae1ddbd input.sk-hidden--visually {border: 0;clip: rect(1px 1px 1px 1px);clip: rect(1px, 1px, 1px, 1px);height: 1px;margin: -1px;overflow: hidden;padding: 0;position: absolute;width: 1px;}#sk-0b49dfca-24c8-47e0-aff6-6dd54ae1ddbd div.sk-estimator {font-family: monospace;background-color: #f0f8ff;border: 1px dotted black;border-radius: 0.25em;box-sizing: border-box;margin-bottom: 0.5em;}#sk-0b49dfca-24c8-47e0-aff6-6dd54ae1ddbd div.sk-estimator:hover {background-color: #d4ebff;}#sk-0b49dfca-24c8-47e0-aff6-6dd54ae1ddbd div.sk-parallel-item::after {content: \"\";width: 100%;border-bottom: 1px solid gray;flex-grow: 1;}#sk-0b49dfca-24c8-47e0-aff6-6dd54ae1ddbd div.sk-label:hover label.sk-toggleable__label {background-color: #d4ebff;}#sk-0b49dfca-24c8-47e0-aff6-6dd54ae1ddbd div.sk-serial::before {content: \"\";position: absolute;border-left: 1px solid gray;box-sizing: border-box;top: 2em;bottom: 0;left: 50%;}#sk-0b49dfca-24c8-47e0-aff6-6dd54ae1ddbd div.sk-serial {display: flex;flex-direction: column;align-items: center;background-color: white;padding-right: 0.2em;padding-left: 0.2em;}#sk-0b49dfca-24c8-47e0-aff6-6dd54ae1ddbd div.sk-item {z-index: 1;}#sk-0b49dfca-24c8-47e0-aff6-6dd54ae1ddbd div.sk-parallel {display: flex;align-items: stretch;justify-content: center;background-color: white;}#sk-0b49dfca-24c8-47e0-aff6-6dd54ae1ddbd div.sk-parallel::before {content: \"\";position: absolute;border-left: 1px solid gray;box-sizing: border-box;top: 2em;bottom: 0;left: 50%;}#sk-0b49dfca-24c8-47e0-aff6-6dd54ae1ddbd div.sk-parallel-item {display: flex;flex-direction: column;position: relative;background-color: white;}#sk-0b49dfca-24c8-47e0-aff6-6dd54ae1ddbd div.sk-parallel-item:first-child::after {align-self: flex-end;width: 50%;}#sk-0b49dfca-24c8-47e0-aff6-6dd54ae1ddbd div.sk-parallel-item:last-child::after {align-self: flex-start;width: 50%;}#sk-0b49dfca-24c8-47e0-aff6-6dd54ae1ddbd div.sk-parallel-item:only-child::after {width: 0;}#sk-0b49dfca-24c8-47e0-aff6-6dd54ae1ddbd div.sk-dashed-wrapped {border: 1px dashed gray;margin: 0 0.4em 0.5em 0.4em;box-sizing: border-box;padding-bottom: 0.4em;background-color: white;position: relative;}#sk-0b49dfca-24c8-47e0-aff6-6dd54ae1ddbd div.sk-label label {font-family: monospace;font-weight: bold;background-color: white;display: inline-block;line-height: 1.2em;}#sk-0b49dfca-24c8-47e0-aff6-6dd54ae1ddbd div.sk-label-container {position: relative;z-index: 2;text-align: center;}#sk-0b49dfca-24c8-47e0-aff6-6dd54ae1ddbd div.sk-container {/* jupyter's `normalize.less` sets `[hidden] { display: none; }` but bootstrap.min.css set `[hidden] { display: none !important; }` so we also need the `!important` here to be able to override the default hidden behavior on the sphinx rendered scikit-learn.org. See: https://github.com/scikit-learn/scikit-learn/issues/21755 */display: inline-block !important;position: relative;}#sk-0b49dfca-24c8-47e0-aff6-6dd54ae1ddbd div.sk-text-repr-fallback {display: none;}</style><div id=\"sk-0b49dfca-24c8-47e0-aff6-6dd54ae1ddbd\" class=\"sk-top-container\"><div class=\"sk-text-repr-fallback\"><pre>Pipeline(steps=[(&#x27;preproc&#x27;,\n",
              "                 ColumnTransformer(remainder=&#x27;passthrough&#x27;,\n",
              "                                   transformers=[(&#x27;cat_pipe&#x27;,\n",
              "                                                  Pipeline(steps=[(&#x27;onehot_cat&#x27;,\n",
              "                                                                   OneHotEncoder())]),\n",
              "                                                  &lt;sklearn.compose._column_transformer.make_column_selector object at 0x7f2548b2bdd0&gt;),\n",
              "                                                 (&#x27;num_pipe&#x27;,\n",
              "                                                  Pipeline(steps=[(&#x27;scale_num&#x27;,\n",
              "                                                                   StandardScaler())]),\n",
              "                                                  &lt;sklearn.compose._column_transformer.make_column_selector object at 0x7f2548b2b910&gt;)])),\n",
              "                (&#x27;mdl&#x27;,\n",
              "                 GradientBoostingClassifier(learning_rate=1.0, max_depth=2,\n",
              "                                            random_state=0))])</pre><b>Please rerun this cell to show the HTML repr or trust the notebook.</b></div><div class=\"sk-container\" hidden><div class=\"sk-item sk-dashed-wrapped\"><div class=\"sk-label-container\"><div class=\"sk-label sk-toggleable\"><input class=\"sk-toggleable__control sk-hidden--visually\" id=\"20863997-6b31-4d49-8467-9ab8704c2939\" type=\"checkbox\" ><label for=\"20863997-6b31-4d49-8467-9ab8704c2939\" class=\"sk-toggleable__label sk-toggleable__label-arrow\">Pipeline</label><div class=\"sk-toggleable__content\"><pre>Pipeline(steps=[(&#x27;preproc&#x27;,\n",
              "                 ColumnTransformer(remainder=&#x27;passthrough&#x27;,\n",
              "                                   transformers=[(&#x27;cat_pipe&#x27;,\n",
              "                                                  Pipeline(steps=[(&#x27;onehot_cat&#x27;,\n",
              "                                                                   OneHotEncoder())]),\n",
              "                                                  &lt;sklearn.compose._column_transformer.make_column_selector object at 0x7f2548b2bdd0&gt;),\n",
              "                                                 (&#x27;num_pipe&#x27;,\n",
              "                                                  Pipeline(steps=[(&#x27;scale_num&#x27;,\n",
              "                                                                   StandardScaler())]),\n",
              "                                                  &lt;sklearn.compose._column_transformer.make_column_selector object at 0x7f2548b2b910&gt;)])),\n",
              "                (&#x27;mdl&#x27;,\n",
              "                 GradientBoostingClassifier(learning_rate=1.0, max_depth=2,\n",
              "                                            random_state=0))])</pre></div></div></div><div class=\"sk-serial\"><div class=\"sk-item sk-dashed-wrapped\"><div class=\"sk-label-container\"><div class=\"sk-label sk-toggleable\"><input class=\"sk-toggleable__control sk-hidden--visually\" id=\"0f498ed4-bcc6-4527-a77f-c893f8ea3410\" type=\"checkbox\" ><label for=\"0f498ed4-bcc6-4527-a77f-c893f8ea3410\" class=\"sk-toggleable__label sk-toggleable__label-arrow\">preproc: ColumnTransformer</label><div class=\"sk-toggleable__content\"><pre>ColumnTransformer(remainder=&#x27;passthrough&#x27;,\n",
              "                  transformers=[(&#x27;cat_pipe&#x27;,\n",
              "                                 Pipeline(steps=[(&#x27;onehot_cat&#x27;,\n",
              "                                                  OneHotEncoder())]),\n",
              "                                 &lt;sklearn.compose._column_transformer.make_column_selector object at 0x7f2548b2bdd0&gt;),\n",
              "                                (&#x27;num_pipe&#x27;,\n",
              "                                 Pipeline(steps=[(&#x27;scale_num&#x27;,\n",
              "                                                  StandardScaler())]),\n",
              "                                 &lt;sklearn.compose._column_transformer.make_column_selector object at 0x7f2548b2b910&gt;)])</pre></div></div></div><div class=\"sk-parallel\"><div class=\"sk-parallel-item\"><div class=\"sk-item\"><div class=\"sk-label-container\"><div class=\"sk-label sk-toggleable\"><input class=\"sk-toggleable__control sk-hidden--visually\" id=\"7778af45-e44b-494f-88aa-51db1a0df28e\" type=\"checkbox\" ><label for=\"7778af45-e44b-494f-88aa-51db1a0df28e\" class=\"sk-toggleable__label sk-toggleable__label-arrow\">cat_pipe</label><div class=\"sk-toggleable__content\"><pre>&lt;sklearn.compose._column_transformer.make_column_selector object at 0x7f2548b2bdd0&gt;</pre></div></div></div><div class=\"sk-serial\"><div class=\"sk-item\"><div class=\"sk-serial\"><div class=\"sk-item\"><div class=\"sk-estimator sk-toggleable\"><input class=\"sk-toggleable__control sk-hidden--visually\" id=\"b6dc2b21-2da7-4d76-b069-064c79723729\" type=\"checkbox\" ><label for=\"b6dc2b21-2da7-4d76-b069-064c79723729\" class=\"sk-toggleable__label sk-toggleable__label-arrow\">OneHotEncoder</label><div class=\"sk-toggleable__content\"><pre>OneHotEncoder()</pre></div></div></div></div></div></div></div></div><div class=\"sk-parallel-item\"><div class=\"sk-item\"><div class=\"sk-label-container\"><div class=\"sk-label sk-toggleable\"><input class=\"sk-toggleable__control sk-hidden--visually\" id=\"198d8fc0-0587-40f9-8bc7-9b800d0a681b\" type=\"checkbox\" ><label for=\"198d8fc0-0587-40f9-8bc7-9b800d0a681b\" class=\"sk-toggleable__label sk-toggleable__label-arrow\">num_pipe</label><div class=\"sk-toggleable__content\"><pre>&lt;sklearn.compose._column_transformer.make_column_selector object at 0x7f2548b2b910&gt;</pre></div></div></div><div class=\"sk-serial\"><div class=\"sk-item\"><div class=\"sk-serial\"><div class=\"sk-item\"><div class=\"sk-estimator sk-toggleable\"><input class=\"sk-toggleable__control sk-hidden--visually\" id=\"48d5e1dc-3216-426e-bc45-6121b6c24907\" type=\"checkbox\" ><label for=\"48d5e1dc-3216-426e-bc45-6121b6c24907\" class=\"sk-toggleable__label sk-toggleable__label-arrow\">StandardScaler</label><div class=\"sk-toggleable__content\"><pre>StandardScaler()</pre></div></div></div></div></div></div></div></div><div class=\"sk-parallel-item\"><div class=\"sk-item\"><div class=\"sk-label-container\"><div class=\"sk-label sk-toggleable\"><input class=\"sk-toggleable__control sk-hidden--visually\" id=\"1f490cd3-ffd3-454a-8371-370079623e88\" type=\"checkbox\" ><label for=\"1f490cd3-ffd3-454a-8371-370079623e88\" class=\"sk-toggleable__label sk-toggleable__label-arrow\">remainder</label><div class=\"sk-toggleable__content\"><pre></pre></div></div></div><div class=\"sk-serial\"><div class=\"sk-item\"><div class=\"sk-estimator sk-toggleable\"><input class=\"sk-toggleable__control sk-hidden--visually\" id=\"8852c3b1-f294-4891-a4e0-7e918c7fb096\" type=\"checkbox\" ><label for=\"8852c3b1-f294-4891-a4e0-7e918c7fb096\" class=\"sk-toggleable__label sk-toggleable__label-arrow\">passthrough</label><div class=\"sk-toggleable__content\"><pre>passthrough</pre></div></div></div></div></div></div></div></div><div class=\"sk-item\"><div class=\"sk-estimator sk-toggleable\"><input class=\"sk-toggleable__control sk-hidden--visually\" id=\"444faf6b-7bc7-4500-9c96-9cac76148476\" type=\"checkbox\" ><label for=\"444faf6b-7bc7-4500-9c96-9cac76148476\" class=\"sk-toggleable__label sk-toggleable__label-arrow\">GradientBoostingClassifier</label><div class=\"sk-toggleable__content\"><pre>GradientBoostingClassifier(learning_rate=1.0, max_depth=2, random_state=0)</pre></div></div></div></div></div></div></div>"
            ]
          },
          "metadata": {}
        }
      ],
      "source": [
        "#generate the whole modeling pipeline with preprocessing\n",
        "pipe = Pipeline(steps=[('preproc', preproc), ('mdl', GradientBoostingClassifier(\n",
        "                n_estimators=100, learning_rate=1.0, max_depth=2, random_state=0))]) \n",
        "\n",
        "#visualization for steps\n",
        "with config_context(display='diagram'):\n",
        "    display(pipe)"
      ]
    },
    {
      "cell_type": "markdown",
      "metadata": {
        "id": "83XW_Ebbh9xL"
      },
      "source": [
        "### Cross-validation with hyperparameter tuning"
      ]
    },
    {
      "cell_type": "code",
      "execution_count": 108,
      "metadata": {
        "id": "-GXLxLqijKqi"
      },
      "outputs": [],
      "source": [
        "#hyperparameter tuning\n",
        "tuning_grid = {'mdl__learning_rate' : [0.1,1,10], 'mdl__max_depth': [1,2,3],\n",
        "               \"mdl__n_estimators\": [100, 200, 300, 400]}\n",
        "# GridSearchCV is used for cross-validation\n",
        "GB_grid_search = GridSearchCV(pipe, param_grid = tuning_grid, cv = 5, return_train_score=True)"
      ]
    },
    {
      "cell_type": "code",
      "source": [
        "GB_grid_search.fit(X_train, y_train)"
      ],
      "metadata": {
        "colab": {
          "base_uri": "https://localhost:8080/"
        },
        "id": "jnUH0CJcWNqU",
        "outputId": "8e461214-3b7c-4e9a-8819-4c765c051d10"
      },
      "execution_count": 109,
      "outputs": [
        {
          "output_type": "execute_result",
          "data": {
            "text/plain": [
              "GridSearchCV(cv=5,\n",
              "             estimator=Pipeline(steps=[('preproc',\n",
              "                                        ColumnTransformer(remainder='passthrough',\n",
              "                                                          transformers=[('cat_pipe',\n",
              "                                                                         Pipeline(steps=[('onehot_cat',\n",
              "                                                                                          OneHotEncoder())]),\n",
              "                                                                         <sklearn.compose._column_transformer.make_column_selector object at 0x7f2548b2bdd0>),\n",
              "                                                                        ('num_pipe',\n",
              "                                                                         Pipeline(steps=[('scale_num',\n",
              "                                                                                          StandardScaler())]),\n",
              "                                                                         <sklearn.compose._column_transformer.make_column_selector object at 0x7f2548b2b910>)])),\n",
              "                                       ('mdl',\n",
              "                                        GradientBoostingClassifier(learning_rate=1.0,\n",
              "                                                                   max_depth=2,\n",
              "                                                                   random_state=0))]),\n",
              "             param_grid={'mdl__learning_rate': [0.1, 1, 10],\n",
              "                         'mdl__max_depth': [1, 2, 3],\n",
              "                         'mdl__n_estimators': [100, 200, 300, 400]},\n",
              "             return_train_score=True)"
            ]
          },
          "metadata": {},
          "execution_count": 109
        }
      ]
    },
    {
      "cell_type": "code",
      "execution_count": 110,
      "metadata": {
        "colab": {
          "base_uri": "https://localhost:8080/"
        },
        "id": "zEs3zLr1jKzj",
        "outputId": "6f6055be-ecaa-4ad7-8091-1d6fb726262b"
      },
      "outputs": [
        {
          "output_type": "stream",
          "name": "stdout",
          "text": [
            "0.9402027027027028\n"
          ]
        },
        {
          "output_type": "execute_result",
          "data": {
            "text/plain": [
              "{'mdl__learning_rate': 0.1, 'mdl__max_depth': 3, 'mdl__n_estimators': 200}"
            ]
          },
          "metadata": {},
          "execution_count": 110
        }
      ],
      "source": [
        "print(GB_grid_search.best_score_)\n",
        "GB_grid_search.best_params_"
      ]
    },
    {
      "cell_type": "code",
      "execution_count": 111,
      "metadata": {
        "colab": {
          "base_uri": "https://localhost:8080/",
          "height": 473
        },
        "id": "ZXKP8nLCjK9w",
        "outputId": "fe3b0786-171f-4756-c4c6-51440d09cad1"
      },
      "outputs": [
        {
          "output_type": "execute_result",
          "data": {
            "text/plain": [
              "   mean_fit_time  std_fit_time  mean_score_time  std_score_time  \\\n",
              "0       1.126375      0.007591         0.010194        0.000276   \n",
              "1       2.193247      0.005845         0.011690        0.000221   \n",
              "2       3.296079      0.004390         0.013179        0.000310   \n",
              "3       4.369637      0.018283         0.014734        0.000228   \n",
              "4       1.991526      0.004337         0.011094        0.000157   \n",
              "\n",
              "  param_mdl__learning_rate param_mdl__max_depth param_mdl__n_estimators  \\\n",
              "0                      0.1                    1                     100   \n",
              "1                      0.1                    1                     200   \n",
              "2                      0.1                    1                     300   \n",
              "3                      0.1                    1                     400   \n",
              "4                      0.1                    2                     100   \n",
              "\n",
              "                                              params  split0_test_score  \\\n",
              "0  {'mdl__learning_rate': 0.1, 'mdl__max_depth': ...           0.932010   \n",
              "1  {'mdl__learning_rate': 0.1, 'mdl__max_depth': ...           0.934966   \n",
              "2  {'mdl__learning_rate': 0.1, 'mdl__max_depth': ...           0.932855   \n",
              "3  {'mdl__learning_rate': 0.1, 'mdl__max_depth': ...           0.930743   \n",
              "4  {'mdl__learning_rate': 0.1, 'mdl__max_depth': ...           0.934966   \n",
              "\n",
              "   split1_test_score  ...  mean_test_score  std_test_score  rank_test_score  \\\n",
              "0           0.932855  ...         0.932517        0.001372               16   \n",
              "1           0.946368  ...         0.939274        0.004335                5   \n",
              "2           0.945524  ...         0.938091        0.004972                7   \n",
              "3           0.944257  ...         0.937162        0.005147               11   \n",
              "4           0.946368  ...         0.939780        0.005279                2   \n",
              "\n",
              "   split0_train_score  split1_train_score  split2_train_score  \\\n",
              "0            0.934861            0.933171            0.933805   \n",
              "1            0.942779            0.940245            0.943412   \n",
              "2            0.943729            0.940773            0.942251   \n",
              "3            0.944679            0.940878            0.942251   \n",
              "4            0.946157            0.944151            0.944362   \n",
              "\n",
              "   split3_train_score  split4_train_score  mean_train_score  std_train_score  \n",
              "0            0.936339            0.931588          0.933953         0.001596  \n",
              "1            0.944362            0.940984          0.942356         0.001527  \n",
              "2            0.943834            0.940773          0.942272         0.001346  \n",
              "3            0.944151            0.941723          0.942736         0.001448  \n",
              "4            0.944996            0.944573          0.944848         0.000712  \n",
              "\n",
              "[5 rows x 23 columns]"
            ],
            "text/html": [
              "\n",
              "  <div id=\"df-715a385c-086d-4033-bae9-d45e4d645301\">\n",
              "    <div class=\"colab-df-container\">\n",
              "      <div>\n",
              "<style scoped>\n",
              "    .dataframe tbody tr th:only-of-type {\n",
              "        vertical-align: middle;\n",
              "    }\n",
              "\n",
              "    .dataframe tbody tr th {\n",
              "        vertical-align: top;\n",
              "    }\n",
              "\n",
              "    .dataframe thead th {\n",
              "        text-align: right;\n",
              "    }\n",
              "</style>\n",
              "<table border=\"1\" class=\"dataframe\">\n",
              "  <thead>\n",
              "    <tr style=\"text-align: right;\">\n",
              "      <th></th>\n",
              "      <th>mean_fit_time</th>\n",
              "      <th>std_fit_time</th>\n",
              "      <th>mean_score_time</th>\n",
              "      <th>std_score_time</th>\n",
              "      <th>param_mdl__learning_rate</th>\n",
              "      <th>param_mdl__max_depth</th>\n",
              "      <th>param_mdl__n_estimators</th>\n",
              "      <th>params</th>\n",
              "      <th>split0_test_score</th>\n",
              "      <th>split1_test_score</th>\n",
              "      <th>...</th>\n",
              "      <th>mean_test_score</th>\n",
              "      <th>std_test_score</th>\n",
              "      <th>rank_test_score</th>\n",
              "      <th>split0_train_score</th>\n",
              "      <th>split1_train_score</th>\n",
              "      <th>split2_train_score</th>\n",
              "      <th>split3_train_score</th>\n",
              "      <th>split4_train_score</th>\n",
              "      <th>mean_train_score</th>\n",
              "      <th>std_train_score</th>\n",
              "    </tr>\n",
              "  </thead>\n",
              "  <tbody>\n",
              "    <tr>\n",
              "      <th>0</th>\n",
              "      <td>1.126375</td>\n",
              "      <td>0.007591</td>\n",
              "      <td>0.010194</td>\n",
              "      <td>0.000276</td>\n",
              "      <td>0.1</td>\n",
              "      <td>1</td>\n",
              "      <td>100</td>\n",
              "      <td>{'mdl__learning_rate': 0.1, 'mdl__max_depth': ...</td>\n",
              "      <td>0.932010</td>\n",
              "      <td>0.932855</td>\n",
              "      <td>...</td>\n",
              "      <td>0.932517</td>\n",
              "      <td>0.001372</td>\n",
              "      <td>16</td>\n",
              "      <td>0.934861</td>\n",
              "      <td>0.933171</td>\n",
              "      <td>0.933805</td>\n",
              "      <td>0.936339</td>\n",
              "      <td>0.931588</td>\n",
              "      <td>0.933953</td>\n",
              "      <td>0.001596</td>\n",
              "    </tr>\n",
              "    <tr>\n",
              "      <th>1</th>\n",
              "      <td>2.193247</td>\n",
              "      <td>0.005845</td>\n",
              "      <td>0.011690</td>\n",
              "      <td>0.000221</td>\n",
              "      <td>0.1</td>\n",
              "      <td>1</td>\n",
              "      <td>200</td>\n",
              "      <td>{'mdl__learning_rate': 0.1, 'mdl__max_depth': ...</td>\n",
              "      <td>0.934966</td>\n",
              "      <td>0.946368</td>\n",
              "      <td>...</td>\n",
              "      <td>0.939274</td>\n",
              "      <td>0.004335</td>\n",
              "      <td>5</td>\n",
              "      <td>0.942779</td>\n",
              "      <td>0.940245</td>\n",
              "      <td>0.943412</td>\n",
              "      <td>0.944362</td>\n",
              "      <td>0.940984</td>\n",
              "      <td>0.942356</td>\n",
              "      <td>0.001527</td>\n",
              "    </tr>\n",
              "    <tr>\n",
              "      <th>2</th>\n",
              "      <td>3.296079</td>\n",
              "      <td>0.004390</td>\n",
              "      <td>0.013179</td>\n",
              "      <td>0.000310</td>\n",
              "      <td>0.1</td>\n",
              "      <td>1</td>\n",
              "      <td>300</td>\n",
              "      <td>{'mdl__learning_rate': 0.1, 'mdl__max_depth': ...</td>\n",
              "      <td>0.932855</td>\n",
              "      <td>0.945524</td>\n",
              "      <td>...</td>\n",
              "      <td>0.938091</td>\n",
              "      <td>0.004972</td>\n",
              "      <td>7</td>\n",
              "      <td>0.943729</td>\n",
              "      <td>0.940773</td>\n",
              "      <td>0.942251</td>\n",
              "      <td>0.943834</td>\n",
              "      <td>0.940773</td>\n",
              "      <td>0.942272</td>\n",
              "      <td>0.001346</td>\n",
              "    </tr>\n",
              "    <tr>\n",
              "      <th>3</th>\n",
              "      <td>4.369637</td>\n",
              "      <td>0.018283</td>\n",
              "      <td>0.014734</td>\n",
              "      <td>0.000228</td>\n",
              "      <td>0.1</td>\n",
              "      <td>1</td>\n",
              "      <td>400</td>\n",
              "      <td>{'mdl__learning_rate': 0.1, 'mdl__max_depth': ...</td>\n",
              "      <td>0.930743</td>\n",
              "      <td>0.944257</td>\n",
              "      <td>...</td>\n",
              "      <td>0.937162</td>\n",
              "      <td>0.005147</td>\n",
              "      <td>11</td>\n",
              "      <td>0.944679</td>\n",
              "      <td>0.940878</td>\n",
              "      <td>0.942251</td>\n",
              "      <td>0.944151</td>\n",
              "      <td>0.941723</td>\n",
              "      <td>0.942736</td>\n",
              "      <td>0.001448</td>\n",
              "    </tr>\n",
              "    <tr>\n",
              "      <th>4</th>\n",
              "      <td>1.991526</td>\n",
              "      <td>0.004337</td>\n",
              "      <td>0.011094</td>\n",
              "      <td>0.000157</td>\n",
              "      <td>0.1</td>\n",
              "      <td>2</td>\n",
              "      <td>100</td>\n",
              "      <td>{'mdl__learning_rate': 0.1, 'mdl__max_depth': ...</td>\n",
              "      <td>0.934966</td>\n",
              "      <td>0.946368</td>\n",
              "      <td>...</td>\n",
              "      <td>0.939780</td>\n",
              "      <td>0.005279</td>\n",
              "      <td>2</td>\n",
              "      <td>0.946157</td>\n",
              "      <td>0.944151</td>\n",
              "      <td>0.944362</td>\n",
              "      <td>0.944996</td>\n",
              "      <td>0.944573</td>\n",
              "      <td>0.944848</td>\n",
              "      <td>0.000712</td>\n",
              "    </tr>\n",
              "  </tbody>\n",
              "</table>\n",
              "<p>5 rows × 23 columns</p>\n",
              "</div>\n",
              "      <button class=\"colab-df-convert\" onclick=\"convertToInteractive('df-715a385c-086d-4033-bae9-d45e4d645301')\"\n",
              "              title=\"Convert this dataframe to an interactive table.\"\n",
              "              style=\"display:none;\">\n",
              "        \n",
              "  <svg xmlns=\"http://www.w3.org/2000/svg\" height=\"24px\"viewBox=\"0 0 24 24\"\n",
              "       width=\"24px\">\n",
              "    <path d=\"M0 0h24v24H0V0z\" fill=\"none\"/>\n",
              "    <path d=\"M18.56 5.44l.94 2.06.94-2.06 2.06-.94-2.06-.94-.94-2.06-.94 2.06-2.06.94zm-11 1L8.5 8.5l.94-2.06 2.06-.94-2.06-.94L8.5 2.5l-.94 2.06-2.06.94zm10 10l.94 2.06.94-2.06 2.06-.94-2.06-.94-.94-2.06-.94 2.06-2.06.94z\"/><path d=\"M17.41 7.96l-1.37-1.37c-.4-.4-.92-.59-1.43-.59-.52 0-1.04.2-1.43.59L10.3 9.45l-7.72 7.72c-.78.78-.78 2.05 0 2.83L4 21.41c.39.39.9.59 1.41.59.51 0 1.02-.2 1.41-.59l7.78-7.78 2.81-2.81c.8-.78.8-2.07 0-2.86zM5.41 20L4 18.59l7.72-7.72 1.47 1.35L5.41 20z\"/>\n",
              "  </svg>\n",
              "      </button>\n",
              "      \n",
              "  <style>\n",
              "    .colab-df-container {\n",
              "      display:flex;\n",
              "      flex-wrap:wrap;\n",
              "      gap: 12px;\n",
              "    }\n",
              "\n",
              "    .colab-df-convert {\n",
              "      background-color: #E8F0FE;\n",
              "      border: none;\n",
              "      border-radius: 50%;\n",
              "      cursor: pointer;\n",
              "      display: none;\n",
              "      fill: #1967D2;\n",
              "      height: 32px;\n",
              "      padding: 0 0 0 0;\n",
              "      width: 32px;\n",
              "    }\n",
              "\n",
              "    .colab-df-convert:hover {\n",
              "      background-color: #E2EBFA;\n",
              "      box-shadow: 0px 1px 2px rgba(60, 64, 67, 0.3), 0px 1px 3px 1px rgba(60, 64, 67, 0.15);\n",
              "      fill: #174EA6;\n",
              "    }\n",
              "\n",
              "    [theme=dark] .colab-df-convert {\n",
              "      background-color: #3B4455;\n",
              "      fill: #D2E3FC;\n",
              "    }\n",
              "\n",
              "    [theme=dark] .colab-df-convert:hover {\n",
              "      background-color: #434B5C;\n",
              "      box-shadow: 0px 1px 3px 1px rgba(0, 0, 0, 0.15);\n",
              "      filter: drop-shadow(0px 1px 2px rgba(0, 0, 0, 0.3));\n",
              "      fill: #FFFFFF;\n",
              "    }\n",
              "  </style>\n",
              "\n",
              "      <script>\n",
              "        const buttonEl =\n",
              "          document.querySelector('#df-715a385c-086d-4033-bae9-d45e4d645301 button.colab-df-convert');\n",
              "        buttonEl.style.display =\n",
              "          google.colab.kernel.accessAllowed ? 'block' : 'none';\n",
              "\n",
              "        async function convertToInteractive(key) {\n",
              "          const element = document.querySelector('#df-715a385c-086d-4033-bae9-d45e4d645301');\n",
              "          const dataTable =\n",
              "            await google.colab.kernel.invokeFunction('convertToInteractive',\n",
              "                                                     [key], {});\n",
              "          if (!dataTable) return;\n",
              "\n",
              "          const docLinkHtml = 'Like what you see? Visit the ' +\n",
              "            '<a target=\"_blank\" href=https://colab.research.google.com/notebooks/data_table.ipynb>data table notebook</a>'\n",
              "            + ' to learn more about interactive tables.';\n",
              "          element.innerHTML = '';\n",
              "          dataTable['output_type'] = 'display_data';\n",
              "          await google.colab.output.renderOutput(dataTable, element);\n",
              "          const docLink = document.createElement('div');\n",
              "          docLink.innerHTML = docLinkHtml;\n",
              "          element.appendChild(docLink);\n",
              "        }\n",
              "      </script>\n",
              "    </div>\n",
              "  </div>\n",
              "  "
            ]
          },
          "metadata": {},
          "execution_count": 111
        }
      ],
      "source": [
        "pd.DataFrame(GB_grid_search.cv_results_).head()"
      ]
    },
    {
      "cell_type": "markdown",
      "metadata": {
        "id": "LLaIxBk9oB7c"
      },
      "source": [
        "### Final fit "
      ]
    },
    {
      "cell_type": "code",
      "execution_count": 112,
      "metadata": {
        "colab": {
          "base_uri": "https://localhost:8080/"
        },
        "id": "JGawXzzcn23W",
        "outputId": "336e230f-e33c-44e0-c93b-d5095ad97178"
      },
      "outputs": [
        {
          "output_type": "execute_result",
          "data": {
            "text/plain": [
              "Pipeline(steps=[('preproc',\n",
              "                 ColumnTransformer(remainder='passthrough',\n",
              "                                   transformers=[('cat_pipe',\n",
              "                                                  Pipeline(steps=[('onehot_cat',\n",
              "                                                                   OneHotEncoder())]),\n",
              "                                                  <sklearn.compose._column_transformer.make_column_selector object at 0x7f25488355d0>),\n",
              "                                                 ('num_pipe',\n",
              "                                                  Pipeline(steps=[('scale_num',\n",
              "                                                                   StandardScaler())]),\n",
              "                                                  <sklearn.compose._column_transformer.make_column_selector object at 0x7f254854fb90>)])),\n",
              "                ('mdl',\n",
              "                 GradientBoostingClassifier(n_estimators=200, random_state=0))])"
            ]
          },
          "metadata": {},
          "execution_count": 112
        }
      ],
      "source": [
        "GB_grid_search.best_estimator_"
      ]
    },
    {
      "cell_type": "markdown",
      "metadata": {
        "id": "PoutdWstoFRn"
      },
      "source": [
        "### Variable Importance "
      ]
    },
    {
      "cell_type": "code",
      "execution_count": 113,
      "metadata": {
        "colab": {
          "base_uri": "https://localhost:8080/"
        },
        "id": "3HEgA9lJdQgb",
        "outputId": "135a3d16-e8ac-4a8f-d91e-fa5e23c5d406"
      },
      "outputs": [
        {
          "output_type": "execute_result",
          "data": {
            "text/plain": [
              "array([0.00000000e+00, 2.13319942e-04, 2.26899592e-05, 2.81989366e-04,\n",
              "       0.00000000e+00, 6.72202947e-05, 1.40403854e-05, 1.83724087e-05,\n",
              "       1.40466972e-04, 4.23674135e-05, 0.00000000e+00, 2.61178141e-04,\n",
              "       6.19115795e-05, 1.95358902e-04, 3.57668935e-05, 3.11458263e-05,\n",
              "       4.02967096e-03, 2.30533170e-03, 3.43396470e-01, 3.93842500e-03,\n",
              "       4.74014898e-03, 6.90648034e-03, 1.20301161e-02, 6.21267529e-01])"
            ]
          },
          "metadata": {},
          "execution_count": 113
        }
      ],
      "source": [
        "vip = GB_grid_search.best_estimator_['mdl'].feature_importances_\n",
        "vip"
      ]
    },
    {
      "cell_type": "code",
      "execution_count": 115,
      "metadata": {
        "colab": {
          "base_uri": "https://localhost:8080/",
          "height": 389
        },
        "id": "rHpv0xYidS7b",
        "outputId": "c51019fe-77a7-4c0f-cd3c-47f4d3db6548"
      },
      "outputs": [
        {
          "output_type": "display_data",
          "data": {
            "text/plain": [
              "<Figure size 720x432 with 1 Axes>"
            ],
            "image/png": "[encoded data removed]"
          },
          "metadata": {
            "needs_background": "light"
          }
        }
      ],
      "source": [
        "#get names in correct preproc order\n",
        "cat_names = GB_grid_search.best_estimator_.named_steps['preproc'].transformers_[0][1].named_steps['onehot_cat'].get_feature_names_out()\n",
        "num_names = GB_grid_search.best_estimator_.named_steps['preproc'].transformers_[1][2]\n",
        "\n",
        "#create df with vip info\n",
        "coef_info = pd.DataFrame({'feat_names':np.hstack([cat_names, num_names]), 'vip': vip})\n",
        "\n",
        "#get sign and magnitude information\n",
        "coef_info = coef_info.assign(coef_mag = abs(coef_info['vip']),\n",
        "                             coef_sign = np.sign(coef_info['vip']))\n",
        "\n",
        "#sort and plot\n",
        "coef_info = coef_info.set_index('feat_names').sort_values(by='coef_mag', ascending=False)\n",
        "sns.barplot(y=coef_info.index, x='coef_mag', hue='coef_sign', data=coef_info, orient='h', dodge=False);\n",
        "plt.rcParams[\"figure.figsize\"] = [10, 6]"
      ]
    },
    {
      "cell_type": "markdown",
      "metadata": {
        "id": "VftDTblMoId8"
      },
      "source": [
        "### Performance metrics"
      ]
    },
    {
      "cell_type": "code",
      "execution_count": 116,
      "metadata": {
        "colab": {
          "base_uri": "https://localhost:8080/"
        },
        "id": "vnzE7SmEO3kZ",
        "outputId": "8d4dab98-4739-429e-bacc-35db3943b39a"
      },
      "outputs": [
        {
          "output_type": "stream",
          "name": "stdout",
          "text": [
            "              precision    recall  f1-score   support\n",
            "\n",
            "           0       0.95      0.98      0.96      3282\n",
            "           1       0.86      0.76      0.81       665\n",
            "\n",
            "    accuracy                           0.94      3947\n",
            "   macro avg       0.91      0.87      0.89      3947\n",
            "weighted avg       0.94      0.94      0.94      3947\n",
            "\n"
          ]
        }
      ],
      "source": [
        "print(classification_report(y_test, GB_grid_search.best_estimator_.predict(X_test)))"
      ]
    },
    {
      "cell_type": "code",
      "execution_count": 118,
      "metadata": {
        "colab": {
          "base_uri": "https://localhost:8080/",
          "height": 332
        },
        "id": "kWYCtiVJdcyK",
        "outputId": "dc62a053-abd9-42e5-c4c7-ee4ac000d071"
      },
      "outputs": [
        {
          "output_type": "display_data",
          "data": {
            "text/plain": [
              "<Figure size 432x360 with 2 Axes>"
            ],
            "image/png": "[encoded data removed]"
          },
          "metadata": {
            "needs_background": "light"
          }
        }
      ],
      "source": [
        "cm = confusion_matrix(y_test, GB_grid_search.best_estimator_.predict(X_test))\n",
        "disp = ConfusionMatrixDisplay(confusion_matrix=cm,\n",
        "                               display_labels=['Not a Credit Risk', 'Is a Credit Risk'])\n",
        "disp.plot()\n",
        "plt.rcParams[\"figure.figsize\"] = [6, 5]\n",
        "plt.show()"
      ]
    },
    {
      "cell_type": "markdown",
      "metadata": {
        "id": "m7K8UTX6O_8M"
      },
      "source": [
        "### ROC_curve"
      ]
    },
    {
      "cell_type": "code",
      "execution_count": 119,
      "metadata": {
        "colab": {
          "base_uri": "https://localhost:8080/",
          "height": 355
        },
        "id": "WQdcKmV1PBqj",
        "outputId": "f7eb36d8-06cc-4321-e5dd-40e7cb2532c7"
      },
      "outputs": [
        {
          "output_type": "stream",
          "name": "stdout",
          "text": [
            "Best Threshold=0.161682 \n",
            "Net Gain=0.839\n"
          ]
        },
        {
          "output_type": "display_data",
          "data": {
            "text/plain": [
              "<Figure size 432x360 with 1 Axes>"
            ],
            "image/png": "[encoded data removed]"
          },
          "metadata": {
            "needs_background": "light"
          }
        }
      ],
      "source": [
        "y_pred = GB_grid_search.best_estimator_.predict_proba(X_test)\n",
        "y_pred = y_pred[:, 1]\n",
        "fpr, tpr, thresholds = roc_curve(y_test, y_pred)\n",
        "net_gain = tpr - fpr\n",
        "ix = np.argmax(net_gain)\n",
        "print('Best Threshold=%f \\nNet Gain=%.3f' % (thresholds[ix], net_gain[ix]))\n",
        "plt.scatter(fpr[ix], tpr[ix], marker='o', color='black', label='Best threshold')\n",
        "plt.plot([0,1], [0,1], linestyle='--', label='No Skill')\n",
        "plt.plot(fpr, tpr, marker='.', label='Gradiant Boosting', markersize= 0.5)\n",
        "\n",
        "plt.legend()\n",
        "\n",
        "plt.rcParams[\"figure.figsize\"] = [8, 5]\n",
        "plt.show()"
      ]
    },
    {
      "cell_type": "markdown",
      "metadata": {
        "id": "Q2B3hjChPB3m"
      },
      "source": [
        "### Precision_Recall_curve"
      ]
    },
    {
      "cell_type": "code",
      "execution_count": 120,
      "metadata": {
        "colab": {
          "base_uri": "https://localhost:8080/",
          "height": 355
        },
        "id": "3BODFXCgd0xF",
        "outputId": "a9215e85-01ce-4f5c-dbcd-832f599c82e0"
      },
      "outputs": [
        {
          "output_type": "stream",
          "name": "stdout",
          "text": [
            "Best Threshold=0.485369 \n",
            "f1 score=0.812\n"
          ]
        },
        {
          "output_type": "display_data",
          "data": {
            "text/plain": [
              "<Figure size 576x360 with 1 Axes>"
            ],
            "image/png": "[encoded data removed]"
          },
          "metadata": {
            "needs_background": "light"
          }
        }
      ],
      "source": [
        "precision, recall, thresholds = precision_recall_curve(y_test, y_pred)\n",
        "f1 = 2 * ((precision * recall) / (precision + recall))\n",
        "ix = np.argmax(f1)\n",
        "\n",
        "print('Best Threshold=%f \\nf1 score=%.3f' % (thresholds[ix], f1[ix]))\n",
        "\n",
        "plt.plot(recall, precision, marker='.', label='Gradient Boosting', markersize= 0.5)\n",
        "plt.scatter(recall[ix], precision[ix], marker='o', color='black', label='Best threshold')\n",
        "\n",
        "plt.legend()\n",
        "plt.show()"
      ]
    },
    {
      "cell_type": "markdown",
      "metadata": {
        "id": "qh17DVVccqxv"
      },
      "source": [
        "\n",
        "\n",
        "---\n",
        "\n",
        "\n",
        "## Model 2 - Decision Tree Classifier"
      ]
    },
    {
      "cell_type": "code",
      "source": [
        "#generate the whole modeling pipeline with preprocessing\n",
        "pipe = Pipeline(steps=[('preproc', preproc), ('mdl', DecisionTreeClassifier(random_state=0))]) \n",
        "\n",
        "#visualization for steps\n",
        "with config_context(display='diagram'):\n",
        "    display(pipe)"
      ],
      "metadata": {
        "colab": {
          "base_uri": "https://localhost:8080/",
          "height": 192
        },
        "id": "tBapCRv2wzPn",
        "outputId": "eb5d487c-7a75-4114-ca27-b25cab760d98"
      },
      "execution_count": 121,
      "outputs": [
        {
          "output_type": "display_data",
          "data": {
            "text/plain": [
              "Pipeline(steps=[('preproc',\n",
              "                 ColumnTransformer(remainder='passthrough',\n",
              "                                   transformers=[('cat_pipe',\n",
              "                                                  Pipeline(steps=[('onehot_cat',\n",
              "                                                                   OneHotEncoder())]),\n",
              "                                                  <sklearn.compose._column_transformer.make_column_selector object at 0x7f2548b2bdd0>),\n",
              "                                                 ('num_pipe',\n",
              "                                                  Pipeline(steps=[('scale_num',\n",
              "                                                                   StandardScaler())]),\n",
              "                                                  <sklearn.compose._column_transformer.make_column_selector object at 0x7f2548b2b910>)])),\n",
              "                ('mdl', DecisionTreeClassifier(random_state=0))])"
            ],
            "text/html": [
              "<style>#sk-5cd6ba50-cf81-414a-8c34-cdbf0ec6dd2c {color: black;background-color: white;}#sk-5cd6ba50-cf81-414a-8c34-cdbf0ec6dd2c pre{padding: 0;}#sk-5cd6ba50-cf81-414a-8c34-cdbf0ec6dd2c div.sk-toggleable {background-color: white;}#sk-5cd6ba50-cf81-414a-8c34-cdbf0ec6dd2c label.sk-toggleable__label {cursor: pointer;display: block;width: 100%;margin-bottom: 0;padding: 0.3em;box-sizing: border-box;text-align: center;}#sk-5cd6ba50-cf81-414a-8c34-cdbf0ec6dd2c label.sk-toggleable__label-arrow:before {content: \"▸\";float: left;margin-right: 0.25em;color: #696969;}#sk-5cd6ba50-cf81-414a-8c34-cdbf0ec6dd2c label.sk-toggleable__label-arrow:hover:before {color: black;}#sk-5cd6ba50-cf81-414a-8c34-cdbf0ec6dd2c div.sk-estimator:hover label.sk-toggleable__label-arrow:before {color: black;}#sk-5cd6ba50-cf81-414a-8c34-cdbf0ec6dd2c div.sk-toggleable__content {max-height: 0;max-width: 0;overflow: hidden;text-align: left;background-color: #f0f8ff;}#sk-5cd6ba50-cf81-414a-8c34-cdbf0ec6dd2c div.sk-toggleable__content pre {margin: 0.2em;color: black;border-radius: 0.25em;background-color: #f0f8ff;}#sk-5cd6ba50-cf81-414a-8c34-cdbf0ec6dd2c input.sk-toggleable__control:checked~div.sk-toggleable__content {max-height: 200px;max-width: 100%;overflow: auto;}#sk-5cd6ba50-cf81-414a-8c34-cdbf0ec6dd2c input.sk-toggleable__control:checked~label.sk-toggleable__label-arrow:before {content: \"▾\";}#sk-5cd6ba50-cf81-414a-8c34-cdbf0ec6dd2c div.sk-estimator input.sk-toggleable__control:checked~label.sk-toggleable__label {background-color: #d4ebff;}#sk-5cd6ba50-cf81-414a-8c34-cdbf0ec6dd2c div.sk-label input.sk-toggleable__control:checked~label.sk-toggleable__label {background-color: #d4ebff;}#sk-5cd6ba50-cf81-414a-8c34-cdbf0ec6dd2c input.sk-hidden--visually {border: 0;clip: rect(1px 1px 1px 1px);clip: rect(1px, 1px, 1px, 1px);height: 1px;margin: -1px;overflow: hidden;padding: 0;position: absolute;width: 1px;}#sk-5cd6ba50-cf81-414a-8c34-cdbf0ec6dd2c div.sk-estimator {font-family: monospace;background-color: #f0f8ff;border: 1px dotted black;border-radius: 0.25em;box-sizing: border-box;margin-bottom: 0.5em;}#sk-5cd6ba50-cf81-414a-8c34-cdbf0ec6dd2c div.sk-estimator:hover {background-color: #d4ebff;}#sk-5cd6ba50-cf81-414a-8c34-cdbf0ec6dd2c div.sk-parallel-item::after {content: \"\";width: 100%;border-bottom: 1px solid gray;flex-grow: 1;}#sk-5cd6ba50-cf81-414a-8c34-cdbf0ec6dd2c div.sk-label:hover label.sk-toggleable__label {background-color: #d4ebff;}#sk-5cd6ba50-cf81-414a-8c34-cdbf0ec6dd2c div.sk-serial::before {content: \"\";position: absolute;border-left: 1px solid gray;box-sizing: border-box;top: 2em;bottom: 0;left: 50%;}#sk-5cd6ba50-cf81-414a-8c34-cdbf0ec6dd2c div.sk-serial {display: flex;flex-direction: column;align-items: center;background-color: white;padding-right: 0.2em;padding-left: 0.2em;}#sk-5cd6ba50-cf81-414a-8c34-cdbf0ec6dd2c div.sk-item {z-index: 1;}#sk-5cd6ba50-cf81-414a-8c34-cdbf0ec6dd2c div.sk-parallel {display: flex;align-items: stretch;justify-content: center;background-color: white;}#sk-5cd6ba50-cf81-414a-8c34-cdbf0ec6dd2c div.sk-parallel::before {content: \"\";position: absolute;border-left: 1px solid gray;box-sizing: border-box;top: 2em;bottom: 0;left: 50%;}#sk-5cd6ba50-cf81-414a-8c34-cdbf0ec6dd2c div.sk-parallel-item {display: flex;flex-direction: column;position: relative;background-color: white;}#sk-5cd6ba50-cf81-414a-8c34-cdbf0ec6dd2c div.sk-parallel-item:first-child::after {align-self: flex-end;width: 50%;}#sk-5cd6ba50-cf81-414a-8c34-cdbf0ec6dd2c div.sk-parallel-item:last-child::after {align-self: flex-start;width: 50%;}#sk-5cd6ba50-cf81-414a-8c34-cdbf0ec6dd2c div.sk-parallel-item:only-child::after {width: 0;}#sk-5cd6ba50-cf81-414a-8c34-cdbf0ec6dd2c div.sk-dashed-wrapped {border: 1px dashed gray;margin: 0 0.4em 0.5em 0.4em;box-sizing: border-box;padding-bottom: 0.4em;background-color: white;position: relative;}#sk-5cd6ba50-cf81-414a-8c34-cdbf0ec6dd2c div.sk-label label {font-family: monospace;font-weight: bold;background-color: white;display: inline-block;line-height: 1.2em;}#sk-5cd6ba50-cf81-414a-8c34-cdbf0ec6dd2c div.sk-label-container {position: relative;z-index: 2;text-align: center;}#sk-5cd6ba50-cf81-414a-8c34-cdbf0ec6dd2c div.sk-container {/* jupyter's `normalize.less` sets `[hidden] { display: none; }` but bootstrap.min.css set `[hidden] { display: none !important; }` so we also need the `!important` here to be able to override the default hidden behavior on the sphinx rendered scikit-learn.org. See: https://github.com/scikit-learn/scikit-learn/issues/21755 */display: inline-block !important;position: relative;}#sk-5cd6ba50-cf81-414a-8c34-cdbf0ec6dd2c div.sk-text-repr-fallback {display: none;}</style><div id=\"sk-5cd6ba50-cf81-414a-8c34-cdbf0ec6dd2c\" class=\"sk-top-container\"><div class=\"sk-text-repr-fallback\"><pre>Pipeline(steps=[(&#x27;preproc&#x27;,\n",
              "                 ColumnTransformer(remainder=&#x27;passthrough&#x27;,\n",
              "                                   transformers=[(&#x27;cat_pipe&#x27;,\n",
              "                                                  Pipeline(steps=[(&#x27;onehot_cat&#x27;,\n",
              "                                                                   OneHotEncoder())]),\n",
              "                                                  &lt;sklearn.compose._column_transformer.make_column_selector object at 0x7f2548b2bdd0&gt;),\n",
              "                                                 (&#x27;num_pipe&#x27;,\n",
              "                                                  Pipeline(steps=[(&#x27;scale_num&#x27;,\n",
              "                                                                   StandardScaler())]),\n",
              "                                                  &lt;sklearn.compose._column_transformer.make_column_selector object at 0x7f2548b2b910&gt;)])),\n",
              "                (&#x27;mdl&#x27;, DecisionTreeClassifier(random_state=0))])</pre><b>Please rerun this cell to show the HTML repr or trust the notebook.</b></div><div class=\"sk-container\" hidden><div class=\"sk-item sk-dashed-wrapped\"><div class=\"sk-label-container\"><div class=\"sk-label sk-toggleable\"><input class=\"sk-toggleable__control sk-hidden--visually\" id=\"c607e8ed-c304-4d20-846d-1dd0c81baeee\" type=\"checkbox\" ><label for=\"c607e8ed-c304-4d20-846d-1dd0c81baeee\" class=\"sk-toggleable__label sk-toggleable__label-arrow\">Pipeline</label><div class=\"sk-toggleable__content\"><pre>Pipeline(steps=[(&#x27;preproc&#x27;,\n",
              "                 ColumnTransformer(remainder=&#x27;passthrough&#x27;,\n",
              "                                   transformers=[(&#x27;cat_pipe&#x27;,\n",
              "                                                  Pipeline(steps=[(&#x27;onehot_cat&#x27;,\n",
              "                                                                   OneHotEncoder())]),\n",
              "                                                  &lt;sklearn.compose._column_transformer.make_column_selector object at 0x7f2548b2bdd0&gt;),\n",
              "                                                 (&#x27;num_pipe&#x27;,\n",
              "                                                  Pipeline(steps=[(&#x27;scale_num&#x27;,\n",
              "                                                                   StandardScaler())]),\n",
              "                                                  &lt;sklearn.compose._column_transformer.make_column_selector object at 0x7f2548b2b910&gt;)])),\n",
              "                (&#x27;mdl&#x27;, DecisionTreeClassifier(random_state=0))])</pre></div></div></div><div class=\"sk-serial\"><div class=\"sk-item sk-dashed-wrapped\"><div class=\"sk-label-container\"><div class=\"sk-label sk-toggleable\"><input class=\"sk-toggleable__control sk-hidden--visually\" id=\"52b85d44-e225-44f0-b08c-b1661f323126\" type=\"checkbox\" ><label for=\"52b85d44-e225-44f0-b08c-b1661f323126\" class=\"sk-toggleable__label sk-toggleable__label-arrow\">preproc: ColumnTransformer</label><div class=\"sk-toggleable__content\"><pre>ColumnTransformer(remainder=&#x27;passthrough&#x27;,\n",
              "                  transformers=[(&#x27;cat_pipe&#x27;,\n",
              "                                 Pipeline(steps=[(&#x27;onehot_cat&#x27;,\n",
              "                                                  OneHotEncoder())]),\n",
              "                                 &lt;sklearn.compose._column_transformer.make_column_selector object at 0x7f2548b2bdd0&gt;),\n",
              "                                (&#x27;num_pipe&#x27;,\n",
              "                                 Pipeline(steps=[(&#x27;scale_num&#x27;,\n",
              "                                                  StandardScaler())]),\n",
              "                                 &lt;sklearn.compose._column_transformer.make_column_selector object at 0x7f2548b2b910&gt;)])</pre></div></div></div><div class=\"sk-parallel\"><div class=\"sk-parallel-item\"><div class=\"sk-item\"><div class=\"sk-label-container\"><div class=\"sk-label sk-toggleable\"><input class=\"sk-toggleable__control sk-hidden--visually\" id=\"9a280c9c-90b2-43b9-8fe7-3450ce85a485\" type=\"checkbox\" ><label for=\"9a280c9c-90b2-43b9-8fe7-3450ce85a485\" class=\"sk-toggleable__label sk-toggleable__label-arrow\">cat_pipe</label><div class=\"sk-toggleable__content\"><pre>&lt;sklearn.compose._column_transformer.make_column_selector object at 0x7f2548b2bdd0&gt;</pre></div></div></div><div class=\"sk-serial\"><div class=\"sk-item\"><div class=\"sk-serial\"><div class=\"sk-item\"><div class=\"sk-estimator sk-toggleable\"><input class=\"sk-toggleable__control sk-hidden--visually\" id=\"7af1b828-995f-4be7-b10c-60deda40fbaa\" type=\"checkbox\" ><label for=\"7af1b828-995f-4be7-b10c-60deda40fbaa\" class=\"sk-toggleable__label sk-toggleable__label-arrow\">OneHotEncoder</label><div class=\"sk-toggleable__content\"><pre>OneHotEncoder()</pre></div></div></div></div></div></div></div></div><div class=\"sk-parallel-item\"><div class=\"sk-item\"><div class=\"sk-label-container\"><div class=\"sk-label sk-toggleable\"><input class=\"sk-toggleable__control sk-hidden--visually\" id=\"603e7856-11b2-491d-9d85-63b3f10d31ae\" type=\"checkbox\" ><label for=\"603e7856-11b2-491d-9d85-63b3f10d31ae\" class=\"sk-toggleable__label sk-toggleable__label-arrow\">num_pipe</label><div class=\"sk-toggleable__content\"><pre>&lt;sklearn.compose._column_transformer.make_column_selector object at 0x7f2548b2b910&gt;</pre></div></div></div><div class=\"sk-serial\"><div class=\"sk-item\"><div class=\"sk-serial\"><div class=\"sk-item\"><div class=\"sk-estimator sk-toggleable\"><input class=\"sk-toggleable__control sk-hidden--visually\" id=\"941ef1f4-9a64-4208-82a5-2c63cab5ad85\" type=\"checkbox\" ><label for=\"941ef1f4-9a64-4208-82a5-2c63cab5ad85\" class=\"sk-toggleable__label sk-toggleable__label-arrow\">StandardScaler</label><div class=\"sk-toggleable__content\"><pre>StandardScaler()</pre></div></div></div></div></div></div></div></div><div class=\"sk-parallel-item\"><div class=\"sk-item\"><div class=\"sk-label-container\"><div class=\"sk-label sk-toggleable\"><input class=\"sk-toggleable__control sk-hidden--visually\" id=\"6f3587df-b442-4108-9c5f-5c92d0dd264b\" type=\"checkbox\" ><label for=\"6f3587df-b442-4108-9c5f-5c92d0dd264b\" class=\"sk-toggleable__label sk-toggleable__label-arrow\">remainder</label><div class=\"sk-toggleable__content\"><pre></pre></div></div></div><div class=\"sk-serial\"><div class=\"sk-item\"><div class=\"sk-estimator sk-toggleable\"><input class=\"sk-toggleable__control sk-hidden--visually\" id=\"652a659d-411c-4775-8cd1-a9ca5701a9e5\" type=\"checkbox\" ><label for=\"652a659d-411c-4775-8cd1-a9ca5701a9e5\" class=\"sk-toggleable__label sk-toggleable__label-arrow\">passthrough</label><div class=\"sk-toggleable__content\"><pre>passthrough</pre></div></div></div></div></div></div></div></div><div class=\"sk-item\"><div class=\"sk-estimator sk-toggleable\"><input class=\"sk-toggleable__control sk-hidden--visually\" id=\"e1110b26-885e-4b47-9ee3-f62e8ecfae7c\" type=\"checkbox\" ><label for=\"e1110b26-885e-4b47-9ee3-f62e8ecfae7c\" class=\"sk-toggleable__label sk-toggleable__label-arrow\">DecisionTreeClassifier</label><div class=\"sk-toggleable__content\"><pre>DecisionTreeClassifier(random_state=0)</pre></div></div></div></div></div></div></div>"
            ]
          },
          "metadata": {}
        }
      ]
    },
    {
      "cell_type": "markdown",
      "metadata": {
        "id": "u-RLC_QAc-W7"
      },
      "source": [
        "### Cross-validation with hyperparameter tuning"
      ]
    },
    {
      "cell_type": "code",
      "source": [
        "#hyperparameter tuning\n",
        "tuning_grid = {'mdl__min_samples_split' : [2,4,6], 'mdl__max_depth': [4,7,10,12],\n",
        "               \"mdl__criterion\": [\"gini\", \"entropy\"]}\n",
        "# GridSearchCV is used for cross-validation\n",
        "DT_grid_search = GridSearchCV(pipe, param_grid = tuning_grid, cv = 5, return_train_score=True)"
      ],
      "metadata": {
        "id": "iy6K6v4DxL1H"
      },
      "execution_count": 122,
      "outputs": []
    },
    {
      "cell_type": "code",
      "source": [
        "DT_grid_search.fit(X_train, y_train)"
      ],
      "metadata": {
        "colab": {
          "base_uri": "https://localhost:8080/"
        },
        "id": "Zf4TobDjxL8d",
        "outputId": "b86a3e71-eca2-4bfa-d4c5-ddf73c01232c"
      },
      "execution_count": 123,
      "outputs": [
        {
          "output_type": "execute_result",
          "data": {
            "text/plain": [
              "GridSearchCV(cv=5,\n",
              "             estimator=Pipeline(steps=[('preproc',\n",
              "                                        ColumnTransformer(remainder='passthrough',\n",
              "                                                          transformers=[('cat_pipe',\n",
              "                                                                         Pipeline(steps=[('onehot_cat',\n",
              "                                                                                          OneHotEncoder())]),\n",
              "                                                                         <sklearn.compose._column_transformer.make_column_selector object at 0x7f2548b2bdd0>),\n",
              "                                                                        ('num_pipe',\n",
              "                                                                         Pipeline(steps=[('scale_num',\n",
              "                                                                                          StandardScaler())]),\n",
              "                                                                         <sklearn.compose._column_transformer.make_column_selector object at 0x7f2548b2b910>)])),\n",
              "                                       ('mdl',\n",
              "                                        DecisionTreeClassifier(random_state=0))]),\n",
              "             param_grid={'mdl__criterion': ['gini', 'entropy'],\n",
              "                         'mdl__max_depth': [4, 7, 10, 12],\n",
              "                         'mdl__min_samples_split': [2, 4, 6]},\n",
              "             return_train_score=True)"
            ]
          },
          "metadata": {},
          "execution_count": 123
        }
      ]
    },
    {
      "cell_type": "code",
      "source": [
        "print(DT_grid_search.best_score_)\n",
        "DT_grid_search.best_params_"
      ],
      "metadata": {
        "colab": {
          "base_uri": "https://localhost:8080/"
        },
        "id": "h-x1Ui39zrvl",
        "outputId": "7b7acd6f-b062-442b-801c-f75e9951ec38"
      },
      "execution_count": 124,
      "outputs": [
        {
          "output_type": "stream",
          "name": "stdout",
          "text": [
            "0.9368243243243244\n"
          ]
        },
        {
          "output_type": "execute_result",
          "data": {
            "text/plain": [
              "{'mdl__criterion': 'entropy',\n",
              " 'mdl__max_depth': 10,\n",
              " 'mdl__min_samples_split': 2}"
            ]
          },
          "metadata": {},
          "execution_count": 124
        }
      ]
    },
    {
      "cell_type": "markdown",
      "metadata": {
        "id": "Cl426Ub6dKn9"
      },
      "source": [
        "### Final fit "
      ]
    },
    {
      "cell_type": "code",
      "source": [
        "DT_grid_search.best_estimator_"
      ],
      "metadata": {
        "colab": {
          "base_uri": "https://localhost:8080/"
        },
        "id": "3eBgkkTuxT8C",
        "outputId": "abd7ee90-a472-4c54-e3ab-3e1e8d129155"
      },
      "execution_count": 125,
      "outputs": [
        {
          "output_type": "execute_result",
          "data": {
            "text/plain": [
              "Pipeline(steps=[('preproc',\n",
              "                 ColumnTransformer(remainder='passthrough',\n",
              "                                   transformers=[('cat_pipe',\n",
              "                                                  Pipeline(steps=[('onehot_cat',\n",
              "                                                                   OneHotEncoder())]),\n",
              "                                                  <sklearn.compose._column_transformer.make_column_selector object at 0x7f2548565950>),\n",
              "                                                 ('num_pipe',\n",
              "                                                  Pipeline(steps=[('scale_num',\n",
              "                                                                   StandardScaler())]),\n",
              "                                                  <sklearn.compose._column_transformer.make_column_selector object at 0x7f25485659d0>)])),\n",
              "                ('mdl',\n",
              "                 DecisionTreeClassifier(criterion='entropy', max_depth=10,\n",
              "                                        random_state=0))])"
            ]
          },
          "metadata": {},
          "execution_count": 125
        }
      ]
    },
    {
      "cell_type": "markdown",
      "metadata": {
        "id": "c5aJY1eaeCwG"
      },
      "source": [
        "### Variable Importance "
      ]
    },
    {
      "cell_type": "code",
      "source": [
        "vip = DT_grid_search.best_estimator_['mdl'].feature_importances_\n",
        "vip"
      ],
      "metadata": {
        "colab": {
          "base_uri": "https://localhost:8080/"
        },
        "id": "ZmWkbHOfxcla",
        "outputId": "6d6a29ff-84c3-453d-fd00-ab9e69c14712"
      },
      "execution_count": 127,
      "outputs": [
        {
          "output_type": "execute_result",
          "data": {
            "text/plain": [
              "array([0.        , 0.        , 0.00225327, 0.00069493, 0.        ,\n",
              "       0.00090125, 0.        , 0.        , 0.        , 0.00143724,\n",
              "       0.        , 0.00078879, 0.        , 0.        , 0.        ,\n",
              "       0.        , 0.00186798, 0.00546979, 0.41614489, 0.006392  ,\n",
              "       0.00734024, 0.00641819, 0.04762431, 0.50266711])"
            ]
          },
          "metadata": {},
          "execution_count": 127
        }
      ]
    },
    {
      "cell_type": "code",
      "source": [
        "#get names in correct preproc order\n",
        "cat_names = DT_grid_search.best_estimator_.named_steps['preproc'].transformers_[0][1].named_steps['onehot_cat'].get_feature_names_out()\n",
        "num_names = DT_grid_search.best_estimator_.named_steps['preproc'].transformers_[1][2]\n",
        "#create df with vip info\n",
        "coef_info = pd.DataFrame({'feat_names':np.hstack([cat_names, num_names]), 'vip': vip})\n",
        "#get sign and magnitude information\n",
        "coef_info = coef_info.assign(coef_mag = abs(coef_info['vip']),\n",
        "                             coef_sign = np.sign(coef_info['vip']))\n",
        "\n",
        "#sort and plot\n",
        "coef_info = coef_info.set_index('feat_names').sort_values(by='coef_mag', ascending=False)\n",
        "sns.barplot(y=coef_info.index, x='coef_mag', hue='coef_sign', data=coef_info, orient='h', dodge=False);\n",
        "plt.rcParams[\"figure.figsize\"] = [8, 6]"
      ],
      "metadata": {
        "colab": {
          "base_uri": "https://localhost:8080/",
          "height": 389
        },
        "id": "Epc2zHE6xcvv",
        "outputId": "c65ce5b6-82a8-4de4-e33f-aba0e2f0f81d"
      },
      "execution_count": 130,
      "outputs": [
        {
          "output_type": "display_data",
          "data": {
            "text/plain": [
              "<Figure size 576x432 with 1 Axes>"
            ],
            "image/png": "[encoded data removed]"
          },
          "metadata": {
            "needs_background": "light"
          }
        }
      ]
    },
    {
      "cell_type": "markdown",
      "metadata": {
        "id": "MMGJiPwteHgQ"
      },
      "source": [
        "### Performance metrics"
      ]
    },
    {
      "cell_type": "code",
      "source": [
        "print(classification_report(y_test, DT_grid_search.best_estimator_.predict(X_test)))"
      ],
      "metadata": {
        "colab": {
          "base_uri": "https://localhost:8080/"
        },
        "id": "OKseMbUcxmBD",
        "outputId": "a958bf72-08fe-49ae-9e6a-f3925673b662"
      },
      "execution_count": 131,
      "outputs": [
        {
          "output_type": "stream",
          "name": "stdout",
          "text": [
            "              precision    recall  f1-score   support\n",
            "\n",
            "           0       0.94      0.98      0.96      3282\n",
            "           1       0.90      0.69      0.78       665\n",
            "\n",
            "    accuracy                           0.94      3947\n",
            "   macro avg       0.92      0.84      0.87      3947\n",
            "weighted avg       0.93      0.94      0.93      3947\n",
            "\n"
          ]
        }
      ]
    },
    {
      "cell_type": "code",
      "source": [
        "cm = confusion_matrix(y_test, DT_grid_search.best_estimator_.predict(X_test))\n",
        "disp = ConfusionMatrixDisplay(confusion_matrix=cm,\n",
        "                               display_labels=['Not a Credit Risk', 'Is a Credit Risk'])\n",
        "disp.plot()\n",
        "plt.rcParams[\"figure.figsize\"] = [6, 5]\n",
        "plt.show()"
      ],
      "metadata": {
        "colab": {
          "base_uri": "https://localhost:8080/",
          "height": 332
        },
        "id": "CagUND_axmF4",
        "outputId": "a8ef31bf-4879-42cb-8aa8-dfc70f623fec"
      },
      "execution_count": 133,
      "outputs": [
        {
          "output_type": "display_data",
          "data": {
            "text/plain": [
              "<Figure size 432x360 with 2 Axes>"
            ],
            "image/png": "[encoded data removed]"
          },
          "metadata": {
            "needs_background": "light"
          }
        }
      ]
    },
    {
      "cell_type": "markdown",
      "metadata": {
        "id": "9__IoTvYeHqf"
      },
      "source": [
        "### ROC_curve"
      ]
    },
    {
      "cell_type": "code",
      "source": [
        "y_pred = DT_grid_search.best_estimator_.predict_proba(X_test)\n",
        "y_pred = y_pred[:, 1]\n",
        "fpr, tpr, thresholds = roc_curve(y_test, y_pred)\n",
        "net_gain = tpr - fpr\n",
        "ix = np.argmax(net_gain)\n",
        "print('Best Threshold=%f \\nNet Gain=%.3f' % (thresholds[ix], net_gain[ix]))\n",
        "plt.scatter(fpr[ix], tpr[ix], marker='o', color='black', label='Best threshold')\n",
        "plt.plot([0,1], [0,1], linestyle='--', label='No Skill')\n",
        "plt.plot(fpr, tpr, marker='.', label='Decision Tree Classifier', markersize= 0.5)\n",
        "\n",
        "plt.legend()\n",
        "\n",
        "plt.rcParams[\"figure.figsize\"] = [8, 5]\n",
        "plt.show()"
      ],
      "metadata": {
        "colab": {
          "base_uri": "https://localhost:8080/",
          "height": 355
        },
        "id": "Jt5A2ez5xvuz",
        "outputId": "4f2cd1af-fbe5-484a-90cf-cde6490a009c"
      },
      "execution_count": 136,
      "outputs": [
        {
          "output_type": "stream",
          "name": "stdout",
          "text": [
            "Best Threshold=0.055556 \n",
            "Net Gain=0.830\n"
          ]
        },
        {
          "output_type": "display_data",
          "data": {
            "text/plain": [
              "<Figure size 576x360 with 1 Axes>"
            ],
            "image/png": "[encoded data removed]"
          },
          "metadata": {
            "needs_background": "light"
          }
        }
      ]
    },
    {
      "cell_type": "markdown",
      "metadata": {
        "id": "wqF-WlT6eHzE"
      },
      "source": [
        "### Precision_Recall_curve"
      ]
    },
    {
      "cell_type": "code",
      "source": [
        "precision, recall, thresholds = precision_recall_curve(y_test, y_pred)\n",
        "f1 = 2 * ((precision * recall) / (precision + recall))\n",
        "ix = np.argmax(f1)\n",
        "\n",
        "print('Best Threshold=%f \\nf1 score=%.3f' % (thresholds[ix], f1[ix]))\n",
        "\n",
        "plt.plot(recall, precision, marker='.', label='Decision Tree Classifier', markersize= 0.5)\n",
        "plt.scatter(recall[ix], precision[ix], marker='o', color='black', label='Best threshold')\n",
        "\n",
        "plt.legend()\n",
        "plt.show()"
      ],
      "metadata": {
        "colab": {
          "base_uri": "https://localhost:8080/",
          "height": 355
        },
        "id": "BJ5ZST-Gxwmn",
        "outputId": "72ea31fa-adb8-47df-e1e1-01adcb04da7c"
      },
      "execution_count": 135,
      "outputs": [
        {
          "output_type": "stream",
          "name": "stdout",
          "text": [
            "Best Threshold=0.300000 \n",
            "f1 score=0.819\n"
          ]
        },
        {
          "output_type": "display_data",
          "data": {
            "text/plain": [
              "<Figure size 576x360 with 1 Axes>"
            ],
            "image/png": "[encoded data removed]"
          },
          "metadata": {
            "needs_background": "light"
          }
        }
      ]
    },
    {
      "cell_type": "markdown",
      "metadata": {
        "id": "GprX8FGzc0A8"
      },
      "source": [
        "\n",
        "\n",
        "---\n",
        "\n",
        "\n",
        "## Model 3 - Gaussian Naive Bayes"
      ]
    },
    {
      "cell_type": "code",
      "source": [
        "#generate the whole modeling pipeline with preprocessing\n",
        "pipe = Pipeline(steps=[('preproc', preproc),\n",
        "                       ('mdl', GaussianNB())])\n",
        "\n",
        "#visualization for steps\n",
        "with config_context(display='diagram'):\n",
        "    display(pipe)"
      ],
      "metadata": {
        "colab": {
          "base_uri": "https://localhost:8080/",
          "height": 192
        },
        "id": "Cda2I_EEw04h",
        "outputId": "73f9a29c-8b92-4ca1-e67a-bfd37c2682ce"
      },
      "execution_count": 137,
      "outputs": [
        {
          "output_type": "display_data",
          "data": {
            "text/plain": [
              "Pipeline(steps=[('preproc',\n",
              "                 ColumnTransformer(remainder='passthrough',\n",
              "                                   transformers=[('cat_pipe',\n",
              "                                                  Pipeline(steps=[('onehot_cat',\n",
              "                                                                   OneHotEncoder())]),\n",
              "                                                  <sklearn.compose._column_transformer.make_column_selector object at 0x7f2548b2bdd0>),\n",
              "                                                 ('num_pipe',\n",
              "                                                  Pipeline(steps=[('scale_num',\n",
              "                                                                   StandardScaler())]),\n",
              "                                                  <sklearn.compose._column_transformer.make_column_selector object at 0x7f2548b2b910>)])),\n",
              "                ('mdl', GaussianNB())])"
            ],
            "text/html": [
              "<style>#sk-f99d5792-0c06-4232-bfcb-4ae53f5684bd {color: black;background-color: white;}#sk-f99d5792-0c06-4232-bfcb-4ae53f5684bd pre{padding: 0;}#sk-f99d5792-0c06-4232-bfcb-4ae53f5684bd div.sk-toggleable {background-color: white;}#sk-f99d5792-0c06-4232-bfcb-4ae53f5684bd label.sk-toggleable__label {cursor: pointer;display: block;width: 100%;margin-bottom: 0;padding: 0.3em;box-sizing: border-box;text-align: center;}#sk-f99d5792-0c06-4232-bfcb-4ae53f5684bd label.sk-toggleable__label-arrow:before {content: \"▸\";float: left;margin-right: 0.25em;color: #696969;}#sk-f99d5792-0c06-4232-bfcb-4ae53f5684bd label.sk-toggleable__label-arrow:hover:before {color: black;}#sk-f99d5792-0c06-4232-bfcb-4ae53f5684bd div.sk-estimator:hover label.sk-toggleable__label-arrow:before {color: black;}#sk-f99d5792-0c06-4232-bfcb-4ae53f5684bd div.sk-toggleable__content {max-height: 0;max-width: 0;overflow: hidden;text-align: left;background-color: #f0f8ff;}#sk-f99d5792-0c06-4232-bfcb-4ae53f5684bd div.sk-toggleable__content pre {margin: 0.2em;color: black;border-radius: 0.25em;background-color: #f0f8ff;}#sk-f99d5792-0c06-4232-bfcb-4ae53f5684bd input.sk-toggleable__control:checked~div.sk-toggleable__content {max-height: 200px;max-width: 100%;overflow: auto;}#sk-f99d5792-0c06-4232-bfcb-4ae53f5684bd input.sk-toggleable__control:checked~label.sk-toggleable__label-arrow:before {content: \"▾\";}#sk-f99d5792-0c06-4232-bfcb-4ae53f5684bd div.sk-estimator input.sk-toggleable__control:checked~label.sk-toggleable__label {background-color: #d4ebff;}#sk-f99d5792-0c06-4232-bfcb-4ae53f5684bd div.sk-label input.sk-toggleable__control:checked~label.sk-toggleable__label {background-color: #d4ebff;}#sk-f99d5792-0c06-4232-bfcb-4ae53f5684bd input.sk-hidden--visually {border: 0;clip: rect(1px 1px 1px 1px);clip: rect(1px, 1px, 1px, 1px);height: 1px;margin: -1px;overflow: hidden;padding: 0;position: absolute;width: 1px;}#sk-f99d5792-0c06-4232-bfcb-4ae53f5684bd div.sk-estimator {font-family: monospace;background-color: #f0f8ff;border: 1px dotted black;border-radius: 0.25em;box-sizing: border-box;margin-bottom: 0.5em;}#sk-f99d5792-0c06-4232-bfcb-4ae53f5684bd div.sk-estimator:hover {background-color: #d4ebff;}#sk-f99d5792-0c06-4232-bfcb-4ae53f5684bd div.sk-parallel-item::after {content: \"\";width: 100%;border-bottom: 1px solid gray;flex-grow: 1;}#sk-f99d5792-0c06-4232-bfcb-4ae53f5684bd div.sk-label:hover label.sk-toggleable__label {background-color: #d4ebff;}#sk-f99d5792-0c06-4232-bfcb-4ae53f5684bd div.sk-serial::before {content: \"\";position: absolute;border-left: 1px solid gray;box-sizing: border-box;top: 2em;bottom: 0;left: 50%;}#sk-f99d5792-0c06-4232-bfcb-4ae53f5684bd div.sk-serial {display: flex;flex-direction: column;align-items: center;background-color: white;padding-right: 0.2em;padding-left: 0.2em;}#sk-f99d5792-0c06-4232-bfcb-4ae53f5684bd div.sk-item {z-index: 1;}#sk-f99d5792-0c06-4232-bfcb-4ae53f5684bd div.sk-parallel {display: flex;align-items: stretch;justify-content: center;background-color: white;}#sk-f99d5792-0c06-4232-bfcb-4ae53f5684bd div.sk-parallel::before {content: \"\";position: absolute;border-left: 1px solid gray;box-sizing: border-box;top: 2em;bottom: 0;left: 50%;}#sk-f99d5792-0c06-4232-bfcb-4ae53f5684bd div.sk-parallel-item {display: flex;flex-direction: column;position: relative;background-color: white;}#sk-f99d5792-0c06-4232-bfcb-4ae53f5684bd div.sk-parallel-item:first-child::after {align-self: flex-end;width: 50%;}#sk-f99d5792-0c06-4232-bfcb-4ae53f5684bd div.sk-parallel-item:last-child::after {align-self: flex-start;width: 50%;}#sk-f99d5792-0c06-4232-bfcb-4ae53f5684bd div.sk-parallel-item:only-child::after {width: 0;}#sk-f99d5792-0c06-4232-bfcb-4ae53f5684bd div.sk-dashed-wrapped {border: 1px dashed gray;margin: 0 0.4em 0.5em 0.4em;box-sizing: border-box;padding-bottom: 0.4em;background-color: white;position: relative;}#sk-f99d5792-0c06-4232-bfcb-4ae53f5684bd div.sk-label label {font-family: monospace;font-weight: bold;background-color: white;display: inline-block;line-height: 1.2em;}#sk-f99d5792-0c06-4232-bfcb-4ae53f5684bd div.sk-label-container {position: relative;z-index: 2;text-align: center;}#sk-f99d5792-0c06-4232-bfcb-4ae53f5684bd div.sk-container {/* jupyter's `normalize.less` sets `[hidden] { display: none; }` but bootstrap.min.css set `[hidden] { display: none !important; }` so we also need the `!important` here to be able to override the default hidden behavior on the sphinx rendered scikit-learn.org. See: https://github.com/scikit-learn/scikit-learn/issues/21755 */display: inline-block !important;position: relative;}#sk-f99d5792-0c06-4232-bfcb-4ae53f5684bd div.sk-text-repr-fallback {display: none;}</style><div id=\"sk-f99d5792-0c06-4232-bfcb-4ae53f5684bd\" class=\"sk-top-container\"><div class=\"sk-text-repr-fallback\"><pre>Pipeline(steps=[(&#x27;preproc&#x27;,\n",
              "                 ColumnTransformer(remainder=&#x27;passthrough&#x27;,\n",
              "                                   transformers=[(&#x27;cat_pipe&#x27;,\n",
              "                                                  Pipeline(steps=[(&#x27;onehot_cat&#x27;,\n",
              "                                                                   OneHotEncoder())]),\n",
              "                                                  &lt;sklearn.compose._column_transformer.make_column_selector object at 0x7f2548b2bdd0&gt;),\n",
              "                                                 (&#x27;num_pipe&#x27;,\n",
              "                                                  Pipeline(steps=[(&#x27;scale_num&#x27;,\n",
              "                                                                   StandardScaler())]),\n",
              "                                                  &lt;sklearn.compose._column_transformer.make_column_selector object at 0x7f2548b2b910&gt;)])),\n",
              "                (&#x27;mdl&#x27;, GaussianNB())])</pre><b>Please rerun this cell to show the HTML repr or trust the notebook.</b></div><div class=\"sk-container\" hidden><div class=\"sk-item sk-dashed-wrapped\"><div class=\"sk-label-container\"><div class=\"sk-label sk-toggleable\"><input class=\"sk-toggleable__control sk-hidden--visually\" id=\"b7a8f817-bc91-4d19-a733-6b26ef56d3b5\" type=\"checkbox\" ><label for=\"b7a8f817-bc91-4d19-a733-6b26ef56d3b5\" class=\"sk-toggleable__label sk-toggleable__label-arrow\">Pipeline</label><div class=\"sk-toggleable__content\"><pre>Pipeline(steps=[(&#x27;preproc&#x27;,\n",
              "                 ColumnTransformer(remainder=&#x27;passthrough&#x27;,\n",
              "                                   transformers=[(&#x27;cat_pipe&#x27;,\n",
              "                                                  Pipeline(steps=[(&#x27;onehot_cat&#x27;,\n",
              "                                                                   OneHotEncoder())]),\n",
              "                                                  &lt;sklearn.compose._column_transformer.make_column_selector object at 0x7f2548b2bdd0&gt;),\n",
              "                                                 (&#x27;num_pipe&#x27;,\n",
              "                                                  Pipeline(steps=[(&#x27;scale_num&#x27;,\n",
              "                                                                   StandardScaler())]),\n",
              "                                                  &lt;sklearn.compose._column_transformer.make_column_selector object at 0x7f2548b2b910&gt;)])),\n",
              "                (&#x27;mdl&#x27;, GaussianNB())])</pre></div></div></div><div class=\"sk-serial\"><div class=\"sk-item sk-dashed-wrapped\"><div class=\"sk-label-container\"><div class=\"sk-label sk-toggleable\"><input class=\"sk-toggleable__control sk-hidden--visually\" id=\"7c5576bb-4643-42dd-88be-cd64f210f430\" type=\"checkbox\" ><label for=\"7c5576bb-4643-42dd-88be-cd64f210f430\" class=\"sk-toggleable__label sk-toggleable__label-arrow\">preproc: ColumnTransformer</label><div class=\"sk-toggleable__content\"><pre>ColumnTransformer(remainder=&#x27;passthrough&#x27;,\n",
              "                  transformers=[(&#x27;cat_pipe&#x27;,\n",
              "                                 Pipeline(steps=[(&#x27;onehot_cat&#x27;,\n",
              "                                                  OneHotEncoder())]),\n",
              "                                 &lt;sklearn.compose._column_transformer.make_column_selector object at 0x7f2548b2bdd0&gt;),\n",
              "                                (&#x27;num_pipe&#x27;,\n",
              "                                 Pipeline(steps=[(&#x27;scale_num&#x27;,\n",
              "                                                  StandardScaler())]),\n",
              "                                 &lt;sklearn.compose._column_transformer.make_column_selector object at 0x7f2548b2b910&gt;)])</pre></div></div></div><div class=\"sk-parallel\"><div class=\"sk-parallel-item\"><div class=\"sk-item\"><div class=\"sk-label-container\"><div class=\"sk-label sk-toggleable\"><input class=\"sk-toggleable__control sk-hidden--visually\" id=\"35960184-e158-42ce-88d0-a3b484155133\" type=\"checkbox\" ><label for=\"35960184-e158-42ce-88d0-a3b484155133\" class=\"sk-toggleable__label sk-toggleable__label-arrow\">cat_pipe</label><div class=\"sk-toggleable__content\"><pre>&lt;sklearn.compose._column_transformer.make_column_selector object at 0x7f2548b2bdd0&gt;</pre></div></div></div><div class=\"sk-serial\"><div class=\"sk-item\"><div class=\"sk-serial\"><div class=\"sk-item\"><div class=\"sk-estimator sk-toggleable\"><input class=\"sk-toggleable__control sk-hidden--visually\" id=\"c51d5153-b796-4c4e-bd23-15254512f6a8\" type=\"checkbox\" ><label for=\"c51d5153-b796-4c4e-bd23-15254512f6a8\" class=\"sk-toggleable__label sk-toggleable__label-arrow\">OneHotEncoder</label><div class=\"sk-toggleable__content\"><pre>OneHotEncoder()</pre></div></div></div></div></div></div></div></div><div class=\"sk-parallel-item\"><div class=\"sk-item\"><div class=\"sk-label-container\"><div class=\"sk-label sk-toggleable\"><input class=\"sk-toggleable__control sk-hidden--visually\" id=\"e71380e3-7fed-40fa-a105-25e503b289d5\" type=\"checkbox\" ><label for=\"e71380e3-7fed-40fa-a105-25e503b289d5\" class=\"sk-toggleable__label sk-toggleable__label-arrow\">num_pipe</label><div class=\"sk-toggleable__content\"><pre>&lt;sklearn.compose._column_transformer.make_column_selector object at 0x7f2548b2b910&gt;</pre></div></div></div><div class=\"sk-serial\"><div class=\"sk-item\"><div class=\"sk-serial\"><div class=\"sk-item\"><div class=\"sk-estimator sk-toggleable\"><input class=\"sk-toggleable__control sk-hidden--visually\" id=\"4a34d419-d856-4b7f-a382-81ebd62f7869\" type=\"checkbox\" ><label for=\"4a34d419-d856-4b7f-a382-81ebd62f7869\" class=\"sk-toggleable__label sk-toggleable__label-arrow\">StandardScaler</label><div class=\"sk-toggleable__content\"><pre>StandardScaler()</pre></div></div></div></div></div></div></div></div><div class=\"sk-parallel-item\"><div class=\"sk-item\"><div class=\"sk-label-container\"><div class=\"sk-label sk-toggleable\"><input class=\"sk-toggleable__control sk-hidden--visually\" id=\"065bda3b-f410-4689-b0db-fe073a91b177\" type=\"checkbox\" ><label for=\"065bda3b-f410-4689-b0db-fe073a91b177\" class=\"sk-toggleable__label sk-toggleable__label-arrow\">remainder</label><div class=\"sk-toggleable__content\"><pre></pre></div></div></div><div class=\"sk-serial\"><div class=\"sk-item\"><div class=\"sk-estimator sk-toggleable\"><input class=\"sk-toggleable__control sk-hidden--visually\" id=\"36ee9353-56f6-493d-80d0-f93a1434438a\" type=\"checkbox\" ><label for=\"36ee9353-56f6-493d-80d0-f93a1434438a\" class=\"sk-toggleable__label sk-toggleable__label-arrow\">passthrough</label><div class=\"sk-toggleable__content\"><pre>passthrough</pre></div></div></div></div></div></div></div></div><div class=\"sk-item\"><div class=\"sk-estimator sk-toggleable\"><input class=\"sk-toggleable__control sk-hidden--visually\" id=\"91e96b74-1a72-4b59-a74c-5b9acc8fdc6c\" type=\"checkbox\" ><label for=\"91e96b74-1a72-4b59-a74c-5b9acc8fdc6c\" class=\"sk-toggleable__label sk-toggleable__label-arrow\">GaussianNB</label><div class=\"sk-toggleable__content\"><pre>GaussianNB()</pre></div></div></div></div></div></div></div>"
            ]
          },
          "metadata": {}
        }
      ]
    },
    {
      "cell_type": "markdown",
      "metadata": {
        "id": "brwchltec_iv"
      },
      "source": [
        "### Cross-validation with hyperparameter tuning"
      ]
    },
    {
      "cell_type": "code",
      "source": [
        "#hyperparameter tuning\n",
        "tuning_grid = {'mdl__var_smoothing' : np.logspace(0,-9, num=100)}\n",
        "# GridSearchCV is used for cross-validation\n",
        "NB_grid_search = GridSearchCV(pipe, param_grid = tuning_grid, cv = 5, return_train_score=True)\n"
      ],
      "metadata": {
        "id": "oNfD8eGYxNKl"
      },
      "execution_count": 138,
      "outputs": []
    },
    {
      "cell_type": "code",
      "source": [
        "NB_grid_search.fit(X_train, y_train)"
      ],
      "metadata": {
        "colab": {
          "base_uri": "https://localhost:8080/"
        },
        "id": "3weo10-sxNR5",
        "outputId": "12e4d067-24dc-45d5-9486-1646ce186bf9"
      },
      "execution_count": 139,
      "outputs": [
        {
          "output_type": "execute_result",
          "data": {
            "text/plain": [
              "GridSearchCV(cv=5,\n",
              "             estimator=Pipeline(steps=[('preproc',\n",
              "                                        ColumnTransformer(remainder='passthrough',\n",
              "                                                          transformers=[('cat_pipe',\n",
              "                                                                         Pipeline(steps=[('onehot_cat',\n",
              "                                                                                          OneHotEncoder())]),\n",
              "                                                                         <sklearn.compose._column_transformer.make_column_selector object at 0x7f2548b2bdd0>),\n",
              "                                                                        ('num_pipe',\n",
              "                                                                         Pipeline(steps=[('scale_num',\n",
              "                                                                                          StandardScaler())]),\n",
              "                                                                         <sklearn.compose._column_transforme...\n",
              "       1.23284674e-07, 1.00000000e-07, 8.11130831e-08, 6.57933225e-08,\n",
              "       5.33669923e-08, 4.32876128e-08, 3.51119173e-08, 2.84803587e-08,\n",
              "       2.31012970e-08, 1.87381742e-08, 1.51991108e-08, 1.23284674e-08,\n",
              "       1.00000000e-08, 8.11130831e-09, 6.57933225e-09, 5.33669923e-09,\n",
              "       4.32876128e-09, 3.51119173e-09, 2.84803587e-09, 2.31012970e-09,\n",
              "       1.87381742e-09, 1.51991108e-09, 1.23284674e-09, 1.00000000e-09])},\n",
              "             return_train_score=True)"
            ]
          },
          "metadata": {},
          "execution_count": 139
        }
      ]
    },
    {
      "cell_type": "code",
      "source": [
        "print(NB_grid_search.best_score_)\n",
        "NB_grid_search.best_params_"
      ],
      "metadata": {
        "id": "u5JZfQvqzuKr",
        "colab": {
          "base_uri": "https://localhost:8080/"
        },
        "outputId": "410605cf-4fbd-4702-a8a1-e0c66f2caf69"
      },
      "execution_count": 140,
      "outputs": [
        {
          "output_type": "stream",
          "name": "stdout",
          "text": [
            "0.8888513513513514\n"
          ]
        },
        {
          "output_type": "execute_result",
          "data": {
            "text/plain": [
              "{'mdl__var_smoothing': 0.012328467394420659}"
            ]
          },
          "metadata": {},
          "execution_count": 140
        }
      ]
    },
    {
      "cell_type": "markdown",
      "metadata": {
        "id": "oTLrwcoIdIPE"
      },
      "source": [
        "### Final fit "
      ]
    },
    {
      "cell_type": "code",
      "source": [
        "NB_grid_search.best_estimator_"
      ],
      "metadata": {
        "id": "pYNhc-mExU_n",
        "colab": {
          "base_uri": "https://localhost:8080/"
        },
        "outputId": "c0e28398-5245-4e4d-edfb-836b11e2109c"
      },
      "execution_count": 141,
      "outputs": [
        {
          "output_type": "execute_result",
          "data": {
            "text/plain": [
              "Pipeline(steps=[('preproc',\n",
              "                 ColumnTransformer(remainder='passthrough',\n",
              "                                   transformers=[('cat_pipe',\n",
              "                                                  Pipeline(steps=[('onehot_cat',\n",
              "                                                                   OneHotEncoder())]),\n",
              "                                                  <sklearn.compose._column_transformer.make_column_selector object at 0x7f2548768ed0>),\n",
              "                                                 ('num_pipe',\n",
              "                                                  Pipeline(steps=[('scale_num',\n",
              "                                                                   StandardScaler())]),\n",
              "                                                  <sklearn.compose._column_transformer.make_column_selector object at 0x7f25487682d0>)])),\n",
              "                ('mdl', GaussianNB(var_smoothing=0.012328467394420659))])"
            ]
          },
          "metadata": {},
          "execution_count": 141
        }
      ]
    },
    {
      "cell_type": "markdown",
      "metadata": {
        "id": "6y88N_fjeEK9"
      },
      "source": [
        "### Variable Importance "
      ]
    },
    {
      "cell_type": "code",
      "source": [
        "vip = permutation_importance(NB_grid_search.best_estimator_, X_test, y_test)\n",
        "vip.importances_mean"
      ],
      "metadata": {
        "id": "xxwe-VYwxgjQ",
        "colab": {
          "base_uri": "https://localhost:8080/"
        },
        "outputId": "8bd124b3-4feb-48f3-8c55-1a87110b83ed"
      },
      "execution_count": 142,
      "outputs": [
        {
          "output_type": "execute_result",
          "data": {
            "text/plain": [
              "array([ 0.00091209,  0.01119838, -0.00025336,  0.03242969, -0.00055739,\n",
              "        0.00967824,  0.00684064, -0.00040537,  0.00263491,  0.0028376 ,\n",
              "        0.05964023])"
            ]
          },
          "metadata": {},
          "execution_count": 142
        }
      ]
    },
    {
      "cell_type": "code",
      "source": [
        "#sort and plot\n",
        "fig, ax = plt.subplots()\n",
        "sorted_vip_idx = abs(vip.importances_mean).argsort()\n",
        "plt.barh(range(len(sorted_vip_idx)), abs(vip['importances_mean'][sorted_vip_idx]))\n",
        "\n",
        "ax.set_yticks(range(len(sorted_vip_idx)))\n",
        "ax.set_yticklabels(X_train.columns[sorted_vip_idx])\n",
        "plt.rcParams[\"figure.figsize\"] = [10, 6]"
      ],
      "metadata": {
        "id": "0iiAjetpxgtl",
        "colab": {
          "base_uri": "https://localhost:8080/",
          "height": 320
        },
        "outputId": "dd23439f-2f9c-461a-e80e-be70a510df19"
      },
      "execution_count": 143,
      "outputs": [
        {
          "output_type": "display_data",
          "data": {
            "text/plain": [
              "<Figure size 576x360 with 1 Axes>"
            ],
            "image/png": "[encoded data removed]"
          },
          "metadata": {
            "needs_background": "light"
          }
        }
      ]
    },
    {
      "cell_type": "markdown",
      "metadata": {
        "id": "X4zaUbaFeF9C"
      },
      "source": [
        "### Performance metrics"
      ]
    },
    {
      "cell_type": "code",
      "source": [
        "print(classification_report(y_test, NB_grid_search.best_estimator_.predict(X_test)))"
      ],
      "metadata": {
        "id": "tKuRbmkRxnJd",
        "colab": {
          "base_uri": "https://localhost:8080/"
        },
        "outputId": "4e4616c0-a325-4c19-e327-2b395b9f2320"
      },
      "execution_count": 144,
      "outputs": [
        {
          "output_type": "stream",
          "name": "stdout",
          "text": [
            "              precision    recall  f1-score   support\n",
            "\n",
            "           0       0.90      0.98      0.94      3282\n",
            "           1       0.81      0.44      0.57       665\n",
            "\n",
            "    accuracy                           0.89      3947\n",
            "   macro avg       0.86      0.71      0.75      3947\n",
            "weighted avg       0.88      0.89      0.87      3947\n",
            "\n"
          ]
        }
      ]
    },
    {
      "cell_type": "code",
      "source": [
        "cm = confusion_matrix(y_test, NB_grid_search.best_estimator_.predict(X_test))\n",
        "disp = ConfusionMatrixDisplay(confusion_matrix=cm,\n",
        "                               display_labels=['Not a Credit Risk', 'Is a Credit Risk'])\n",
        "disp.plot()\n",
        "plt.rcParams[\"figure.figsize\"] = [6, 5]\n",
        "plt.show()"
      ],
      "metadata": {
        "id": "uqdl58qgxnMD",
        "colab": {
          "base_uri": "https://localhost:8080/",
          "height": 332
        },
        "outputId": "d215e14c-6651-47d0-f396-bcfcb91f8517"
      },
      "execution_count": 146,
      "outputs": [
        {
          "output_type": "display_data",
          "data": {
            "text/plain": [
              "<Figure size 432x360 with 2 Axes>"
            ],
            "image/png": "[encoded data removed]"
          },
          "metadata": {
            "needs_background": "light"
          }
        }
      ]
    },
    {
      "cell_type": "markdown",
      "metadata": {
        "id": "5RMb3Q9yeGEB"
      },
      "source": [
        "### ROC_curve"
      ]
    },
    {
      "cell_type": "code",
      "source": [
        "y_pred = NB_grid_search.best_estimator_.predict_proba(X_test)\n",
        "y_pred = y_pred[:, 1]\n",
        "fpr, tpr, thresholds = roc_curve(y_test, y_pred)\n",
        "net_gain = tpr - fpr\n",
        "ix = np.argmax(net_gain)\n",
        "print('Best Threshold=%f \\nNet Gain=%.3f' % (thresholds[ix], net_gain[ix]))\n",
        "plt.scatter(fpr[ix], tpr[ix], marker='o', color='black', label='Best threshold')\n",
        "plt.plot([0,1], [0,1], linestyle='--', label='No Skill')\n",
        "plt.plot(fpr, tpr, marker='.', label='Gaussian Naive Bayes', markersize= 0.5)\n",
        "\n",
        "plt.legend()\n",
        "\n",
        "plt.rcParams[\"figure.figsize\"] = [8, 5]\n",
        "plt.show()"
      ],
      "metadata": {
        "id": "hta-6-4ExxmP",
        "colab": {
          "base_uri": "https://localhost:8080/",
          "height": 355
        },
        "outputId": "6e72ee5c-bdf0-4d81-9d79-ef86e760ff98"
      },
      "execution_count": 147,
      "outputs": [
        {
          "output_type": "stream",
          "name": "stdout",
          "text": [
            "Best Threshold=0.026895 \n",
            "Net Gain=0.587\n"
          ]
        },
        {
          "output_type": "display_data",
          "data": {
            "text/plain": [
              "<Figure size 432x360 with 1 Axes>"
            ],
            "image/png": "[encoded data removed]"
          },
          "metadata": {
            "needs_background": "light"
          }
        }
      ]
    },
    {
      "cell_type": "markdown",
      "metadata": {
        "id": "xBlByylxeGKR"
      },
      "source": [
        "### Precision_Recall_curve"
      ]
    },
    {
      "cell_type": "code",
      "source": [
        "precision, recall, thresholds = precision_recall_curve(y_test, y_pred)\n",
        "f1 = 2 * ((precision * recall) / (precision + recall))\n",
        "ix = np.argmax(f1)\n",
        "\n",
        "print('Best Threshold=%f \\nf1 score=%.3f' % (thresholds[ix], f1[ix]))\n",
        "\n",
        "plt.plot(recall, precision, marker='.', label='Gaussian Naive Bayes', markersize= 0.5)\n",
        "plt.scatter(recall[ix], precision[ix], marker='o', color='black', label='Best threshold')\n",
        "\n",
        "plt.legend()\n",
        "plt.show()"
      ],
      "metadata": {
        "id": "kT3CVz16xx_o",
        "colab": {
          "base_uri": "https://localhost:8080/",
          "height": 355
        },
        "outputId": "d8cdb362-60a4-428b-c307-08ad34f7afc6"
      },
      "execution_count": 148,
      "outputs": [
        {
          "output_type": "stream",
          "name": "stdout",
          "text": [
            "Best Threshold=0.090919 \n",
            "f1 score=0.622\n"
          ]
        },
        {
          "output_type": "display_data",
          "data": {
            "text/plain": [
              "<Figure size 576x360 with 1 Axes>"
            ],
            "image/png": "[encoded data removed]"
          },
          "metadata": {
            "needs_background": "light"
          }
        }
      ]
    },
    {
      "cell_type": "markdown",
      "source": [
        "# Model Results\n",
        "\n",
        "\n",
        "\n",
        "\n",
        "\n",
        "\n",
        "    \n"
      ],
      "metadata": {
        "id": "9Ydtv0QCM7yv"
      }
    },
    {
      "cell_type": "markdown",
      "source": [
        "## Did the preliminary results match your expectation? \n",
        "> I was happy to see the Gradient Boosting model achieved a 92% accuracy. When looking at the f1-scores, I expected the models to score high on predicting those records who are not a risk but, I was not expecting the models ability to flag the records as a crredit risk to be as low. Especially on the Gaussian Naive Bayes which did incredibly poor with a 36% F1 score for predicting the record as a credit risk. Even the Gradient Boosting model did just ok on flagging those as a risk. This tells me the model is failing to flag those who are a credit risk and will need further improvement. "
      ],
      "metadata": {
        "id": "SEtU1Dr3bHHH"
      }
    },
    {
      "cell_type": "markdown",
      "source": [
        "## Which model performed best?\n",
        "> **Best:** Gradient Boosting Classifier - 94% accuracy   \n",
        "**Close Second:** Decision Tree  Classifier - 94% accuracy   \n",
        "**Worst:** Gaussian Naive Bayes - 89% accuracy \n",
        "\n"
      ],
      "metadata": {
        "id": "IRVVQ1z8NW1E"
      }
    },
    {
      "cell_type": "markdown",
      "source": [
        "## Feature Engineering Results"
      ],
      "metadata": {
        "id": "_6a9YB8KjOOY"
      }
    },
    {
      "cell_type": "markdown",
      "source": [
        "### Results without Feature Engineering \n",
        "> **Gradient Boosting**  \n",
        "Accuracy: 92%        \n",
        "F1 Score: \n",
        "*   Not A credit Risk: 95%\n",
        "*   Is a Credit Risk: 73%\n",
        "\n",
        "---\n",
        "> **Decision Tree Classifer**  \n",
        "Accuracy:  90%      \n",
        "F1 Score: \n",
        "*   Not A credit Risk: 94%\n",
        "*   Is a Credit Risk: 68%\n",
        " \n",
        "---\n",
        "> **Gaussian Naive Bayes**  \n",
        "Accuracy: 84%    \n",
        "F1 Score: \n",
        "*   Not A credit Risk: 91%\n",
        "*   Is a Credit Risk: 33%"
      ],
      "metadata": {
        "id": "rHVwTjiXRCOB"
      }
    },
    {
      "cell_type": "markdown",
      "source": [
        "### Results with Feature1 - Credit_Utilization\n",
        "> **Gradient Boosting**  \n",
        "Accuracy: 92%        \n",
        "F1 Score: \n",
        "*   Not A credit Risk: 95%\n",
        "*   Is a Credit Risk: 74%\n",
        "\n",
        "---\n",
        "> **Decision Tree Classifer**  \n",
        "Accuracy:  90%      \n",
        "F1 Score: \n",
        "*   Not A credit Risk: 94%\n",
        "*   Is a Credit Risk: 66%\n",
        " \n",
        "---\n",
        "> **Gaussian Naive Bayes**  \n",
        "Accuracy: 85%    \n",
        "F1 Score: \n",
        "*   Not A credit Risk: 92%\n",
        "*   Is a Credit Risk: 36%"
      ],
      "metadata": {
        "id": "nRDf5T3kRFpM"
      }
    },
    {
      "cell_type": "markdown",
      "source": [
        "### Results with Feature2 - Debt_To_Income_Ratio\n",
        "> **Gradient Boosting**  \n",
        "Accuracy: 93%        \n",
        "F1 Score: \n",
        "*   Not A credit Risk: 96%\n",
        "*   Is a Credit Risk: 78%\n",
        "\n",
        "---\n",
        "> **Decision Tree Classifer**  \n",
        "Accuracy:  93%      \n",
        "F1 Score: \n",
        "*   Not A credit Risk: 96%\n",
        "*   Is a Credit Risk: 78%\n",
        " \n",
        "---\n",
        "> **Gaussian Naive Bayes**  \n",
        "Accuracy: 88%    \n",
        "F1 Score: \n",
        "*   Not A credit Risk: 93%\n",
        "*   Is a Credit Risk: 53%"
      ],
      "metadata": {
        "id": "XGLTbTl3RHJQ"
      }
    },
    {
      "cell_type": "markdown",
      "source": [
        "### Results with both Feature1 - Credit_Utilization and Feature2 - Debt_To_Income_Ratio\n",
        "> **Gradient Boosting**  \n",
        "Accuracy: 94%        \n",
        "F1 Score: \n",
        "*   Not A credit Risk: 96%\n",
        "*   Is a Credit Risk: 81%\n",
        "\n",
        "---\n",
        "> **Decision Tree Classifer**  \n",
        "Accuracy:  94%      \n",
        "F1 Score: \n",
        "*   Not A credit Risk: 96%\n",
        "*   Is a Credit Risk: 78%\n",
        " \n",
        "---\n",
        "> **Gaussian Naive Bayes**  \n",
        "Accuracy: 89%    \n",
        "F1 Score: \n",
        "*   Not A credit Risk: 94%\n",
        "*   Is a Credit Risk: 57%"
      ],
      "metadata": {
        "id": "6oiHd386RIBg"
      }
    },
    {
      "cell_type": "markdown",
      "source": [
        "## Feature Engineering Evalutations\n",
        "Comparisons with no Feature Engineering \n",
        "> **Only Feature1 Credit_Utilization:**   \n",
        "*   **Gradient Boosting:**\n",
        "The features had minimal impact on the model. The Is Risk F1 Score increased by 1%\n",
        "*   **Decision Tree:**\n",
        "The features had minor negative impact on the model. The Is Risk F1 Score decreased by 2%\n",
        "*   **Gaussian Naive Bayes:**\n",
        "This model was positively impacted with an increase of 1% in accuracy, %1 in Not a Risk F1 Score, and 3% in Is Risk F1 Score\n",
        "\n",
        "\n",
        "---\n",
        "\n",
        "\n",
        "> **Only Feature2 Debt_To_Income_Ratio:**\n",
        "*   **Gradient Boosting:**\n",
        "This model was positively impacted with an increase of 1% in accuracy and 5% in Is Risk F1 Score. However, the Not a Risk Score decreased by 1%\n",
        "*   **Decision Tree:**\n",
        "This model had a positive improvement in performance with this engineered feature alone. The accuracy improved by 3%, Not a Risk F1 Score improved by 2%, and Is Risk F1 Score improved by a great 10% \n",
        "*   **Gaussian Naive Bayes:** This model had a significant improvement in performance with this engineered feature alone. The accuracy improved by 4%, Not a Risk F1 Score improved by 2%, and Is Risk F1 Score majorly improved by 20%\n",
        "\n",
        "---\n",
        "\n",
        "\n",
        "> **Feature1 Credit_Utilization and Feature2 Debt_To_Income_Ratio:**\n",
        "*   **Gradient Boosting:**This model performed better overall with an increase of 2% in accuracy, %1 in Not a Risk F1 Score, and 8% in Is Risk F1 Score\n",
        "*   **Decision Tree:**\n",
        "This model performed better overall with an increase of 4% in accuracy, %2 in Not a Risk F1 Score, and 10% in Is Risk F1 Score\n",
        "*   **Gaussian Naive Bayes:**\n",
        "This model had a significant improvement in performance with both new features. The accuracy improved by 5%, Not a Risk F1 Score improved by 3%, and Is Risk F1 Score majorly improved by 24%"
      ],
      "metadata": {
        "id": "yE5BtzSYRU9z"
      }
    },
    {
      "cell_type": "markdown",
      "source": [
        "## Final Feature Engineering Observations \n",
        "> **Gradient Boosting:**\n",
        "The Credit Utilization did not have much of an impact on this model. The Debt to Income Ratio did improved performance on its own however, when both features were added together the improvement was more significant.  \n",
        "\n",
        "> **Decision Tree:** The Credit Utilization did not have much of an impact on this model, however it did improve a great amount with the second engineered feature - Debt to Income Ratio\n",
        "\n",
        "> **Gaussian Naive Bayes:** Feature Engineering had a very significant impact on this model"
      ],
      "metadata": {
        "id": "Ig5TC4FAjDg5"
      }
    }
  ],
  "metadata": {
    "colab": {
      "collapsed_sections": [],
      "provenance": [],
      "toc_visible": true,
      "authorship_tag": "ABX9TyPU1kFh57QANVavCGPc4ioy",
      "include_colab_link": true
    },
    "kernelspec": {
      "display_name": "Python 3",
      "name": "python3"
    },
    "language_info": {
      "name": "python"
    }
  },
  "nbformat": 4,
  "nbformat_minor": 0
}